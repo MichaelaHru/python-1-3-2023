{
 "cells": [
  {
   "cell_type": "code",
   "execution_count": null,
   "id": "b09cf81c",
   "metadata": {},
   "outputs": [],
   "source": [
    "mesta = [\"Praha\", \"Viden\", \"Olomouc\", \"Svitavy\", \"Zlin\", \"Ostrava\"]\n",
    "ceny = (150, 200, 120, 120, 100, 180)\n",
    "cara = \"=\" * 35\n",
    "nabidka = \"\"\"\n",
    "1 - Praha   | 150,-Kč\n",
    "2 - Viden   | 200,-Kč\n",
    "3 - Olomouc | 120,-Kč\n",
    "4 - Svitavy | 120,-Kč\n",
    "5 - Zlin    | 100,-Kč\n",
    "6 - Ostrava | 180,-Kč\n",
    "\"\"\"\n",
    "\n",
    "################################################\n",
    "\n",
    "print('VITEJTE U NASI APLIKACE DESTINATIO!')\n",
    "print(cara)\n",
    "print(nabidka)\n",
    "\n",
    "destinace = input('Cislo destinace: ')\n",
    "cilova_destinace = mesta[int(destinace) - 1]\n",
    "finalni_cena = ceny[int(destinace) - 1]\n",
    "\n",
    "print(cara)\n",
    "print()\n",
    "\n",
    "jmeno = input('Jmeno: ')\n",
    "prijmeni = input('Prijmeni: ')\n",
    "email = input('Email: ')\n",
    "\n",
    "# print(cilova_destinace)\n",
    "# print(str(finalni_cena) + ',-Kc')\n",
    "\n",
    "print(cara)\n",
    "print()\n",
    "\n",
    "print('Cestujici: ' + str(jmeno) + ' ' + str(prijmeni))\n",
    "print('Cilova destinace: ' + str(cilova_destinace))\n",
    "print('Cena jizdneho: ' + str(finalni_cena) + ',-Kc')\n",
    "print('Jizdenku jsme odeslali na: ' + str(email))\n"
   ]
  }
 ],
 "metadata": {
  "kernelspec": {
   "display_name": "Python 3 (ipykernel)",
   "language": "python",
   "name": "python3"
  },
  "language_info": {
   "codemirror_mode": {
    "name": "ipython",
    "version": 3
   },
   "file_extension": ".py",
   "mimetype": "text/x-python",
   "name": "python",
   "nbconvert_exporter": "python",
   "pygments_lexer": "ipython3",
   "version": "3.10.0"
  }
 },
 "nbformat": 4,
 "nbformat_minor": 5
}
