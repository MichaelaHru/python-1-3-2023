{
 "cells": [
  {
   "cell_type": "markdown",
   "metadata": {
    "id": "5zK9k1QVteYv"
   },
   "source": [
    "<h6 align=right> 🐍 Python akademie - lekce 9 - 26.04.2023</h6>\n",
    "\n",
    "---\n",
    "\n"
   ]
  },
  {
   "cell_type": "markdown",
   "metadata": {
    "id": "BKWbOJX-th8_"
   },
   "source": [
    "<br>\n",
    "\n",
    "# <h1 align=center><font size=24><b> 09_01: 🗒 Textové soubory</font></h1>\n",
    "\n",
    "<br>\n"
   ]
  },
  {
   "cell_type": "markdown",
   "metadata": {
    "id": "5fyIUQtVtvrc"
   },
   "source": [
    "<br>\n",
    "\n",
    "---\n",
    "\n",
    "### **Zajímavé odkazy z této lekce:**\n",
    "\n",
    "* [Oficiální dokumentace k **docstring** u funkci (python.org)](https://www.python.org/dev/peps/pep-0257/)\n",
    "* [Oficiální dokumentace k **UTF-8** u funkci (wikipedia.org)](https://cs.wikipedia.org/wiki/UTF-8)\n",
    "\n",
    "\n",
    "---\n",
    "\n",
    "<br>"
   ]
  },
  {
   "cell_type": "markdown",
   "metadata": {
    "id": "PTXaYmtvzihg"
   },
   "source": [
    "<br>\n",
    "\n",
    "## **Pojem file io**\n",
    "\n",
    "---"
   ]
  },
  {
   "cell_type": "markdown",
   "metadata": {
    "id": "E3tBxqjBtdbA"
   },
   "source": [
    "<br>\n",
    "\n",
    "Doposud jsme pracovali pouze s objekty Pythonu vlastními nebo s knihovnami. Dneska si povíme něco o práci **s textovými soubory** přímo u vás na počítači.\n",
    "\n",
    "<br>\n",
    "\n",
    "Celkově pokud budete v rámci Pythonu pracovat se soubory (obecně), mluvíme o procesu `io`(někdy také `i/o`).\n",
    "\n",
    "<br>\n",
    "\n",
    "Toto označení vychází z anglického *input* a *output*. Tedy **vstup** a **výstup**.\n",
    "\n",
    "<br>\n",
    "\n",
    "V průběhu této lekce se naučíme textové soubory **číst**, **zapisovat** i **upravovat** tak, aby to za nás vždy provedl interpret Pythonu."
   ]
  },
  {
   "cell_type": "markdown",
   "metadata": {
    "id": "pG5cLr99zjpj"
   },
   "source": [
    "<br>\n",
    "\n",
    "## **Textové soubory (~text files)**\n",
    "\n",
    "---"
   ]
  },
  {
   "cell_type": "markdown",
   "metadata": {
    "id": "muiG8HIVzoXa"
   },
   "source": [
    "Textovým souborem rozumějme jakýkoliv soubor, který má příponu `.txt`.\n",
    "\n",
    "<br>\n",
    "\n",
    "Jeden takový textový soubor máme k dispozici v aktuálním adresáři:"
   ]
  },
  {
   "cell_type": "code",
   "execution_count": 1,
   "metadata": {
    "colab": {
     "base_uri": "https://localhost:8080/"
    },
    "id": "IriPu8bltX3l",
    "outputId": "d8b61d9b-f527-42e9-8bd0-e2bac0256d72"
   },
   "outputs": [
    {
     "name": "stdout",
     "output_type": "stream",
     "text": [
      " Volume in drive C is OS\n",
      " Volume Serial Number is 0062-A493\n",
      "\n",
      " Directory of C:\\Users\\Radim Jedlicka\\Documents\\ENGETO\\LEKTOR\\Python_Akademie\\Courses\\in_progress\\lekce_09\n",
      "\n",
      "04/26/2023  06:20 PM    <DIR>          .\n",
      "04/25/2023  08:09 PM    <DIR>          ..\n",
      "04/25/2023  09:33 PM    <DIR>          .ipynb_checkpoints\n",
      "04/26/2023  06:20 PM             7,668 09_00_Opakovani.ipynb\n",
      "04/25/2023  09:16 PM            23,879 09_01_Textove_soubory.ipynb\n",
      "04/25/2023  09:15 PM             6,856 09_02_Formatovani.ipynb\n",
      "04/26/2023  05:48 PM             6,038 09_03_Command_line.ipynb\n",
      "04/26/2023  05:48 PM            95,812 09_04_File_paths.ipynb\n",
      "04/26/2023  05:32 PM               206 convertor.py\n",
      "04/25/2023  08:19 PM                 0 LEKCE_09.txt\n",
      "04/25/2023  09:17 PM    <DIR>          solution\n",
      "               7 File(s)        140,459 bytes\n",
      "               4 Dir(s)  203,869,286,400 bytes free\n"
     ]
    }
   ],
   "source": [
    "!dir"
   ]
  },
  {
   "cell_type": "markdown",
   "metadata": {
    "id": "m2DQ9qLs0pho"
   },
   "source": [
    "<br>\n",
    "\n",
    "Práce s textovými soubory nám může být v principu jasná (v pracovním prostředí počítače).\n",
    "\n",
    "<br>\n",
    "\n",
    "Nyní se ale pojďme naučit pracovat s textovým editorem pomocí Pythonu (pomocí interpretu Pythonu)."
   ]
  },
  {
   "cell_type": "markdown",
   "metadata": {
    "id": "fGLlnbDV0qvy"
   },
   "source": [
    "<br>\n",
    "\n",
    "## **Práce s textovými soubory (~File I/O)**\n",
    "\n",
    "---"
   ]
  },
  {
   "cell_type": "markdown",
   "metadata": {
    "id": "DQlxTn7W00Mf"
   },
   "source": [
    "Chceme napsat šikovnější programy, které umí Pythonu vysvětlit, aby pracoval s různymi textovými soubory.<br>\n",
    "\n",
    "Nejprve ale budeme muset Python přesvědčit, aby nám soubor **vytvořil**."
   ]
  },
  {
   "cell_type": "markdown",
   "metadata": {
    "id": "SioRvxbZ04fF"
   },
   "source": [
    "<br>\n",
    "\n",
    "## **Vytvoření nového souboru (zápis)**\n",
    "\n",
    "---"
   ]
  },
  {
   "cell_type": "code",
   "execution_count": 2,
   "metadata": {
    "id": "Cum1iT-kyrFN"
   },
   "outputs": [],
   "source": [
    "muj_string = \"Python je cool!\""
   ]
  },
  {
   "cell_type": "markdown",
   "metadata": {
    "id": "rvG8eAMa1MYZ"
   },
   "source": [
    "String `muj_string` máme aktuálně k dispozici pouze jako nějaký **objekt Pythonu** (v aktuálním prostředí jako `str`).\n",
    "\n",
    "<br>\n",
    "\n",
    "Jak jej ale uložit do skutečného textového souboru na našem disku?\n",
    "\n",
    "<br>\n",
    "\n",
    "Nejprve potřebujeme \"zevnitř\" Pythonu (~interpreta Pythonu), vytvořit soubor. Nejdříve ověříme [zabudované funkce](https://docs.python.org/3/library/functions.html)."
   ]
  },
  {
   "cell_type": "code",
   "execution_count": 11,
   "metadata": {
    "id": "wSLpHO421Jrn"
   },
   "outputs": [
    {
     "name": "stdout",
     "output_type": "stream",
     "text": [
      "Help on built-in function open in module io:\n",
      "\n",
      "open(file, mode='r', buffering=-1, encoding=None, errors=None, newline=None, closefd=True, opener=None)\n",
      "    Open file and return a stream.  Raise OSError upon failure.\n",
      "    \n",
      "    file is either a text or byte string giving the name (and the path\n",
      "    if the file isn't in the current working directory) of the file to\n",
      "    be opened or an integer file descriptor of the file to be\n",
      "    wrapped. (If a file descriptor is given, it is closed when the\n",
      "    returned I/O object is closed, unless closefd is set to False.)\n",
      "    \n",
      "    mode is an optional string that specifies the mode in which the file\n",
      "    is opened. It defaults to 'r' which means open for reading in text\n",
      "    mode.  Other common values are 'w' for writing (truncating the file if\n",
      "    it already exists), 'x' for creating and writing to a new file, and\n",
      "    'a' for appending (which on some Unix systems, means that all writes\n",
      "    append to the end of the file regardless of the current seek position).\n",
      "    In text mode, if encoding is not specified the encoding used is platform\n",
      "    dependent: locale.getpreferredencoding(False) is called to get the\n",
      "    current locale encoding. (For reading and writing raw bytes use binary\n",
      "    mode and leave encoding unspecified.) The available modes are:\n",
      "    \n",
      "    ========= ===============================================================\n",
      "    Character Meaning\n",
      "    --------- ---------------------------------------------------------------\n",
      "    'r'       open for reading (default)\n",
      "    'w'       open for writing, truncating the file first\n",
      "    'x'       create a new file and open it for writing\n",
      "    'a'       open for writing, appending to the end of the file if it exists\n",
      "    'b'       binary mode\n",
      "    't'       text mode (default)\n",
      "    '+'       open a disk file for updating (reading and writing)\n",
      "    'U'       universal newline mode (deprecated)\n",
      "    ========= ===============================================================\n",
      "    \n",
      "    The default mode is 'rt' (open for reading text). For binary random\n",
      "    access, the mode 'w+b' opens and truncates the file to 0 bytes, while\n",
      "    'r+b' opens the file without truncation. The 'x' mode implies 'w' and\n",
      "    raises an `FileExistsError` if the file already exists.\n",
      "    \n",
      "    Python distinguishes between files opened in binary and text modes,\n",
      "    even when the underlying operating system doesn't. Files opened in\n",
      "    binary mode (appending 'b' to the mode argument) return contents as\n",
      "    bytes objects without any decoding. In text mode (the default, or when\n",
      "    't' is appended to the mode argument), the contents of the file are\n",
      "    returned as strings, the bytes having been first decoded using a\n",
      "    platform-dependent encoding or using the specified encoding if given.\n",
      "    \n",
      "    'U' mode is deprecated and will raise an exception in future versions\n",
      "    of Python.  It has no effect in Python 3.  Use newline to control\n",
      "    universal newlines mode.\n",
      "    \n",
      "    buffering is an optional integer used to set the buffering policy.\n",
      "    Pass 0 to switch buffering off (only allowed in binary mode), 1 to select\n",
      "    line buffering (only usable in text mode), and an integer > 1 to indicate\n",
      "    the size of a fixed-size chunk buffer.  When no buffering argument is\n",
      "    given, the default buffering policy works as follows:\n",
      "    \n",
      "    * Binary files are buffered in fixed-size chunks; the size of the buffer\n",
      "      is chosen using a heuristic trying to determine the underlying device's\n",
      "      \"block size\" and falling back on `io.DEFAULT_BUFFER_SIZE`.\n",
      "      On many systems, the buffer will typically be 4096 or 8192 bytes long.\n",
      "    \n",
      "    * \"Interactive\" text files (files for which isatty() returns True)\n",
      "      use line buffering.  Other text files use the policy described above\n",
      "      for binary files.\n",
      "    \n",
      "    encoding is the name of the encoding used to decode or encode the\n",
      "    file. This should only be used in text mode. The default encoding is\n",
      "    platform dependent, but any encoding supported by Python can be\n",
      "    passed.  See the codecs module for the list of supported encodings.\n",
      "    \n",
      "    errors is an optional string that specifies how encoding errors are to\n",
      "    be handled---this argument should not be used in binary mode. Pass\n",
      "    'strict' to raise a ValueError exception if there is an encoding error\n",
      "    (the default of None has the same effect), or pass 'ignore' to ignore\n",
      "    errors. (Note that ignoring encoding errors can lead to data loss.)\n",
      "    See the documentation for codecs.register or run 'help(codecs.Codec)'\n",
      "    for a list of the permitted encoding error strings.\n",
      "    \n",
      "    newline controls how universal newlines works (it only applies to text\n",
      "    mode). It can be None, '', '\\n', '\\r', and '\\r\\n'.  It works as\n",
      "    follows:\n",
      "    \n",
      "    * On input, if newline is None, universal newlines mode is\n",
      "      enabled. Lines in the input can end in '\\n', '\\r', or '\\r\\n', and\n",
      "      these are translated into '\\n' before being returned to the\n",
      "      caller. If it is '', universal newline mode is enabled, but line\n",
      "      endings are returned to the caller untranslated. If it has any of\n",
      "      the other legal values, input lines are only terminated by the given\n",
      "      string, and the line ending is returned to the caller untranslated.\n",
      "    \n",
      "    * On output, if newline is None, any '\\n' characters written are\n",
      "      translated to the system default line separator, os.linesep. If\n",
      "      newline is '' or '\\n', no translation takes place. If newline is any\n",
      "      of the other legal values, any '\\n' characters written are translated\n",
      "      to the given string.\n",
      "    \n",
      "    If closefd is False, the underlying file descriptor will be kept open\n",
      "    when the file is closed. This does not work when a file name is given\n",
      "    and must be True in that case.\n",
      "    \n",
      "    A custom opener can be used by passing a callable as *opener*. The\n",
      "    underlying file descriptor for the file object is then obtained by\n",
      "    calling *opener* with (*file*, *flags*). *opener* must return an open\n",
      "    file descriptor (passing os.open as *opener* results in functionality\n",
      "    similar to passing None).\n",
      "    \n",
      "    open() returns a file object whose type depends on the mode, and\n",
      "    through which the standard file operations such as reading and writing\n",
      "    are performed. When open() is used to open a file in a text mode ('w',\n",
      "    'r', 'wt', 'rt', etc.), it returns a TextIOWrapper. When used to open\n",
      "    a file in a binary mode, the returned class varies: in read binary\n",
      "    mode, it returns a BufferedReader; in write binary and append binary\n",
      "    modes, it returns a BufferedWriter, and in read/write mode, it returns\n",
      "    a BufferedRandom.\n",
      "    \n",
      "    It is also possible to use a string or bytearray as a file for both\n",
      "    reading and writing. For strings StringIO can be used like a file\n",
      "    opened in a text mode, and for bytes a BytesIO can be used like a file\n",
      "    opened in a binary mode.\n",
      "\n"
     ]
    }
   ],
   "source": [
    "help(open)"
   ]
  },
  {
   "cell_type": "code",
   "execution_count": 4,
   "metadata": {
    "id": "SEO-jiSQ1aCl"
   },
   "outputs": [],
   "source": [
    "muj_soubor = open('novy_soubor.txt', mode='w')"
   ]
  },
  {
   "cell_type": "code",
   "execution_count": 5,
   "metadata": {
    "colab": {
     "base_uri": "https://localhost:8080/",
     "height": 165
    },
    "id": "tG5U6Ng_2Wkn",
    "outputId": "4083793e-5c31-4e17-b06a-9a74c9844ed7"
   },
   "outputs": [
    {
     "name": "stdout",
     "output_type": "stream",
     "text": [
      " Volume in drive C is OS\n",
      " Volume Serial Number is 0062-A493\n",
      "\n",
      " Directory of C:\\Users\\Radim Jedlicka\\Documents\\ENGETO\\LEKTOR\\Python_Akademie\\Courses\\in_progress\\lekce_09\n",
      "\n",
      "04/26/2023  06:30 PM    <DIR>          .\n",
      "04/25/2023  08:09 PM    <DIR>          ..\n",
      "04/25/2023  09:33 PM    <DIR>          .ipynb_checkpoints\n",
      "04/26/2023  06:20 PM             7,668 09_00_Opakovani.ipynb\n",
      "04/26/2023  06:28 PM            33,344 09_01_Textove_soubory.ipynb\n",
      "04/25/2023  09:15 PM             6,856 09_02_Formatovani.ipynb\n",
      "04/26/2023  05:48 PM             6,038 09_03_Command_line.ipynb\n",
      "04/26/2023  05:48 PM            95,812 09_04_File_paths.ipynb\n",
      "04/26/2023  05:32 PM               206 convertor.py\n",
      "04/25/2023  08:19 PM                 0 LEKCE_09.txt\n",
      "04/26/2023  06:30 PM                 0 novy_soubor.txt\n",
      "04/25/2023  09:17 PM    <DIR>          solution\n",
      "               8 File(s)        149,924 bytes\n",
      "               4 Dir(s)  203,869,564,928 bytes free\n"
     ]
    }
   ],
   "source": [
    "!dir"
   ]
  },
  {
   "cell_type": "markdown",
   "metadata": {
    "id": "kvOiN_0H2irI"
   },
   "source": [
    "<br>\n",
    "\n",
    "Soubor si můžeme otevřít, ale zjistíme, že je v tento moment prázdný.\n",
    "\n",
    "<br>\n",
    "\n",
    "Funkce `open` pouze **vytvoří** (~iniciuje) nový objekt `muj_soubor`. Hodnotou tohoto souboru je zapsání **skutečného souboru** (jehož jméno jsme uvedli v závorce s příslušným argumentem) na váš disk, do aktuálního otevřeného adresáře.\n",
    "\n",
    "<br>\n",
    "\n",
    "Příslušný text teprve musíme zapsat."
   ]
  },
  {
   "cell_type": "code",
   "execution_count": 7,
   "metadata": {
    "id": "1bPY9yc72W9g"
   },
   "outputs": [
    {
     "data": {
      "text/plain": [
       "15"
      ]
     },
     "execution_count": 7,
     "metadata": {},
     "output_type": "execute_result"
    }
   ],
   "source": [
    "muj_soubor.write(muj_string)"
   ]
  },
  {
   "cell_type": "code",
   "execution_count": 6,
   "metadata": {},
   "outputs": [
    {
     "data": {
      "text/plain": [
       "<_io.TextIOWrapper name='novy_soubor.txt' mode='w' encoding='cp1252'>"
      ]
     },
     "execution_count": 6,
     "metadata": {},
     "output_type": "execute_result"
    }
   ],
   "source": [
    "muj_soubor"
   ]
  },
  {
   "cell_type": "markdown",
   "metadata": {
    "id": "QXx7jURO20kp"
   },
   "source": [
    "<br>\n",
    "\n",
    "Číslo `15`, které vidíme na výstupu je počet zapsaných znaků (*~bytes*). ([zdroj](https://docs.python.org/3/library/io.html#io.RawIOBase.write))\n",
    "\n",
    "<br>\n",
    "\n",
    "Pojďme si nyní společně **prohlédnout zapsaný soubor** na disku.\n",
    "\n",
    "<br>\n",
    "\n",
    "Protože jsme do souboru zapisovali, ale **neukončili jej**, nejsme schopni s ním ještě manipulovat.<br>\n",
    "Pomocí metody `closed` ověříme, jestli je spojení ukončené. ([zdroj](https://docs.python.org/3/library/io.html#io.IOBase.closed))"
   ]
  },
  {
   "cell_type": "code",
   "execution_count": 10,
   "metadata": {
    "id": "pxjrlRRx3Bnp"
   },
   "outputs": [
    {
     "data": {
      "text/plain": [
       "True"
      ]
     },
     "execution_count": 10,
     "metadata": {},
     "output_type": "execute_result"
    }
   ],
   "source": [
    "muj_soubor.closed"
   ]
  },
  {
   "cell_type": "markdown",
   "metadata": {
    "id": "Hb0XbwXE3Zs4"
   },
   "source": [
    "<br>\n",
    "\n",
    "Pokud zjistíme, že není ukončené, ukončíme jej pomocí metody `close`. ([zdroj](https://docs.python.org/3/library/io.html#io.IOBase.close))"
   ]
  },
  {
   "cell_type": "code",
   "execution_count": 9,
   "metadata": {
    "id": "mzyuOPzGExw9"
   },
   "outputs": [],
   "source": [
    "muj_soubor.close()"
   ]
  },
  {
   "cell_type": "markdown",
   "metadata": {
    "id": "HHaur2I2Exw-"
   },
   "source": [
    "<br>\n",
    "\n",
    "Teprve po ukončení *streamu* objektu můžeme soubor `novy.txt` prozkoumat.\n",
    "\n",
    "<br>\n",
    "\n",
    "Nyní chceme doplnit **další řádek** v našem souboru:"
   ]
  },
  {
   "cell_type": "code",
   "execution_count": 12,
   "metadata": {
    "id": "eoObZuYjExw-"
   },
   "outputs": [],
   "source": [
    "muj_string2 = \"Prave probirame lekci 9\""
   ]
  },
  {
   "cell_type": "code",
   "execution_count": 13,
   "metadata": {
    "id": "uFXf6cpHExw-"
   },
   "outputs": [],
   "source": [
    "muj_soubor = open(\"novy_soubor.txt\", mode=\"w\")"
   ]
  },
  {
   "cell_type": "code",
   "execution_count": 14,
   "metadata": {
    "id": "jYEX0vRGExw-",
    "outputId": "6ca1229f-0ecf-4e9f-e491-29efe064b95e"
   },
   "outputs": [
    {
     "data": {
      "text/plain": [
       "23"
      ]
     },
     "execution_count": 14,
     "metadata": {},
     "output_type": "execute_result"
    }
   ],
   "source": [
    "muj_soubor.write(muj_string2)"
   ]
  },
  {
   "cell_type": "code",
   "execution_count": 15,
   "metadata": {
    "id": "O3HQpbagExw_"
   },
   "outputs": [],
   "source": [
    "muj_soubor.close()"
   ]
  },
  {
   "cell_type": "markdown",
   "metadata": {
    "id": "5D_wHh2MExw_"
   },
   "source": [
    "<br>\n",
    "\n",
    "**Zkontrolujeme** jak vypadá nově přidaný string.\n",
    "\n",
    "<br>\n",
    "\n",
    "Opatrně na `mode=\"w\"`. Pokud opětovně načtete stejný soubor v tomto režimu, přesunute \"zapisovač\" (představ si jej jako blikající kurzor v editoru) opět na začátek souboru.\n",
    "\n",
    "<br>\n",
    "\n",
    "Interpret ale zapisuje od místa, kde se zapisovač nachází, takže dojde k **přepsání stávajícího obsahu**.\n",
    "\n",
    "<br>\n",
    "\n",
    "Pokud chceš automaticky zapisovat nehledě na umístění našeho *zapisovače*, otevři soubor s argumentem `mode=\"a\"`, tedy v režimu **append**. ([zdroj](https://docs.python.org/3/library/functions.html#open))"
   ]
  },
  {
   "cell_type": "code",
   "execution_count": 16,
   "metadata": {
    "id": "R85cl942Exw_"
   },
   "outputs": [],
   "source": [
    "muj_string = \"Python je cool!\"\n",
    "muj_string2 = \"Prave probirame lekci 9\""
   ]
  },
  {
   "cell_type": "code",
   "execution_count": 17,
   "metadata": {
    "id": "n6yw1Q4bExxA"
   },
   "outputs": [],
   "source": [
    "muj_soubor = open(\"novy_soubor.txt\", mode=\"w\")"
   ]
  },
  {
   "cell_type": "code",
   "execution_count": 18,
   "metadata": {
    "id": "AbEXUUKZExxA",
    "outputId": "6d42ea25-91a4-4659-e032-8bdae90d1bfe"
   },
   "outputs": [
    {
     "data": {
      "text/plain": [
       "15"
      ]
     },
     "execution_count": 18,
     "metadata": {},
     "output_type": "execute_result"
    }
   ],
   "source": [
    "muj_soubor.write(muj_string)"
   ]
  },
  {
   "cell_type": "code",
   "execution_count": 19,
   "metadata": {
    "id": "K-xDheH-ExxA"
   },
   "outputs": [],
   "source": [
    "muj_soubor.close()"
   ]
  },
  {
   "cell_type": "code",
   "execution_count": 20,
   "metadata": {
    "id": "r9oc7EHoExxB"
   },
   "outputs": [],
   "source": [
    "muj_soubor = open(\"novy_soubor.txt\", mode=\"a\")  # rezim 'append'"
   ]
  },
  {
   "cell_type": "code",
   "execution_count": 21,
   "metadata": {
    "id": "Z2lUH2M8ExxB",
    "outputId": "297d0055-58d8-4b38-c1f3-fb4dcf951635"
   },
   "outputs": [
    {
     "data": {
      "text/plain": [
       "23"
      ]
     },
     "execution_count": 21,
     "metadata": {},
     "output_type": "execute_result"
    }
   ],
   "source": [
    "muj_soubor.write(muj_string2)"
   ]
  },
  {
   "cell_type": "code",
   "execution_count": 22,
   "metadata": {
    "id": "TYW0rIliExxB"
   },
   "outputs": [],
   "source": [
    "muj_soubor.close()"
   ]
  },
  {
   "cell_type": "markdown",
   "metadata": {
    "id": "bLnUu80DExxB"
   },
   "source": [
    "<br>\n",
    "\n",
    "Přidáním `\\n` na konec stringů dosáhneme toho, že následující string bude vypsaný **na novém řádku**."
   ]
  },
  {
   "cell_type": "code",
   "execution_count": null,
   "metadata": {
    "id": "7XS7-ssZExxB"
   },
   "outputs": [],
   "source": [
    "!rm novy_soubor.txt  # pouze příkaz do linuxové přík. řádky"
   ]
  },
  {
   "cell_type": "code",
   "execution_count": 23,
   "metadata": {
    "id": "dkIdYedMExxC"
   },
   "outputs": [],
   "source": [
    "!del novy_soubor.txt  # ve Windows"
   ]
  },
  {
   "cell_type": "code",
   "execution_count": 24,
   "metadata": {
    "id": "wzGeW5IGExxC"
   },
   "outputs": [],
   "source": [
    "muj_str_1 = \"Ahoj, ja jsem Matous\\n\"\n",
    "muj_str_2 = \"Rad ctu, hraji na klavir\\n\"\n",
    "muj_str_3 = \"A co ty?:)\""
   ]
  },
  {
   "cell_type": "code",
   "execution_count": 25,
   "metadata": {
    "id": "DOcbjxjlExxC"
   },
   "outputs": [],
   "source": [
    "muj_soubor = open(\"novy_soubor.txt\", mode=\"w\")"
   ]
  },
  {
   "cell_type": "code",
   "execution_count": 26,
   "metadata": {
    "id": "5dKtmWUhExxC",
    "outputId": "1440fa5c-4011-4ba3-8086-7b3cbe8db801"
   },
   "outputs": [
    {
     "data": {
      "text/plain": [
       "10"
      ]
     },
     "execution_count": 26,
     "metadata": {},
     "output_type": "execute_result"
    }
   ],
   "source": [
    "muj_soubor.write(muj_str_1)\n",
    "muj_soubor.write(muj_str_2)\n",
    "muj_soubor.write(muj_str_3)"
   ]
  },
  {
   "cell_type": "code",
   "execution_count": 27,
   "metadata": {
    "id": "PRu9CnEvExxC"
   },
   "outputs": [],
   "source": [
    "muj_soubor.close()"
   ]
  },
  {
   "cell_type": "code",
   "execution_count": 28,
   "metadata": {
    "id": "TvrPvSHnExxD"
   },
   "outputs": [],
   "source": [
    "muj_soubor2 = open('druhy_soubor.txt', mode='w')"
   ]
  },
  {
   "cell_type": "code",
   "execution_count": 29,
   "metadata": {
    "id": "iGp4NUQuExxD"
   },
   "outputs": [],
   "source": [
    "muj_soubor2.close()"
   ]
  },
  {
   "cell_type": "markdown",
   "metadata": {
    "id": "i5zdRpTS8WcJ"
   },
   "source": [
    "<br>\n",
    "\n",
    "## **Čtení existujícího souboru**\n",
    "\n",
    "---"
   ]
  },
  {
   "cell_type": "markdown",
   "metadata": {
    "id": "xodK43XUExxD"
   },
   "source": [
    "Zatím jsme tu nahlíželi na obsah našich textových souborů pouze pomocí nějakého grafického prohlížeče. Tentokrát si pojďme zkusit čtení pomocí **Pythonu**.<br>\n",
    "\n",
    "<br>\n",
    "\n",
    "Opět použijeme zabud. funkci `open`."
   ]
  },
  {
   "cell_type": "code",
   "execution_count": 30,
   "metadata": {
    "id": "d4vYSYOuExxD"
   },
   "outputs": [],
   "source": [
    "muj_existujici_soubor = open(\"novy_soubor.txt\")"
   ]
  },
  {
   "cell_type": "code",
   "execution_count": 31,
   "metadata": {
    "id": "1Ez-NStFExxD",
    "outputId": "671bda5a-2248-4fb9-b238-937b8b67dd3a"
   },
   "outputs": [
    {
     "name": "stdout",
     "output_type": "stream",
     "text": [
      "<_io.TextIOWrapper name='novy_soubor.txt' mode='r' encoding='cp1252'>\n"
     ]
    }
   ],
   "source": [
    "print(muj_existujici_soubor)"
   ]
  },
  {
   "cell_type": "code",
   "execution_count": 32,
   "metadata": {
    "id": "C8vf6aTxExxE",
    "outputId": "29f5041a-8c5c-42cc-ba05-a603173acbcc"
   },
   "outputs": [
    {
     "name": "stdout",
     "output_type": "stream",
     "text": [
      "Ahoj, ja jsem Matous\n",
      "Rad ctu, hraji na klavir\n",
      "A co ty?:)\n"
     ]
    }
   ],
   "source": [
    "print(muj_existujici_soubor.read())"
   ]
  },
  {
   "cell_type": "code",
   "execution_count": 33,
   "metadata": {
    "id": "Z9cPo7DSExxF"
   },
   "outputs": [],
   "source": [
    "obsah_txt = muj_existujici_soubor.read()"
   ]
  },
  {
   "cell_type": "code",
   "execution_count": 34,
   "metadata": {
    "id": "rUcDAaJaExxF",
    "outputId": "d3b918f3-a103-4288-d8ef-a0c2f9cac999"
   },
   "outputs": [
    {
     "name": "stdout",
     "output_type": "stream",
     "text": [
      "\n"
     ]
    }
   ],
   "source": [
    "print(obsah_txt)"
   ]
  },
  {
   "cell_type": "markdown",
   "metadata": {
    "id": "r5qK7NRsExxF"
   },
   "source": [
    "Opět, pokud jedenkrát přečtete obsah celého souboru, *zapisovač* (*~kurzor*) přečte postupně celý text a zůstane na konci souboru.\n",
    "\n",
    "<br>\n",
    "\n",
    "Proto při dalším čtení získáme prázdný výstup, protože kurzor neprojde text znovu."
   ]
  },
  {
   "cell_type": "code",
   "execution_count": 35,
   "metadata": {
    "id": "HUzFOJ77ExxF",
    "outputId": "df246119-68e4-4003-a90c-5791b451a47b"
   },
   "outputs": [
    {
     "data": {
      "text/plain": [
       "0"
      ]
     },
     "execution_count": 35,
     "metadata": {},
     "output_type": "execute_result"
    }
   ],
   "source": [
    "muj_existujici_soubor.seek(0)     # přesune kurzor na začátek souboru"
   ]
  },
  {
   "cell_type": "code",
   "execution_count": 36,
   "metadata": {
    "id": "-p9jLlyIExxF",
    "outputId": "458fbc6a-b87d-4fa6-85e3-e8f1f63914e6"
   },
   "outputs": [
    {
     "data": {
      "text/plain": [
       "58"
      ]
     },
     "execution_count": 36,
     "metadata": {},
     "output_type": "execute_result"
    }
   ],
   "source": [
    "muj_existujici_soubor.seek(0, 2)  # přesune kurzor na konec souboru"
   ]
  },
  {
   "cell_type": "code",
   "execution_count": 37,
   "metadata": {
    "id": "plpLZLtEExxG",
    "outputId": "79077c0a-f390-4713-c9aa-04317e40c74a"
   },
   "outputs": [
    {
     "data": {
      "text/plain": [
       "0"
      ]
     },
     "execution_count": 37,
     "metadata": {},
     "output_type": "execute_result"
    }
   ],
   "source": [
    "muj_existujici_soubor.seek(0)     # přesune kurzor na začátek souboru"
   ]
  },
  {
   "cell_type": "code",
   "execution_count": 38,
   "metadata": {
    "id": "geeS5Gc9ExxG",
    "outputId": "46ef618d-c981-4bb1-a9e3-d90b2e4201bc"
   },
   "outputs": [
    {
     "name": "stdout",
     "output_type": "stream",
     "text": [
      "Ahoj, ja jsem Matous\n",
      "Rad ctu, hraji na klavir\n",
      "A co ty?:)\n"
     ]
    }
   ],
   "source": [
    "print(muj_existujici_soubor.read())"
   ]
  },
  {
   "cell_type": "code",
   "execution_count": 39,
   "metadata": {
    "id": "Zwk2fgGUExxG",
    "outputId": "1eb21b1b-da51-4b7f-8535-1c7b86af0a48"
   },
   "outputs": [
    {
     "name": "stdout",
     "output_type": "stream",
     "text": [
      "Ahoj, ja jsem Matous\n",
      "Rad ctu, hraji na klavir\n",
      "A co ty?:)\n"
     ]
    }
   ],
   "source": [
    "muj_existujici_soubor.seek(0)\n",
    "print(muj_existujici_soubor.read())"
   ]
  },
  {
   "cell_type": "markdown",
   "metadata": {
    "id": "-7JyTYnnExxG"
   },
   "source": [
    "<br>\n",
    "\n",
    "## **Metody pro čtění obsahu `TextIOWrapper` objektu:**\n",
    "\n",
    "1. `read` - přečte celý soubor jako jeden string\n",
    "2. `readline` - přečte pouze první řádek jako string\n",
    "3. `readlines` - přečte celý soubor jako list (co řádek, to údaj)\n",
    "\n",
    "<br />\n",
    "\n",
    "#### Ukázka různých variant "
   ]
  },
  {
   "cell_type": "code",
   "execution_count": 40,
   "metadata": {
    "id": "pOD5K5sxExxH",
    "outputId": "e914382e-01a9-4f9a-ba90-eaffc52e97a5"
   },
   "outputs": [
    {
     "name": "stdout",
     "output_type": "stream",
     "text": [
      "Ahoj, ja jsem Matous\n",
      "\n"
     ]
    }
   ],
   "source": [
    "muj_existujici_soubor.seek(0)\n",
    "print(muj_existujici_soubor.readline())"
   ]
  },
  {
   "cell_type": "code",
   "execution_count": 41,
   "metadata": {
    "id": "x992CpNaExxH",
    "outputId": "17157f4f-842c-4d4b-9aa3-95907a3b65a2"
   },
   "outputs": [
    {
     "name": "stdout",
     "output_type": "stream",
     "text": [
      "Rad ctu, hraji na klavir\n",
      "\n"
     ]
    }
   ],
   "source": [
    "print(muj_existujici_soubor.readline())"
   ]
  },
  {
   "cell_type": "code",
   "execution_count": 42,
   "metadata": {
    "id": "z7TW9ZnyExxH",
    "outputId": "9b51ec2d-d8a2-4615-ec95-90a9c3222c84"
   },
   "outputs": [
    {
     "name": "stdout",
     "output_type": "stream",
     "text": [
      "A co ty?:)\n"
     ]
    }
   ],
   "source": [
    "print(muj_existujici_soubor.readline())"
   ]
  },
  {
   "cell_type": "code",
   "execution_count": 43,
   "metadata": {
    "id": "-18WXLczExxI",
    "outputId": "76b9fba8-24a2-4761-dfec-f18dc1e6f2f6"
   },
   "outputs": [
    {
     "name": "stdout",
     "output_type": "stream",
     "text": [
      "\n"
     ]
    }
   ],
   "source": [
    "print(muj_existujici_soubor.readline())"
   ]
  },
  {
   "cell_type": "code",
   "execution_count": 44,
   "metadata": {
    "id": "a7cq8xX1ExxJ",
    "outputId": "097b0242-a330-4eda-f61f-a8962b063efb"
   },
   "outputs": [
    {
     "data": {
      "text/plain": [
       "0"
      ]
     },
     "execution_count": 44,
     "metadata": {},
     "output_type": "execute_result"
    }
   ],
   "source": [
    "muj_existujici_soubor.seek(0)"
   ]
  },
  {
   "cell_type": "code",
   "execution_count": 45,
   "metadata": {
    "id": "aJKqlNqyExxK",
    "outputId": "02e9a8f9-302e-42a5-d74d-0af01e9842e0"
   },
   "outputs": [
    {
     "name": "stdout",
     "output_type": "stream",
     "text": [
      "['Ahoj, ja jsem Matous\\n', 'Rad ctu, hraji na klavir\\n', 'A co ty?:)']\n"
     ]
    }
   ],
   "source": [
    "print(muj_existujici_soubor.readlines())"
   ]
  },
  {
   "cell_type": "code",
   "execution_count": 46,
   "metadata": {
    "id": "MVBFlJR-ExxL"
   },
   "outputs": [],
   "source": [
    "muj_existujici_soubor.close()"
   ]
  },
  {
   "cell_type": "markdown",
   "metadata": {
    "id": "hpXcZsW2ExxP"
   },
   "source": [
    "<br>\n",
    "\n",
    "## **Současně zapisovat a číst**\n",
    "\n",
    "---\n",
    "\n",
    "Vhodnou hodnotou argumentu `mode` můžeme specifikovat režim, kdy můžeme jak zapisovat, tak číst:"
   ]
  },
  {
   "cell_type": "code",
   "execution_count": 47,
   "metadata": {
    "id": "n4ivVwBQExxP",
    "outputId": "5defe26a-c644-4cc5-e7d5-345219f2f793"
   },
   "outputs": [
    {
     "data": {
      "text/plain": [
       "True"
      ]
     },
     "execution_count": 47,
     "metadata": {},
     "output_type": "execute_result"
    }
   ],
   "source": [
    "muj_existujici_soubor.closed"
   ]
  },
  {
   "cell_type": "code",
   "execution_count": 48,
   "metadata": {
    "id": "UMburXMJExxQ"
   },
   "outputs": [],
   "source": [
    "muj_existujici_soubor = open(\"novy_soubor.txt\", mode=\"r+\")"
   ]
  },
  {
   "cell_type": "code",
   "execution_count": null,
   "metadata": {
    "id": "uZlq910RAF-Y"
   },
   "outputs": [],
   "source": [
    "help(open)"
   ]
  },
  {
   "cell_type": "code",
   "execution_count": 49,
   "metadata": {
    "id": "MEGaILbaExxQ",
    "outputId": "368d5ae5-3af1-4ce4-fdb0-bd93f77deea4"
   },
   "outputs": [
    {
     "name": "stdout",
     "output_type": "stream",
     "text": [
      "<_io.TextIOWrapper name='novy_soubor.txt' mode='r+' encoding='cp1252'>\n"
     ]
    }
   ],
   "source": [
    "print(muj_existujici_soubor)"
   ]
  },
  {
   "cell_type": "code",
   "execution_count": 50,
   "metadata": {
    "id": "-L0Oo0rAExxQ",
    "outputId": "a79da4b5-3474-4994-b453-8fd680aafe13"
   },
   "outputs": [
    {
     "name": "stdout",
     "output_type": "stream",
     "text": [
      "Ahoj, ja jsem Matous\n",
      "Rad ctu, hraji na klavir\n",
      "A co ty?:)\n"
     ]
    }
   ],
   "source": [
    "print(muj_existujici_soubor.read())"
   ]
  },
  {
   "cell_type": "code",
   "execution_count": 51,
   "metadata": {
    "id": "Tr6eU9UDExxQ",
    "outputId": "23facb93-f647-4af3-f245-a434cd9c7f5d"
   },
   "outputs": [
    {
     "data": {
      "text/plain": [
       "20"
      ]
     },
     "execution_count": 51,
     "metadata": {},
     "output_type": "execute_result"
    }
   ],
   "source": [
    "muj_existujici_soubor.write(\"A jeste jeden radek!\")"
   ]
  },
  {
   "cell_type": "code",
   "execution_count": 52,
   "metadata": {
    "id": "wE_cjsDkExxQ",
    "outputId": "e21ad7df-3200-448d-fc52-ef087b2041ef"
   },
   "outputs": [
    {
     "name": "stdout",
     "output_type": "stream",
     "text": [
      "78\n"
     ]
    }
   ],
   "source": [
    "print(muj_existujici_soubor.tell())"
   ]
  },
  {
   "cell_type": "code",
   "execution_count": 53,
   "metadata": {
    "id": "XJV0DyJ_ExxR",
    "outputId": "d3f68738-37cb-4148-a46f-3a6d454d2637"
   },
   "outputs": [
    {
     "name": "stdout",
     "output_type": "stream",
     "text": [
      "Ahoj, ja jsem Matous\n",
      "Rad ctu, hraji na klavir\n",
      "A co ty?:)A jeste jeden radek!\n"
     ]
    }
   ],
   "source": [
    "muj_existujici_soubor.seek(0)\n",
    "print(muj_existujici_soubor.read())"
   ]
  },
  {
   "cell_type": "code",
   "execution_count": 54,
   "metadata": {
    "id": "Wfi-dAaPExxR",
    "outputId": "19fc3346-cbf8-4370-8d2c-538ac9fffa00"
   },
   "outputs": [
    {
     "data": {
      "text/plain": [
       "16"
      ]
     },
     "execution_count": 54,
     "metadata": {},
     "output_type": "execute_result"
    }
   ],
   "source": [
    "muj_existujici_soubor.write(\"\\nPosledni radek!\")"
   ]
  },
  {
   "cell_type": "code",
   "execution_count": 55,
   "metadata": {
    "id": "RiA6g4-AExxS",
    "outputId": "ae082325-fbb1-449c-c245-26627a1b875c"
   },
   "outputs": [
    {
     "name": "stdout",
     "output_type": "stream",
     "text": [
      "Ahoj, ja jsem Matous\n",
      "Rad ctu, hraji na klavir\n",
      "A co ty?:)A jeste jeden radek!\n",
      "Posledni radek!\n"
     ]
    }
   ],
   "source": [
    "muj_existujici_soubor.seek(0)\n",
    "print(muj_existujici_soubor.read())"
   ]
  },
  {
   "cell_type": "code",
   "execution_count": 56,
   "metadata": {
    "id": "7DKKOsLzExxS"
   },
   "outputs": [],
   "source": [
    "muj_existujici_soubor.close()"
   ]
  },
  {
   "cell_type": "markdown",
   "metadata": {
    "id": "cB4hiSG4EQjG"
   },
   "source": [
    "<br>\n",
    "\n",
    "## **Kontextový manažer**\n",
    "\n",
    "---"
   ]
  },
  {
   "cell_type": "markdown",
   "metadata": {
    "id": "4vHcT0iQDplh"
   },
   "source": [
    "<br>\n",
    "    \n",
    "Pokud vám není příjemné myslet na neustálou proceduru otevřít soubor, provést s ním potřebnou práci a zavřít jej, je tu i jiná možnost."
   ]
  },
  {
   "cell_type": "markdown",
   "metadata": {
    "id": "pafU8hi9D3I_"
   },
   "source": [
    "<br>\n",
    "\n",
    "### **Syntaxe s `with`**\n"
   ]
  },
  {
   "cell_type": "markdown",
   "metadata": {
    "id": "OTqgRk3DBQYZ"
   },
   "source": [
    "Pokud nechcete hlídat zavírání jednotlivých souborů, můžeme použít syntaxi s `with` (tedy kontextový manažer).([zdroj](https://docs.python.org/3/reference/datamodel.html#with-statement-context-managers))\n",
    "\n",
    "<br> \n",
    "\n",
    "Jeho použití, jak si ukážeme nesouvisí pouze s textovými soubory, ale pří práci s nimi je to skvělý pomocník.\n",
    "\n",
    "<br>\n",
    "\n",
    "Jeho použití spočívá v tom, že pomocí různých volatelných objektů v Pythonu (jako jsou funkce, př. `open`) spustí konkrétní proces. \n",
    "\n",
    "<br>\n",
    "\n",
    "Ihned potom umí automaticky ukončit celý proces, pokud interpret nenajde žádné další odsazené ohlášení."
   ]
  },
  {
   "cell_type": "code",
   "execution_count": 57,
   "metadata": {
    "id": "niUUJU5wBQYb"
   },
   "outputs": [],
   "source": [
    "with open(\"novy_soubor.txt\", mode=\"a\") as muj_existujici_soubor:\n",
    "    muj_existujici_soubor.write(\"\\nPosledni radek z kont. manazera!\")"
   ]
  },
  {
   "cell_type": "code",
   "execution_count": 58,
   "metadata": {
    "id": "HtyzbwJXBQYc",
    "outputId": "a93cfd45-fd87-4e5f-dac8-ba278284859d"
   },
   "outputs": [
    {
     "data": {
      "text/plain": [
       "True"
      ]
     },
     "execution_count": 58,
     "metadata": {},
     "output_type": "execute_result"
    }
   ],
   "source": [
    "muj_existujici_soubor.closed"
   ]
  }
 ],
 "metadata": {
  "colab": {
   "provenance": []
  },
  "kernelspec": {
   "display_name": "Python 3 (ipykernel)",
   "language": "python",
   "name": "python3"
  },
  "language_info": {
   "codemirror_mode": {
    "name": "ipython",
    "version": 3
   },
   "file_extension": ".py",
   "mimetype": "text/x-python",
   "name": "python",
   "nbconvert_exporter": "python",
   "pygments_lexer": "ipython3",
   "version": "3.10.0"
  }
 },
 "nbformat": 4,
 "nbformat_minor": 1
}
