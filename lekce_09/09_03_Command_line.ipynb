{
 "cells": [
  {
   "cell_type": "markdown",
   "metadata": {
    "id": "xebkwFx-GTDv"
   },
   "source": [
    "<h6 align=right> 🐍 Python akademie - lekce 9 - 26.04.2023</h6>"
   ]
  },
  {
   "cell_type": "markdown",
   "metadata": {
    "id": "d49y1HU2GWlb"
   },
   "source": [
    "<br>\n",
    "\n",
    "# <h1 align=center><font color=black size=24><b> 09_03: Příkazový řádek</font></h1>\n",
    "\n",
    "<br>\n"
   ]
  },
  {
   "cell_type": "markdown",
   "metadata": {
    "id": "mkWcPKA7GpAh"
   },
   "source": [
    "<br>\n",
    "\n",
    "---\n",
    "\n",
    "### **Zajímavé odkazy z této lekce:**\n",
    "\n",
    "* [Základy s příkazovou řádkou na OS Ubuntu](https://ubuntu.com/tutorials/command-line-for-beginners#5-moving-and-manipulating-files)\n",
    "* [Základy s příkazovou řádkou na OS Windows](https://www.digitalcitizen.life/command-prompt-how-use-basic-commands/)\n",
    "\n",
    "\n",
    "---\n",
    "\n",
    "<br>"
   ]
  },
  {
   "cell_type": "markdown",
   "metadata": {
    "id": "Q2bJexUuG1qo"
   },
   "source": [
    "Není to povinnost ani samozřejmost. Ale určitě tě tolik nezdrží některý ze základních příkazů pro prostředí CLI."
   ]
  },
  {
   "cell_type": "markdown",
   "metadata": {
    "id": "9_VLgANxHCMf"
   },
   "source": [
    "<br>\n",
    "\n",
    "## **Otevíráme příkazový řádek**\n",
    "\n",
    "---"
   ]
  },
  {
   "cell_type": "markdown",
   "metadata": {
    "id": "YxwI9T6oFgOc"
   },
   "source": [
    "Než budeme pokračovat k cestám a práci se soubory a adresáři, pojďme se aspoň ve zkratce podívat na orientaci v CLI:"
   ]
  },
  {
   "cell_type": "code",
   "execution_count": null,
   "metadata": {
    "id": "vd5vQ26NFgOd"
   },
   "outputs": [],
   "source": [
    "# Linux - v dostupných aplikacích hledáte 'Konsole', 'Terminal'\n",
    "# Windows - v dostupných aplikacích hledáte 'cmd.exe', 'cmd'\n",
    "# MacOS - v dostupných aplikacích hledáte 'Terminal.app'"
   ]
  },
  {
   "cell_type": "markdown",
   "metadata": {
    "id": "To_rRsg-FgOf"
   },
   "source": [
    "<br>\n",
    "\n",
    "## **Kde se nacházíme**\n",
    "\n",
    "---\n",
    "\n",
    "V prvním momentě se potřebujete najít. Kde se na disku nyní nacházíte:"
   ]
  },
  {
   "cell_type": "code",
   "execution_count": null,
   "metadata": {
    "id": "iq1Pr8cTFgOf"
   },
   "outputs": [],
   "source": [
    "# !pwd # Linux\n",
    "!cd  # Win"
   ]
  },
  {
   "cell_type": "code",
   "execution_count": 1,
   "metadata": {},
   "outputs": [
    {
     "name": "stdout",
     "output_type": "stream",
     "text": [
      "C:\\Users\\Radim Jedlicka\\Documents\\ENGETO\\LEKTOR\\Python_Akademie\\Courses\\in_progress\\lekce_09\n"
     ]
    }
   ],
   "source": [
    "!cd"
   ]
  },
  {
   "cell_type": "markdown",
   "metadata": {
    "id": "tLgJkSbLFgOg"
   },
   "source": [
    "Opatrně i na drobné rozdíly. Všimni si, že `windows` a `linux` (potažmo `macOS`) evidují **jiná lomítka** jinak."
   ]
  },
  {
   "cell_type": "code",
   "execution_count": null,
   "metadata": {
    "id": "WJCJvQdHFgOh"
   },
   "outputs": [],
   "source": [
    "# /home/matous/projects/\n",
    "# C:\\Users\\Matous\\projekty"
   ]
  },
  {
   "cell_type": "markdown",
   "metadata": {
    "id": "cG7Fp61eFgOh"
   },
   "source": [
    "<br>\n",
    "\n",
    "## **Kam nyní**\n",
    "\n",
    "---\n",
    "\n",
    "Pokud víte, kde se nacházíte, můžete vyrazit někam jinam. Proto další příkaz, který se hodí znát je vypsat obsah aktuálního adresáře:"
   ]
  },
  {
   "cell_type": "code",
   "execution_count": null,
   "metadata": {
    "id": "YXjH1v3CFgOi",
    "outputId": "a9dd9848-afd4-4e92-8f22-1de8b54d5d7f"
   },
   "outputs": [],
   "source": [
    "!ls -l  # windows: dir"
   ]
  },
  {
   "cell_type": "code",
   "execution_count": null,
   "metadata": {
    "id": "dctRovzjFgOi",
    "outputId": "6c6b2d1a-7e4b-460a-9a92-62acc7b0dfed"
   },
   "outputs": [],
   "source": [
    "!tree -L 1"
   ]
  },
  {
   "cell_type": "code",
   "execution_count": 2,
   "metadata": {
    "colab": {
     "base_uri": "https://localhost:8080/"
    },
    "id": "ODfzRNHKFgOi",
    "outputId": "775fc6b0-1222-4582-dad5-bdb08c819759"
   },
   "outputs": [
    {
     "name": "stdout",
     "output_type": "stream",
     "text": [
      " Volume in drive C is OS\n",
      " Volume Serial Number is 0062-A493\n",
      "\n",
      " Directory of C:\\Users\\Radim Jedlicka\\Documents\\ENGETO\\LEKTOR\\Python_Akademie\\Courses\\in_progress\\lekce_09\n",
      "\n",
      "04/26/2023  07:32 PM    <DIR>          .\n",
      "04/25/2023  08:09 PM    <DIR>          ..\n",
      "04/25/2023  09:33 PM    <DIR>          .ipynb_checkpoints\n",
      "04/26/2023  06:20 PM             7,668 09_00_Opakovani.ipynb\n",
      "04/26/2023  07:16 PM            39,538 09_01_Textove_soubory.ipynb\n",
      "04/26/2023  07:32 PM            10,854 09_02_Formatovani.ipynb\n",
      "04/26/2023  05:48 PM             6,038 09_03_Command_line.ipynb\n",
      "04/26/2023  05:48 PM            95,812 09_04_File_paths.ipynb\n",
      "04/26/2023  05:32 PM               206 convertor.py\n",
      "04/26/2023  06:49 PM                 0 druhy_soubor.txt\n",
      "04/25/2023  08:19 PM                 0 LEKCE_09.txt\n",
      "04/26/2023  07:15 PM               129 novy_soubor.txt\n",
      "04/25/2023  09:17 PM    <DIR>          solution\n",
      "               9 File(s)        160,245 bytes\n",
      "               4 Dir(s)  203,875,508,224 bytes free\n"
     ]
    }
   ],
   "source": [
    "!dir"
   ]
  },
  {
   "cell_type": "markdown",
   "metadata": {
    "id": "Q4lMuquNFgOj"
   },
   "source": [
    "<br>\n",
    "\n",
    "## **Přesun do jiného adresáře**\n",
    "\n",
    "---\n",
    "\n",
    "Jakmile víte, jaké adresáře se nabízí, stačí se pomocí jejich jména přesunout:"
   ]
  },
  {
   "cell_type": "code",
   "execution_count": 3,
   "metadata": {
    "id": "wDlWlTLfFgOj"
   },
   "outputs": [],
   "source": [
    "!cd solution"
   ]
  },
  {
   "cell_type": "code",
   "execution_count": 4,
   "metadata": {},
   "outputs": [
    {
     "name": "stdout",
     "output_type": "stream",
     "text": [
      " Volume in drive C is OS\n",
      " Volume Serial Number is 0062-A493\n",
      "\n",
      " Directory of C:\\Users\\Radim Jedlicka\\Documents\\ENGETO\\LEKTOR\\Python_Akademie\\Courses\\in_progress\\lekce_09\n",
      "\n",
      "04/26/2023  07:36 PM    <DIR>          .\n",
      "04/25/2023  08:09 PM    <DIR>          ..\n",
      "04/25/2023  09:33 PM    <DIR>          .ipynb_checkpoints\n",
      "04/26/2023  06:20 PM             7,668 09_00_Opakovani.ipynb\n",
      "04/26/2023  07:16 PM            39,538 09_01_Textove_soubory.ipynb\n",
      "04/26/2023  07:32 PM            10,854 09_02_Formatovani.ipynb\n",
      "04/26/2023  07:36 PM             7,542 09_03_Command_line.ipynb\n",
      "04/26/2023  05:48 PM            95,812 09_04_File_paths.ipynb\n",
      "04/26/2023  05:32 PM               206 convertor.py\n",
      "04/26/2023  06:49 PM                 0 druhy_soubor.txt\n",
      "04/25/2023  08:19 PM                 0 LEKCE_09.txt\n",
      "04/26/2023  07:15 PM               129 novy_soubor.txt\n",
      "04/25/2023  09:17 PM    <DIR>          solution\n",
      "               9 File(s)        161,749 bytes\n",
      "               4 Dir(s)  203,875,008,512 bytes free\n"
     ]
    }
   ],
   "source": [
    "!dir"
   ]
  },
  {
   "cell_type": "code",
   "execution_count": null,
   "metadata": {
    "id": "__J8G99SFgOj"
   },
   "outputs": [],
   "source": [
    "# !pwd"
   ]
  },
  {
   "cell_type": "code",
   "execution_count": null,
   "metadata": {
    "id": "aqNTAEQJFgOj"
   },
   "outputs": [],
   "source": [
    "# !ls"
   ]
  },
  {
   "cell_type": "markdown",
   "metadata": {
    "id": "uM6qu0h3FgOk"
   },
   "source": [
    "<br>\n",
    "\n",
    "## **Pokud potřebujete zpátky**\n",
    "\n",
    "---\n",
    "\n",
    "Pokud nejste ve správném adresáři můžete se přesunout o adresář výše pomocí `../`:"
   ]
  },
  {
   "cell_type": "code",
   "execution_count": null,
   "metadata": {
    "id": "L4esBk3jFgOk"
   },
   "outputs": [],
   "source": [
    "!cd ../"
   ]
  },
  {
   "cell_type": "code",
   "execution_count": null,
   "metadata": {
    "id": "ZggGCBq8FgOk"
   },
   "outputs": [],
   "source": [
    "!ls"
   ]
  }
 ],
 "metadata": {
  "colab": {
   "provenance": []
  },
  "kernelspec": {
   "display_name": "Python 3 (ipykernel)",
   "language": "python",
   "name": "python3"
  },
  "language_info": {
   "codemirror_mode": {
    "name": "ipython",
    "version": 3
   },
   "file_extension": ".py",
   "mimetype": "text/x-python",
   "name": "python",
   "nbconvert_exporter": "python",
   "pygments_lexer": "ipython3",
   "version": "3.10.0"
  }
 },
 "nbformat": 4,
 "nbformat_minor": 1
}
