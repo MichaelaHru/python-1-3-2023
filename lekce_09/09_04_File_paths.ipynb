{
 "cells": [
  {
   "cell_type": "markdown",
   "metadata": {
    "id": "uGsM396oIhu_"
   },
   "source": [
    "<h6 align=right> 🐍 Python akademie - lekce 9 - 26.04.2023</h6>"
   ]
  },
  {
   "cell_type": "markdown",
   "metadata": {
    "id": "BXGwPxtzIkP5"
   },
   "source": [
    "<br>\n",
    "\n",
    "# <h1 align=center><font color=black size=24><b> 09_04: Cesty (file paths)</font></h1>\n",
    "\n",
    "<br>\n"
   ]
  },
  {
   "cell_type": "markdown",
   "metadata": {
    "id": "rJrPREzLI7m0"
   },
   "source": [
    "<br>\n",
    "\n",
    "---\n",
    "\n",
    "### **Zajímavé odkazy z této lekce:**\n",
    "\n",
    "* \n",
    "*\n",
    "*\n",
    "\n",
    "\n",
    "\n",
    "---\n",
    "\n",
    "<br>"
   ]
  },
  {
   "cell_type": "markdown",
   "metadata": {
    "id": "8oS2RVmYIFLu"
   },
   "source": [
    "Doposud jsme pracovali pouze se soubory, které jsme měli v aktuálním adresáři. Tedy intepret (soubor Pythonu), se nacházel ve stejném umístění jakou potřebný soubor.<br>\n",
    "\n",
    "<br>\n",
    "\n",
    "Ne vždy může být situace takhle ideální. Proto si potřebujeme ukázat jaké cesty k souborům můžeme používat.\n"
   ]
  },
  {
   "cell_type": "markdown",
   "metadata": {
    "id": "am0GfwJuJGEh"
   },
   "source": [
    "<br>\n",
    "\n",
    "## **Relativní cesta**\n",
    "\n",
    "---\n",
    "\n",
    "\n",
    "Použiju tehdy, pokud mám potřebný soubor v aktuálním adresáři (~*složce*).\n",
    "\n",
    "<br>\n",
    "\n",
    "Stačí je zapsat jméno souboru s příponou pomocí `str`."
   ]
  },
  {
   "cell_type": "code",
   "execution_count": 1,
   "metadata": {
    "id": "_yxTyjWqIFLz",
    "outputId": "cfef2755-f207-4bd3-e21e-e4ff9a477b24"
   },
   "outputs": [
    {
     "name": "stdout",
     "output_type": "stream",
     "text": [
      " Volume in drive C is OS\n",
      " Volume Serial Number is 0062-A493\n",
      "\n",
      " Directory of C:\\Users\\Radim Jedlicka\\Documents\\ENGETO\\LEKTOR\\Python_Akademie\\Courses\\in_progress\\lekce_09\n",
      "\n",
      "04/26/2023  07:38 PM    <DIR>          .\n",
      "04/25/2023  08:09 PM    <DIR>          ..\n",
      "04/25/2023  09:33 PM    <DIR>          .ipynb_checkpoints\n",
      "04/26/2023  06:20 PM             7,668 09_00_Opakovani.ipynb\n",
      "04/26/2023  07:16 PM            39,538 09_01_Textove_soubory.ipynb\n",
      "04/26/2023  07:32 PM            10,854 09_02_Formatovani.ipynb\n",
      "04/26/2023  07:38 PM             8,972 09_03_Command_line.ipynb\n",
      "04/26/2023  05:48 PM            95,812 09_04_File_paths.ipynb\n",
      "04/26/2023  05:32 PM               206 convertor.py\n",
      "04/26/2023  06:49 PM                 0 druhy_soubor.txt\n",
      "04/25/2023  08:19 PM                 0 LEKCE_09.txt\n",
      "04/26/2023  07:15 PM               129 novy_soubor.txt\n",
      "04/25/2023  09:17 PM    <DIR>          solution\n",
      "               9 File(s)        163,179 bytes\n",
      "               4 Dir(s)  203,872,538,624 bytes free\n"
     ]
    }
   ],
   "source": [
    "!dir"
   ]
  },
  {
   "cell_type": "code",
   "execution_count": null,
   "metadata": {
    "id": "mt_WsRoqIFL1",
    "outputId": "61df4271-2527-4f9a-f626-a7881dc73723"
   },
   "outputs": [],
   "source": [
    "# !tree"
   ]
  },
  {
   "cell_type": "code",
   "execution_count": 2,
   "metadata": {
    "colab": {
     "base_uri": "https://localhost:8080/",
     "height": 183
    },
    "id": "mXQ8ereJIFL2",
    "outputId": "c73593fc-6e5b-4f1f-f2f8-20b389badbe0"
   },
   "outputs": [
    {
     "name": "stdout",
     "output_type": "stream",
     "text": [
      "['Ahoj, ja jsem Matous\\n', 'Rad ctu, hraji na klavir\\n', 'A co ty?:)A jeste jeden radek!\\n', 'Posledni radek!\\n', 'Posledni radek z kont. manazera!']\n"
     ]
    }
   ],
   "source": [
    "with open(\"novy_soubor.txt\") as txt_soubor:\n",
    "    print(txt_soubor.readlines())"
   ]
  },
  {
   "cell_type": "code",
   "execution_count": 3,
   "metadata": {
    "id": "Ny7Iv_ZjIFL2",
    "outputId": "09887bd1-5229-4c0c-9190-cc6c1deec806"
   },
   "outputs": [
    {
     "name": "stdout",
     "output_type": "stream",
     "text": [
      "['byt0001,55m2,Olomouc,ul.Heyrovského,\\n', 'byt0003,65m2,Olomouc,ul.Novosadský_dvůr,\\n', 'byt0004,75m2,Olomouc,ul.Wolkerova,\\n', 'byt0004,68m2,Olomouc,ul.Zikova,\\n', 'byt0001,36m2,Olomouc,ul.Nová_Ulice,\\n', 'byt0003,46m2,Olomouc,ul.Nové_sady,\\n', 'byt0004,75m2,Olomouc,ul.Nová_Ulice,\\n', 'byt0003,42m2,Olomouc,ul.Nová_Ulice,\\n', 'byt0005,107m2,Olomouc,ul.Nová_Ulice,\\n', 'byt0003,74m2,Olomouc,ul.Uničovská,\\n', 'byt0003,42m2,Olomouc,ul.Nešverova,\\n', 'byt0002,55m2,Olomouc,ul.Dělnická,\\n', 'byt0004,59m2,Olomouc,ul.Zirmova,\\n', 'byt0007,92m2,Olomouc,ul.Nová_Ulice,\\n', 'byt0002,52m2,Olomouc,ul.Nová_Ulice,\\n', 'byt0004,76m2,Olomouc,ul.Nová_Ulice,\\n', 'byt0002,81m2,Olomouc,ul.Nová_Ulice,\\n', 'byt0003,64m2,Olomouc,ul.Za_vodojemem,\\n', 'byt0007,113m2,Olomouc,ul.Jihoslovanská,\\n', 'byt0005,94m2,Olomouc,ul.Uničovská,\\n', 'byt0003,42m2,Olomouc,ul.Rošického,\\n', 'byt0003,75m2,Olomouc,ul.Rošického,\\n', 'byt0004,48m2,Olomouc,ul.Handského,\\n', 'byt0004,68m2,Olomouc,ul.Komenského,\\n', 'byt0003,61m2,Olomouc,ul.Jarmily_Glazarové,\\n', 'byt0004,39m2,Olomouc,ul.Přichystalova,\\n', 'byt0003,70m2,Olomouc,ul.Foerstova,\\n', 'byt0005,61m2,Olomouc,ul.Nová_Ulice,\\n', 'byt0007,88m2,Olomouc,ul.Nová_Ulice,\\n', 'byt0003,92m2,Olomouc,ul.U_cukrovaru,\\n', 'byt0003,56m2,Olomouc,ul.U_cukrovaru,\\n', 'byt0004,56m2,Olomouc,ul.Paseka,\\n', 'byt0002,74m2,Olomouc,ul.Rokycanova,\\n', 'byt0007,116m2,Olomouc,ul.U_cukrovaru,\\n', 'byt0004,59m2,Olomouc,ul.Řezáčova,\\n', 'byt0004,100m2,Olomouc,ul.Libušina,\\n', 'byt0003,64m2,Olomouc,ul.Řezáčova,\\n', 'byt0001,33m2,Olomouc,ul.Libušina,\\n', 'byt0006,87m2,Olomouc,ul.Černá_cesta,\\n', 'byt0007,95m2,Olomouc,ul.Kaštanová,\\n', 'byt0003,74m2,Olomouc,ul.Nová_Ulice,\\n', 'byt0003,75m2,Olomouc,ul.Nová_Ulice,\\n', 'byt0004,86m2,Olomouc,ul.Hněvotínská,\\n', 'byt0002,67m2,Olomouc,ul.Polská,\\n', 'byt0007,120m2,Olomouc,ul.Dvořákova,\\n', 'byt0004,90m2,Olomouc,ul.Dvořákova,\\n', 'byt0004,86m2,Olomouc,ul.Nová_Ulice,\\n', 'byt0003,75m2,Olomouc,ul.Nešverova,\\n', 'byt0001,45m2,Olomouc,ul.Zirmova,\\n', 'byt0008,45m2,Olomouc,ul.Zirmova,\\n', 'byt0006,114m2,Olomouc,ul.Přichystalová,']\n"
     ]
    }
   ],
   "source": [
    "with open(\"solution\\\\vstupni_data.txt\", encoding='UTF-8') as txt_soubor:\n",
    "    print(txt_soubor.readlines())"
   ]
  },
  {
   "cell_type": "markdown",
   "metadata": {
    "id": "e7CHq_yzIFL3"
   },
   "source": [
    "<br>\n",
    "\n",
    "Relativní se jmenuje vzhledem k mému současnému umístění `akt_slozka/novy.txt`."
   ]
  },
  {
   "cell_type": "markdown",
   "metadata": {
    "id": "sUiMc9ZNLQ_e"
   },
   "source": [
    "<br>\n",
    "\n",
    "## **Absolutní cesta**\n",
    "\n",
    "---\n"
   ]
  },
  {
   "cell_type": "markdown",
   "metadata": {
    "id": "ykaFpwaWIFL3"
   },
   "source": [
    "Pokud budeme potřebovat manipulovat se soubory mimo moje aktuální umístění, potřebujeme zápis absolutní cesty.\n",
    "\n",
    "<br>\n",
    "\n",
    "Za absolutní cestu je označováno umístění souboru vzhledem:\n",
    "1. Windows - ke **konkrétnímu disku** (C, D, ..),\n",
    "2. Linux, macOS - k **rootu**\n",
    "\n",
    "<br>\n",
    "\n",
    "##### Ukázky absolutních cest\n",
    "---\n",
    "1. Windows\n",
    "```\n",
    "C:\\Users\\Radim Jedlicka\\Documents\\ENGETO\\LEKTOR\\Python_Akademie\\Courses\\in_progress\\lekce_09\\LEKCE_09.txt\"\n",
    "```\n",
    "\n",
    "2. Linux, macOS\n",
    "```\n",
    "/home/matous/projects/python-academy/materials/09_text_files/novy.txt\"\n",
    "```"
   ]
  },
  {
   "cell_type": "code",
   "execution_count": 4,
   "metadata": {
    "id": "myCiYD5NIFL4",
    "outputId": "7906e889-5aa5-4076-ab57-e51b1360f437"
   },
   "outputs": [
    {
     "name": "stdout",
     "output_type": "stream",
     "text": [
      "[]\n"
     ]
    }
   ],
   "source": [
    "with open(\"C:\\\\Users\\\\Radim Jedlicka\\\\Documents\\\\ENGETO\\\\LEKTOR\\\\Python_Akademie\\\\Courses\\\\in_progress\\\\lekce_09\\\\LEKCE_09.txt\") as txt_soubor:\n",
    "    print(txt_soubor.readlines())"
   ]
  },
  {
   "cell_type": "markdown",
   "metadata": {
    "id": "LXd1V1b_MTrV"
   },
   "source": [
    "<br>\n",
    "\n",
    "Pro srovnání použití absolutní cesty pro soubor `novy.txt`. Vidíme, že zápis se značně protáhne.\n",
    "\n"
   ]
  },
  {
   "cell_type": "markdown",
   "metadata": {
    "id": "9Ys6LHpSMVMv"
   },
   "source": [
    "<br>\n",
    "\n",
    "## **Python a různé operační systémy**\n",
    "\n",
    "---"
   ]
  },
  {
   "cell_type": "markdown",
   "metadata": {
    "id": "QeEl6ecOIFL5"
   },
   "source": [
    "\n",
    "Pokud pracujete na různých operačních systémech, práce s cestami se může zdát jako komplikovaný proces.\n",
    "\n",
    "<br>\n",
    "\n",
    "Máme naštěstí knihovny, které nám práci s různým zápisem cest, usnadní.\n",
    "\n",
    "1. `os` - oblíbenější pro nováčky\n",
    "2. `pathlib` - další řešení (složitější proces na pozadí, tzv. generátory)\n",
    "\n",
    "<br>\n",
    "\n",
    "Modul `os` jako takový umožňuje užívat interpretu Pythonu funkcionalitu vašeho operačního systému."
   ]
  },
  {
   "cell_type": "code",
   "execution_count": 5,
   "metadata": {
    "id": "qe0Al3jHIFL6"
   },
   "outputs": [],
   "source": [
    "import os"
   ]
  },
  {
   "cell_type": "code",
   "execution_count": null,
   "metadata": {
    "id": "4N-WcBGnIFL6"
   },
   "outputs": [],
   "source": [
    "help(os)"
   ]
  },
  {
   "cell_type": "code",
   "execution_count": null,
   "metadata": {
    "id": "4OZsHEYgIFL7"
   },
   "outputs": [],
   "source": [
    "help(os.path)"
   ]
  },
  {
   "cell_type": "code",
   "execution_count": null,
   "metadata": {
    "id": "q80pHTEQIFL7"
   },
   "outputs": [],
   "source": [
    "# !ls -l\n",
    "!dir"
   ]
  },
  {
   "cell_type": "code",
   "execution_count": 6,
   "metadata": {
    "id": "Ab9gIB_oIFL7"
   },
   "outputs": [
    {
     "data": {
      "text/plain": [
       "['.ipynb_checkpoints',\n",
       " '09_00_Opakovani.ipynb',\n",
       " '09_01_Textove_soubory.ipynb',\n",
       " '09_02_Formatovani.ipynb',\n",
       " '09_03_Command_line.ipynb',\n",
       " '09_04_File_paths.ipynb',\n",
       " 'convertor.py',\n",
       " 'druhy_soubor.txt',\n",
       " 'LEKCE_09.txt',\n",
       " 'novy_soubor.txt',\n",
       " 'solution']"
      ]
     },
     "execution_count": 6,
     "metadata": {},
     "output_type": "execute_result"
    }
   ],
   "source": [
    "os.listdir()"
   ]
  },
  {
   "cell_type": "code",
   "execution_count": 7,
   "metadata": {
    "id": "ZC0y2JjUIFL7"
   },
   "outputs": [
    {
     "name": "stdout",
     "output_type": "stream",
     "text": [
      ".ipynb_checkpoints\n",
      "09_00_Opakovani.ipynb\n",
      "09_01_Textove_soubory.ipynb\n",
      "09_02_Formatovani.ipynb\n",
      "09_03_Command_line.ipynb\n",
      "09_04_File_paths.ipynb\n",
      "convertor.py\n",
      "druhy_soubor.txt\n",
      "LEKCE_09.txt\n",
      "novy_soubor.txt\n",
      "solution\n"
     ]
    }
   ],
   "source": [
    "for soubor in os.listdir():\n",
    "    print(soubor)"
   ]
  },
  {
   "cell_type": "code",
   "execution_count": 8,
   "metadata": {
    "id": "Fa6L3-2tIFL8",
    "outputId": "f42431f0-b2d3-4128-d143-d9622cd8dd18"
   },
   "outputs": [
    {
     "data": {
      "text/plain": [
       "True"
      ]
     },
     "execution_count": 8,
     "metadata": {},
     "output_type": "execute_result"
    }
   ],
   "source": [
    "os.path.isfile(\"LEKCE_09.txt\")"
   ]
  },
  {
   "cell_type": "code",
   "execution_count": 9,
   "metadata": {
    "id": "j5bXb9jdIFL8",
    "outputId": "9dc156ed-3eb0-47b0-accf-d9fd3de3f68f"
   },
   "outputs": [
    {
     "data": {
      "text/plain": [
       "False"
      ]
     },
     "execution_count": 9,
     "metadata": {},
     "output_type": "execute_result"
    }
   ],
   "source": [
    "os.path.isdir(\"novy.txt\")"
   ]
  },
  {
   "cell_type": "code",
   "execution_count": 10,
   "metadata": {
    "colab": {
     "base_uri": "https://localhost:8080/",
     "height": 35
    },
    "id": "6IJ6jqgvIFL8",
    "outputId": "d92d1abc-af10-487f-d686-7fd85a03e697"
   },
   "outputs": [
    {
     "data": {
      "text/plain": [
       "'\\\\'"
      ]
     },
     "execution_count": 10,
     "metadata": {},
     "output_type": "execute_result"
    }
   ],
   "source": [
    "os.sep"
   ]
  },
  {
   "cell_type": "code",
   "execution_count": 11,
   "metadata": {
    "colab": {
     "base_uri": "https://localhost:8080/",
     "height": 35
    },
    "id": "z6Kl9XxeIFL9",
    "outputId": "0f3b5b80-82c6-48cf-da90-779cec49f6c7"
   },
   "outputs": [
    {
     "data": {
      "text/plain": [
       "'C:\\\\Users\\\\Radim'"
      ]
     },
     "execution_count": 11,
     "metadata": {},
     "output_type": "execute_result"
    }
   ],
   "source": [
    "f\"C:{os.sep}Users{os.sep}Radim\""
   ]
  },
  {
   "cell_type": "code",
   "execution_count": 12,
   "metadata": {
    "id": "MbWHElToIFL9",
    "outputId": "ec0eb9fc-9186-459c-e66c-1cf350a63ef2"
   },
   "outputs": [
    {
     "name": "stdout",
     "output_type": "stream",
     "text": [
      "C:\\Users\\Radim Jedlicka\\Documents\\ENGETO\\LEKTOR\\Python_Akademie\\Courses\\in_progress\\lekce_09\n"
     ]
    }
   ],
   "source": [
    "# !pwd\n",
    "!cd"
   ]
  },
  {
   "cell_type": "code",
   "execution_count": 13,
   "metadata": {
    "id": "B1koGe-TIFL9",
    "outputId": "d40641f2-1a32-4f4d-c103-d7c1841d8ef4"
   },
   "outputs": [
    {
     "data": {
      "text/plain": [
       "'C:\\\\Users\\\\Radim Jedlicka\\\\Documents\\\\ENGETO\\\\LEKTOR\\\\Python_Akademie\\\\Courses\\\\in_progress\\\\lekce_09'"
      ]
     },
     "execution_count": 13,
     "metadata": {},
     "output_type": "execute_result"
    }
   ],
   "source": [
    "os.getcwd()"
   ]
  },
  {
   "cell_type": "code",
   "execution_count": 14,
   "metadata": {
    "id": "8DviK0nzIFL9",
    "outputId": "6c60ac97-bd1c-4911-9742-9c0f02713a64"
   },
   "outputs": [
    {
     "data": {
      "text/plain": [
       "'C:\\\\Users\\\\Radim Jedlicka\\\\Documents\\\\ENGETO\\\\LEKTOR\\\\Python_Akademie\\\\Courses\\\\in_progress\\\\lekce_09\\\\novy.txt'"
      ]
     },
     "execution_count": 14,
     "metadata": {},
     "output_type": "execute_result"
    }
   ],
   "source": [
    "f\"{os.getcwd()}{os.sep}novy.txt\""
   ]
  },
  {
   "cell_type": "code",
   "execution_count": 15,
   "metadata": {
    "id": "NxVQZpP3IFL9",
    "outputId": "31a97d66-33b6-4f71-cef2-03c13fc594a8"
   },
   "outputs": [
    {
     "data": {
      "text/plain": [
       "'C:\\\\Users\\\\Radim Jedlicka\\\\Documents\\\\ENGETO\\\\LEKTOR\\\\Python_Akademie\\\\Courses\\\\in_progress\\\\lekce_09\\\\novy.txt'"
      ]
     },
     "execution_count": 15,
     "metadata": {},
     "output_type": "execute_result"
    }
   ],
   "source": [
    "os.path.join(os.getcwd(), \"novy.txt\")"
   ]
  },
  {
   "cell_type": "code",
   "execution_count": null,
   "metadata": {
    "id": "Gsp6L0VMIFL-"
   },
   "outputs": [],
   "source": [
    "import os\n",
    "import sys\n",
    "\n",
    "if sys.platform == \"linux\":\n",
    "    os.system(\"clear\")\n",
    "else:\n",
    "    os.system(\"cls\")"
   ]
  },
  {
   "cell_type": "markdown",
   "metadata": {
    "id": "MrS5buBIIFL-"
   },
   "source": [
    "<br>\n",
    "\n",
    "Modul `pathlib` je trochu hůře uchopitelný celek pro začátečníka. Pracuje totiž s objekty jako je třída, generátor, což nejsou body zájmu tohoto kurzu pro úplné nováčky."
   ]
  },
  {
   "cell_type": "code",
   "execution_count": null,
   "metadata": {
    "id": "4CSKjWDUIFL-"
   },
   "outputs": [],
   "source": [
    "from pathlib import Path"
   ]
  },
  {
   "cell_type": "code",
   "execution_count": null,
   "metadata": {
    "id": "zoUAR73JIFL-"
   },
   "outputs": [],
   "source": [
    "paths = Path(\".\")"
   ]
  },
  {
   "cell_type": "code",
   "execution_count": null,
   "metadata": {
    "id": "Jcifz0BeIFL-"
   },
   "outputs": [],
   "source": [
    "dirs = [x for x in paths.iterdir()]"
   ]
  },
  {
   "cell_type": "code",
   "execution_count": null,
   "metadata": {
    "id": "osZR5lLtIFL_"
   },
   "outputs": [],
   "source": [
    "dirs"
   ]
  },
  {
   "cell_type": "code",
   "execution_count": null,
   "metadata": {
    "id": "dfs2XNBZIFL_"
   },
   "outputs": [],
   "source": [
    "type(dirs)"
   ]
  }
 ],
 "metadata": {
  "colab": {
   "provenance": []
  },
  "kernelspec": {
   "display_name": "Python 3 (ipykernel)",
   "language": "python",
   "name": "python3"
  },
  "language_info": {
   "codemirror_mode": {
    "name": "ipython",
    "version": 3
   },
   "file_extension": ".py",
   "mimetype": "text/x-python",
   "name": "python",
   "nbconvert_exporter": "python",
   "pygments_lexer": "ipython3",
   "version": "3.10.0"
  }
 },
 "nbformat": 4,
 "nbformat_minor": 1
}
