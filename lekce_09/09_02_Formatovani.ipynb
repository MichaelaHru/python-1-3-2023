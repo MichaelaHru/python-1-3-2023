{
 "cells": [
  {
   "cell_type": "markdown",
   "metadata": {
    "id": "zqOZElE1OBmi"
   },
   "source": [
    "<h6 align=right> 🐍 Python akademie - lekce 9 - 26.04.2023</h6>"
   ]
  },
  {
   "cell_type": "markdown",
   "metadata": {
    "id": "D5gGPSKbOED1"
   },
   "source": [
    "<br>\n",
    "\n",
    "# <h1 align=center><font color=black size=24><b> 09_02: Formátování řetězců</font></h1>\n",
    "\n",
    "<br>\n"
   ]
  },
  {
   "cell_type": "markdown",
   "metadata": {
    "id": "YcH5I32kOP6b"
   },
   "source": [
    "<br>\n",
    "\n",
    "---\n",
    "\n",
    "### **Zajímavé odkazy z této lekce:**\n",
    "\n",
    "* [Vyzkoušej si formátování](https://www.learnpython.org/en/String_Formatting)\n",
    "* [W3Schools](https://www.w3schools.com/python/ref_string_format.asp)\n",
    "* [Real Python](https://realpython.com/python-string-formatting/)\n",
    "\n",
    "\n",
    "---\n",
    "\n",
    "<br>"
   ]
  },
  {
   "cell_type": "markdown",
   "metadata": {
    "id": "DOI1OucOOVBS"
   },
   "source": [
    "Jde o způsob, jakým efektivně zapisovat klasický string ve spojení se jmény proměnných, doplňujícím upravováním a dalšími variantami.\n",
    "\n"
   ]
  },
  {
   "cell_type": "markdown",
   "metadata": {
    "id": "fwFVjkOkOdpt"
   },
   "source": [
    "<br>\n",
    "\n",
    "## **Formátování řetězců**\n",
    "\n",
    "---"
   ]
  },
  {
   "cell_type": "markdown",
   "metadata": {
    "id": "_UDFUXNZObMI"
   },
   "source": [
    "\n",
    "\n",
    "Povíme si více o těchto třech způsobech:\n",
    "1. **Formátovací výraz** (`%`-formatting)\n",
    "2. **Formátovací metoda** (`str.format()`)\n",
    "3. **Formátovaný string** (`f\"\"`)\n"
   ]
  },
  {
   "cell_type": "markdown",
   "metadata": {
    "id": "2j_VNB5GOk6r"
   },
   "source": [
    "<br>\n",
    "\n",
    "### **Formátovací výraz**\n",
    "\n",
    "---\n"
   ]
  },
  {
   "cell_type": "markdown",
   "metadata": {
    "id": "Edy9joQrOpmR"
   },
   "source": [
    "Je to prapůvodní způsob formátování stringu v Pythonu už od uplného začátku:"
   ]
  },
  {
   "cell_type": "code",
   "execution_count": 1,
   "metadata": {
    "id": "u9D7qPn8M27O"
   },
   "outputs": [
    {
     "data": {
      "text/plain": [
       "'Ahoj, jmenuji se Lukas a je mi 27 let'"
      ]
     },
     "execution_count": 1,
     "metadata": {},
     "output_type": "execute_result"
    }
   ],
   "source": [
    "JMENO = \"Lukas\"\n",
    "VEK = 27\n",
    "\n",
    "\"Ahoj, jmenuji se %s a je mi %d let\" % (JMENO, VEK)"
   ]
  },
  {
   "cell_type": "code",
   "execution_count": 2,
   "metadata": {
    "id": "ZrJoVOkGyry4"
   },
   "outputs": [
    {
     "ename": "TypeError",
     "evalue": "%d format: a real number is required, not str",
     "output_type": "error",
     "traceback": [
      "\u001b[1;31m---------------------------------------------------------------------------\u001b[0m",
      "\u001b[1;31mTypeError\u001b[0m                                 Traceback (most recent call last)",
      "\u001b[1;32m~\\AppData\\Local\\Temp/ipykernel_16716/1169575059.py\u001b[0m in \u001b[0;36m<module>\u001b[1;34m\u001b[0m\n\u001b[0;32m      2\u001b[0m \u001b[0mVEK\u001b[0m \u001b[1;33m=\u001b[0m \u001b[1;36m27\u001b[0m\u001b[1;33m\u001b[0m\u001b[1;33m\u001b[0m\u001b[0m\n\u001b[0;32m      3\u001b[0m \u001b[1;33m\u001b[0m\u001b[0m\n\u001b[1;32m----> 4\u001b[1;33m \u001b[1;34m\"Ahoj, jmenuji se %d a je mi %s let\"\u001b[0m \u001b[1;33m%\u001b[0m \u001b[1;33m(\u001b[0m\u001b[0mJMENO\u001b[0m\u001b[1;33m,\u001b[0m \u001b[0mVEK\u001b[0m\u001b[1;33m)\u001b[0m\u001b[1;33m\u001b[0m\u001b[1;33m\u001b[0m\u001b[0m\n\u001b[0m",
      "\u001b[1;31mTypeError\u001b[0m: %d format: a real number is required, not str"
     ]
    }
   ],
   "source": [
    "JMENO = \"Lukas\"\n",
    "VEK = 27\n",
    "\n",
    "\"Ahoj, jmenuji se %d a je mi %s let\" % (JMENO, VEK)"
   ]
  },
  {
   "cell_type": "code",
   "execution_count": 3,
   "metadata": {
    "id": "wTe80oUayypV"
   },
   "outputs": [
    {
     "data": {
      "text/plain": [
       "'Ahoj, jmenuji se 27 a je mi Lukas let'"
      ]
     },
     "execution_count": 3,
     "metadata": {},
     "output_type": "execute_result"
    }
   ],
   "source": [
    "JMENO = \"Lukas\"\n",
    "VEK = 27\n",
    "\n",
    "\"Ahoj, jmenuji se %d a je mi %s let\" % (VEK, JMENO)"
   ]
  },
  {
   "cell_type": "markdown",
   "metadata": {
    "id": "SH_oQLEhO8Ml"
   },
   "source": [
    "<br>\n",
    "\n",
    "**Pozor!** dnes se již oficiálně nedoporučuje, jelikož často selhává, nesprávně zobrazuje tupl nebo slovníky. Vypisování není příliš praktické.\n"
   ]
  },
  {
   "cell_type": "markdown",
   "metadata": {
    "id": "yj3CLGnFO-R5"
   },
   "source": [
    "<br>\n",
    "\n",
    "### **Formátovací metoda**\n",
    "\n",
    "---\n"
   ]
  },
  {
   "cell_type": "markdown",
   "metadata": {
    "id": "2UYsvF2iPAKu"
   },
   "source": [
    "Od verze Pythonu 2.6 máme k dispozici další způsob pro formátování:"
   ]
  },
  {
   "cell_type": "code",
   "execution_count": 4,
   "metadata": {
    "id": "WcO33F7UPZui"
   },
   "outputs": [
    {
     "data": {
      "text/plain": [
       "'Ahoj, jmenuji se Eliska a je mi 26 let'"
      ]
     },
     "execution_count": 4,
     "metadata": {},
     "output_type": "execute_result"
    }
   ],
   "source": [
    "JMENO = \"Eliska\"\n",
    "VEK = 26\n",
    "\n",
    "\"Ahoj, jmenuji se {} a je mi {} let\".format(JMENO, VEK)"
   ]
  },
  {
   "cell_type": "code",
   "execution_count": 5,
   "metadata": {
    "id": "amzSI0fszikq"
   },
   "outputs": [
    {
     "data": {
      "text/plain": [
       "'Ahoj, jmenuji se 26 a je mi Eliska let'"
      ]
     },
     "execution_count": 5,
     "metadata": {},
     "output_type": "execute_result"
    }
   ],
   "source": [
    "JMENO = \"Eliska\"\n",
    "VEK = 26\n",
    "\n",
    "\"Ahoj, jmenuji se {} a je mi {} let\".format(VEK, JMENO)"
   ]
  },
  {
   "cell_type": "code",
   "execution_count": 6,
   "metadata": {
    "id": "kFbiZwlXzm26"
   },
   "outputs": [
    {
     "ename": "IndexError",
     "evalue": "Replacement index 1 out of range for positional args tuple",
     "output_type": "error",
     "traceback": [
      "\u001b[1;31m---------------------------------------------------------------------------\u001b[0m",
      "\u001b[1;31mIndexError\u001b[0m                                Traceback (most recent call last)",
      "\u001b[1;32m~\\AppData\\Local\\Temp/ipykernel_16716/3483979400.py\u001b[0m in \u001b[0;36m<module>\u001b[1;34m\u001b[0m\n\u001b[0;32m      2\u001b[0m \u001b[0mVEK\u001b[0m \u001b[1;33m=\u001b[0m \u001b[1;36m26\u001b[0m\u001b[1;33m\u001b[0m\u001b[1;33m\u001b[0m\u001b[0m\n\u001b[0;32m      3\u001b[0m \u001b[1;33m\u001b[0m\u001b[0m\n\u001b[1;32m----> 4\u001b[1;33m \u001b[1;34m\"Ahoj, jmenuji se {} a je mi {} let\"\u001b[0m\u001b[1;33m.\u001b[0m\u001b[0mformat\u001b[0m\u001b[1;33m(\u001b[0m\u001b[0mVEK\u001b[0m\u001b[1;33m)\u001b[0m\u001b[1;33m\u001b[0m\u001b[1;33m\u001b[0m\u001b[0m\n\u001b[0m",
      "\u001b[1;31mIndexError\u001b[0m: Replacement index 1 out of range for positional args tuple"
     ]
    }
   ],
   "source": [
    "JMENO = \"Eliska\"\n",
    "VEK = 26\n",
    "\n",
    "\"Ahoj, jmenuji se {} a je mi {} let\".format(VEK)"
   ]
  },
  {
   "cell_type": "code",
   "execution_count": 7,
   "metadata": {},
   "outputs": [
    {
     "data": {
      "text/plain": [
       "'Ahoj, jmenuji se 26 a je mi 26 let'"
      ]
     },
     "execution_count": 7,
     "metadata": {},
     "output_type": "execute_result"
    }
   ],
   "source": [
    "JMENO = \"Eliska\"\n",
    "VEK = 26\n",
    "\n",
    "\"Ahoj, jmenuji se {} a je mi {} let\".format(VEK, VEK)"
   ]
  },
  {
   "cell_type": "markdown",
   "metadata": {
    "id": "QC_MeD1VPsAm"
   },
   "source": [
    "<br>\n",
    "\n",
    "**Pozor!** použití je pořád poměrně upovídané např. při zápisu více proměnných. Má rozhodně široké možnosti formátování, ale vždy prakticky použitelné.\n"
   ]
  },
  {
   "cell_type": "markdown",
   "metadata": {
    "id": "M3o47c_YPvzU"
   },
   "source": [
    "<br>\n",
    "\n",
    "### 🔝 **Formátovaný string (f-string)**\n",
    "\n",
    "---\n"
   ]
  },
  {
   "cell_type": "markdown",
   "metadata": {
    "id": "1YIIKW8lPzKx"
   },
   "source": [
    "Od verze Pythonu 3.6 máme k dispozici ještě třetí metodu pro formátování stringů."
   ]
  },
  {
   "cell_type": "code",
   "execution_count": 8,
   "metadata": {
    "id": "nnjHhzGRP0CV"
   },
   "outputs": [
    {
     "data": {
      "text/plain": [
       "'Ahoj, jmenuji se Lucie a je mi 28 let'"
      ]
     },
     "execution_count": 8,
     "metadata": {},
     "output_type": "execute_result"
    }
   ],
   "source": [
    "JMENO = \"Lucie\"\n",
    "VEK = 28\n",
    "\n",
    "f\"Ahoj, jmenuji se {JMENO} a je mi {VEK} let\""
   ]
  },
  {
   "cell_type": "markdown",
   "metadata": {
    "id": "wRdtPFv3P7ye"
   },
   "source": [
    "Syntaxe je stručná přesto čitelná. Zvládá různé platné operace v Pythonu včetně volání funkcí. Opatrně při důsledném zapisování uvozovek."
   ]
  },
  {
   "cell_type": "code",
   "execution_count": 9,
   "metadata": {
    "id": "TX_Piu0c0Ay1"
   },
   "outputs": [],
   "source": [
    "def napis_jmeno(jmeno):\n",
    "    return jmeno"
   ]
  },
  {
   "cell_type": "code",
   "execution_count": 10,
   "metadata": {
    "id": "HIODmPa80KIe"
   },
   "outputs": [
    {
     "data": {
      "text/plain": [
       "'Ahoj, jmenuju se Radim'"
      ]
     },
     "execution_count": 10,
     "metadata": {},
     "output_type": "execute_result"
    }
   ],
   "source": [
    "f'Ahoj, jmenuju se {napis_jmeno(\"Radim\")}'"
   ]
  },
  {
   "cell_type": "code",
   "execution_count": 11,
   "metadata": {
    "colab": {
     "base_uri": "https://localhost:8080/",
     "height": 36
    },
    "id": "-zP6-6loP8um",
    "outputId": "4077052b-d39b-4f03-880e-bd0156baf1b4"
   },
   "outputs": [
    {
     "data": {
      "text/plain": [
       "'|Lucie     |    28    |     Lucie|'"
      ]
     },
     "execution_count": 11,
     "metadata": {},
     "output_type": "execute_result"
    }
   ],
   "source": [
    "f\"|{JMENO:<10}|{VEK:^10}|{JMENO:>10}|\""
   ]
  }
 ],
 "metadata": {
  "colab": {
   "provenance": []
  },
  "kernelspec": {
   "display_name": "Python 3 (ipykernel)",
   "language": "python",
   "name": "python3"
  },
  "language_info": {
   "codemirror_mode": {
    "name": "ipython",
    "version": 3
   },
   "file_extension": ".py",
   "mimetype": "text/x-python",
   "name": "python",
   "nbconvert_exporter": "python",
   "pygments_lexer": "ipython3",
   "version": "3.10.0"
  }
 },
 "nbformat": 4,
 "nbformat_minor": 1
}
