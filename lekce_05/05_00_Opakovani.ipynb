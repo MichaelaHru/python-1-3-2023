{
 "cells": [
  {
   "cell_type": "markdown",
   "metadata": {
    "id": "bNfXMf3ZfsQ7"
   },
   "source": [
    "<h6 align=right> 🐍 Python akademie - lekce 5 - 29.03.2023</h6>"
   ]
  },
  {
   "cell_type": "markdown",
   "metadata": {
    "id": "4mEO1259fw_1"
   },
   "source": [
    "<br>\n",
    "\n",
    "# <h1 align=center><font color=black size=24><b> 05_00: Opakování po čtvrté lekci!</font></h1>\n",
    "\n",
    "<br>\n",
    "\n",
    "---"
   ]
  },
  {
   "cell_type": "markdown",
   "metadata": {
    "id": "HY3XCxHlf5kA"
   },
   "source": [
    "<br>\n",
    "\n",
    "### **Ukázka #01**"
   ]
  },
  {
   "cell_type": "markdown",
   "metadata": {
    "id": "SVF2ITdIgQam"
   },
   "source": [
    "iterace stringu"
   ]
  },
  {
   "cell_type": "code",
   "execution_count": 1,
   "metadata": {
    "id": "NUYaCFKagFHt"
   },
   "outputs": [],
   "source": [
    "nazev_akademie = \"Python Academy\""
   ]
  },
  {
   "cell_type": "code",
   "execution_count": 2,
   "metadata": {
    "id": "q3Hdm4Vsd8u0"
   },
   "outputs": [
    {
     "name": "stdout",
     "output_type": "stream",
     "text": [
      "pismeno='P'\n",
      "pismeno='y'\n",
      "pismeno='t'\n",
      "pismeno='h'\n",
      "pismeno='o'\n",
      "pismeno='n'\n",
      "pismeno=' '\n",
      "pismeno='A'\n",
      "pismeno='c'\n",
      "pismeno='a'\n",
      "pismeno='d'\n",
      "pismeno='e'\n",
      "pismeno='m'\n",
      "pismeno='y'\n"
     ]
    }
   ],
   "source": [
    "for pismeno in nazev_akademie:\n",
    "    print(f\"{pismeno=}\")"
   ]
  },
  {
   "cell_type": "markdown",
   "metadata": {
    "id": "S2YYB8rPgf15"
   },
   "source": [
    "iterace dictionary"
   ]
  },
  {
   "cell_type": "code",
   "execution_count": 3,
   "metadata": {
    "id": "J2Kw-yxVghnk"
   },
   "outputs": [],
   "source": [
    "programovaci_jazyk = {\n",
    "    0: \"P\", 1: \"y\", 2: \"t\", 3: \"h\", 4: \"o\", 5: \"n\"\n",
    "    }"
   ]
  },
  {
   "cell_type": "code",
   "execution_count": 4,
   "metadata": {
    "id": "AU9J34b-gybc"
   },
   "outputs": [
    {
     "name": "stdout",
     "output_type": "stream",
     "text": [
      "symbol=0\n",
      "symbol=1\n",
      "symbol=2\n",
      "symbol=3\n",
      "symbol=4\n",
      "symbol=5\n"
     ]
    }
   ],
   "source": [
    "for symbol in programovaci_jazyk:\n",
    "    print(f\"{symbol=}\")"
   ]
  },
  {
   "cell_type": "code",
   "execution_count": 5,
   "metadata": {
    "id": "AWdFPmde3o1V"
   },
   "outputs": [
    {
     "name": "stdout",
     "output_type": "stream",
     "text": [
      "0 P\n",
      "1 y\n",
      "2 t\n",
      "3 h\n",
      "4 o\n",
      "5 n\n"
     ]
    }
   ],
   "source": [
    "for k, v in programovaci_jazyk.items():\n",
    "    print(k, v)"
   ]
  },
  {
   "cell_type": "markdown",
   "metadata": {
    "id": "X_AJYHc-hAak"
   },
   "source": [
    "iterace range"
   ]
  },
  {
   "cell_type": "code",
   "execution_count": 6,
   "metadata": {
    "id": "OrcPHzqkg-u-"
   },
   "outputs": [
    {
     "name": "stdout",
     "output_type": "stream",
     "text": [
      "cislo=5\n",
      "cislo=4\n",
      "cislo=3\n",
      "cislo=2\n",
      "cislo=1\n"
     ]
    }
   ],
   "source": [
    "for cislo in range(5, 0, -1):\n",
    "    print(f\"{cislo=}\")"
   ]
  },
  {
   "cell_type": "markdown",
   "metadata": {
    "id": "Pm1c0WPYhFqf"
   },
   "source": [
    "iterace integeru"
   ]
  },
  {
   "cell_type": "code",
   "execution_count": 7,
   "metadata": {
    "id": "id1WaovYhIPz"
   },
   "outputs": [
    {
     "ename": "TypeError",
     "evalue": "'int' object is not iterable",
     "output_type": "error",
     "traceback": [
      "\u001b[1;31m---------------------------------------------------------------------------\u001b[0m",
      "\u001b[1;31mTypeError\u001b[0m                                 Traceback (most recent call last)",
      "\u001b[1;32m~\\AppData\\Local\\Temp/ipykernel_19916/2932254438.py\u001b[0m in \u001b[0;36m<module>\u001b[1;34m\u001b[0m\n\u001b[1;32m----> 1\u001b[1;33m \u001b[1;32mfor\u001b[0m \u001b[0mcislo\u001b[0m \u001b[1;32min\u001b[0m \u001b[1;36m54321\u001b[0m\u001b[1;33m:\u001b[0m\u001b[1;33m\u001b[0m\u001b[1;33m\u001b[0m\u001b[0m\n\u001b[0m\u001b[0;32m      2\u001b[0m     \u001b[0mprint\u001b[0m\u001b[1;33m(\u001b[0m\u001b[1;34mf\"{cislo=}\"\u001b[0m\u001b[1;33m)\u001b[0m\u001b[1;33m\u001b[0m\u001b[1;33m\u001b[0m\u001b[0m\n",
      "\u001b[1;31mTypeError\u001b[0m: 'int' object is not iterable"
     ]
    }
   ],
   "source": [
    "for cislo in 54321:\n",
    "    print(f\"{cislo=}\")"
   ]
  },
  {
   "cell_type": "markdown",
   "metadata": {
    "id": "1PS2WOR5hOqG"
   },
   "source": [
    "<details>\n",
    "  <summary>❓Vysvětlení ❓</summary>\n",
    "\n",
    "Ne každý objekt v Pythonu je iterable (iterovatelný).\n",
    "\n",
    "</details>\n",
    "\n",
    "---"
   ]
  },
  {
   "cell_type": "markdown",
   "metadata": {
    "id": "xCBPoR-LhUTC"
   },
   "source": [
    "<br>\n",
    "\n",
    "### **Ukázka #02**"
   ]
  },
  {
   "cell_type": "code",
   "execution_count": 8,
   "metadata": {
    "id": "ByBpyoB7hQp-"
   },
   "outputs": [
    {
     "name": "stdout",
     "output_type": "stream",
     "text": [
      "0\n",
      "1\n",
      "2\n",
      "3\n",
      "4\n"
     ]
    }
   ],
   "source": [
    "for x in range(5):\n",
    "    print(x)\n",
    "    x = 10"
   ]
  },
  {
   "cell_type": "markdown",
   "metadata": {
    "id": "GbN2KB29hr6N"
   },
   "source": [
    "<details>\n",
    "  <summary>❓Vysvětlení ❓</summary>\n",
    "\n",
    "Ačkoliv máme na třetím řádku vytvořený nový odkaz na hodnotu `10`, tato hodnota náš cyklus nijak neovlivní. Tím jak smyčka `for` pracuje totiž v předpisu cyklu hodnotu v proměnné `x` přepíše.\n",
    "\n",
    "</details>\n",
    "\n",
    "---"
   ]
  },
  {
   "cell_type": "markdown",
   "metadata": {
    "id": "K6lXwDs4izIs"
   },
   "source": [
    "<br>\n",
    "\n",
    "### **Ukázka #03**"
   ]
  },
  {
   "cell_type": "code",
   "execution_count": 10,
   "metadata": {
    "id": "1jCbe_LAhu57"
   },
   "outputs": [],
   "source": [
    "muj_string = \"hups\"\n",
    "muj_slovnik = {}"
   ]
  },
  {
   "cell_type": "code",
   "execution_count": 11,
   "metadata": {
    "id": "y9sa-KORi7hq"
   },
   "outputs": [
    {
     "name": "stdout",
     "output_type": "stream",
     "text": [
      "h\n",
      "u\n",
      "p\n",
      "s\n"
     ]
    }
   ],
   "source": [
    "for x, muj_slovnik[x] in enumerate(muj_string):\n",
    "   print(muj_slovnik[x])"
   ]
  },
  {
   "cell_type": "code",
   "execution_count": 12,
   "metadata": {
    "id": "8VRxrv73jGTW"
   },
   "outputs": [
    {
     "data": {
      "text/plain": [
       "{0: 'h', 1: 'u', 2: 'p', 3: 's'}"
      ]
     },
     "execution_count": 12,
     "metadata": {},
     "output_type": "execute_result"
    }
   ],
   "source": [
    "muj_slovnik"
   ]
  },
  {
   "cell_type": "markdown",
   "metadata": {
    "id": "RuwH7yMHjOPn"
   },
   "source": [
    "<details>\n",
    "  <summary>❓Vysvětlení ❓</summary>\n",
    "\n",
    "Funkce `enumerate` nám v každém kroku smyčky vrátí index (první krok index `0`). Dále nám vrací jeden symbol za druhým z naší proměnné `muj_string`. Současně ze zápisu `muj_slovnik[x]`, který obsahuje tento symbol, zapíše do slovníku klíč (v prvním kroce `0`) a jeho hodnotu (v prvním kroce `h`). Jeden krok za druhým potom vypadají následovně:\n",
    "```\n",
    "muj_slovnik={0: 'h'}\n",
    "muj_slovnik={0: 'h', 1: 'u'}\n",
    "muj_slovnik={0: 'h', 1: 'u', 2: 'p'}\n",
    "muj_slovnik={0: 'h', 1: 'u', 2: 'p', 3: 's'}\n",
    "```\n",
    "\n",
    "</details>\n",
    "\n",
    "---"
   ]
  },
  {
   "cell_type": "markdown",
   "metadata": {
    "id": "0v5EizW3jaKk"
   },
   "source": [
    "<br>\n",
    "\n",
    "### **Ukázka #04**"
   ]
  },
  {
   "cell_type": "code",
   "execution_count": 13,
   "metadata": {
    "id": "2M9QRoTcjRPu"
   },
   "outputs": [],
   "source": [
    "muj_list_1 = [1, 2, 3, 4]\n",
    "muj_list_2 = [1, 2, 3, 4]\n",
    "muj_list_3 = [1, 2, 3, 4]\n",
    "muj_list_4 = [1, 2, 3, 4]"
   ]
  },
  {
   "cell_type": "code",
   "execution_count": 14,
   "metadata": {
    "id": "6BjzyyhJjnGM"
   },
   "outputs": [],
   "source": [
    "for index, cislo in enumerate(muj_list_1):\n",
    "    del cislo\n",
    "\n",
    "for index, cislo in enumerate(muj_list_2):\n",
    "    muj_list_2.remove(cislo)\n",
    "\n",
    "for index, cislo in enumerate(muj_list_3[0:0]):\n",
    "    muj_list_3.remove(cislo)\n",
    "\n",
    "for index, cislo in enumerate(muj_list_4):\n",
    "    muj_list_4.pop(index)"
   ]
  },
  {
   "cell_type": "code",
   "execution_count": 15,
   "metadata": {
    "id": "WXw1jvddjwY8"
   },
   "outputs": [
    {
     "name": "stdout",
     "output_type": "stream",
     "text": [
      "muj_list_1=[1, 2, 3, 4]\n",
      "muj_list_2=[2, 4]\n",
      "muj_list_3=[]\n",
      "muj_list_4=[2, 4]\n"
     ]
    }
   ],
   "source": [
    "print(\n",
    "    f\"{muj_list_1=}\",\n",
    "    f\"{muj_list_2=}\",\n",
    "    f\"{muj_list_3=}\",\n",
    "    f\"{muj_list_4=}\",\n",
    "    sep=\"\\n\"\n",
    ")"
   ]
  },
  {
   "cell_type": "markdown",
   "metadata": {
    "id": "PYLC2RaDjzWo"
   },
   "source": [
    "<details>\n",
    "  <summary>❓Vysvětlení ❓</summary>\n",
    "\n",
    "**Nikdy není dobré upravovat objekt, kterým zrovna iterujeme**. Správný postup je nejprve vytvořit kopii a přes tu procházet smyčkou:\n",
    "```\n",
    ">>> muj_seznam = [1, 2, 3, 4, 5]\n",
    ">>> id(muj_seznam)\n",
    "139798789457608\n",
    ">>> id(muj_seznam[:])  # interpret vytvori novy objekt pro \"rozriznuty\" list\n",
    "139798779601192\n",
    "```\n",
    "\n",
    "\"Zákeřná\" funkce `del` neodstraní v tomto případě hodnotu ale pouze její vazbu:\n",
    "```\n",
    ">>> muj_seznam = [1, 2, 3, 4, 5]\n",
    ">>> del 1\n",
    "File \"<ipython-input-16-1b1877ce03b9>\", line 2\n",
    "    del 1\n",
    "        ^\n",
    "SyntaxError: cannot delete literal\n",
    ">>> del muj_seznam[0]  # odstraneni pomoci indexu\n",
    ">>> muj_seznam\n",
    "[2, 3, 4, 5]\n",
    "```\n",
    "\n",
    "Metoda `remove` odstraní první výskyt hodnoty (ale ne index). Pokud ji nenajde, vrátí výjimku.\n",
    "```\n",
    ">>> muj_seznam = [1, 2, 3, 4, 5]\n",
    ">>> muj_seznam.remove(2)\n",
    ">>> muj_seznam\n",
    "[1, 3, 4, 5]\n",
    "```\n",
    "    \n",
    "Metoda `pop` odstraní prvek na konkrétním indexu a vrátí jej. Pokud zadáme neplatný index, vrátí výjimku.\n",
    "```\n",
    ">>> muj_seznam = [1, 2, 3, 4, 5]\n",
    ">>> muj_seznam.pop(2)\n",
    ">>> muj_seznam\n",
    "[1, 2, 4, 5]\n",
    "```\n",
    "\n",
    "Proč je tedy výstupem `[0, 2]`? Iterace seznam probíhá index za indexem. V prvním kroce vybereme tedy index `0` a odstraníme jej. Tím pádem posuneme všechny ostatní hodnoty. Tedy původní hodnota `2` na indexu `1` se nyní posune na index `0`. Předpis smyčky ale ví, že index `0` již použil v prvním kroku. Proto v druhém kroce pokračuje indexem `1`, což je v novém (posunutém) seznamu hodnota `3`.\n",
    "\n",
    "Více na [tomto odkaze](https://stackoverflow.com/questions/45946228/what-happens-when-you-try-to-delete-a-list-element-while-iterating-over-it)\n",
    "</details>\n",
    "\n",
    "\n",
    "</details>\n",
    "\n",
    "---"
   ]
  },
  {
   "cell_type": "markdown",
   "metadata": {
    "id": "33UJRJewkWH6"
   },
   "source": [
    "<br>\n",
    "\n",
    "### **Ukázka #05**"
   ]
  },
  {
   "cell_type": "code",
   "execution_count": 16,
   "metadata": {
    "id": "GTTX3qpZkLeP"
   },
   "outputs": [
    {
     "name": "stdout",
     "output_type": "stream",
     "text": [
      "0\n",
      "1\n",
      "2\n",
      "3\n",
      "4\n",
      "5\n",
      "6\n",
      "cislo=6 - jsme uvnitr smycky\n",
      "cislo=6 - jsme venku ze smycky\n"
     ]
    }
   ],
   "source": [
    "for cislo in range(7):\n",
    "    print(cislo)\n",
    "    if cislo == 6:\n",
    "        print(f\"{cislo=} - jsme uvnitr smycky\")\n",
    "\n",
    "\n",
    "print(f\"{cislo=} - jsme venku ze smycky\")"
   ]
  },
  {
   "cell_type": "code",
   "execution_count": 17,
   "metadata": {
    "id": "AcDRRqqHkj0e"
   },
   "outputs": [],
   "source": [
    "cislo = -1"
   ]
  },
  {
   "cell_type": "code",
   "execution_count": 18,
   "metadata": {
    "id": "LNWBtajWklzF"
   },
   "outputs": [
    {
     "name": "stdout",
     "output_type": "stream",
     "text": [
      "0\n",
      "1\n",
      "2\n",
      "3\n",
      "4\n",
      "5\n",
      "6\n",
      "cislo=6 - jsme uvnitr smycky\n",
      "cislo=6 - jsme venku ze smycky\n"
     ]
    }
   ],
   "source": [
    "for cislo in range(7):\n",
    "    print(cislo)\n",
    "    if cislo == 6:\n",
    "        print(f\"{cislo=} - jsme uvnitr smycky\")\n",
    "\n",
    "        \n",
    "print(f\"{cislo=} - jsme venku ze smycky\")"
   ]
  },
  {
   "cell_type": "markdown",
   "metadata": {
    "id": "i3D9lDnAkzwq"
   },
   "source": [
    "<details>\n",
    "  <summary>❓Vysvětlení ❓</summary>\n",
    "\n",
    "Ve smyčkách v Pythonu můžeme vytvářet nové proměnné a používat je i následovně po smyčce (opatrně, do prostředí proměnných přechází pouze poslední zapsaná hodnota do proměnné `cislo`).\n",
    "Pokud definujeme odkaz na hodnotu již před cyklem, potom při interpretaci předpisu smyčky dojde k jeho přepsání.\n",
    "\n",
    "\n",
    "</details>\n",
    "\n",
    "---"
   ]
  }
 ],
 "metadata": {
  "colab": {
   "provenance": []
  },
  "kernelspec": {
   "display_name": "Python 3 (ipykernel)",
   "language": "python",
   "name": "python3"
  },
  "language_info": {
   "codemirror_mode": {
    "name": "ipython",
    "version": 3
   },
   "file_extension": ".py",
   "mimetype": "text/x-python",
   "name": "python",
   "nbconvert_exporter": "python",
   "pygments_lexer": "ipython3",
   "version": "3.10.0"
  }
 },
 "nbformat": 4,
 "nbformat_minor": 1
}
