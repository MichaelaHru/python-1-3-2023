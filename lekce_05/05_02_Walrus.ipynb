{
 "cells": [
  {
   "cell_type": "markdown",
   "metadata": {
    "id": "S8kW52OclwTC"
   },
   "source": [
    "<h6 align=right> 🐍 Python akademie - lekce 5 - 29.03.2023</h6>"
   ]
  },
  {
   "cell_type": "markdown",
   "metadata": {
    "id": "io9GZoPvlzzg"
   },
   "source": [
    "<br>\n",
    "\n",
    "# <h1 align=center><font color=black size=24><b> 05_02: 🦭 WALRUS operátor</font></h1>\n",
    "\n",
    "<br>\n",
    "\n",
    "---"
   ]
  },
  {
   "cell_type": "markdown",
   "metadata": {
    "id": "vnr8jHDPmKYb"
   },
   "source": [
    "* [Co je to \"walrus\" operátor a jak funguje](https://deepsource.io/blog/python-walrus-operator/)\n",
    "* [Oficiální dokumentace k operátoru & složitější příklady](https://www.python.org/dev/peps/pep-0572/)\n",
    "* [Real Python](https://realpython.com/python-walrus-operator/)\n",
    "\n",
    "---"
   ]
  },
  {
   "cell_type": "markdown",
   "metadata": {
    "id": "HJTIIAl3oumy"
   },
   "source": [
    "❕ Walrus operátor byl implementován do Pythonu od verze 3.8. Ověř svou verzi Pythonu používanou v tomto programu pomocí příkazu\n",
    "\n",
    "```python\n",
    "!python --version  # v terminálu bez vykřičníku\n",
    "```"
   ]
  },
  {
   "cell_type": "code",
   "execution_count": 1,
   "metadata": {},
   "outputs": [
    {
     "name": "stdout",
     "output_type": "stream",
     "text": [
      "Python 3.10.0\n"
     ]
    }
   ],
   "source": [
    "!python --version"
   ]
  },
  {
   "cell_type": "markdown",
   "metadata": {
    "id": "B2Bvnbs8mUq4"
   },
   "source": [
    "---\n",
    "\n",
    "<br><br>\n",
    "\n",
    "<h1><b> := </b></h1>\n",
    "\n",
    "walrus operator == assignment expression operator == colon equals operator == named expressions"
   ]
  },
  {
   "cell_type": "markdown",
   "metadata": {
    "id": "7wu1djnEmsiq"
   },
   "source": [
    "<br>\n",
    "\n",
    "## **Vytvoření odkazu na hodnotu + spuštění**\n",
    "\n",
    "---"
   ]
  },
  {
   "cell_type": "code",
   "execution_count": 2,
   "metadata": {
    "id": "XZJ4fWEvmxVJ"
   },
   "outputs": [],
   "source": [
    "jmeno = 'Lucie'"
   ]
  },
  {
   "cell_type": "code",
   "execution_count": 3,
   "metadata": {
    "colab": {
     "base_uri": "https://localhost:8080/"
    },
    "id": "Q4tVVftMmynu",
    "outputId": "d9481fa6-8dd4-4258-8712-51957508fa09"
   },
   "outputs": [
    {
     "name": "stdout",
     "output_type": "stream",
     "text": [
      "Lucie\n"
     ]
    }
   ],
   "source": [
    "print(jmeno)"
   ]
  },
  {
   "cell_type": "markdown",
   "metadata": {
    "id": "NITpZIGRm3D9"
   },
   "source": [
    "<br>\n",
    "\n",
    "## **Vytvoření odkazu na hodnotu *a zároveň* spuštění**\n",
    "\n",
    "---"
   ]
  },
  {
   "cell_type": "code",
   "execution_count": 4,
   "metadata": {
    "colab": {
     "base_uri": "https://localhost:8080/"
    },
    "id": "_v0FDrQieI7s",
    "outputId": "ab54cd46-2f6d-4474-c9a1-fa447cec6257"
   },
   "outputs": [
    {
     "name": "stdout",
     "output_type": "stream",
     "text": [
      "Lucie\n"
     ]
    }
   ],
   "source": [
    "print(jmeno2 := 'Lucie')"
   ]
  },
  {
   "cell_type": "markdown",
   "metadata": {
    "id": "lnw6c3O-n060"
   },
   "source": [
    "<br>\n",
    "\n",
    "## **Kombinace s podmínkou**\n",
    "\n",
    "---"
   ]
  },
  {
   "cell_type": "markdown",
   "metadata": {
    "id": "qNWOlk_qoBAw"
   },
   "source": [
    "klasicky:"
   ]
  },
  {
   "cell_type": "code",
   "execution_count": 5,
   "metadata": {
    "colab": {
     "base_uri": "https://localhost:8080/"
    },
    "id": "HwaP5emTn5o6",
    "outputId": "1420fa6b-a5a8-43d1-9233-a6bdc504d7e9"
   },
   "outputs": [
    {
     "name": "stdout",
     "output_type": "stream",
     "text": [
      "JMENO: Lucie\n",
      "POZDRAV: Ahoj, Lucie!\n"
     ]
    }
   ],
   "source": [
    "jmeno = input(\"JMENO: \")\n",
    "\n",
    "if jmeno == \"Lucie\":\n",
    "    print(f\"POZDRAV: Ahoj, {jmeno}!\")\n",
    "else:\n",
    "    print(\"POZDRAV: Ahoj, vsem!\")"
   ]
  },
  {
   "cell_type": "markdown",
   "metadata": {
    "id": "egAWx500oDIt"
   },
   "source": [
    "s walrusem"
   ]
  },
  {
   "cell_type": "code",
   "execution_count": 6,
   "metadata": {
    "colab": {
     "base_uri": "https://localhost:8080/"
    },
    "id": "ZJsn-WHToD6Z",
    "outputId": "349819ba-1f81-46ee-ed66-fc24f9bf869a"
   },
   "outputs": [
    {
     "name": "stdout",
     "output_type": "stream",
     "text": [
      "JMENO: Lucie\n",
      "POZDRAV: Ahoj, Lucie!\n"
     ]
    }
   ],
   "source": [
    "if (jmeno := input(\"JMENO: \")) == \"Lucie\":\n",
    "    print(f\"POZDRAV: Ahoj, {jmeno}!\")\n",
    "else:\n",
    "    print(\"POZDRAV: Ahoj, vsem!\")"
   ]
  },
  {
   "cell_type": "markdown",
   "metadata": {
    "id": "ALTxTSZToIoN"
   },
   "source": [
    "<br>\n",
    "\n",
    "## **Kombinace s cyklem while**\n",
    "\n",
    "---"
   ]
  },
  {
   "cell_type": "code",
   "execution_count": 7,
   "metadata": {
    "colab": {
     "base_uri": "https://localhost:8080/"
    },
    "id": "jrHfu676oFDS",
    "outputId": "044ef961-ea89-46cd-ae77-68a9f8cba157"
   },
   "outputs": [
    {
     "name": "stdout",
     "output_type": "stream",
     "text": [
      "-> f\n",
      "Zadal jsi: f\n",
      "-> g\n",
      "Zadal jsi: g\n",
      "-> s\n",
      "Zadal jsi: s\n",
      "-> r\n",
      "Zadal jsi: r\n",
      "-> a\n",
      "Zadal jsi: a\n",
      "-> quit\n",
      "Konec smycky\n"
     ]
    }
   ],
   "source": [
    "while (vstup := input(\"-> \")) != \"quit\":\n",
    "    print(f\"Zadal jsi: {vstup}\")\n",
    "else:\n",
    "    print(\"Konec smycky\")"
   ]
  }
 ],
 "metadata": {
  "colab": {
   "provenance": []
  },
  "kernelspec": {
   "display_name": "Python 3 (ipykernel)",
   "language": "python",
   "name": "python3"
  },
  "language_info": {
   "codemirror_mode": {
    "name": "ipython",
    "version": 3
   },
   "file_extension": ".py",
   "mimetype": "text/x-python",
   "name": "python",
   "nbconvert_exporter": "python",
   "pygments_lexer": "ipython3",
   "version": "3.10.0"
  }
 },
 "nbformat": 4,
 "nbformat_minor": 1
}
