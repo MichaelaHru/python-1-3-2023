{
 "cells": [
  {
   "cell_type": "markdown",
   "metadata": {
    "id": "c96KWuaKvc3x"
   },
   "source": [
    "<h6 align=right> 🐍 Python akademie - lekce 10 - 03.05.2023</h6>"
   ]
  },
  {
   "cell_type": "markdown",
   "metadata": {
    "id": "AlBLLvHLvhmS"
   },
   "source": [
    "<br>\n",
    "\n",
    "# <h1 align=center><font color=black size=24><b> 10_01 🪲 Debugging</font></h1>\n",
    "\n",
    "<br>\n"
   ]
  },
  {
   "cell_type": "markdown",
   "metadata": {
    "id": "epnvKhJvv0bM"
   },
   "source": [
    "<br>\n",
    "\n",
    "---\n",
    "\n",
    "### **Zajímavé odkazy z této lekce:**\n",
    "\n",
    "\n",
    "* \n",
    "* \n",
    "\n",
    "\n",
    "\n",
    "---\n",
    "\n",
    "<br>"
   ]
  },
  {
   "cell_type": "markdown",
   "metadata": {
    "id": "eEuXNIJ3v5zB"
   },
   "source": [
    "Proces *debugování* je označení, které popisuje odstraňování chyb.\n",
    "\n",
    "Původ slova *ladění*, najdeš u vědkyně [Grace Hopper](https://en.wikipedia.org/wiki/Debugging).\n",
    "\n",
    "V Pythonu to prakticky vypadá tak, že v programu či zápise snažíš:\n",
    "1. Naleznout místo, které **vyvolává výjimku**,\n",
    "2. naleznout místo, které **způsobuje neočekávané chování**."
   ]
  },
  {
   "cell_type": "code",
   "execution_count": 1,
   "metadata": {
    "id": "TwPqHmQFvbCS"
   },
   "outputs": [],
   "source": [
    "def formatuj_jmeno(string, symbol: str = \".\"):\n",
    "    \"\"\"\n",
    "    :Example:\n",
    "    >>> formatuj_jmeno(\"marek.parek\")\n",
    "    'Marek'\n",
    "    \"\"\"\n",
    "    jen_jmeno = string.split(symbol)  \n",
    "    return jen_jmeno.title() "
   ]
  },
  {
   "cell_type": "code",
   "execution_count": 2,
   "metadata": {
    "id": "VrwOH4qFwfk0"
   },
   "outputs": [],
   "source": [
    "def vytvor_pozdrav(jmeno: str) -> str:\n",
    "    \"\"\"\n",
    "    :Example:\n",
    "    >>> vytvor_pozdrav(\"marek.parek\")\n",
    "    'Toto je Marek, zdravíme!'\n",
    "    \"\"\"\n",
    "    return \" \".join((\"Toto je\", \"\".join(formatuj_jmeno(jmeno)), \"zdravíme!\"))"
   ]
  },
  {
   "cell_type": "code",
   "execution_count": 3,
   "metadata": {
    "colab": {
     "base_uri": "https://localhost:8080/",
     "height": 363
    },
    "id": "npiiQs2Owj6g",
    "outputId": "1776305e-0307-454a-af3f-4dd50ed573c7"
   },
   "outputs": [
    {
     "ename": "AttributeError",
     "evalue": "'list' object has no attribute 'title'",
     "output_type": "error",
     "traceback": [
      "\u001b[1;31m---------------------------------------------------------------------------\u001b[0m",
      "\u001b[1;31mAttributeError\u001b[0m                            Traceback (most recent call last)",
      "\u001b[1;32m~\\AppData\\Local\\Temp/ipykernel_11928/45740475.py\u001b[0m in \u001b[0;36m<module>\u001b[1;34m\u001b[0m\n\u001b[1;32m----> 1\u001b[1;33m \u001b[0mprint\u001b[0m\u001b[1;33m(\u001b[0m\u001b[0mvytvor_pozdrav\u001b[0m\u001b[1;33m(\u001b[0m\u001b[1;34m\"petr.svetr\"\u001b[0m\u001b[1;33m)\u001b[0m\u001b[1;33m)\u001b[0m\u001b[1;33m\u001b[0m\u001b[1;33m\u001b[0m\u001b[0m\n\u001b[0m",
      "\u001b[1;32m~\\AppData\\Local\\Temp/ipykernel_11928/2411594741.py\u001b[0m in \u001b[0;36mvytvor_pozdrav\u001b[1;34m(jmeno)\u001b[0m\n\u001b[0;32m      5\u001b[0m     \u001b[1;34m'Toto je Marek, zdravíme!'\u001b[0m\u001b[1;33m\u001b[0m\u001b[1;33m\u001b[0m\u001b[0m\n\u001b[0;32m      6\u001b[0m     \"\"\"\n\u001b[1;32m----> 7\u001b[1;33m     \u001b[1;32mreturn\u001b[0m \u001b[1;34m\" \"\u001b[0m\u001b[1;33m.\u001b[0m\u001b[0mjoin\u001b[0m\u001b[1;33m(\u001b[0m\u001b[1;33m(\u001b[0m\u001b[1;34m\"Toto je\"\u001b[0m\u001b[1;33m,\u001b[0m \u001b[1;34m\"\"\u001b[0m\u001b[1;33m.\u001b[0m\u001b[0mjoin\u001b[0m\u001b[1;33m(\u001b[0m\u001b[0mformatuj_jmeno\u001b[0m\u001b[1;33m(\u001b[0m\u001b[0mjmeno\u001b[0m\u001b[1;33m)\u001b[0m\u001b[1;33m)\u001b[0m\u001b[1;33m,\u001b[0m \u001b[1;34m\"zdravíme!\"\u001b[0m\u001b[1;33m)\u001b[0m\u001b[1;33m)\u001b[0m\u001b[1;33m\u001b[0m\u001b[1;33m\u001b[0m\u001b[0m\n\u001b[0m",
      "\u001b[1;32m~\\AppData\\Local\\Temp/ipykernel_11928/2385711780.py\u001b[0m in \u001b[0;36mformatuj_jmeno\u001b[1;34m(string, symbol)\u001b[0m\n\u001b[0;32m      6\u001b[0m     \"\"\"\n\u001b[0;32m      7\u001b[0m     \u001b[0mjen_jmeno\u001b[0m \u001b[1;33m=\u001b[0m \u001b[0mstring\u001b[0m\u001b[1;33m.\u001b[0m\u001b[0msplit\u001b[0m\u001b[1;33m(\u001b[0m\u001b[0msymbol\u001b[0m\u001b[1;33m)\u001b[0m\u001b[1;33m\u001b[0m\u001b[1;33m\u001b[0m\u001b[0m\n\u001b[1;32m----> 8\u001b[1;33m     \u001b[1;32mreturn\u001b[0m \u001b[0mjen_jmeno\u001b[0m\u001b[1;33m.\u001b[0m\u001b[0mtitle\u001b[0m\u001b[1;33m(\u001b[0m\u001b[1;33m)\u001b[0m\u001b[1;33m\u001b[0m\u001b[1;33m\u001b[0m\u001b[0m\n\u001b[0m",
      "\u001b[1;31mAttributeError\u001b[0m: 'list' object has no attribute 'title'"
     ]
    }
   ],
   "source": [
    "print(vytvor_pozdrav(\"petr.svetr\"))"
   ]
  },
  {
   "cell_type": "markdown",
   "metadata": {
    "id": "ezrHBN0SaNAg"
   },
   "source": [
    "Co nám *interpret* vypsal:\n",
    "* `AttributeError`, tedy typ výjimky, kterému interpret chybu přiřadil,\n",
    "* `Traceback`, postup, odkud chybu stopoval,\n",
    "* `<v_cem> in <kde>`, prostředí, kde se chyba projevila,\n",
    "* `'list' object has no attribute 'title'`, popisek výjimky."
   ]
  },
  {
   "cell_type": "markdown",
   "metadata": {
    "id": "lJWz5_n1aNAg"
   },
   "source": [
    "Vidíš tedy, kde všude *interpret* prošel tvůj zápis a co se mu *nepozdávalo*."
   ]
  },
  {
   "cell_type": "markdown",
   "metadata": {
    "id": "2_PP5_qFxuIP"
   },
   "source": [
    "<br>\n",
    "\n",
    "## **Debugování**\n",
    "\n",
    "---"
   ]
  },
  {
   "cell_type": "markdown",
   "metadata": {
    "id": "3Q6XTQG4aNAg"
   },
   "source": [
    "Nejlepší, co na začátek můžeš provést, je udělat si v situaci jasno.\n",
    "\n",
    "Vědět, s čím máš tu čest.\n",
    "\n",
    "K tomu ti pomůže hned několik zabudovaných funkcí:\n",
    "* `print`,\n",
    "* `type`,\n",
    "* `dir`,\n",
    "* `vars`,\n",
    "* `locals`,\n",
    "* `globals`.\n"
   ]
  },
  {
   "cell_type": "markdown",
   "metadata": {
    "id": "JMHHPKLlx3Og"
   },
   "source": [
    "\n",
    "#### **print**\n",
    "\n",
    "Pomocí **jednoduchého výstupu** uvidíš, s čím vůbec pracuješ:"
   ]
  },
  {
   "cell_type": "code",
   "execution_count": 4,
   "metadata": {
    "id": "hLExGpCoaNAg"
   },
   "outputs": [],
   "source": [
    "def formatuj_jmeno(string, symbol: str = \".\"):\n",
    "    \"\"\"\n",
    "    :Example:\n",
    "    >>> rozdel_string(\"marek.parek\")\n",
    "    'Marek'\n",
    "    \"\"\"\n",
    "    jen_jmeno = string.split(symbol)\n",
    "    print(jen_jmeno)                  # doplněná zab. funkce\n",
    "    return jen_jmeno.title() "
   ]
  },
  {
   "cell_type": "code",
   "execution_count": 5,
   "metadata": {
    "colab": {
     "base_uri": "https://localhost:8080/",
     "height": 293
    },
    "id": "mI6br_V_aNAh",
    "outputId": "f0be2194-beaa-47a5-e85c-4d261c0cccd8"
   },
   "outputs": [
    {
     "name": "stdout",
     "output_type": "stream",
     "text": [
      "['petr', 'svetr']\n"
     ]
    },
    {
     "ename": "AttributeError",
     "evalue": "'list' object has no attribute 'title'",
     "output_type": "error",
     "traceback": [
      "\u001b[1;31m---------------------------------------------------------------------------\u001b[0m",
      "\u001b[1;31mAttributeError\u001b[0m                            Traceback (most recent call last)",
      "\u001b[1;32m~\\AppData\\Local\\Temp/ipykernel_11928/2376872.py\u001b[0m in \u001b[0;36m<module>\u001b[1;34m\u001b[0m\n\u001b[1;32m----> 1\u001b[1;33m \u001b[0mvytvor_pozdrav\u001b[0m\u001b[1;33m(\u001b[0m\u001b[1;34m\"petr.svetr\"\u001b[0m\u001b[1;33m)\u001b[0m\u001b[1;33m\u001b[0m\u001b[1;33m\u001b[0m\u001b[0m\n\u001b[0m",
      "\u001b[1;32m~\\AppData\\Local\\Temp/ipykernel_11928/2411594741.py\u001b[0m in \u001b[0;36mvytvor_pozdrav\u001b[1;34m(jmeno)\u001b[0m\n\u001b[0;32m      5\u001b[0m     \u001b[1;34m'Toto je Marek, zdravíme!'\u001b[0m\u001b[1;33m\u001b[0m\u001b[1;33m\u001b[0m\u001b[0m\n\u001b[0;32m      6\u001b[0m     \"\"\"\n\u001b[1;32m----> 7\u001b[1;33m     \u001b[1;32mreturn\u001b[0m \u001b[1;34m\" \"\u001b[0m\u001b[1;33m.\u001b[0m\u001b[0mjoin\u001b[0m\u001b[1;33m(\u001b[0m\u001b[1;33m(\u001b[0m\u001b[1;34m\"Toto je\"\u001b[0m\u001b[1;33m,\u001b[0m \u001b[1;34m\"\"\u001b[0m\u001b[1;33m.\u001b[0m\u001b[0mjoin\u001b[0m\u001b[1;33m(\u001b[0m\u001b[0mformatuj_jmeno\u001b[0m\u001b[1;33m(\u001b[0m\u001b[0mjmeno\u001b[0m\u001b[1;33m)\u001b[0m\u001b[1;33m)\u001b[0m\u001b[1;33m,\u001b[0m \u001b[1;34m\"zdravíme!\"\u001b[0m\u001b[1;33m)\u001b[0m\u001b[1;33m)\u001b[0m\u001b[1;33m\u001b[0m\u001b[1;33m\u001b[0m\u001b[0m\n\u001b[0m",
      "\u001b[1;32m~\\AppData\\Local\\Temp/ipykernel_11928/1861790219.py\u001b[0m in \u001b[0;36mformatuj_jmeno\u001b[1;34m(string, symbol)\u001b[0m\n\u001b[0;32m      7\u001b[0m     \u001b[0mjen_jmeno\u001b[0m \u001b[1;33m=\u001b[0m \u001b[0mstring\u001b[0m\u001b[1;33m.\u001b[0m\u001b[0msplit\u001b[0m\u001b[1;33m(\u001b[0m\u001b[0msymbol\u001b[0m\u001b[1;33m)\u001b[0m\u001b[1;33m\u001b[0m\u001b[1;33m\u001b[0m\u001b[0m\n\u001b[0;32m      8\u001b[0m     \u001b[0mprint\u001b[0m\u001b[1;33m(\u001b[0m\u001b[0mjen_jmeno\u001b[0m\u001b[1;33m)\u001b[0m                  \u001b[1;31m# doplněná zab. funkce\u001b[0m\u001b[1;33m\u001b[0m\u001b[1;33m\u001b[0m\u001b[0m\n\u001b[1;32m----> 9\u001b[1;33m     \u001b[1;32mreturn\u001b[0m \u001b[0mjen_jmeno\u001b[0m\u001b[1;33m.\u001b[0m\u001b[0mtitle\u001b[0m\u001b[1;33m(\u001b[0m\u001b[1;33m)\u001b[0m\u001b[1;33m\u001b[0m\u001b[1;33m\u001b[0m\u001b[0m\n\u001b[0m",
      "\u001b[1;31mAttributeError\u001b[0m: 'list' object has no attribute 'title'"
     ]
    }
   ],
   "source": [
    "vytvor_pozdrav(\"petr.svetr\")"
   ]
  },
  {
   "cell_type": "markdown",
   "metadata": {
    "id": "le-EZy_eaNAh"
   },
   "source": [
    "Funkce `vars`, `locals`, `globals` tedy není třeba aplikovat.\n",
    "\n",
    "Ze zápisu je patrné, že pracuješ **se správným objektem**."
   ]
  },
  {
   "cell_type": "markdown",
   "metadata": {
    "id": "7fwvx4hfzO1d"
   },
   "source": [
    "<br>\n",
    "\n",
    "#### **type**\n"
   ]
  },
  {
   "cell_type": "markdown",
   "metadata": {
    "id": "24q5-F99aNAh"
   },
   "source": [
    "Když vidíš, jak hodnoty vypadají, je potřeba ověřit, jak je zpracuje *interpret*:"
   ]
  },
  {
   "cell_type": "code",
   "execution_count": 6,
   "metadata": {
    "id": "6YwBMrQAaNAh"
   },
   "outputs": [],
   "source": [
    "def formatuj_jmeno(string, symbol: str = \".\"):\n",
    "    \"\"\"\n",
    "    :Example:\n",
    "    >>> rozdel_string(\"marek.parek\")\n",
    "    'Marek'\n",
    "    \"\"\"\n",
    "    jen_jmeno = string.split(symbol)\n",
    "    print(type(jen_jmeno))            # doplněná zab. funkce\n",
    "    return jen_jmeno.title() "
   ]
  },
  {
   "cell_type": "code",
   "execution_count": 7,
   "metadata": {
    "colab": {
     "base_uri": "https://localhost:8080/",
     "height": 293
    },
    "id": "ETdUdt7-aNAh",
    "outputId": "d61457f9-0ca6-4db8-a7f5-e11645f3aae3"
   },
   "outputs": [
    {
     "name": "stdout",
     "output_type": "stream",
     "text": [
      "<class 'list'>\n"
     ]
    },
    {
     "ename": "AttributeError",
     "evalue": "'list' object has no attribute 'title'",
     "output_type": "error",
     "traceback": [
      "\u001b[1;31m---------------------------------------------------------------------------\u001b[0m",
      "\u001b[1;31mAttributeError\u001b[0m                            Traceback (most recent call last)",
      "\u001b[1;32m~\\AppData\\Local\\Temp/ipykernel_11928/45740475.py\u001b[0m in \u001b[0;36m<module>\u001b[1;34m\u001b[0m\n\u001b[1;32m----> 1\u001b[1;33m \u001b[0mprint\u001b[0m\u001b[1;33m(\u001b[0m\u001b[0mvytvor_pozdrav\u001b[0m\u001b[1;33m(\u001b[0m\u001b[1;34m\"petr.svetr\"\u001b[0m\u001b[1;33m)\u001b[0m\u001b[1;33m)\u001b[0m\u001b[1;33m\u001b[0m\u001b[1;33m\u001b[0m\u001b[0m\n\u001b[0m",
      "\u001b[1;32m~\\AppData\\Local\\Temp/ipykernel_11928/2411594741.py\u001b[0m in \u001b[0;36mvytvor_pozdrav\u001b[1;34m(jmeno)\u001b[0m\n\u001b[0;32m      5\u001b[0m     \u001b[1;34m'Toto je Marek, zdravíme!'\u001b[0m\u001b[1;33m\u001b[0m\u001b[1;33m\u001b[0m\u001b[0m\n\u001b[0;32m      6\u001b[0m     \"\"\"\n\u001b[1;32m----> 7\u001b[1;33m     \u001b[1;32mreturn\u001b[0m \u001b[1;34m\" \"\u001b[0m\u001b[1;33m.\u001b[0m\u001b[0mjoin\u001b[0m\u001b[1;33m(\u001b[0m\u001b[1;33m(\u001b[0m\u001b[1;34m\"Toto je\"\u001b[0m\u001b[1;33m,\u001b[0m \u001b[1;34m\"\"\u001b[0m\u001b[1;33m.\u001b[0m\u001b[0mjoin\u001b[0m\u001b[1;33m(\u001b[0m\u001b[0mformatuj_jmeno\u001b[0m\u001b[1;33m(\u001b[0m\u001b[0mjmeno\u001b[0m\u001b[1;33m)\u001b[0m\u001b[1;33m)\u001b[0m\u001b[1;33m,\u001b[0m \u001b[1;34m\"zdravíme!\"\u001b[0m\u001b[1;33m)\u001b[0m\u001b[1;33m)\u001b[0m\u001b[1;33m\u001b[0m\u001b[1;33m\u001b[0m\u001b[0m\n\u001b[0m",
      "\u001b[1;32m~\\AppData\\Local\\Temp/ipykernel_11928/141638581.py\u001b[0m in \u001b[0;36mformatuj_jmeno\u001b[1;34m(string, symbol)\u001b[0m\n\u001b[0;32m      7\u001b[0m     \u001b[0mjen_jmeno\u001b[0m \u001b[1;33m=\u001b[0m \u001b[0mstring\u001b[0m\u001b[1;33m.\u001b[0m\u001b[0msplit\u001b[0m\u001b[1;33m(\u001b[0m\u001b[0msymbol\u001b[0m\u001b[1;33m)\u001b[0m\u001b[1;33m\u001b[0m\u001b[1;33m\u001b[0m\u001b[0m\n\u001b[0;32m      8\u001b[0m     \u001b[0mprint\u001b[0m\u001b[1;33m(\u001b[0m\u001b[0mtype\u001b[0m\u001b[1;33m(\u001b[0m\u001b[0mjen_jmeno\u001b[0m\u001b[1;33m)\u001b[0m\u001b[1;33m)\u001b[0m            \u001b[1;31m# doplněná zab. funkce\u001b[0m\u001b[1;33m\u001b[0m\u001b[1;33m\u001b[0m\u001b[0m\n\u001b[1;32m----> 9\u001b[1;33m     \u001b[1;32mreturn\u001b[0m \u001b[0mjen_jmeno\u001b[0m\u001b[1;33m.\u001b[0m\u001b[0mtitle\u001b[0m\u001b[1;33m(\u001b[0m\u001b[1;33m)\u001b[0m\u001b[1;33m\u001b[0m\u001b[1;33m\u001b[0m\u001b[0m\n\u001b[0m",
      "\u001b[1;31mAttributeError\u001b[0m: 'list' object has no attribute 'title'"
     ]
    }
   ],
   "source": [
    "print(vytvor_pozdrav(\"petr.svetr\"))"
   ]
  },
  {
   "cell_type": "markdown",
   "metadata": {
    "id": "sRFOQ2-QaNAh"
   },
   "source": [
    "Teď, když znáš datový typ, můžeš zkontrolovat, jestli pracuješ **se správnou metodou**."
   ]
  },
  {
   "cell_type": "markdown",
   "metadata": {
    "id": "BfKTf_rlzcrk"
   },
   "source": [
    "#### **dir**\n"
   ]
  },
  {
   "cell_type": "markdown",
   "metadata": {
    "id": "V2TNGBE-aNAh"
   },
   "source": [
    "Pomocí zab. funkce `dir` ověříš, které metody máš **pro konkrétní objekt** k dispozici:"
   ]
  },
  {
   "cell_type": "code",
   "execution_count": 8,
   "metadata": {
    "id": "h3wnFaz0aNAi"
   },
   "outputs": [],
   "source": [
    "def formatuj_jmeno(string, symbol: str = \".\"):\n",
    "    \"\"\"\n",
    "    :Example:\n",
    "    >>> rozdel_string(\"marek.parek\")\n",
    "    'Marek'\n",
    "    \"\"\"\n",
    "    jen_jmeno = string.split(symbol)\n",
    "    print(dir(jen_jmeno))            # doplněná zab. funkce\n",
    "    return jen_jmeno.title()         # metoda, kterou ve výstupu hledám"
   ]
  },
  {
   "cell_type": "code",
   "execution_count": 9,
   "metadata": {
    "colab": {
     "base_uri": "https://localhost:8080/",
     "height": 313
    },
    "id": "Q4DlZ083aNAi",
    "outputId": "8ca9c1fa-c904-4735-d5e2-599698399152"
   },
   "outputs": [
    {
     "name": "stdout",
     "output_type": "stream",
     "text": [
      "['__add__', '__class__', '__class_getitem__', '__contains__', '__delattr__', '__delitem__', '__dir__', '__doc__', '__eq__', '__format__', '__ge__', '__getattribute__', '__getitem__', '__gt__', '__hash__', '__iadd__', '__imul__', '__init__', '__init_subclass__', '__iter__', '__le__', '__len__', '__lt__', '__mul__', '__ne__', '__new__', '__reduce__', '__reduce_ex__', '__repr__', '__reversed__', '__rmul__', '__setattr__', '__setitem__', '__sizeof__', '__str__', '__subclasshook__', 'append', 'clear', 'copy', 'count', 'extend', 'index', 'insert', 'pop', 'remove', 'reverse', 'sort']\n"
     ]
    },
    {
     "ename": "AttributeError",
     "evalue": "'list' object has no attribute 'title'",
     "output_type": "error",
     "traceback": [
      "\u001b[1;31m---------------------------------------------------------------------------\u001b[0m",
      "\u001b[1;31mAttributeError\u001b[0m                            Traceback (most recent call last)",
      "\u001b[1;32m~\\AppData\\Local\\Temp/ipykernel_11928/45740475.py\u001b[0m in \u001b[0;36m<module>\u001b[1;34m\u001b[0m\n\u001b[1;32m----> 1\u001b[1;33m \u001b[0mprint\u001b[0m\u001b[1;33m(\u001b[0m\u001b[0mvytvor_pozdrav\u001b[0m\u001b[1;33m(\u001b[0m\u001b[1;34m\"petr.svetr\"\u001b[0m\u001b[1;33m)\u001b[0m\u001b[1;33m)\u001b[0m\u001b[1;33m\u001b[0m\u001b[1;33m\u001b[0m\u001b[0m\n\u001b[0m",
      "\u001b[1;32m~\\AppData\\Local\\Temp/ipykernel_11928/2411594741.py\u001b[0m in \u001b[0;36mvytvor_pozdrav\u001b[1;34m(jmeno)\u001b[0m\n\u001b[0;32m      5\u001b[0m     \u001b[1;34m'Toto je Marek, zdravíme!'\u001b[0m\u001b[1;33m\u001b[0m\u001b[1;33m\u001b[0m\u001b[0m\n\u001b[0;32m      6\u001b[0m     \"\"\"\n\u001b[1;32m----> 7\u001b[1;33m     \u001b[1;32mreturn\u001b[0m \u001b[1;34m\" \"\u001b[0m\u001b[1;33m.\u001b[0m\u001b[0mjoin\u001b[0m\u001b[1;33m(\u001b[0m\u001b[1;33m(\u001b[0m\u001b[1;34m\"Toto je\"\u001b[0m\u001b[1;33m,\u001b[0m \u001b[1;34m\"\"\u001b[0m\u001b[1;33m.\u001b[0m\u001b[0mjoin\u001b[0m\u001b[1;33m(\u001b[0m\u001b[0mformatuj_jmeno\u001b[0m\u001b[1;33m(\u001b[0m\u001b[0mjmeno\u001b[0m\u001b[1;33m)\u001b[0m\u001b[1;33m)\u001b[0m\u001b[1;33m,\u001b[0m \u001b[1;34m\"zdravíme!\"\u001b[0m\u001b[1;33m)\u001b[0m\u001b[1;33m)\u001b[0m\u001b[1;33m\u001b[0m\u001b[1;33m\u001b[0m\u001b[0m\n\u001b[0m",
      "\u001b[1;32m~\\AppData\\Local\\Temp/ipykernel_11928/725156072.py\u001b[0m in \u001b[0;36mformatuj_jmeno\u001b[1;34m(string, symbol)\u001b[0m\n\u001b[0;32m      7\u001b[0m     \u001b[0mjen_jmeno\u001b[0m \u001b[1;33m=\u001b[0m \u001b[0mstring\u001b[0m\u001b[1;33m.\u001b[0m\u001b[0msplit\u001b[0m\u001b[1;33m(\u001b[0m\u001b[0msymbol\u001b[0m\u001b[1;33m)\u001b[0m\u001b[1;33m\u001b[0m\u001b[1;33m\u001b[0m\u001b[0m\n\u001b[0;32m      8\u001b[0m     \u001b[0mprint\u001b[0m\u001b[1;33m(\u001b[0m\u001b[0mdir\u001b[0m\u001b[1;33m(\u001b[0m\u001b[0mjen_jmeno\u001b[0m\u001b[1;33m)\u001b[0m\u001b[1;33m)\u001b[0m            \u001b[1;31m# doplněná zab. funkce\u001b[0m\u001b[1;33m\u001b[0m\u001b[1;33m\u001b[0m\u001b[0m\n\u001b[1;32m----> 9\u001b[1;33m     \u001b[1;32mreturn\u001b[0m \u001b[0mjen_jmeno\u001b[0m\u001b[1;33m.\u001b[0m\u001b[0mtitle\u001b[0m\u001b[1;33m(\u001b[0m\u001b[1;33m)\u001b[0m         \u001b[1;31m# metoda, kterou ve výstupu hledám\u001b[0m\u001b[1;33m\u001b[0m\u001b[1;33m\u001b[0m\u001b[0m\n\u001b[0m",
      "\u001b[1;31mAttributeError\u001b[0m: 'list' object has no attribute 'title'"
     ]
    }
   ],
   "source": [
    "print(vytvor_pozdrav(\"petr.svetr\"))"
   ]
  },
  {
   "cell_type": "markdown",
   "metadata": {
    "id": "97b-SkquaNAi"
   },
   "source": [
    "Vidíš, že použitou metodu skutečně ve výstupu nenajdeš.\n",
    "\n",
    "Takže hodnoty, které zpracováváš a metody, které k tomu používáš, **nejsou kompatibilní**:"
   ]
  },
  {
   "cell_type": "code",
   "execution_count": 10,
   "metadata": {
    "id": "LkeurADnaNAi"
   },
   "outputs": [],
   "source": [
    "cele_jmeno = ['petr', 'svetr']"
   ]
  },
  {
   "cell_type": "code",
   "execution_count": 11,
   "metadata": {
    "colab": {
     "base_uri": "https://localhost:8080/"
    },
    "id": "2y6uM6fyaNAi",
    "outputId": "d3d88715-0c41-42a7-a3ba-3cb45fe6134e"
   },
   "outputs": [
    {
     "name": "stdout",
     "output_type": "stream",
     "text": [
      "Petr\n"
     ]
    }
   ],
   "source": [
    "print(cele_jmeno[0].title())"
   ]
  },
  {
   "cell_type": "code",
   "execution_count": 12,
   "metadata": {
    "colab": {
     "base_uri": "https://localhost:8080/",
     "height": 165
    },
    "id": "GyFnEF59DAGy",
    "outputId": "f21f92e7-4224-4067-9347-66693f27fc88"
   },
   "outputs": [
    {
     "ename": "IndexError",
     "evalue": "list index out of range",
     "output_type": "error",
     "traceback": [
      "\u001b[1;31m---------------------------------------------------------------------------\u001b[0m",
      "\u001b[1;31mIndexError\u001b[0m                                Traceback (most recent call last)",
      "\u001b[1;32m~\\AppData\\Local\\Temp/ipykernel_11928/3809784862.py\u001b[0m in \u001b[0;36m<module>\u001b[1;34m\u001b[0m\n\u001b[1;32m----> 1\u001b[1;33m \u001b[0mprint\u001b[0m\u001b[1;33m(\u001b[0m\u001b[0mcele_jmeno\u001b[0m\u001b[1;33m[\u001b[0m\u001b[1;36m3\u001b[0m\u001b[1;33m]\u001b[0m\u001b[1;33m.\u001b[0m\u001b[0mtitle\u001b[0m\u001b[1;33m(\u001b[0m\u001b[1;33m)\u001b[0m\u001b[1;33m)\u001b[0m\u001b[1;33m\u001b[0m\u001b[1;33m\u001b[0m\u001b[0m\n\u001b[0m",
      "\u001b[1;31mIndexError\u001b[0m: list index out of range"
     ]
    }
   ],
   "source": [
    "print(cele_jmeno[3].title())"
   ]
  },
  {
   "cell_type": "markdown",
   "metadata": {
    "id": "gDaDkUhzaNAi"
   },
   "source": [
    "V tento okamžik dovedeš celou situaci **jednoduše replikovat**.\n",
    "\n",
    "To samozřejmě není vždy nutné, ale obzvlášť ze začátku, pomáhá spojovat souvislosti."
   ]
  },
  {
   "cell_type": "code",
   "execution_count": 13,
   "metadata": {
    "id": "wnY7aDOlaNAi"
   },
   "outputs": [],
   "source": [
    "def formatuj_jmeno(string, symbol: str = \".\"):\n",
    "    \"\"\"\n",
    "    :Example:\n",
    "    >>> rozdel_string(\"marek.parek\")\n",
    "    'Marek'\n",
    "    \"\"\"\n",
    "    try:\n",
    "        jen_jmeno = string.split(symbol)[0]\n",
    "        \n",
    "    except IndexError:\n",
    "        vystup = string\n",
    "        print(\"Nelze indexovat\")    \n",
    "    except AttributeError:\n",
    "        vystup = string\n",
    "        print(\"Nelze použít zadané metody\")\n",
    "    else:\n",
    "        vystup = jen_jmeno.title()\n",
    "        print(\"Ukládám zadanou hodnotu...\")\n",
    "    finally:\n",
    "        return vystup"
   ]
  },
  {
   "cell_type": "code",
   "execution_count": 14,
   "metadata": {
    "colab": {
     "base_uri": "https://localhost:8080/"
    },
    "id": "21_cHrNgaNAj",
    "outputId": "347265bb-0c85-4ffb-8d71-cb2c005791d2"
   },
   "outputs": [
    {
     "name": "stdout",
     "output_type": "stream",
     "text": [
      "Ukládám zadanou hodnotu...\n",
      "Toto je Petr zdravíme!\n"
     ]
    }
   ],
   "source": [
    "print(vytvor_pozdrav(\"petr.svetr\"))"
   ]
  },
  {
   "cell_type": "markdown",
   "metadata": {
    "id": "0km-GFK90nkU"
   },
   "source": [
    "<br>\n",
    "\n",
    "## **Debugování, náročnější situace**\n",
    "\n",
    "---"
   ]
  },
  {
   "cell_type": "markdown",
   "metadata": {
    "id": "VttwoxWVaNAj"
   },
   "source": [
    "Pokud je problém náročnější, pro odhalení budeš potřebovat silnější nástroj:\n",
    "* knihovna `pdb` (není intuitivní, ale můžeš jej použít všude),\n",
    "* **debugger** součástí editoru/IDE (graficky pohodlné ovládání, ne vždy dostupné)."
   ]
  },
  {
   "cell_type": "markdown",
   "metadata": {
    "id": "jdl_oEfDaNAj"
   },
   "source": [
    "##### Demo: pomocná úloha\n",
    "\n",
    "Napiš funkci `projdi_vsechny_udaje`, která prochází různé množství zadaných stringů. Procházej pomocí této funkce tak dlouho, dokud nenarazíš na řádek obsahující string `'end'`.\n",
    "Potom proces zastav.\n",
    "\n",
    "Tyto stringy jsou emailové adresy, ze kterých chceš vypsat jméno, příjmení a doménu. Pomocí funkce `rozdel_email` získej vždy první část ze stringu a zbytek. Obě části vrať."
   ]
  },
  {
   "cell_type": "code",
   "execution_count": 15,
   "metadata": {
    "id": "dKm313vXaNAj"
   },
   "outputs": [],
   "source": [
    "def projdi_vsechny_udaje(*args) -> None:\n",
    "    for zaznam in args:\n",
    "        if \"end\" in zaznam:  # if zaznam == \"end\":\n",
    "            break\n",
    "        else:\n",
    "            jmeno, zbytek = rozdel_email(zaznam, \".\")\n",
    "            prijmeni, domena = rozdel_email(zbytek, \"@\")\n",
    "            print(\n",
    "                {\"jmeno\": jmeno, \"prijmeni\": prijmeni, \"domena\": domena}\n",
    "            )"
   ]
  },
  {
   "cell_type": "code",
   "execution_count": 16,
   "metadata": {
    "id": "Ve1waKNWaNAj"
   },
   "outputs": [],
   "source": [
    "def rozdel_email(email: str, symbol: str) -> tuple:\n",
    "    prvni_cast, zbytek = email.split(symbol, maxsplit=1)\n",
    "    return (prvni_cast.title(), zbytek)"
   ]
  },
  {
   "cell_type": "code",
   "execution_count": null,
   "metadata": {
    "colab": {
     "base_uri": "https://localhost:8080/"
    },
    "id": "giOBPTuWaNAj",
    "outputId": "6289e191-c684-4eca-c8e3-f829db6b0d0a"
   },
   "outputs": [],
   "source": [
    "projdi_vsechny_udaje(\n",
    "    'petra.fulinova@firma.cz',\n",
    "    'adela.vancurova@firma.cz',\n",
    "    'andrea.hertlova@firma.cz',\n",
    "    'petr.vyhnis@firma.cz',\n",
    "    'jan.feckanin@firma.cz',\n",
    "    'pavel.harant@firma.cz',\n",
    "    'zdenka.bendova@firma.cz',\n",
    "    'monika.miczova@firma.cz',\n",
    "    'jan.mosquito@firma.cz',\n",
    "    'barbora.suvova@firma.cz',\n",
    "    'lenka.kafkova@firma.cz',\n",
    "    'nikola.hoffmannova@firma.cz',\n",
    "    'daniela.sedlakova@firma.cz',\n",
    "    'ivana.jerabkova@firma.cz',\n",
    "    'valeria.jagerska@firma.cz',\n",
    "    'hana.bayerova@firma.cz',\n",
    "    'tomas.zamecnik@firma.cz',\n",
    "    'helena.strasilova@firma.cz',\n",
    "    'jana.kralova@firma.cz',\n",
    "    'hermina.duskova@firma.cz',\n",
    "    'dana.mirgova@firma.cz',\n",
    "    'end',\n",
    "    '...'\n",
    ")"
   ]
  },
  {
   "cell_type": "markdown",
   "metadata": {
    "id": "h_S8kaDuaNAk"
   },
   "source": [
    "Po spuštění se ale stalo něco podivného.\n",
    "\n",
    "Vidíš, že funkce neprošly všechny zadané hodnoty.\n",
    "\n",
    "Protože se neobjevila **žádná výjimka**, je potřeba debugovat sofitikovanějšími způsoby:\n",
    "1. Knihovna `pdb`,\n",
    "2. Pycharm, debugger.\n"
   ]
  }
 ],
 "metadata": {
  "colab": {
   "provenance": []
  },
  "kernelspec": {
   "display_name": "Python 3 (ipykernel)",
   "language": "python",
   "name": "python3"
  },
  "language_info": {
   "codemirror_mode": {
    "name": "ipython",
    "version": 3
   },
   "file_extension": ".py",
   "mimetype": "text/x-python",
   "name": "python",
   "nbconvert_exporter": "python",
   "pygments_lexer": "ipython3",
   "version": "3.10.0"
  }
 },
 "nbformat": 4,
 "nbformat_minor": 1
}
