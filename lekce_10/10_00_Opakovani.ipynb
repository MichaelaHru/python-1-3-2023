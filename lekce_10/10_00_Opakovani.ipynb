{
 "cells": [
  {
   "cell_type": "markdown",
   "metadata": {
    "id": "2TBPRY89YaAS"
   },
   "source": [
    "<h6 align=right> 🐍 Python akademie - lekce 10 - 03.05.2023</h6>"
   ]
  },
  {
   "cell_type": "markdown",
   "metadata": {
    "id": "DV_wKUc8YcIm"
   },
   "source": [
    "<br>\n",
    "\n",
    "# <h1 align=center><font color=black size=24><b> 10_00: Opakování po deváté lekci!</font></h1>\n",
    "\n",
    "<br>\n",
    "\n",
    "---"
   ]
  },
  {
   "cell_type": "markdown",
   "metadata": {
    "id": "3Hd8Ter9Yiqr"
   },
   "source": [
    "<br>\n",
    "\n",
    "### **Ukázka #01**\n",
    "\n",
    "Proces práce s textovými soubory\n",
    "\n",
    "Zápis\n",
    "\n",
    "Čtení"
   ]
  },
  {
   "cell_type": "code",
   "execution_count": 1,
   "metadata": {},
   "outputs": [],
   "source": [
    "file = open('testovaci.txt', mode='w', encoding='UTF-8')"
   ]
  },
  {
   "cell_type": "code",
   "execution_count": 2,
   "metadata": {},
   "outputs": [],
   "source": [
    "radek1 = '1. radek\\n'\n",
    "radek2 = '2. radek\\n'\n",
    "radek3 = '3. radek\\n'"
   ]
  },
  {
   "cell_type": "code",
   "execution_count": 3,
   "metadata": {},
   "outputs": [
    {
     "data": {
      "text/plain": [
       "9"
      ]
     },
     "execution_count": 3,
     "metadata": {},
     "output_type": "execute_result"
    }
   ],
   "source": [
    "file.write(radek1)\n",
    "file.write(radek2)\n",
    "file.write(radek3)"
   ]
  },
  {
   "cell_type": "code",
   "execution_count": 4,
   "metadata": {},
   "outputs": [],
   "source": [
    "file.close()"
   ]
  },
  {
   "cell_type": "code",
   "execution_count": 5,
   "metadata": {},
   "outputs": [],
   "source": [
    "file = open('testovaci.txt', mode='r', encoding='UTF-8')"
   ]
  },
  {
   "cell_type": "code",
   "execution_count": 6,
   "metadata": {},
   "outputs": [
    {
     "data": {
      "text/plain": [
       "'1. radek\\n2. radek\\n3. radek\\n'"
      ]
     },
     "execution_count": 6,
     "metadata": {},
     "output_type": "execute_result"
    }
   ],
   "source": [
    "file.read()"
   ]
  },
  {
   "cell_type": "code",
   "execution_count": 7,
   "metadata": {},
   "outputs": [
    {
     "data": {
      "text/plain": [
       "''"
      ]
     },
     "execution_count": 7,
     "metadata": {},
     "output_type": "execute_result"
    }
   ],
   "source": [
    "file.readline()"
   ]
  },
  {
   "cell_type": "code",
   "execution_count": 13,
   "metadata": {},
   "outputs": [
    {
     "data": {
      "text/plain": [
       "0"
      ]
     },
     "execution_count": 13,
     "metadata": {},
     "output_type": "execute_result"
    }
   ],
   "source": [
    "file.seek(0)"
   ]
  },
  {
   "cell_type": "code",
   "execution_count": 12,
   "metadata": {},
   "outputs": [
    {
     "data": {
      "text/plain": [
       "''"
      ]
     },
     "execution_count": 12,
     "metadata": {},
     "output_type": "execute_result"
    }
   ],
   "source": [
    "file.readline()"
   ]
  },
  {
   "cell_type": "code",
   "execution_count": 14,
   "metadata": {},
   "outputs": [
    {
     "data": {
      "text/plain": [
       "['1. radek\\n', '2. radek\\n', '3. radek\\n']"
      ]
     },
     "execution_count": 14,
     "metadata": {},
     "output_type": "execute_result"
    }
   ],
   "source": [
    "file.readlines()"
   ]
  },
  {
   "cell_type": "markdown",
   "metadata": {
    "id": "TyFY_5_PY-ms"
   },
   "source": [
    "<details>\n",
    "  <summary>❓Vysvětlení ❓</summary>\n",
    "\n",
    "```python\n",
    "file = open('testovaci.txt', mode='w', encoding='UTF-8')\n",
    "\n",
    "radek1 = '1. radek\\n'\n",
    "radek2 = '2. radek\\n'\n",
    "radek3 = '3. radek\\n'\n",
    "\n",
    "file.write(radek1)\n",
    "file.write(radek2)\n",
    "file.write(radek3)\n",
    "\n",
    "file.close()\n",
    "\n",
    "file = open('testovaci.txt', mode='a', encoding='UTF-8')\n",
    "\n",
    "file.write('4. radek\\n')\n",
    "\n",
    "file.close()\n",
    "\n",
    "file = open('testovaci.txt', mode='r', encoding='UTF-8')\n",
    "\n",
    "file.read()\n",
    "\n",
    "for radek in file.readlines():\n",
    "    print(radek)\n",
    "\n",
    "file.readline()\n",
    "\n",
    "file.seek(0)\n",
    "\n",
    "\n",
    "```\n",
    "\n",
    "\n",
    "</details>\n",
    "\n",
    "---"
   ]
  },
  {
   "cell_type": "markdown",
   "metadata": {
    "id": "KdeCtJV5Yw2C"
   },
   "source": [
    "<br>\n",
    "\n",
    "### **Ukázka #02**\n",
    "\n",
    "Kontextový manažer"
   ]
  },
  {
   "cell_type": "code",
   "execution_count": 16,
   "metadata": {},
   "outputs": [
    {
     "name": "stdout",
     "output_type": "stream",
     "text": [
      "9\n"
     ]
    }
   ],
   "source": [
    "with open('testovaci.txt', mode='a', encoding='UTF-8') as file:\n",
    "    x = file.write('5. radek\\n')\n",
    "    \n",
    "print(x)"
   ]
  },
  {
   "cell_type": "code",
   "execution_count": 17,
   "metadata": {},
   "outputs": [],
   "source": [
    "with open('testovaci.txt', mode='r+', encoding='UTF-8') as file:\n",
    "    obsah = file.read()\n",
    "    \n",
    "    file.write('6. radek\\n')"
   ]
  },
  {
   "cell_type": "markdown",
   "metadata": {
    "id": "MpMtfb19ZMeE"
   },
   "source": [
    "<details>\n",
    "  <summary>❓Vysvětlení ❓</summary>\n",
    "\n",
    "```python\n",
    "with open('testovaci.txt', mode='a', encoding='UTF-8') as file:\n",
    "    x = file.write('5. radek\\n')\n",
    "\n",
    "print(x)\n",
    "\n",
    "with open('testovaci.txt', mode='r+', encoding='UTF-8') as file:\n",
    "    # čtení souboru\n",
    "    obsah = file.read()\n",
    "    \n",
    "    # zápis do souboru\n",
    "    file.write('6. radek\\n')\n",
    "\n",
    "\n",
    "```\n",
    "\n",
    "\n",
    "</details>\n",
    "\n",
    "---"
   ]
  },
  {
   "cell_type": "markdown",
   "metadata": {
    "id": "uPSnjwOYZIfM"
   },
   "source": [
    "<br>\n",
    "\n",
    "### **Ukázka #03**\n",
    "\n",
    "Změna obsahu .txt souboru"
   ]
  },
  {
   "cell_type": "code",
   "execution_count": 19,
   "metadata": {},
   "outputs": [],
   "source": [
    "with open('testovaci.txt', mode='r+', encoding='UTF-8') as file:\n",
    "    obsah = file.read()\n",
    "    \n",
    "    novy_obsah = obsah.replace('3', '99')\n",
    "    \n",
    "    file.seek(0)\n",
    "    file.write(novy_obsah)"
   ]
  },
  {
   "cell_type": "markdown",
   "metadata": {
    "id": "etBlm8M9ZNGw"
   },
   "source": [
    "<details>\n",
    "  <summary>❓Vysvětlení ❓</summary>\n",
    "\n",
    "```python\n",
    "with open('testovaci.txt', 'r+') as f:\n",
    "    # čtení souboru\n",
    "    obsah_souboru = f.read()\n",
    "\n",
    "    # vyhledání a nahrazení textu\n",
    "    novy_obsah = obsah_souboru.replace('6', '99')\n",
    "\n",
    "    # nastavení pozice na začátek souboru a zápis nového obsahu\n",
    "    f.seek(0)\n",
    "    f.write(novy_obsah)\n",
    "\n",
    "# po skončení bloku with se soubor automaticky uzavře\n",
    "```\n",
    "\n",
    "\n",
    "</details>\n",
    "\n",
    "---"
   ]
  },
  {
   "cell_type": "markdown",
   "metadata": {
    "id": "GlpFBmVPZPZU"
   },
   "source": [
    "<br>\n",
    "\n",
    "### **Ukázka #04**\n",
    "\n",
    "Naformátuj string\n",
    "```\n",
    "|  DATUM   | BODY  |\n",
    "|11.11.2010|  135  |\n",
    "|11.11.2015|  130  |\n",
    "|11.11.2020|  133  |\n",
    "```\n"
   ]
  },
  {
   "cell_type": "code",
   "execution_count": 20,
   "metadata": {
    "id": "ivAz3TdtYTrb"
   },
   "outputs": [],
   "source": [
    "vysledky = {\n",
    "    \"11.11.2010\": 135,\n",
    "    \"11.11.2015\": 130,\n",
    "    \"11.11.2020\": 133,\n",
    "}"
   ]
  },
  {
   "cell_type": "code",
   "execution_count": 25,
   "metadata": {},
   "outputs": [
    {
     "name": "stdout",
     "output_type": "stream",
     "text": [
      "|  DATUM   |  BODY |\n",
      "|11.11.2010|  135  |\n",
      "|11.11.2015|  130  |\n",
      "|11.11.2020|  133  |\n"
     ]
    }
   ],
   "source": [
    "print(f\"|{'DATUM':^10}| {'BODY':^6}|\")\n",
    "\n",
    "for datum, body in vysledky.items():\n",
    "    print(f'|{datum:^10}| {body:^6}|')"
   ]
  },
  {
   "cell_type": "code",
   "execution_count": 26,
   "metadata": {},
   "outputs": [
    {
     "name": "stdout",
     "output_type": "stream",
     "text": [
      "|  DATUM   |  BODY |\n",
      "|11.11.2010|  135  |\n",
      "|11.11.2015|  130  |\n",
      "|11.11.2020|  133  |\n"
     ]
    }
   ],
   "source": [
    "for index, data in enumerate(vysledky.items()):\n",
    "    if index == 0:\n",
    "        print(f\"|{'DATUM':^10}| {'BODY':^6}|\")\n",
    "    print(f'|{data[0]:^10}| {data[1]:^6}|')"
   ]
  },
  {
   "cell_type": "markdown",
   "metadata": {
    "id": "bFeZIdT8ZgFQ"
   },
   "source": [
    "<details>\n",
    "  <summary>❓Vysvětlení ❓</summary>\n",
    "Možností jak naformátovat string je několik. Nejrychlejší je ovšem varianta pomocí formatovaného stringu (tedy f-string).\n",
    "    \n",
    "```python\n",
    "for index, data in enumerate(vysledky.items()):\n",
    "    if index == 0:\n",
    "        print(f\"|{'DATUM': ^10}| {'BODY': ^5} |\")\n",
    "    print(f\"|{data[0]:<10}| {data[1]:^5} |\")\n",
    "```\n",
    "</details>\n",
    "\n",
    "---"
   ]
  }
 ],
 "metadata": {
  "colab": {
   "provenance": []
  },
  "kernelspec": {
   "display_name": "Python 3 (ipykernel)",
   "language": "python",
   "name": "python3"
  },
  "language_info": {
   "codemirror_mode": {
    "name": "ipython",
    "version": 3
   },
   "file_extension": ".py",
   "mimetype": "text/x-python",
   "name": "python",
   "nbconvert_exporter": "python",
   "pygments_lexer": "ipython3",
   "version": "3.10.0"
  }
 },
 "nbformat": 4,
 "nbformat_minor": 1
}
