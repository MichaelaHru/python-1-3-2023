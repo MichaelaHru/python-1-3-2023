{
 "cells": [
  {
   "cell_type": "markdown",
   "metadata": {
    "id": "-wK6KKIFkWH6"
   },
   "source": [
    "<h6 align=right> 🐍 Python akademie - lekce 3 - 15.03.2023</h6>"
   ]
  },
  {
   "cell_type": "markdown",
   "metadata": {
    "id": "i1pIoSn3kYnr"
   },
   "source": [
    "<br>\n",
    "\n",
    "# <h1 align=center><font size=24><b> 03_02 🎾 Sety (množiny)</font></h1>\n",
    "\n",
    "<br>"
   ]
  },
  {
   "cell_type": "markdown",
   "metadata": {
    "id": "IFaV-I8hwCM5"
   },
   "source": [
    "<br>\n",
    "\n",
    "---\n",
    "\n",
    "### **Zajímavé odkazy z této lekce:**\n",
    "\n",
    "* [Oficiální dokumentace ke setům](https://docs.python.org/3/library/stdtypes.html#set-types-set-frozenset)\n",
    "* [Seznam všech metod souvisejících se sety](https://www.w3schools.com/python/python_ref_set.asp)\n",
    "* [Odkaz na materiál k datovém typu frozenset](https://www.geeksforgeeks.org/frozenset-in-python/)\n",
    "---\n",
    "\n",
    "<br>"
   ]
  },
  {
   "cell_type": "markdown",
   "metadata": {
    "id": "0SGouVGukxMJ"
   },
   "source": [
    "**syntaxe:**"
   ]
  },
  {
   "cell_type": "markdown",
   "metadata": {
    "id": "Rht0Xq3Uwwli"
   },
   "source": [
    "```python\n",
    "muj_set = {\"zena\", \"ruze\", \"pisen\", \"kost\"}\n",
    "```"
   ]
  },
  {
   "cell_type": "markdown",
   "metadata": {
    "id": "Gu7fupQmk3EK"
   },
   "source": [
    "* v Pythonu **standartní datový typ**,\n",
    "* tvořený **unikatními hodnotami**,\n",
    "* nepracuje s jednotlivými údaji, ale s daty jako celkem,\n",
    "* hodnoty mohou být jak stringy, tak číselné hodnoty,\n",
    "* nemá pořadí (podobné slovníkům),\n",
    "* klíčové operace setů:\n",
    "  - sjednocení `|`,\n",
    "  - průnik `&`,\n",
    "  - rozdíl `-`,\n",
    "  - symetrický rozdíl `^`."
   ]
  },
  {
   "cell_type": "markdown",
   "metadata": {
    "id": "wdP-qkHPlEsU"
   },
   "source": [
    "<br>\n",
    "\n",
    "## **Nový set**\n",
    "\n",
    "---"
   ]
  },
  {
   "cell_type": "code",
   "execution_count": 1,
   "metadata": {
    "id": "wXp6pMuOk3SE"
   },
   "outputs": [],
   "source": [
    "muj_novy_set = set()"
   ]
  },
  {
   "cell_type": "code",
   "execution_count": 2,
   "metadata": {
    "id": "aDDgknr_lItV"
   },
   "outputs": [
    {
     "data": {
      "text/plain": [
       "set"
      ]
     },
     "execution_count": 2,
     "metadata": {},
     "output_type": "execute_result"
    }
   ],
   "source": [
    "type(muj_novy_set)"
   ]
  },
  {
   "cell_type": "code",
   "execution_count": 3,
   "metadata": {
    "id": "g7w8hIL4lKbN"
   },
   "outputs": [],
   "source": [
    "muj_druhy_set = {}"
   ]
  },
  {
   "cell_type": "code",
   "execution_count": 4,
   "metadata": {
    "id": "7he_Hu0clN_a"
   },
   "outputs": [
    {
     "data": {
      "text/plain": [
       "dict"
      ]
     },
     "execution_count": 4,
     "metadata": {},
     "output_type": "execute_result"
    }
   ],
   "source": [
    "type(muj_druhy_set)"
   ]
  },
  {
   "cell_type": "code",
   "execution_count": 5,
   "metadata": {
    "id": "mrl9zJgXlPXe"
   },
   "outputs": [],
   "source": [
    "muj_novy_set = {\"zena\", \"ruze\", \"pisen\", \"kost\"}"
   ]
  },
  {
   "cell_type": "code",
   "execution_count": 6,
   "metadata": {
    "id": "qEbMepyflSKQ"
   },
   "outputs": [
    {
     "data": {
      "text/plain": [
       "set"
      ]
     },
     "execution_count": 6,
     "metadata": {},
     "output_type": "execute_result"
    }
   ],
   "source": [
    "type(muj_novy_set)"
   ]
  },
  {
   "cell_type": "markdown",
   "metadata": {
    "id": "w4urvoWololq"
   },
   "source": [
    "<br>\n",
    "\n",
    "## **Metody setu**\n",
    "\n",
    "---\n",
    "\n",
    "Podobně jako předchozí datové struktury (`list`, `tuple`, `dict`), mají i sety specifické metody. Níže je opět vypsaná tabulka s těmi častějšími (ne všemi):\n",
    "\n",
    "<br>\n",
    "\n",
    "| Metoda | Použití |\n",
    "| :-: | :- |\n",
    "| `add`| přidá hodnotu do setu |\n",
    "| `discard`| odstraní hodnotu ze setu |\n",
    "| `pop`| odstraní hodnotu ze setu |\n",
    "| `remove`| odstraní hodnotu ze setu |\n",
    "| `clear`| odstraní všechny hodnoty ze setu |\n",
    "| `copy`| vytvoří *shallow copy* setu |\n",
    "| `difference`| vytvoří set obsahující rozdílné hodnoty ze dvou setů |\n",
    "| `difference_update`| odstraní všechny hodnoty obsažené ve druhém setu z prvního setu|\n",
    "| `intersection`| vytvoří set obsahující identické hodnoty ze dvou setů |\n",
    "| `intersection_update`| aktualizuje stávající set s hodnotami z průniku s jiným setem |\n",
    "| `union`| vrátí nový set jako spojení dvou původních setů |\n",
    "| `symmetric_difference`| vrátí speciální objekt se všemi páry (v tuple) |\n",
    "| `symmetric_difference_update`| aktualizuje stávající set s hodnotami z sym. rozdílu s dalším setem |\n",
    "| `isdisjoint`| vrací `True` pokud dva sety nemají průnik. Jinak `False` |\n",
    "| `issubset`| vrací `True` pokud všechny prvky 1. setu jsou obsaženy ve 2. setu. Jinak `False` |\n"
   ]
  },
  {
   "cell_type": "markdown",
   "metadata": {
    "id": "3N6J-jmhyRv4"
   },
   "source": [
    "\n",
    "<br>\n",
    "\n",
    "### **Procvičování metod**\n",
    "\n",
    "---"
   ]
  },
  {
   "cell_type": "code",
   "execution_count": 7,
   "metadata": {
    "id": "g6mhPhzrlVK4"
   },
   "outputs": [],
   "source": [
    "muj_set_A = {\"zena\", \"ruze\", \"pisen\", \"kost\"}"
   ]
  },
  {
   "cell_type": "code",
   "execution_count": 8,
   "metadata": {
    "id": "E2NDYvv1mfEV"
   },
   "outputs": [
    {
     "name": "stdout",
     "output_type": "stream",
     "text": [
      "{'zena', 'ruze', 'pisen', 'kost'}\n"
     ]
    }
   ],
   "source": [
    "print(muj_set_A)"
   ]
  },
  {
   "cell_type": "code",
   "execution_count": 9,
   "metadata": {
    "id": "LVAnRtyOmfbL"
   },
   "outputs": [
    {
     "data": {
      "text/plain": [
       "1572517774720"
      ]
     },
     "execution_count": 9,
     "metadata": {},
     "output_type": "execute_result"
    }
   ],
   "source": [
    "id(muj_set_A)"
   ]
  },
  {
   "cell_type": "code",
   "execution_count": 10,
   "metadata": {
    "id": "QDx44t6Fmhgt"
   },
   "outputs": [
    {
     "data": {
      "text/plain": [
       "1572517776064"
      ]
     },
     "execution_count": 10,
     "metadata": {},
     "output_type": "execute_result"
    }
   ],
   "source": [
    "muj_set_B = muj_set_A.copy()\n",
    "id(muj_set_B)"
   ]
  },
  {
   "cell_type": "code",
   "execution_count": 11,
   "metadata": {
    "id": "Sxtg-LTsml4L"
   },
   "outputs": [
    {
     "name": "stdout",
     "output_type": "stream",
     "text": [
      "{'zena', 'ruze', 'pisen', 'kost'}\n"
     ]
    }
   ],
   "source": [
    "print(muj_set_A)"
   ]
  },
  {
   "cell_type": "code",
   "execution_count": 12,
   "metadata": {
    "id": "YCvAK-2Smobw"
   },
   "outputs": [
    {
     "name": "stdout",
     "output_type": "stream",
     "text": [
      "{'zena', 'ruze', 'pisen', 'kost'}\n"
     ]
    }
   ],
   "source": [
    "print(muj_set_B)"
   ]
  },
  {
   "cell_type": "code",
   "execution_count": 13,
   "metadata": {
    "id": "UF6BAdGSmp8e"
   },
   "outputs": [],
   "source": [
    "muj_set_A.add(\"Matous\")\n",
    "muj_set_A.add(\"Lucie\")\n",
    "muj_set_B.add(\"Lukas\")"
   ]
  },
  {
   "cell_type": "code",
   "execution_count": 14,
   "metadata": {
    "id": "dcQoZQ64mrx7"
   },
   "outputs": [],
   "source": [
    "muj_set_A.add(\"Matous\")"
   ]
  },
  {
   "cell_type": "markdown",
   "metadata": {
    "id": "TZb2sQAPm0J6"
   },
   "source": [
    "<br>\n",
    "\n",
    "<img src=\"https://i.imgur.com/yhV0pvW.png\" width=\"900\">"
   ]
  },
  {
   "cell_type": "code",
   "execution_count": 15,
   "metadata": {
    "id": "iRw4nfxDmvm-"
   },
   "outputs": [
    {
     "name": "stdout",
     "output_type": "stream",
     "text": [
      "{'zena', 'pisen', 'Lukas', 'ruze', 'kost'}\n"
     ]
    }
   ],
   "source": [
    "print(muj_set_B)"
   ]
  },
  {
   "cell_type": "code",
   "execution_count": 16,
   "metadata": {
    "id": "7wsS260DmynK"
   },
   "outputs": [
    {
     "name": "stdout",
     "output_type": "stream",
     "text": [
      "{'zena', 'Matous', 'pisen', 'Lucie', 'ruze', 'kost'}\n"
     ]
    }
   ],
   "source": [
    "print(muj_set_A)"
   ]
  },
  {
   "cell_type": "markdown",
   "metadata": {
    "id": "46steqj1opVP"
   },
   "source": [
    "<br>\n",
    "\n",
    "<img src=\"https://i.imgur.com/Qgvr0Jz.png\" width=\"900\">"
   ]
  },
  {
   "cell_type": "code",
   "execution_count": 17,
   "metadata": {
    "id": "xOj0UO6Pm4ak"
   },
   "outputs": [
    {
     "name": "stdout",
     "output_type": "stream",
     "text": [
      "{'zena', 'Matous', 'pisen', 'Lucie', 'Lukas', 'ruze', 'kost'}\n"
     ]
    }
   ],
   "source": [
    "print(muj_set_B.union(muj_set_A))"
   ]
  },
  {
   "cell_type": "code",
   "execution_count": 18,
   "metadata": {
    "id": "PgovxIihoslJ"
   },
   "outputs": [
    {
     "name": "stdout",
     "output_type": "stream",
     "text": [
      "{'zena', 'Matous', 'pisen', 'Lucie', 'Lukas', 'ruze', 'kost'}\n"
     ]
    }
   ],
   "source": [
    "print(muj_set_A.union(muj_set_B))"
   ]
  },
  {
   "cell_type": "code",
   "execution_count": 19,
   "metadata": {
    "id": "_o2oiGepouaE"
   },
   "outputs": [
    {
     "data": {
      "text/plain": [
       "True"
      ]
     },
     "execution_count": 19,
     "metadata": {},
     "output_type": "execute_result"
    }
   ],
   "source": [
    "muj_set_B.union(muj_set_A) == muj_set_A.union(muj_set_B)"
   ]
  },
  {
   "cell_type": "code",
   "execution_count": 20,
   "metadata": {},
   "outputs": [
    {
     "data": {
      "text/plain": [
       "{'Lucie', 'Lukas', 'Matous', 'kost', 'pisen', 'ruze', 'zena'}"
      ]
     },
     "execution_count": 20,
     "metadata": {},
     "output_type": "execute_result"
    }
   ],
   "source": [
    "muj_set_B | muj_set_A"
   ]
  },
  {
   "cell_type": "markdown",
   "metadata": {
    "id": "dsETKD28o5xi"
   },
   "source": [
    "<br>\n",
    "\n",
    "<img src=\"https://i.imgur.com/MYKRUqb.png\" width=\"900\">"
   ]
  },
  {
   "cell_type": "code",
   "execution_count": 21,
   "metadata": {
    "id": "XYszoj3Goy9i"
   },
   "outputs": [
    {
     "name": "stdout",
     "output_type": "stream",
     "text": [
      "{'zena', 'ruze', 'pisen', 'kost'}\n"
     ]
    }
   ],
   "source": [
    "print(muj_set_A.intersection(muj_set_B))"
   ]
  },
  {
   "cell_type": "code",
   "execution_count": 22,
   "metadata": {},
   "outputs": [
    {
     "data": {
      "text/plain": [
       "{'kost', 'pisen', 'ruze', 'zena'}"
      ]
     },
     "execution_count": 22,
     "metadata": {},
     "output_type": "execute_result"
    }
   ],
   "source": [
    "muj_set_A & muj_set_B"
   ]
  },
  {
   "cell_type": "markdown",
   "metadata": {
    "id": "KNtdFHZ6pI2u"
   },
   "source": [
    "<br>\n",
    "\n",
    "<img src=\"https://i.imgur.com/frukWiG.png\" width=\"900\">"
   ]
  },
  {
   "cell_type": "code",
   "execution_count": 23,
   "metadata": {
    "colab": {
     "base_uri": "https://localhost:8080/"
    },
    "id": "JQsVQm8ppDlV",
    "outputId": "0ef76dff-6a27-4308-b385-44dc75478d42"
   },
   "outputs": [
    {
     "name": "stdout",
     "output_type": "stream",
     "text": [
      "{'Lucie', 'Matous'}\n"
     ]
    }
   ],
   "source": [
    "print(muj_set_A.difference(muj_set_B))"
   ]
  },
  {
   "cell_type": "code",
   "execution_count": 24,
   "metadata": {},
   "outputs": [
    {
     "data": {
      "text/plain": [
       "{'Lucie', 'Matous'}"
      ]
     },
     "execution_count": 24,
     "metadata": {},
     "output_type": "execute_result"
    }
   ],
   "source": [
    "muj_set_A - muj_set_B"
   ]
  },
  {
   "cell_type": "markdown",
   "metadata": {
    "id": "K432dAl9pOBQ"
   },
   "source": [
    "<br>\n",
    "\n",
    "<img src=\"https://i.imgur.com/D3uPteB.png\" width=\"900\">"
   ]
  },
  {
   "cell_type": "code",
   "execution_count": 25,
   "metadata": {
    "id": "IRIGiCpJpMO7"
   },
   "outputs": [
    {
     "name": "stdout",
     "output_type": "stream",
     "text": [
      "{'Lukas'}\n"
     ]
    }
   ],
   "source": [
    "print(muj_set_B.difference(muj_set_A))"
   ]
  },
  {
   "cell_type": "code",
   "execution_count": 26,
   "metadata": {},
   "outputs": [
    {
     "data": {
      "text/plain": [
       "{'Lukas'}"
      ]
     },
     "execution_count": 26,
     "metadata": {},
     "output_type": "execute_result"
    }
   ],
   "source": [
    "muj_set_B - muj_set_A"
   ]
  },
  {
   "cell_type": "markdown",
   "metadata": {
    "id": "uRP1WT0hpWAe"
   },
   "source": [
    "<br>\n",
    "\n",
    "<img src=\"https://i.imgur.com/7XxiV1y.png\" width=\"900\">"
   ]
  },
  {
   "cell_type": "code",
   "execution_count": 27,
   "metadata": {
    "id": "sbr8aCC-pRPo"
   },
   "outputs": [
    {
     "name": "stdout",
     "output_type": "stream",
     "text": [
      "{'Matous', 'Lucie', 'Lukas'}\n"
     ]
    }
   ],
   "source": [
    "print(muj_set_B.symmetric_difference(muj_set_A))"
   ]
  },
  {
   "cell_type": "code",
   "execution_count": 28,
   "metadata": {
    "id": "4m-0KAvrpZrZ"
   },
   "outputs": [
    {
     "name": "stdout",
     "output_type": "stream",
     "text": [
      "{'Matous', 'Lucie', 'Lukas'}\n"
     ]
    }
   ],
   "source": [
    "print(muj_set_A.symmetric_difference(muj_set_B))"
   ]
  },
  {
   "cell_type": "code",
   "execution_count": 29,
   "metadata": {},
   "outputs": [
    {
     "data": {
      "text/plain": [
       "{'Lucie', 'Lukas', 'Matous'}"
      ]
     },
     "execution_count": 29,
     "metadata": {},
     "output_type": "execute_result"
    }
   ],
   "source": [
    "muj_set_A ^ muj_set_B"
   ]
  },
  {
   "cell_type": "markdown",
   "metadata": {
    "id": "rWNIE63iplID"
   },
   "source": [
    "<br>\n",
    "\n",
    "## **Další metody**\n",
    "\n",
    "---"
   ]
  },
  {
   "cell_type": "code",
   "execution_count": 30,
   "metadata": {
    "id": "3oLz1-U2pf-F"
   },
   "outputs": [],
   "source": [
    "prikl_1 = {\"jedna\", \"dve\", \"tri\"}"
   ]
  },
  {
   "cell_type": "code",
   "execution_count": 31,
   "metadata": {
    "id": "5uLQi2Zcpode"
   },
   "outputs": [],
   "source": [
    "prikl_2 = {\"ctyri\", \"pet\"}"
   ]
  },
  {
   "cell_type": "markdown",
   "metadata": {
    "id": "-kpoK8Oo3vf-"
   },
   "source": [
    "<br>\n",
    "\n",
    "### **`isdisjoint`**\n",
    "\n",
    "Vrací `True` pokud žádný prvek není společný pro obě množiny. Jinak vrací `False`."
   ]
  },
  {
   "cell_type": "code",
   "execution_count": 32,
   "metadata": {
    "id": "MOh2bat4pp12"
   },
   "outputs": [
    {
     "name": "stdout",
     "output_type": "stream",
     "text": [
      "True\n"
     ]
    }
   ],
   "source": [
    "print(prikl_1.isdisjoint(prikl_2))"
   ]
  },
  {
   "cell_type": "code",
   "execution_count": 33,
   "metadata": {
    "id": "OweDPqGnprOk"
   },
   "outputs": [
    {
     "name": "stdout",
     "output_type": "stream",
     "text": [
      "{'zena', 'pisen', 'Lukas', 'ruze', 'kost'}\n"
     ]
    }
   ],
   "source": [
    "print(muj_set_B)"
   ]
  },
  {
   "cell_type": "code",
   "execution_count": 34,
   "metadata": {
    "id": "BiJ-6bbkpxXe"
   },
   "outputs": [
    {
     "name": "stdout",
     "output_type": "stream",
     "text": [
      "{'zena', 'Matous', 'pisen', 'Lucie', 'ruze', 'kost'}\n"
     ]
    }
   ],
   "source": [
    "print(muj_set_A)"
   ]
  },
  {
   "cell_type": "code",
   "execution_count": 35,
   "metadata": {
    "id": "IjXQjzNC5a-o"
   },
   "outputs": [
    {
     "data": {
      "text/plain": [
       "False"
      ]
     },
     "execution_count": 35,
     "metadata": {},
     "output_type": "execute_result"
    }
   ],
   "source": [
    "muj_set_A.isdisjoint(muj_set_B)"
   ]
  },
  {
   "cell_type": "markdown",
   "metadata": {
    "id": "uEBCf8Wj4BvY"
   },
   "source": [
    "<br>\n",
    "\n",
    "### **`issubset`**\n",
    "\n",
    "Vrací `True` pokud všechny hodnoty v setu existují i ve specifikovaném setu. Jinak vrací `False`."
   ]
  },
  {
   "cell_type": "code",
   "execution_count": 36,
   "metadata": {
    "id": "-h6NbuXEpygj"
   },
   "outputs": [
    {
     "name": "stdout",
     "output_type": "stream",
     "text": [
      "False\n"
     ]
    }
   ],
   "source": [
    "print(muj_set_A.issubset(muj_set_B))"
   ]
  },
  {
   "cell_type": "code",
   "execution_count": 37,
   "metadata": {
    "id": "VjOFylXcp15l"
   },
   "outputs": [],
   "source": [
    "prikl_1 = {\"jedna\", \"dve\", \"tri\"}"
   ]
  },
  {
   "cell_type": "code",
   "execution_count": 38,
   "metadata": {
    "id": "6HWGoEUbqA3r"
   },
   "outputs": [],
   "source": [
    "prikl_2 = {\"jedna\", \"dve\"}"
   ]
  },
  {
   "cell_type": "code",
   "execution_count": 39,
   "metadata": {
    "id": "aN9O2ZrlqB3_"
   },
   "outputs": [
    {
     "name": "stdout",
     "output_type": "stream",
     "text": [
      "True\n"
     ]
    }
   ],
   "source": [
    "print(prikl_2.issubset(prikl_1))"
   ]
  },
  {
   "cell_type": "markdown",
   "metadata": {
    "id": "mCQaUQl92GRp"
   },
   "source": [
    "<br><br>\n",
    "\n",
    "## **Frozenset**\n",
    "\n",
    "---"
   ]
  },
  {
   "cell_type": "code",
   "execution_count": 40,
   "metadata": {
    "id": "cRkbWKZ5qC8J"
   },
   "outputs": [
    {
     "data": {
      "text/plain": [
       "frozenset({'Jan', 'kost', 'pisen', 'ruze', 'zena'})"
      ]
     },
     "execution_count": 40,
     "metadata": {},
     "output_type": "execute_result"
    }
   ],
   "source": [
    "frozenset({'ruze', 'zena', 'Jan', 'pisen', 'kost'})"
   ]
  },
  {
   "cell_type": "markdown",
   "metadata": {
    "id": "mGyyPEqF2Q3V"
   },
   "source": [
    "Pomocí funkce `frozenset` máme jako uživatelé Pythonu možnost vytvořit **nezměnitelný** `set` (princip podobný jako u `tuple`)."
   ]
  },
  {
   "cell_type": "code",
   "execution_count": 41,
   "metadata": {
    "id": "ccXnrhG22P_e"
   },
   "outputs": [],
   "source": [
    "muj_set = frozenset()"
   ]
  },
  {
   "cell_type": "code",
   "execution_count": 42,
   "metadata": {
    "id": "hXos4rjw2UZy"
   },
   "outputs": [
    {
     "data": {
      "text/plain": [
       "frozenset"
      ]
     },
     "execution_count": 42,
     "metadata": {},
     "output_type": "execute_result"
    }
   ],
   "source": [
    "type(muj_set)"
   ]
  },
  {
   "cell_type": "markdown",
   "metadata": {
    "id": "ZMat4GaR2cK4"
   },
   "source": [
    "<br>\n",
    "\n",
    "### **Nový frozenset**\n"
   ]
  },
  {
   "cell_type": "code",
   "execution_count": 43,
   "metadata": {
    "id": "__wQeG5X2Vrw"
   },
   "outputs": [],
   "source": [
    "muj_set = {\"zena\", \"ruze\", \"pisen\", \"kost\"}"
   ]
  },
  {
   "cell_type": "code",
   "execution_count": 44,
   "metadata": {
    "id": "NCoOJCxK2kYK"
   },
   "outputs": [
    {
     "name": "stdout",
     "output_type": "stream",
     "text": [
      "<class 'set'>\n"
     ]
    }
   ],
   "source": [
    "print(type(muj_set))"
   ]
  },
  {
   "cell_type": "code",
   "execution_count": 45,
   "metadata": {
    "id": "UmNn5k6o2mQW"
   },
   "outputs": [],
   "source": [
    "muj_nezm_set = frozenset(muj_set.copy())"
   ]
  },
  {
   "cell_type": "code",
   "execution_count": 46,
   "metadata": {
    "id": "7hTv7h3x2n3G"
   },
   "outputs": [
    {
     "name": "stdout",
     "output_type": "stream",
     "text": [
      "<class 'frozenset'>\n"
     ]
    }
   ],
   "source": [
    "print(type(muj_nezm_set))"
   ]
  },
  {
   "cell_type": "code",
   "execution_count": 47,
   "metadata": {
    "id": "OJ5RLnfg2pHg"
   },
   "outputs": [
    {
     "name": "stdout",
     "output_type": "stream",
     "text": [
      "<class 'set'>\n"
     ]
    }
   ],
   "source": [
    "print(type(muj_set))"
   ]
  },
  {
   "cell_type": "markdown",
   "metadata": {
    "id": "BNrud55u2xgj"
   },
   "source": [
    "<br>\n",
    "\n",
    "### **Metody frozensetu**\n"
   ]
  },
  {
   "cell_type": "markdown",
   "metadata": {
    "id": "gc5nB09r20lZ"
   },
   "source": [
    "Pomocí datového typu `frozenset` můžete používat prakticky stejné metody jako u běžného setu.<br>\n",
    "Pouze metody, které mají nějaký vliv na **přidávání** a **odstraňovaní** údajů nejsou dostupné.\n",
    "\n",
    "<br>\n",
    "\n",
    "| Metoda | Použití |\n",
    "| :-: | :- |\n",
    "| `copy`| vytvoří *shallow copy* setu |\n",
    "| `difference`| vytvoří set obsahující rozdílné hodnoty ze dvou setů |\n",
    "| `intersection`| vytvoří set obsahující identické hodnoty ze dvou setů |\n",
    "| `symmetric_difference`| vrátí speciální objekt se všemi páry (v tuple) |\n",
    "| `union`| vytvoří set obsahující sjednocené hodnoty různých setů |\n",
    "| `isdisjoint`| vrací `True` pokud dva sety nemají průnik. Jinak `False` |\n",
    "| `issubset`| vrací `True` pokud mají dva sety průnik. Jinak `False` |"
   ]
  },
  {
   "cell_type": "code",
   "execution_count": 48,
   "metadata": {
    "id": "yn8smSi92qX-"
   },
   "outputs": [],
   "source": [
    "muj_set.add(\"Marek\")\n",
    "muj_set.add(\"Jan\")"
   ]
  },
  {
   "cell_type": "code",
   "execution_count": 49,
   "metadata": {
    "id": "nz-ugmIb26RH"
   },
   "outputs": [
    {
     "name": "stdout",
     "output_type": "stream",
     "text": [
      "{'zena', 'pisen', 'ruze', 'kost', 'Jan', 'Marek'}\n"
     ]
    }
   ],
   "source": [
    "print(muj_set)"
   ]
  },
  {
   "cell_type": "code",
   "execution_count": 50,
   "metadata": {
    "id": "npPTPmlu27dG"
   },
   "outputs": [],
   "source": [
    "muj_set.discard(\"Marek\")"
   ]
  },
  {
   "cell_type": "code",
   "execution_count": 51,
   "metadata": {
    "id": "YJvmXW9V29OD"
   },
   "outputs": [
    {
     "name": "stdout",
     "output_type": "stream",
     "text": [
      "{'zena', 'pisen', 'ruze', 'kost', 'Jan'}\n"
     ]
    }
   ],
   "source": [
    "print(muj_set)"
   ]
  },
  {
   "cell_type": "code",
   "execution_count": 52,
   "metadata": {
    "id": "JqqVqg_S2-if"
   },
   "outputs": [
    {
     "ename": "AttributeError",
     "evalue": "'frozenset' object has no attribute 'add'",
     "output_type": "error",
     "traceback": [
      "\u001b[1;31m---------------------------------------------------------------------------\u001b[0m",
      "\u001b[1;31mAttributeError\u001b[0m                            Traceback (most recent call last)",
      "\u001b[1;32m~\\AppData\\Local\\Temp/ipykernel_19760/376312791.py\u001b[0m in \u001b[0;36m<module>\u001b[1;34m\u001b[0m\n\u001b[1;32m----> 1\u001b[1;33m \u001b[0mmuj_nezm_set\u001b[0m\u001b[1;33m.\u001b[0m\u001b[0madd\u001b[0m\u001b[1;33m(\u001b[0m\u001b[1;34m\"Matous\"\u001b[0m\u001b[1;33m)\u001b[0m\u001b[1;33m\u001b[0m\u001b[1;33m\u001b[0m\u001b[0m\n\u001b[0m",
      "\u001b[1;31mAttributeError\u001b[0m: 'frozenset' object has no attribute 'add'"
     ]
    }
   ],
   "source": [
    "muj_nezm_set.add(\"Matous\")"
   ]
  },
  {
   "cell_type": "code",
   "execution_count": 53,
   "metadata": {
    "id": "DcIy9SLW3AF7"
   },
   "outputs": [],
   "source": [
    "muj_druhy_nezm_set = frozenset(muj_set.copy())"
   ]
  },
  {
   "cell_type": "code",
   "execution_count": 54,
   "metadata": {
    "id": "wSqrMU543CyO"
   },
   "outputs": [
    {
     "name": "stdout",
     "output_type": "stream",
     "text": [
      "frozenset({'zena', 'ruze', 'kost', 'Jan', 'pisen'})\n"
     ]
    }
   ],
   "source": [
    "print(muj_druhy_nezm_set)"
   ]
  },
  {
   "cell_type": "code",
   "execution_count": 55,
   "metadata": {
    "id": "ZhIZmUYS3EHq"
   },
   "outputs": [
    {
     "data": {
      "text/plain": [
       "frozenset({'Jan'})"
      ]
     },
     "execution_count": 55,
     "metadata": {},
     "output_type": "execute_result"
    }
   ],
   "source": [
    "muj_druhy_nezm_set.difference(muj_nezm_set)"
   ]
  }
 ],
 "metadata": {
  "colab": {
   "provenance": []
  },
  "kernelspec": {
   "display_name": "Python 3 (ipykernel)",
   "language": "python",
   "name": "python3"
  },
  "language_info": {
   "codemirror_mode": {
    "name": "ipython",
    "version": 3
   },
   "file_extension": ".py",
   "mimetype": "text/x-python",
   "name": "python",
   "nbconvert_exporter": "python",
   "pygments_lexer": "ipython3",
   "version": "3.10.0"
  }
 },
 "nbformat": 4,
 "nbformat_minor": 1
}
