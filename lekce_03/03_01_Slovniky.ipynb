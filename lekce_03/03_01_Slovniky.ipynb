{
 "cells": [
  {
   "cell_type": "markdown",
   "metadata": {
    "id": "TKgB1lhijUNQ"
   },
   "source": [
    "<h6 align=right> 🐍 Python akademie - lekce 3 - 15.03.2023</h6>"
   ]
  },
  {
   "cell_type": "markdown",
   "metadata": {
    "id": "1RKtLiXCjWqc"
   },
   "source": [
    "<br>\n",
    "\n",
    "# <h1 align=center><font color=black size=24><b> 03_01 📖 Slovníky</font></h1>\n",
    "\n",
    "<br>"
   ]
  },
  {
   "cell_type": "markdown",
   "metadata": {
    "id": "UIJJD96Qd8UR"
   },
   "source": [
    "<br>\n",
    "\n",
    "---\n",
    "\n",
    "### **Zajímavé odkazy z této lekce:**\n",
    "\n",
    "* [Oficiální dokumentace ke slovníkům](https://docs.python.org/3/library/stdtypes.html#mapping-types-dict)\n",
    "* [Seznam všech metod souvisejících se slovníky](https://www.w3schools.com/python/python_ref_dictionary.asp)\n",
    "* [Oficiální dokumentace ke setům](https://docs.python.org/3/library/stdtypes.html#set-types-set-frozenset)\n",
    "* [Seznam všech metod souvisejících se sety](https://www.w3schools.com/python/python_ref_set.asp)\n",
    "* [Odkaz na materiál k datovém typu frozenset](https://www.geeksforgeeks.org/frozenset-in-python/)\n",
    "\n",
    "---\n",
    "\n",
    "<br>"
   ]
  },
  {
   "cell_type": "markdown",
   "metadata": {
    "id": "q2BBeJ81je3N"
   },
   "source": [
    "<br>\n",
    "\n",
    "## **Další datové typy**\n",
    "\n",
    "---\n",
    "\n",
    "Zatím známe jen některé datové typy. Např. `int`, `float`, `str`, `bool`.\n",
    "\n",
    "<br>\n",
    "\n",
    "Python jich nabízí daleko víc. Nejenom zabudované, ale i některé přidané.\n",
    "\n",
    "<br>\n",
    "\n",
    "Každý datový typ má svoje vlastní použití. Proto je potřeba vědět, jaký a kdy použít. Jaké metody máme k dispozici a jak se používají."
   ]
  },
  {
   "cell_type": "markdown",
   "metadata": {
    "id": "cAQJHL2qkSrF"
   },
   "source": [
    "<br>\n",
    "\n",
    "## **Slovník (~dictionary)**\n",
    "\n",
    "---\n"
   ]
  },
  {
   "cell_type": "markdown",
   "metadata": {
    "id": "4nDvkpXhktNh"
   },
   "source": [
    "**Syntaxe slovníku:**"
   ]
  },
  {
   "cell_type": "markdown",
   "metadata": {
    "id": "Q0X2hLeMf_5K"
   },
   "source": [
    "```python\n",
    "muj_slovnik = {'jmeno': 'Radim', 'prijmeni': 'Jedlicka'}\n",
    "```"
   ]
  },
  {
   "cell_type": "markdown",
   "metadata": {
    "id": "9KDK1UcJkrMX"
   },
   "source": [
    "* v jiných jazycích *hashtable*, *map*,\n",
    "* v Pythonu **standartní datový typ**,\n",
    "* tvořený páry `klíč: hodnota`,\n",
    "\n",
    "<br>\n",
    "\n",
    "* podle **klíče** dohledávám (*~mapuji*) **hodnotu** (ne naopak),\n",
    "* klíč musí být **unikátní** (`str`, `int`, `bool`, nelze použít `list`), souvisí s funkcí `hash`,\n",
    "* hodnota nemusí být unikátní (př. `str`, `int`, `list`, `tuple`, jiný `dict`),\n",
    "\n",
    "<br>\n",
    "\n",
    "* nemá indexy jako `list`, hranatá závorka pracuje se jmény klíčů,\n",
    "* nemají pořadí (u menšího množství párů se to může zdát)."
   ]
  },
  {
   "cell_type": "code",
   "execution_count": 3,
   "metadata": {
    "id": "TsHBdQf_grnO"
   },
   "outputs": [],
   "source": [
    "muj_slovnik = {\n",
    "    \"jmeno\": \"Matous\",\n",
    "    \"vek\": 100,\n",
    "    \"rid_opravneni\": True,\n",
    "    \"volny_cas\": [\"klavir\", \"cteni\", \"Python!\"]\n",
    "}"
   ]
  },
  {
   "cell_type": "code",
   "execution_count": 4,
   "metadata": {
    "id": "eo__PrhMg13D"
   },
   "outputs": [
    {
     "name": "stdout",
     "output_type": "stream",
     "text": [
      "{'jmeno': 'Matous', 'vek': 100, 'rid_opravneni': True, 'volny_cas': ['klavir', 'cteni', 'Python!']}\n"
     ]
    }
   ],
   "source": [
    "print(muj_slovnik)"
   ]
  },
  {
   "cell_type": "markdown",
   "metadata": {
    "id": "9rUPrAwCk8Un"
   },
   "source": [
    "<br>\n",
    "\n",
    "## **Nový slovník**\n",
    "\n",
    "---"
   ]
  },
  {
   "cell_type": "markdown",
   "metadata": {
    "id": "50dsPsAblK_v"
   },
   "source": [
    "* **1. způsob: pomocí funkce**"
   ]
  },
  {
   "cell_type": "code",
   "execution_count": 5,
   "metadata": {
    "id": "S9eFIZ-jkrr7"
   },
   "outputs": [],
   "source": [
    "muj_novy_slovnik = dict()  # pomocí funkce 'dict'"
   ]
  },
  {
   "cell_type": "code",
   "execution_count": 6,
   "metadata": {
    "id": "YAURQqoDlAd7"
   },
   "outputs": [
    {
     "data": {
      "text/plain": [
       "1709848549120"
      ]
     },
     "execution_count": 6,
     "metadata": {},
     "output_type": "execute_result"
    }
   ],
   "source": [
    "id(muj_novy_slovnik)"
   ]
  },
  {
   "cell_type": "code",
   "execution_count": 7,
   "metadata": {
    "id": "7ioR_gjolFRV"
   },
   "outputs": [
    {
     "data": {
      "text/plain": [
       "dict"
      ]
     },
     "execution_count": 7,
     "metadata": {},
     "output_type": "execute_result"
    }
   ],
   "source": [
    "type(muj_novy_slovnik)"
   ]
  },
  {
   "cell_type": "markdown",
   "metadata": {
    "id": "55f4_afulRlu"
   },
   "source": [
    "* **2. způsob: pomocí závorek**"
   ]
  },
  {
   "cell_type": "code",
   "execution_count": 8,
   "metadata": {
    "id": "A-glwT2xlHDs"
   },
   "outputs": [],
   "source": [
    "muj_novy_slovnik_2 = {}    # pomocí složených závorek"
   ]
  },
  {
   "cell_type": "code",
   "execution_count": 9,
   "metadata": {
    "id": "JNiQeIc_lIyt"
   },
   "outputs": [
    {
     "data": {
      "text/plain": [
       "1709848882112"
      ]
     },
     "execution_count": 9,
     "metadata": {},
     "output_type": "execute_result"
    }
   ],
   "source": [
    "id(muj_novy_slovnik_2)"
   ]
  },
  {
   "cell_type": "code",
   "execution_count": 10,
   "metadata": {
    "id": "pVkBkV6HlKEn"
   },
   "outputs": [
    {
     "name": "stdout",
     "output_type": "stream",
     "text": [
      "<class 'dict'>\n"
     ]
    }
   ],
   "source": [
    "print(type(muj_novy_slovnik_2))"
   ]
  },
  {
   "cell_type": "markdown",
   "metadata": {
    "id": "e6kz24QelwXl"
   },
   "source": [
    "<br>\n",
    "\n",
    "\n",
    "## **Nový klíč a hodnoty**\n",
    "\n",
    "---"
   ]
  },
  {
   "cell_type": "code",
   "execution_count": 11,
   "metadata": {
    "id": "D-2nsK1dlybW"
   },
   "outputs": [
    {
     "name": "stdout",
     "output_type": "stream",
     "text": [
      "{}\n"
     ]
    }
   ],
   "source": [
    "print(muj_novy_slovnik)"
   ]
  },
  {
   "cell_type": "code",
   "execution_count": 12,
   "metadata": {
    "id": "YSrPj_cel3sg"
   },
   "outputs": [],
   "source": [
    "muj_novy_slovnik[\"jmeno\"] = \"Radim\""
   ]
  },
  {
   "cell_type": "code",
   "execution_count": 13,
   "metadata": {
    "id": "3t6hxdwLl4ej"
   },
   "outputs": [
    {
     "name": "stdout",
     "output_type": "stream",
     "text": [
      "{'jmeno': 'Radim'}\n"
     ]
    }
   ],
   "source": [
    "print(muj_novy_slovnik)"
   ]
  },
  {
   "cell_type": "code",
   "execution_count": 14,
   "metadata": {
    "id": "uPC6WnMTl8BG"
   },
   "outputs": [],
   "source": [
    "muj_novy_slovnik[\"rid_opravneni\"] = True\n",
    "muj_novy_slovnik[\"hobby\"] = (\"fotbal\", \"hry\", \"pratele\")\n",
    "muj_novy_slovnik[\"vek\"] = 22\n",
    "muj_novy_slovnik[\"jmeno\"] = \"Vaclav\"\n",
    "muj_novy_slovnik[\"jmeno\"] = \"Karin\""
   ]
  },
  {
   "cell_type": "code",
   "execution_count": 15,
   "metadata": {
    "id": "Rz3rXkVMmGK6"
   },
   "outputs": [
    {
     "name": "stdout",
     "output_type": "stream",
     "text": [
      "{'jmeno': 'Karin', 'rid_opravneni': True, 'hobby': ('fotbal', 'hry', 'pratele'), 'vek': 22}\n"
     ]
    }
   ],
   "source": [
    "print(muj_novy_slovnik)"
   ]
  },
  {
   "cell_type": "markdown",
   "metadata": {
    "id": "Or3yd1wFnMLe"
   },
   "source": [
    "*poznámka*. pokud zkusím do existujícího klíče vepsat **novou hodnotu**, přepíšu hodnotu původní."
   ]
  },
  {
   "cell_type": "markdown",
   "metadata": {
    "id": "A4VVOcMUnOiG"
   },
   "source": [
    "<br>\n",
    "\n",
    "## **Jak získat hodnoty?**\n",
    "\n",
    "---"
   ]
  },
  {
   "cell_type": "code",
   "execution_count": 16,
   "metadata": {
    "id": "WBJkhcHenMvS"
   },
   "outputs": [
    {
     "name": "stdout",
     "output_type": "stream",
     "text": [
      "{'jmeno': 'Karin', 'rid_opravneni': True, 'hobby': ('fotbal', 'hry', 'pratele'), 'vek': 22}\n"
     ]
    }
   ],
   "source": [
    "print(muj_novy_slovnik)"
   ]
  },
  {
   "cell_type": "code",
   "execution_count": 17,
   "metadata": {
    "id": "3gQ1pcmUnanh"
   },
   "outputs": [
    {
     "name": "stdout",
     "output_type": "stream",
     "text": [
      "Karin\n"
     ]
    }
   ],
   "source": [
    "print(muj_novy_slovnik[\"jmeno\"])"
   ]
  },
  {
   "cell_type": "code",
   "execution_count": 18,
   "metadata": {
    "id": "Ne3tonbFncTk"
   },
   "outputs": [
    {
     "name": "stdout",
     "output_type": "stream",
     "text": [
      "('fotbal', 'hry', 'pratele')\n"
     ]
    }
   ],
   "source": [
    "print(muj_novy_slovnik[\"hobby\"])"
   ]
  },
  {
   "cell_type": "code",
   "execution_count": 19,
   "metadata": {
    "id": "HqRpTQXSngMg"
   },
   "outputs": [
    {
     "name": "stdout",
     "output_type": "stream",
     "text": [
      "pratele\n"
     ]
    }
   ],
   "source": [
    "print(muj_novy_slovnik[\"hobby\"][2])"
   ]
  },
  {
   "cell_type": "code",
   "execution_count": 20,
   "metadata": {
    "id": "ffIsQ2Vdni_k"
   },
   "outputs": [
    {
     "name": "stdout",
     "output_type": "stream",
     "text": [
      "a\n"
     ]
    }
   ],
   "source": [
    "print((muj_novy_slovnik[\"hobby\"][2][2]))"
   ]
  },
  {
   "cell_type": "code",
   "execution_count": 21,
   "metadata": {
    "id": "xFAL3UHAnutJ"
   },
   "outputs": [
    {
     "name": "stdout",
     "output_type": "stream",
     "text": [
      "{'hobby': ('fotbal', 'hry', 'pratele'),\n",
      " 'jmeno': 'Karin',\n",
      " 'rid_opravneni': True,\n",
      " 'vek': 22}\n"
     ]
    }
   ],
   "source": [
    "from pprint import pprint\n",
    "pprint(muj_novy_slovnik) # z balicku pprint pouziju funkci pprint"
   ]
  },
  {
   "cell_type": "markdown",
   "metadata": {
    "id": "jP6xIE94oQsT"
   },
   "source": [
    "<br>\n",
    "\n",
    "## **Slovník ve slovníku (~nesting)**\n",
    "\n",
    "---"
   ]
  },
  {
   "cell_type": "code",
   "execution_count": 22,
   "metadata": {
    "id": "UH89foBooTED"
   },
   "outputs": [],
   "source": [
    "kontakt = {\n",
    "    \"telefon\": \"000 123 456 789\",\n",
    "    \"email\": \"lukas@gmail.com\",\n",
    "    \"web\": \"www.lukas.cz\"\n",
    "}"
   ]
  },
  {
   "cell_type": "code",
   "execution_count": 23,
   "metadata": {
    "id": "Uq1_D46woac9"
   },
   "outputs": [],
   "source": [
    "muj_novy_slovnik[\"kontakt\"] = kontakt"
   ]
  },
  {
   "cell_type": "code",
   "execution_count": 24,
   "metadata": {
    "id": "C_fttKL-oc69"
   },
   "outputs": [
    {
     "name": "stdout",
     "output_type": "stream",
     "text": [
      "{'jmeno': 'Karin', 'rid_opravneni': True, 'hobby': ('fotbal', 'hry', 'pratele'), 'vek': 22, 'kontakt': {'telefon': '000 123 456 789', 'email': 'lukas@gmail.com', 'web': 'www.lukas.cz'}}\n"
     ]
    }
   ],
   "source": [
    "print(muj_novy_slovnik)"
   ]
  },
  {
   "cell_type": "code",
   "execution_count": 25,
   "metadata": {
    "id": "ZsDzaIykomN7"
   },
   "outputs": [
    {
     "name": "stdout",
     "output_type": "stream",
     "text": [
      "{'hobby': ('fotbal', 'hry', 'pratele'),\n",
      " 'jmeno': 'Karin',\n",
      " 'kontakt': {'email': 'lukas@gmail.com',\n",
      "             'telefon': '000 123 456 789',\n",
      "             'web': 'www.lukas.cz'},\n",
      " 'rid_opravneni': True,\n",
      " 'vek': 22}\n"
     ]
    }
   ],
   "source": [
    "pprint(muj_novy_slovnik)"
   ]
  },
  {
   "cell_type": "code",
   "execution_count": 26,
   "metadata": {
    "id": "CMpAHFcfonMM"
   },
   "outputs": [
    {
     "name": "stdout",
     "output_type": "stream",
     "text": [
      "{'email': 'lukas@gmail.com',\n",
      " 'telefon': '000 123 456 789',\n",
      " 'web': 'www.lukas.cz'}\n"
     ]
    }
   ],
   "source": [
    "pprint(muj_novy_slovnik[\"kontakt\"])"
   ]
  },
  {
   "cell_type": "code",
   "execution_count": 27,
   "metadata": {
    "id": "4J4NGGXgo464"
   },
   "outputs": [
    {
     "name": "stdout",
     "output_type": "stream",
     "text": [
      "lukas@gmail.com\n"
     ]
    }
   ],
   "source": [
    "print(muj_novy_slovnik[\"kontakt\"][\"email\"])"
   ]
  },
  {
   "cell_type": "markdown",
   "metadata": {
    "id": "cnGDRSKWo9z5"
   },
   "source": [
    "<br>\n",
    "\n",
    "## **Metody slovníku**\n",
    "\n",
    "---"
   ]
  },
  {
   "cell_type": "markdown",
   "metadata": {
    "id": "2pPd-6rfpB40"
   },
   "source": [
    "Metody opět napomáhají k efektivnější práci s tímto datovým typem.\n",
    "\n",
    "<br>\n",
    "\n",
    "Níže je vypsaná tabulka s těmi nejčastějšími (ne všemi):\n",
    "\n",
    "<br>\n",
    "\n",
    "| Metoda | Použití |\n",
    "| :-: | :- |\n",
    "| `pop`| odstraní zadaný klíč a vrátí hodnotu na výstup |\n",
    "| `popitem`| odstraní poslední přidaný pár a vrátí jej na výstup jako tuple |\n",
    "| `clear`| odstraní všechny páry |\n",
    "| `copy`| vytvoří shallow copy vybraného slovníku |\n",
    "| `get`| pokud klíč existuje, vrátí hodnotu. Jinak (default) vrací None |\n",
    "| `keys`| vrátí speciální objekt se všemi klíči |\n",
    "| `values`| vrátí speciální objekt se všemi hodnotami |\n",
    "| `items`| vrátí speciální objekt se všemi páry (v tuple) |\n",
    "\n"
   ]
  },
  {
   "cell_type": "markdown",
   "metadata": {
    "id": "MEejkeW4pJfB"
   },
   "source": [
    "<br>\n",
    "\n",
    "## **Procvičování metod**\n",
    "\n",
    "---"
   ]
  },
  {
   "cell_type": "code",
   "execution_count": 28,
   "metadata": {
    "id": "Py0QByXRo9bV"
   },
   "outputs": [],
   "source": [
    "muj_slovnik = {\n",
    "    'email': 'Lukas@gmail.com',\n",
    "    'hobby': ('fotbal', 'hry', 'pratele'),\n",
    "    'jmeno': 'Lukas',\n",
    "    'kontakt': {'email': 'lukas@gmail.com',\n",
    "             'telefon': '000 123 456 789',\n",
    "             'web': 'www.lukas.cz'},\n",
    "    'rid_opravneni': True,\n",
    "    'vek': 22}"
   ]
  },
  {
   "cell_type": "code",
   "execution_count": 29,
   "metadata": {
    "id": "0gRl-nRopRV0"
   },
   "outputs": [
    {
     "name": "stdout",
     "output_type": "stream",
     "text": [
      "{'email': 'Lukas@gmail.com',\n",
      " 'hobby': ('fotbal', 'hry', 'pratele'),\n",
      " 'jmeno': 'Lukas',\n",
      " 'kontakt': {'email': 'lukas@gmail.com',\n",
      "             'telefon': '000 123 456 789',\n",
      "             'web': 'www.lukas.cz'},\n",
      " 'rid_opravneni': True,\n",
      " 'vek': 22}\n"
     ]
    }
   ],
   "source": [
    "pprint(muj_slovnik)"
   ]
  },
  {
   "cell_type": "markdown",
   "metadata": {
    "id": "m6ssiV7etIAE"
   },
   "source": [
    "<br>\n",
    "\n",
    "### **copy**"
   ]
  },
  {
   "cell_type": "code",
   "execution_count": 30,
   "metadata": {
    "id": "P71xtu05pTN7"
   },
   "outputs": [],
   "source": [
    "muj_novy_sl = muj_slovnik.copy()"
   ]
  },
  {
   "cell_type": "code",
   "execution_count": 31,
   "metadata": {
    "id": "FFcG5LkopUz0"
   },
   "outputs": [
    {
     "data": {
      "text/plain": [
       "1709848344128"
      ]
     },
     "execution_count": 31,
     "metadata": {},
     "output_type": "execute_result"
    }
   ],
   "source": [
    "id(muj_slovnik)"
   ]
  },
  {
   "cell_type": "code",
   "execution_count": 32,
   "metadata": {
    "id": "XlpfuZLopWLu"
   },
   "outputs": [
    {
     "data": {
      "text/plain": [
       "1709848876544"
      ]
     },
     "execution_count": 32,
     "metadata": {},
     "output_type": "execute_result"
    }
   ],
   "source": [
    "id(muj_novy_sl)"
   ]
  },
  {
   "cell_type": "markdown",
   "metadata": {
    "id": "bU5TMwNJtN9h"
   },
   "source": [
    "<br>\n",
    "\n",
    "### **pop**"
   ]
  },
  {
   "cell_type": "code",
   "execution_count": 33,
   "metadata": {
    "id": "beuL3_ZZpaqQ"
   },
   "outputs": [],
   "source": [
    "opravneni = muj_novy_sl.pop(\"rid_opravneni\")"
   ]
  },
  {
   "cell_type": "code",
   "execution_count": 34,
   "metadata": {
    "id": "2zLgGXaTpdQ2"
   },
   "outputs": [
    {
     "name": "stdout",
     "output_type": "stream",
     "text": [
      "True\n"
     ]
    }
   ],
   "source": [
    "print(opravneni)"
   ]
  },
  {
   "cell_type": "code",
   "execution_count": 35,
   "metadata": {
    "id": "qhd_AqyIpewQ"
   },
   "outputs": [
    {
     "name": "stdout",
     "output_type": "stream",
     "text": [
      "{'email': 'Lukas@gmail.com',\n",
      " 'hobby': ('fotbal', 'hry', 'pratele'),\n",
      " 'jmeno': 'Lukas',\n",
      " 'kontakt': {'email': 'lukas@gmail.com',\n",
      "             'telefon': '000 123 456 789',\n",
      "             'web': 'www.lukas.cz'},\n",
      " 'vek': 22}\n"
     ]
    }
   ],
   "source": [
    "pprint(muj_novy_sl)"
   ]
  },
  {
   "cell_type": "code",
   "execution_count": 36,
   "metadata": {
    "id": "Tje7cPK9pgKN"
   },
   "outputs": [
    {
     "data": {
      "text/plain": [
       "'Lukas'"
      ]
     },
     "execution_count": 36,
     "metadata": {},
     "output_type": "execute_result"
    }
   ],
   "source": [
    "muj_novy_sl.pop('jmeno')"
   ]
  },
  {
   "cell_type": "code",
   "execution_count": 37,
   "metadata": {
    "id": "uoLKEK-ap7Im"
   },
   "outputs": [
    {
     "name": "stdout",
     "output_type": "stream",
     "text": [
      "{'email': 'Lukas@gmail.com',\n",
      " 'hobby': ('fotbal', 'hry', 'pratele'),\n",
      " 'kontakt': {'email': 'lukas@gmail.com',\n",
      "             'telefon': '000 123 456 789',\n",
      "             'web': 'www.lukas.cz'},\n",
      " 'vek': 22}\n"
     ]
    }
   ],
   "source": [
    "pprint(muj_novy_sl)"
   ]
  },
  {
   "cell_type": "markdown",
   "metadata": {
    "id": "mQdO78BItQIp"
   },
   "source": [
    "<br>\n",
    "\n",
    "### **keys**"
   ]
  },
  {
   "cell_type": "code",
   "execution_count": 38,
   "metadata": {
    "id": "P5wO3DQup-rJ"
   },
   "outputs": [
    {
     "data": {
      "text/plain": [
       "dict_keys(['email', 'hobby', 'kontakt', 'vek'])"
      ]
     },
     "execution_count": 38,
     "metadata": {},
     "output_type": "execute_result"
    }
   ],
   "source": [
    "muj_novy_sl.keys()"
   ]
  },
  {
   "cell_type": "code",
   "execution_count": 39,
   "metadata": {
    "id": "ljvP1hcVqK2v"
   },
   "outputs": [
    {
     "data": {
      "text/plain": [
       "['email', 'hobby', 'kontakt', 'vek']"
      ]
     },
     "execution_count": 39,
     "metadata": {},
     "output_type": "execute_result"
    }
   ],
   "source": [
    "list(muj_novy_sl.keys())"
   ]
  },
  {
   "cell_type": "markdown",
   "metadata": {
    "id": "CbfJGBsQtXlz"
   },
   "source": [
    "<br>\n",
    "\n",
    "### **values**"
   ]
  },
  {
   "cell_type": "code",
   "execution_count": 40,
   "metadata": {
    "id": "4w_FJzGPqOIF"
   },
   "outputs": [
    {
     "data": {
      "text/plain": [
       "dict_values(['Lukas@gmail.com', ('fotbal', 'hry', 'pratele'), {'email': 'lukas@gmail.com', 'telefon': '000 123 456 789', 'web': 'www.lukas.cz'}, 22])"
      ]
     },
     "execution_count": 40,
     "metadata": {},
     "output_type": "execute_result"
    }
   ],
   "source": [
    "muj_novy_sl.values()"
   ]
  },
  {
   "cell_type": "code",
   "execution_count": 41,
   "metadata": {
    "id": "cHQGcWk8qbKk"
   },
   "outputs": [
    {
     "data": {
      "text/plain": [
       "dict_values"
      ]
     },
     "execution_count": 41,
     "metadata": {},
     "output_type": "execute_result"
    }
   ],
   "source": [
    "type(muj_novy_sl.values())"
   ]
  },
  {
   "cell_type": "code",
   "execution_count": 42,
   "metadata": {
    "id": "-TcyeYUpqWSl"
   },
   "outputs": [
    {
     "data": {
      "text/plain": [
       "['Lukas@gmail.com',\n",
       " ('fotbal', 'hry', 'pratele'),\n",
       " {'email': 'lukas@gmail.com',\n",
       "  'telefon': '000 123 456 789',\n",
       "  'web': 'www.lukas.cz'},\n",
       " 22]"
      ]
     },
     "execution_count": 42,
     "metadata": {},
     "output_type": "execute_result"
    }
   ],
   "source": [
    "list(muj_novy_sl.values())"
   ]
  },
  {
   "cell_type": "code",
   "execution_count": 43,
   "metadata": {
    "id": "9BLLHA4xqkxD"
   },
   "outputs": [
    {
     "data": {
      "text/plain": [
       "True"
      ]
     },
     "execution_count": 43,
     "metadata": {},
     "output_type": "execute_result"
    }
   ],
   "source": [
    "22 in muj_novy_sl.values()"
   ]
  },
  {
   "cell_type": "code",
   "execution_count": 44,
   "metadata": {
    "id": "VD5CPY33qnD1"
   },
   "outputs": [
    {
     "name": "stdout",
     "output_type": "stream",
     "text": [
      "22\n"
     ]
    }
   ],
   "source": [
    "print(muj_novy_sl[\"vek\"])"
   ]
  },
  {
   "cell_type": "code",
   "execution_count": 45,
   "metadata": {
    "id": "URlNwMynqykM"
   },
   "outputs": [
    {
     "ename": "KeyError",
     "evalue": "'pohlavi'",
     "output_type": "error",
     "traceback": [
      "\u001b[1;31m---------------------------------------------------------------------------\u001b[0m",
      "\u001b[1;31mKeyError\u001b[0m                                  Traceback (most recent call last)",
      "\u001b[1;32m~\\AppData\\Local\\Temp/ipykernel_10808/2390751787.py\u001b[0m in \u001b[0;36m<module>\u001b[1;34m\u001b[0m\n\u001b[1;32m----> 1\u001b[1;33m \u001b[0mprint\u001b[0m\u001b[1;33m(\u001b[0m\u001b[0mmuj_novy_sl\u001b[0m\u001b[1;33m[\u001b[0m\u001b[1;34m\"pohlavi\"\u001b[0m\u001b[1;33m]\u001b[0m\u001b[1;33m)\u001b[0m\u001b[1;33m\u001b[0m\u001b[1;33m\u001b[0m\u001b[0m\n\u001b[0m",
      "\u001b[1;31mKeyError\u001b[0m: 'pohlavi'"
     ]
    }
   ],
   "source": [
    "print(muj_novy_sl[\"pohlavi\"])"
   ]
  },
  {
   "cell_type": "markdown",
   "metadata": {
    "id": "TiYwVZKQtbOk"
   },
   "source": [
    "<br>\n",
    "\n",
    "### **get**"
   ]
  },
  {
   "cell_type": "code",
   "execution_count": 46,
   "metadata": {
    "id": "9eim5dAxq06Y"
   },
   "outputs": [
    {
     "name": "stdout",
     "output_type": "stream",
     "text": [
      "None\n"
     ]
    }
   ],
   "source": [
    "print(muj_novy_sl.get(\"pohlavi\"))"
   ]
  },
  {
   "cell_type": "markdown",
   "metadata": {
    "id": "IEy9G8LOrUor"
   },
   "source": [
    "[Vysvětlení metody get](https://www.w3schools.com/python/ref_dictionary_get.asp)"
   ]
  },
  {
   "cell_type": "code",
   "execution_count": 47,
   "metadata": {
    "id": "_Fy6Cv3XrbT2"
   },
   "outputs": [
    {
     "name": "stdout",
     "output_type": "stream",
     "text": [
      "Klic neni dostupny!\n"
     ]
    }
   ],
   "source": [
    "print(muj_novy_sl.get(\"pohlavi\", \"Klic neni dostupny!\"))"
   ]
  },
  {
   "cell_type": "code",
   "execution_count": 48,
   "metadata": {
    "id": "LIMAG2tQs6wj"
   },
   "outputs": [],
   "source": [
    "vystup = muj_novy_sl.get(\"pohlavi\", \"Klic neni dostupny!\")"
   ]
  },
  {
   "cell_type": "code",
   "execution_count": 49,
   "metadata": {
    "id": "0N1ktRZus8C2"
   },
   "outputs": [
    {
     "name": "stdout",
     "output_type": "stream",
     "text": [
      "Klic neni dostupny!\n"
     ]
    }
   ],
   "source": [
    "print(vystup)"
   ]
  },
  {
   "cell_type": "code",
   "execution_count": 50,
   "metadata": {
    "id": "ABoArjzgs-Ap"
   },
   "outputs": [
    {
     "name": "stdout",
     "output_type": "stream",
     "text": [
      "{'email': 'Lukas@gmail.com',\n",
      " 'hobby': ('fotbal', 'hry', 'pratele'),\n",
      " 'kontakt': {'email': 'lukas@gmail.com',\n",
      "             'telefon': '000 123 456 789',\n",
      "             'web': 'www.lukas.cz'},\n",
      " 'vek': 22}\n"
     ]
    }
   ],
   "source": [
    "pprint(muj_novy_sl)"
   ]
  },
  {
   "cell_type": "markdown",
   "metadata": {
    "id": "rAw0hWTdtdoA"
   },
   "source": [
    "<br>\n",
    "\n",
    "### **clear**"
   ]
  },
  {
   "cell_type": "code",
   "execution_count": 51,
   "metadata": {
    "id": "jbrKz5tLtCgh"
   },
   "outputs": [],
   "source": [
    "muj_novy_sl.clear()"
   ]
  },
  {
   "cell_type": "code",
   "execution_count": 52,
   "metadata": {
    "id": "fo9lEuIdtfOZ"
   },
   "outputs": [
    {
     "data": {
      "text/plain": [
       "{}"
      ]
     },
     "execution_count": 52,
     "metadata": {},
     "output_type": "execute_result"
    }
   ],
   "source": [
    "muj_novy_sl"
   ]
  },
  {
   "cell_type": "code",
   "execution_count": 53,
   "metadata": {
    "id": "gRwU7BQmticY"
   },
   "outputs": [
    {
     "name": "stdout",
     "output_type": "stream",
     "text": [
      "{'email': 'Lukas@gmail.com',\n",
      " 'hobby': ('fotbal', 'hry', 'pratele'),\n",
      " 'jmeno': 'Lukas',\n",
      " 'kontakt': {'email': 'lukas@gmail.com',\n",
      "             'telefon': '000 123 456 789',\n",
      "             'web': 'www.lukas.cz'},\n",
      " 'rid_opravneni': True,\n",
      " 'vek': 22}\n"
     ]
    }
   ],
   "source": [
    "pprint(muj_slovnik)"
   ]
  }
 ],
 "metadata": {
  "colab": {
   "provenance": []
  },
  "kernelspec": {
   "display_name": "Python 3 (ipykernel)",
   "language": "python",
   "name": "python3"
  },
  "language_info": {
   "codemirror_mode": {
    "name": "ipython",
    "version": 3
   },
   "file_extension": ".py",
   "mimetype": "text/x-python",
   "name": "python",
   "nbconvert_exporter": "python",
   "pygments_lexer": "ipython3",
   "version": "3.10.0"
  }
 },
 "nbformat": 4,
 "nbformat_minor": 1
}
