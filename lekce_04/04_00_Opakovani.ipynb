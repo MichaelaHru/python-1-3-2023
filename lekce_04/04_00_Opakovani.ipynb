{
 "cells": [
  {
   "cell_type": "markdown",
   "metadata": {
    "id": "TUxsZdugxqFp"
   },
   "source": [
    "\n",
    "<h6 align=right> 🐍 Python akademie - lekce 4 - 22.03.2023</h6>"
   ]
  },
  {
   "cell_type": "markdown",
   "metadata": {
    "id": "bMstVWBBxtuQ"
   },
   "source": [
    "<br>\n",
    "\n",
    "# <h1 align=center><font color=black size=24><b> 04_00: Opakování po třetí lekci!</font></h1>\n",
    "\n",
    "<br>\n",
    "\n",
    "---"
   ]
  },
  {
   "cell_type": "markdown",
   "metadata": {
    "id": "Y1UxBp_xx0vT"
   },
   "source": [
    "<br>\n",
    "\n",
    "### **Ukázka #01**"
   ]
  },
  {
   "cell_type": "code",
   "execution_count": 1,
   "metadata": {
    "id": "IGtMA6cAxlSR"
   },
   "outputs": [],
   "source": [
    "muj_slovnik_1 = {1234: \"Matous\"}\n",
    "muj_slovnik_2 = {1122: \"Lukas\", 3344: \"Jan\"}"
   ]
  },
  {
   "cell_type": "code",
   "execution_count": 2,
   "metadata": {
    "id": "dfVqakbdx8Qh"
   },
   "outputs": [],
   "source": [
    "muj_slovnik_1.update(muj_slovnik_2)"
   ]
  },
  {
   "cell_type": "code",
   "execution_count": 3,
   "metadata": {
    "colab": {
     "base_uri": "https://localhost:8080/"
    },
    "id": "m5gYIMEtx9-G",
    "outputId": "616e229d-cf41-426d-c772-2612d8a361e1"
   },
   "outputs": [
    {
     "name": "stdout",
     "output_type": "stream",
     "text": [
      "{1234: 'Matous', 1122: 'Lukas', 3344: 'Jan'}\n"
     ]
    }
   ],
   "source": [
    "print(muj_slovnik_1)  #?"
   ]
  },
  {
   "cell_type": "code",
   "execution_count": 4,
   "metadata": {
    "colab": {
     "base_uri": "https://localhost:8080/"
    },
    "id": "JpfG1llsyBYm",
    "outputId": "abb0089c-a319-4b84-e5e0-68c36ee5d3dd"
   },
   "outputs": [
    {
     "data": {
      "text/plain": [
       "{'a', 'b', 'c', 'd'}"
      ]
     },
     "execution_count": 4,
     "metadata": {},
     "output_type": "execute_result"
    }
   ],
   "source": [
    "set_a = {\"a\", \"b\"}\n",
    "set_b = {\"c\", \"d\"}\n",
    "set_a.union(set_b)"
   ]
  },
  {
   "cell_type": "markdown",
   "metadata": {
    "id": "pCeYJ1M1fyZI"
   },
   "source": [
    "<details>\n",
    "  <summary>❓Vysvětlení ❓</summary>\n",
    "\n",
    "Pomocí metody slovníků update můžete vytvořit slovník a současně doplnit existující slovník o další slovník.\n",
    "\n",
    "</details>\n",
    "\n",
    "---"
   ]
  },
  {
   "cell_type": "markdown",
   "metadata": {
    "id": "5rWfc92lf9f2"
   },
   "source": [
    "<br>\n",
    "\n",
    "### **Ukázka #02**"
   ]
  },
  {
   "cell_type": "code",
   "execution_count": 5,
   "metadata": {
    "colab": {
     "base_uri": "https://localhost:8080/",
     "height": 200
    },
    "id": "lmL1CKoCfyML",
    "outputId": "b2c0ead5-df03-437d-81a7-b768c7fc26d3"
   },
   "outputs": [
    {
     "ename": "AttributeError",
     "evalue": "'dict' object has no attribute 'add'",
     "output_type": "error",
     "traceback": [
      "\u001b[1;31m---------------------------------------------------------------------------\u001b[0m",
      "\u001b[1;31mAttributeError\u001b[0m                            Traceback (most recent call last)",
      "\u001b[1;32m~\\AppData\\Local\\Temp/ipykernel_22104/1785130985.py\u001b[0m in \u001b[0;36m<module>\u001b[1;34m\u001b[0m\n\u001b[0;32m      1\u001b[0m \u001b[0mmuj_set\u001b[0m \u001b[1;33m=\u001b[0m \u001b[1;33m{\u001b[0m\u001b[1;33m}\u001b[0m\u001b[1;33m\u001b[0m\u001b[1;33m\u001b[0m\u001b[0m\n\u001b[1;32m----> 2\u001b[1;33m \u001b[0mmuj_set\u001b[0m\u001b[1;33m.\u001b[0m\u001b[0madd\u001b[0m\u001b[1;33m(\u001b[0m\u001b[1;34m\"Matous\"\u001b[0m\u001b[1;33m)\u001b[0m\u001b[1;33m\u001b[0m\u001b[1;33m\u001b[0m\u001b[0m\n\u001b[0m\u001b[0;32m      3\u001b[0m \u001b[0mprint\u001b[0m\u001b[1;33m(\u001b[0m\u001b[0mmuj_set\u001b[0m\u001b[1;33m)\u001b[0m\u001b[1;33m\u001b[0m\u001b[1;33m\u001b[0m\u001b[0m\n",
      "\u001b[1;31mAttributeError\u001b[0m: 'dict' object has no attribute 'add'"
     ]
    }
   ],
   "source": [
    "muj_set = {}\n",
    "muj_set.add(\"Matous\")\n",
    "print(muj_set)"
   ]
  },
  {
   "cell_type": "markdown",
   "metadata": {
    "id": "SAx-M8NXgCOK"
   },
   "source": [
    "<details>\n",
    "  <summary>❓Vysvětlení ❓</summary>\n",
    "\n",
    "Opatrně na tvoření setů. Prázdné složené závorky pracují pouze pro slovníky. Pokud chcete vytvořit prázdný set, musíme použít funkci set().\n",
    "\n",
    "</details>\n",
    "\n",
    "---"
   ]
  },
  {
   "cell_type": "markdown",
   "metadata": {
    "id": "PWdWu0OogGGg"
   },
   "source": [
    "<br>\n",
    "\n",
    "### **Ukázka #03**"
   ]
  },
  {
   "cell_type": "markdown",
   "metadata": {
    "id": "4ICMGrKVgWkA"
   },
   "source": [
    "Rozdílná pravidla při vytváření a zapisování slovníků"
   ]
  },
  {
   "cell_type": "code",
   "execution_count": 6,
   "metadata": {
    "colab": {
     "base_uri": "https://localhost:8080/",
     "height": 135
    },
    "id": "jIuOazmbgEwT",
    "outputId": "3679cead-068e-4944-ab52-3998d9d52f96"
   },
   "outputs": [
    {
     "ename": "SyntaxError",
     "evalue": "invalid syntax (Temp/ipykernel_22104/4042327971.py, line 1)",
     "output_type": "error",
     "traceback": [
      "\u001b[1;36m  File \u001b[1;32m\"C:\\Users\\Radim Jedlicka\\AppData\\Local\\Temp/ipykernel_22104/4042327971.py\"\u001b[1;36m, line \u001b[1;32m1\u001b[0m\n\u001b[1;33m    muj_slovnik_1 = dict(\"jmeno\": \"Matous\", \"prijmeni\": \"Nezname\")\u001b[0m\n\u001b[1;37m                                ^\u001b[0m\n\u001b[1;31mSyntaxError\u001b[0m\u001b[1;31m:\u001b[0m invalid syntax\n"
     ]
    }
   ],
   "source": [
    "muj_slovnik_1 = dict(\"jmeno\": \"Matous\", \"prijmeni\": \"Nezname\")"
   ]
  },
  {
   "cell_type": "code",
   "execution_count": 7,
   "metadata": {
    "id": "kLt6AZJCgTtW"
   },
   "outputs": [],
   "source": [
    "muj_slovnik_1 = {\n",
    "    \"jmeno\": \"Matous\", \n",
    "    \"prijmeni\": \"Nezname\"\n",
    "}"
   ]
  },
  {
   "cell_type": "code",
   "execution_count": 8,
   "metadata": {
    "colab": {
     "base_uri": "https://localhost:8080/"
    },
    "id": "PRmpJqf7gbA-",
    "outputId": "710efbc8-06aa-4490-9e66-188e39d75051"
   },
   "outputs": [
    {
     "name": "stdout",
     "output_type": "stream",
     "text": [
      "{'jmeno': 'Matous', 'prijmeni': 'Nezname'}\n"
     ]
    }
   ],
   "source": [
    "print(muj_slovnik_1)"
   ]
  },
  {
   "cell_type": "code",
   "execution_count": 9,
   "metadata": {
    "id": "bj_ZsOY3gcmf"
   },
   "outputs": [],
   "source": [
    "muj_slovnik_2 = dict(jmeno=\"Matous\", prijmeni=\"Nezname\")"
   ]
  },
  {
   "cell_type": "code",
   "execution_count": 10,
   "metadata": {
    "colab": {
     "base_uri": "https://localhost:8080/"
    },
    "id": "9h98N6O7geks",
    "outputId": "1e665e7e-1894-47e9-fbd4-0a731440a116"
   },
   "outputs": [
    {
     "name": "stdout",
     "output_type": "stream",
     "text": [
      "{'jmeno': 'Matous', 'prijmeni': 'Nezname'}\n"
     ]
    }
   ],
   "source": [
    "print(muj_slovnik_2)"
   ]
  },
  {
   "cell_type": "code",
   "execution_count": 11,
   "metadata": {
    "id": "nPJ9KYJpgiRt"
   },
   "outputs": [],
   "source": [
    "pismena = [\"a\", \"b\" ,\"c\", \"d\"]\n",
    "vyskyt = [1, 10, 5, 0]\n",
    "muj_slovnik_3 = {}.fromkeys(pismena, 0)"
   ]
  },
  {
   "cell_type": "code",
   "execution_count": 12,
   "metadata": {
    "colab": {
     "base_uri": "https://localhost:8080/"
    },
    "id": "mCYLIPDignYo",
    "outputId": "9e78833f-722b-4b5a-b4c0-eca2b973266c"
   },
   "outputs": [
    {
     "name": "stdout",
     "output_type": "stream",
     "text": [
      "{'a': 0, 'b': 0, 'c': 0, 'd': 0}\n"
     ]
    }
   ],
   "source": [
    "print(muj_slovnik_3)"
   ]
  },
  {
   "cell_type": "code",
   "execution_count": 13,
   "metadata": {
    "id": "gTwXlw8lgqEf"
   },
   "outputs": [],
   "source": [
    "pismena = [\"a\", \"b\" ,\"c\", \"d\"]\n",
    "vyskyt = [1, 10, 5, 0]\n",
    "muj_zip = zip(pismena, vyskyt)\n",
    "muj_slovnik_4 = dict(zip(pismena, vyskyt))"
   ]
  },
  {
   "cell_type": "code",
   "execution_count": 14,
   "metadata": {},
   "outputs": [
    {
     "name": "stdout",
     "output_type": "stream",
     "text": [
      "[('a', 1), ('b', 10), ('c', 5), ('d', 0)]\n"
     ]
    }
   ],
   "source": [
    "print(list(muj_zip))"
   ]
  },
  {
   "cell_type": "code",
   "execution_count": 15,
   "metadata": {
    "colab": {
     "base_uri": "https://localhost:8080/"
    },
    "id": "3Rechcldgr4-",
    "outputId": "1ddcb062-c3ac-4992-9094-f09cbf19fcdb"
   },
   "outputs": [
    {
     "name": "stdout",
     "output_type": "stream",
     "text": [
      "{'a': 1, 'b': 10, 'c': 5, 'd': 0}\n"
     ]
    }
   ],
   "source": [
    "print(muj_slovnik_4)"
   ]
  },
  {
   "cell_type": "code",
   "execution_count": 16,
   "metadata": {
    "id": "TuX9Lk8mgu4c"
   },
   "outputs": [],
   "source": [
    "seznam_tuplu = [(\"Matous\", 1), (\"Lukas\", 10), (\"Jan\", 13)]\n",
    "muj_slovnik_5 = dict(seznam_tuplu)"
   ]
  },
  {
   "cell_type": "code",
   "execution_count": 17,
   "metadata": {
    "colab": {
     "base_uri": "https://localhost:8080/"
    },
    "id": "fQgA8hEtgwaV",
    "outputId": "ac3309bf-7dc9-4716-f966-4c5cfa8b0ae9"
   },
   "outputs": [
    {
     "name": "stdout",
     "output_type": "stream",
     "text": [
      "{'Matous': 1, 'Lukas': 10, 'Jan': 13}\n"
     ]
    }
   ],
   "source": [
    "print(muj_slovnik_5)"
   ]
  },
  {
   "cell_type": "markdown",
   "metadata": {
    "id": "WRnQ2E_Jg0tW"
   },
   "source": [
    "<details>\n",
    "  <summary>❓Vysvětlení ❓</summary>\n",
    "\n",
    "Mimo způsoby, které jsme si ukázali v souvislosti se slovníky existují ještě další postupy, jak vytvořit neprázdný slovník.\n",
    "Nejsou úplně běžné a obvykle závisí na vstupních datových typech.\n",
    "\n",
    "</details>\n",
    "\n",
    "---"
   ]
  },
  {
   "cell_type": "markdown",
   "metadata": {
    "id": "avpjZQc4jDCo"
   },
   "source": [
    "<br>\n",
    "\n",
    "### **Ukázka #04**"
   ]
  },
  {
   "cell_type": "code",
   "execution_count": 18,
   "metadata": {
    "id": "Pd9d0IEKg2yW"
   },
   "outputs": [],
   "source": [
    "muj_slovnik = {}\n",
    "muj_slovnik[\"jmeno\"] = \"Matous\"\n",
    "muj_slovnik[\"vek\"] = 50\n",
    "muj_slovnik[\"adresa\"] = \"U Potoka 27\""
   ]
  },
  {
   "cell_type": "code",
   "execution_count": 19,
   "metadata": {
    "colab": {
     "base_uri": "https://localhost:8080/"
    },
    "id": "GZCKaTqbjHYd",
    "outputId": "e7d6bb47-375f-4af6-e2c8-7e3641424e68"
   },
   "outputs": [
    {
     "name": "stdout",
     "output_type": "stream",
     "text": [
      "{'jmeno': 'Matous', 'vek': 50, 'adresa': 'U Potoka 27'}\n"
     ]
    }
   ],
   "source": [
    "print(muj_slovnik)"
   ]
  },
  {
   "cell_type": "markdown",
   "metadata": {
    "id": "sVwj1BHbjJoX"
   },
   "source": [
    "Jak odstraním poslední přidaný pár?"
   ]
  },
  {
   "cell_type": "markdown",
   "metadata": {
    "id": "-JoG7o0bjOJu"
   },
   "source": [
    "<details>\n",
    "  <summary>❓Vysvětlení ❓</summary>\n",
    "\n",
    "Metoda slovníků .popitem funguje tak, že odstraní poslední přidaný pár klíč/hodnota.\n",
    "\n",
    "</details>\n",
    "\n",
    "---"
   ]
  },
  {
   "cell_type": "code",
   "execution_count": 20,
   "metadata": {
    "colab": {
     "base_uri": "https://localhost:8080/"
    },
    "id": "dGZjv7lWjKmW",
    "outputId": "bffe7bed-ccf2-417d-ffd1-89e052da3ae5"
   },
   "outputs": [
    {
     "data": {
      "text/plain": [
       "('adresa', 'U Potoka 27')"
      ]
     },
     "execution_count": 20,
     "metadata": {},
     "output_type": "execute_result"
    }
   ],
   "source": [
    "muj_slovnik.popitem()"
   ]
  },
  {
   "cell_type": "code",
   "execution_count": 21,
   "metadata": {
    "colab": {
     "base_uri": "https://localhost:8080/"
    },
    "id": "2bSjiDMmjXVL",
    "outputId": "3e430637-5466-4b8e-9ae3-b3fc5322d62b"
   },
   "outputs": [
    {
     "data": {
      "text/plain": [
       "{'jmeno': 'Matous', 'vek': 50}"
      ]
     },
     "execution_count": 21,
     "metadata": {},
     "output_type": "execute_result"
    }
   ],
   "source": [
    "muj_slovnik"
   ]
  },
  {
   "cell_type": "markdown",
   "metadata": {
    "id": "OTxq2Zn3jcJi"
   },
   "source": [
    "<br>\n",
    "\n",
    "### **Ukázka #05**"
   ]
  },
  {
   "cell_type": "code",
   "execution_count": 22,
   "metadata": {
    "id": "-nxXNNzKjbk7"
   },
   "outputs": [],
   "source": [
    "muj_slovnik = {}\n",
    "muj_slovnik[5.5] = \"C\"\n",
    "muj_slovnik[5.0] = \"Java\"\n",
    "muj_slovnik[5] = \"Python\""
   ]
  },
  {
   "cell_type": "code",
   "execution_count": 23,
   "metadata": {
    "colab": {
     "base_uri": "https://localhost:8080/"
    },
    "id": "HNx0Cf1HjguD",
    "outputId": "36e59239-4b12-44ec-d9a8-1a7e8da13869"
   },
   "outputs": [
    {
     "name": "stdout",
     "output_type": "stream",
     "text": [
      "C\n"
     ]
    }
   ],
   "source": [
    "print(muj_slovnik[5.5])"
   ]
  },
  {
   "cell_type": "code",
   "execution_count": 24,
   "metadata": {
    "colab": {
     "base_uri": "https://localhost:8080/"
    },
    "id": "gpT9cgnLjifz",
    "outputId": "deffb039-a013-4906-ca84-27d735277d68"
   },
   "outputs": [
    {
     "name": "stdout",
     "output_type": "stream",
     "text": [
      "Python\n"
     ]
    }
   ],
   "source": [
    "print(muj_slovnik[5.0])"
   ]
  },
  {
   "cell_type": "code",
   "execution_count": 25,
   "metadata": {
    "colab": {
     "base_uri": "https://localhost:8080/"
    },
    "id": "6QbfmeG1jkZy",
    "outputId": "f1b3fa1c-8619-4c8f-ce30-aac0863b0b20"
   },
   "outputs": [
    {
     "name": "stdout",
     "output_type": "stream",
     "text": [
      "Python\n"
     ]
    }
   ],
   "source": [
    "print(muj_slovnik[5])"
   ]
  },
  {
   "cell_type": "code",
   "execution_count": 26,
   "metadata": {
    "colab": {
     "base_uri": "https://localhost:8080/"
    },
    "id": "YuwQcKVfjmGc",
    "outputId": "89277a1c-655a-42c3-d4b2-16342abd473f"
   },
   "outputs": [
    {
     "name": "stdout",
     "output_type": "stream",
     "text": [
      "Python\n"
     ]
    }
   ],
   "source": [
    "print(muj_slovnik[5 + 0j])"
   ]
  },
  {
   "cell_type": "markdown",
   "metadata": {
    "id": "56-Eu_npj0H4"
   },
   "source": [
    "<details>\n",
    "  <summary>❓Vysvětlení ❓</summary>\n",
    "\n",
    "Unikátní klíč ve slovníku není postavený na identitě, ale na rovnosti hodnoty ve jménu. V příkladu výše pracujeme s klíči s různými datovými typy, jejichž hodnoty si odpovídají 5 == 5.0 == 5 + 0j.\n",
    "\n",
    "V příkladech výše tedy dochází ke shodě v hash(5) == hash(5.0) == hash(5 + 0j) . Python najde originální položku 5.0 -> `\"Java\", přepíše původní hodnotu ale klíč nechá.\n",
    "\n",
    "</details>\n",
    "\n",
    "---"
   ]
  },
  {
   "cell_type": "markdown",
   "metadata": {
    "id": "wb8rJzcRj4Oz"
   },
   "source": [
    "<br>\n",
    "\n",
    "### **Ukázka #06**"
   ]
  },
  {
   "cell_type": "code",
   "execution_count": null,
   "metadata": {
    "id": "Fr50kSCHj15m"
   },
   "outputs": [],
   "source": [
    "muj_set_1 = {\"Matous\", \"Marek\", \"Lukas\", \"Jan\"}\n",
    "muj_set_2 = muj_set_1.copy()\n",
    "muj_set_3 = muj_set_2.copy()"
   ]
  },
  {
   "cell_type": "code",
   "execution_count": null,
   "metadata": {
    "id": "2pWMTSw8j8_M"
   },
   "outputs": [],
   "source": [
    "muj_set_3.discard(\"Matous\")\n",
    "muj_set_3.discard(\"Marek\")"
   ]
  },
  {
   "cell_type": "code",
   "execution_count": null,
   "metadata": {
    "id": "-Bw6KWxyj-uo"
   },
   "outputs": [],
   "source": [
    "muj_set_3.difference_update(muj_set_1)"
   ]
  },
  {
   "cell_type": "code",
   "execution_count": null,
   "metadata": {
    "id": "3jLx3xgCkAzk"
   },
   "outputs": [],
   "source": [
    "muj_set_2.clear()"
   ]
  },
  {
   "cell_type": "code",
   "execution_count": null,
   "metadata": {
    "colab": {
     "base_uri": "https://localhost:8080/"
    },
    "id": "Xa3ZVk8PkCUJ",
    "outputId": "bf5d792a-ed40-46f9-8f5a-d36b38e2c259"
   },
   "outputs": [],
   "source": [
    "muj_set_2 == muj_set_3  # ?"
   ]
  },
  {
   "cell_type": "code",
   "execution_count": null,
   "metadata": {
    "colab": {
     "base_uri": "https://localhost:8080/"
    },
    "id": "f_238F9JkDzP",
    "outputId": "449f7c59-de82-481e-c447-b2c7c361e6f2"
   },
   "outputs": [],
   "source": [
    "muj_set_2 is muj_set_3  # ?"
   ]
  },
  {
   "cell_type": "code",
   "execution_count": null,
   "metadata": {
    "colab": {
     "base_uri": "https://localhost:8080/"
    },
    "id": "57HFR_uAkFbP",
    "outputId": "c650cbea-3a6f-46f1-f3b0-19a8d04b9cfb"
   },
   "outputs": [],
   "source": [
    "tuple(muj_set_2) is tuple(muj_set_3)"
   ]
  },
  {
   "cell_type": "markdown",
   "metadata": {
    "id": "QEaDsltxkIqO"
   },
   "source": [
    "<details>\n",
    "  <summary>❓Vysvětlení ❓</summary>\n",
    "\n",
    "1. V prvním kroce jsme vytvořili 3 různé sety (každý má jiné `id`)\n",
    "2. Ze třetího setu odstraním hodnoty `Matous` a `Marek`\n",
    "3. Přepíšu hodnotu rozdílem mezi třetím setem a prvním setem (rozdíl neobsahuje žádnou hodnotu a proto bude třetí set prázdný\n",
    "4. Ve čtvrtém kroku odstraním všechny hodnoty z druhého setu\n",
    "\n",
    "</details>\n",
    "\n",
    "---"
   ]
  }
 ],
 "metadata": {
  "colab": {
   "provenance": []
  },
  "kernelspec": {
   "display_name": "Python 3 (ipykernel)",
   "language": "python",
   "name": "python3"
  },
  "language_info": {
   "codemirror_mode": {
    "name": "ipython",
    "version": 3
   },
   "file_extension": ".py",
   "mimetype": "text/x-python",
   "name": "python",
   "nbconvert_exporter": "python",
   "pygments_lexer": "ipython3",
   "version": "3.10.0"
  }
 },
 "nbformat": 4,
 "nbformat_minor": 1
}
