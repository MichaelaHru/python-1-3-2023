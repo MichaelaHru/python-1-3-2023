{
 "cells": [
  {
   "cell_type": "markdown",
   "metadata": {
    "id": "OPb00C4ofurM"
   },
   "source": [
    "<h6 align=right> 🐍 Python akademie - lekce 7 - 12.04.2023</h6>"
   ]
  },
  {
   "cell_type": "markdown",
   "metadata": {
    "id": "O5JzbpdIH07M"
   },
   "source": [
    "<br>\n",
    "\n",
    "# <h1 align=center><font color=black size=24><b> 07_00: Opakování po šesté lekci!</font></h1>\n",
    "\n",
    "<br>\n",
    "\n",
    "---"
   ]
  },
  {
   "cell_type": "markdown",
   "metadata": {
    "id": "vcmd94OIf7SV"
   },
   "source": [
    "<br>\n",
    "\n",
    "### **Ukázka #01**\n",
    "\n",
    "Potřebuji získat přesnou hodnotu pí"
   ]
  },
  {
   "cell_type": "code",
   "execution_count": 6,
   "metadata": {},
   "outputs": [
    {
     "name": "stdout",
     "output_type": "stream",
     "text": [
      "3.141592653589793\n"
     ]
    }
   ],
   "source": [
    "import math\n",
    "\n",
    "from math import pi\n",
    "\n",
    "print(math.pi)"
   ]
  },
  {
   "cell_type": "markdown",
   "metadata": {
    "id": "7tZ5957xgIDJ"
   },
   "source": [
    "<details>\n",
    "  <summary>❓Vysvětlení ❓</summary>\n",
    "\n",
    "<br>\n",
    "    \n",
    "Než začnu psát, zkusím pohledat, jestli stávající **built-in funkce** nenabízejí nějaké pomocné řešení, které již někdo vytvořil.\n",
    "\n",
    "<br>\n",
    "\n",
    "```python\n",
    "V tomto případě knihovna `math`.\n",
    "    \n",
    "# Nahrajeme knihovnu 'math' do souboru\n",
    "from math import pi\n",
    "from math import tan as tg\n",
    "# Ověříme dostupné metody a proměnné\n",
    "# dir(math)\n",
    "# Zpřístupníme proměnnou 'pi'\n",
    "print(pi)\n",
    "```\n",
    "\n",
    "</details>\n",
    "\n",
    "---"
   ]
  },
  {
   "cell_type": "markdown",
   "metadata": {
    "id": "ztifQLB5g8PJ"
   },
   "source": [
    "<br>\n",
    "\n",
    "### **Ukázka #02**\n",
    "\n",
    "Je použitá knihovna 'math' modul nebo balíček?"
   ]
  },
  {
   "cell_type": "markdown",
   "metadata": {
    "id": "JEiUBVkahG1i"
   },
   "source": [
    "<details>\n",
    "  <summary>❓Vysvětlení ❓</summary>\n",
    "\n",
    "<br>\n",
    "    \n",
    "Většinou nám stačí zjistit odpověď pomocí napovědy ve funkci `help`. Na prvním řádku obvykle stojí specifikace knihovny.\n",
    "\n",
    "<br>\n",
    "\n",
    "</details>\n",
    "\n",
    "---"
   ]
  },
  {
   "cell_type": "code",
   "execution_count": 7,
   "metadata": {
    "collapsed": true
   },
   "outputs": [
    {
     "name": "stdout",
     "output_type": "stream",
     "text": [
      "Help on built-in module math:\n",
      "\n",
      "NAME\n",
      "    math\n",
      "\n",
      "DESCRIPTION\n",
      "    This module provides access to the mathematical functions\n",
      "    defined by the C standard.\n",
      "\n",
      "FUNCTIONS\n",
      "    acos(x, /)\n",
      "        Return the arc cosine (measured in radians) of x.\n",
      "        \n",
      "        The result is between 0 and pi.\n",
      "    \n",
      "    acosh(x, /)\n",
      "        Return the inverse hyperbolic cosine of x.\n",
      "    \n",
      "    asin(x, /)\n",
      "        Return the arc sine (measured in radians) of x.\n",
      "        \n",
      "        The result is between -pi/2 and pi/2.\n",
      "    \n",
      "    asinh(x, /)\n",
      "        Return the inverse hyperbolic sine of x.\n",
      "    \n",
      "    atan(x, /)\n",
      "        Return the arc tangent (measured in radians) of x.\n",
      "        \n",
      "        The result is between -pi/2 and pi/2.\n",
      "    \n",
      "    atan2(y, x, /)\n",
      "        Return the arc tangent (measured in radians) of y/x.\n",
      "        \n",
      "        Unlike atan(y/x), the signs of both x and y are considered.\n",
      "    \n",
      "    atanh(x, /)\n",
      "        Return the inverse hyperbolic tangent of x.\n",
      "    \n",
      "    ceil(x, /)\n",
      "        Return the ceiling of x as an Integral.\n",
      "        \n",
      "        This is the smallest integer >= x.\n",
      "    \n",
      "    comb(n, k, /)\n",
      "        Number of ways to choose k items from n items without repetition and without order.\n",
      "        \n",
      "        Evaluates to n! / (k! * (n - k)!) when k <= n and evaluates\n",
      "        to zero when k > n.\n",
      "        \n",
      "        Also called the binomial coefficient because it is equivalent\n",
      "        to the coefficient of k-th term in polynomial expansion of the\n",
      "        expression (1 + x)**n.\n",
      "        \n",
      "        Raises TypeError if either of the arguments are not integers.\n",
      "        Raises ValueError if either of the arguments are negative.\n",
      "    \n",
      "    copysign(x, y, /)\n",
      "        Return a float with the magnitude (absolute value) of x but the sign of y.\n",
      "        \n",
      "        On platforms that support signed zeros, copysign(1.0, -0.0)\n",
      "        returns -1.0.\n",
      "    \n",
      "    cos(x, /)\n",
      "        Return the cosine of x (measured in radians).\n",
      "    \n",
      "    cosh(x, /)\n",
      "        Return the hyperbolic cosine of x.\n",
      "    \n",
      "    degrees(x, /)\n",
      "        Convert angle x from radians to degrees.\n",
      "    \n",
      "    dist(p, q, /)\n",
      "        Return the Euclidean distance between two points p and q.\n",
      "        \n",
      "        The points should be specified as sequences (or iterables) of\n",
      "        coordinates.  Both inputs must have the same dimension.\n",
      "        \n",
      "        Roughly equivalent to:\n",
      "            sqrt(sum((px - qx) ** 2.0 for px, qx in zip(p, q)))\n",
      "    \n",
      "    erf(x, /)\n",
      "        Error function at x.\n",
      "    \n",
      "    erfc(x, /)\n",
      "        Complementary error function at x.\n",
      "    \n",
      "    exp(x, /)\n",
      "        Return e raised to the power of x.\n",
      "    \n",
      "    expm1(x, /)\n",
      "        Return exp(x)-1.\n",
      "        \n",
      "        This function avoids the loss of precision involved in the direct evaluation of exp(x)-1 for small x.\n",
      "    \n",
      "    fabs(x, /)\n",
      "        Return the absolute value of the float x.\n",
      "    \n",
      "    factorial(x, /)\n",
      "        Find x!.\n",
      "        \n",
      "        Raise a ValueError if x is negative or non-integral.\n",
      "    \n",
      "    floor(x, /)\n",
      "        Return the floor of x as an Integral.\n",
      "        \n",
      "        This is the largest integer <= x.\n",
      "    \n",
      "    fmod(x, y, /)\n",
      "        Return fmod(x, y), according to platform C.\n",
      "        \n",
      "        x % y may differ.\n",
      "    \n",
      "    frexp(x, /)\n",
      "        Return the mantissa and exponent of x, as pair (m, e).\n",
      "        \n",
      "        m is a float and e is an int, such that x = m * 2.**e.\n",
      "        If x is 0, m and e are both 0.  Else 0.5 <= abs(m) < 1.0.\n",
      "    \n",
      "    fsum(seq, /)\n",
      "        Return an accurate floating point sum of values in the iterable seq.\n",
      "        \n",
      "        Assumes IEEE-754 floating point arithmetic.\n",
      "    \n",
      "    gamma(x, /)\n",
      "        Gamma function at x.\n",
      "    \n",
      "    gcd(*integers)\n",
      "        Greatest Common Divisor.\n",
      "    \n",
      "    hypot(...)\n",
      "        hypot(*coordinates) -> value\n",
      "        \n",
      "        Multidimensional Euclidean distance from the origin to a point.\n",
      "        \n",
      "        Roughly equivalent to:\n",
      "            sqrt(sum(x**2 for x in coordinates))\n",
      "        \n",
      "        For a two dimensional point (x, y), gives the hypotenuse\n",
      "        using the Pythagorean theorem:  sqrt(x*x + y*y).\n",
      "        \n",
      "        For example, the hypotenuse of a 3/4/5 right triangle is:\n",
      "        \n",
      "            >>> hypot(3.0, 4.0)\n",
      "            5.0\n",
      "    \n",
      "    isclose(a, b, *, rel_tol=1e-09, abs_tol=0.0)\n",
      "        Determine whether two floating point numbers are close in value.\n",
      "        \n",
      "          rel_tol\n",
      "            maximum difference for being considered \"close\", relative to the\n",
      "            magnitude of the input values\n",
      "          abs_tol\n",
      "            maximum difference for being considered \"close\", regardless of the\n",
      "            magnitude of the input values\n",
      "        \n",
      "        Return True if a is close in value to b, and False otherwise.\n",
      "        \n",
      "        For the values to be considered close, the difference between them\n",
      "        must be smaller than at least one of the tolerances.\n",
      "        \n",
      "        -inf, inf and NaN behave similarly to the IEEE 754 Standard.  That\n",
      "        is, NaN is not close to anything, even itself.  inf and -inf are\n",
      "        only close to themselves.\n",
      "    \n",
      "    isfinite(x, /)\n",
      "        Return True if x is neither an infinity nor a NaN, and False otherwise.\n",
      "    \n",
      "    isinf(x, /)\n",
      "        Return True if x is a positive or negative infinity, and False otherwise.\n",
      "    \n",
      "    isnan(x, /)\n",
      "        Return True if x is a NaN (not a number), and False otherwise.\n",
      "    \n",
      "    isqrt(n, /)\n",
      "        Return the integer part of the square root of the input.\n",
      "    \n",
      "    lcm(*integers)\n",
      "        Least Common Multiple.\n",
      "    \n",
      "    ldexp(x, i, /)\n",
      "        Return x * (2**i).\n",
      "        \n",
      "        This is essentially the inverse of frexp().\n",
      "    \n",
      "    lgamma(x, /)\n",
      "        Natural logarithm of absolute value of Gamma function at x.\n",
      "    \n",
      "    log(...)\n",
      "        log(x, [base=math.e])\n",
      "        Return the logarithm of x to the given base.\n",
      "        \n",
      "        If the base not specified, returns the natural logarithm (base e) of x.\n",
      "    \n",
      "    log10(x, /)\n",
      "        Return the base 10 logarithm of x.\n",
      "    \n",
      "    log1p(x, /)\n",
      "        Return the natural logarithm of 1+x (base e).\n",
      "        \n",
      "        The result is computed in a way which is accurate for x near zero.\n",
      "    \n",
      "    log2(x, /)\n",
      "        Return the base 2 logarithm of x.\n",
      "    \n",
      "    modf(x, /)\n",
      "        Return the fractional and integer parts of x.\n",
      "        \n",
      "        Both results carry the sign of x and are floats.\n",
      "    \n",
      "    nextafter(x, y, /)\n",
      "        Return the next floating-point value after x towards y.\n",
      "    \n",
      "    perm(n, k=None, /)\n",
      "        Number of ways to choose k items from n items without repetition and with order.\n",
      "        \n",
      "        Evaluates to n! / (n - k)! when k <= n and evaluates\n",
      "        to zero when k > n.\n",
      "        \n",
      "        If k is not specified or is None, then k defaults to n\n",
      "        and the function returns n!.\n",
      "        \n",
      "        Raises TypeError if either of the arguments are not integers.\n",
      "        Raises ValueError if either of the arguments are negative.\n",
      "    \n",
      "    pow(x, y, /)\n",
      "        Return x**y (x to the power of y).\n",
      "    \n",
      "    prod(iterable, /, *, start=1)\n",
      "        Calculate the product of all the elements in the input iterable.\n",
      "        \n",
      "        The default start value for the product is 1.\n",
      "        \n",
      "        When the iterable is empty, return the start value.  This function is\n",
      "        intended specifically for use with numeric values and may reject\n",
      "        non-numeric types.\n",
      "    \n",
      "    radians(x, /)\n",
      "        Convert angle x from degrees to radians.\n",
      "    \n",
      "    remainder(x, y, /)\n",
      "        Difference between x and the closest integer multiple of y.\n",
      "        \n",
      "        Return x - n*y where n*y is the closest integer multiple of y.\n",
      "        In the case where x is exactly halfway between two multiples of\n",
      "        y, the nearest even value of n is used. The result is always exact.\n",
      "    \n",
      "    sin(x, /)\n",
      "        Return the sine of x (measured in radians).\n",
      "    \n",
      "    sinh(x, /)\n",
      "        Return the hyperbolic sine of x.\n",
      "    \n",
      "    sqrt(x, /)\n",
      "        Return the square root of x.\n",
      "    \n",
      "    tan(x, /)\n",
      "        Return the tangent of x (measured in radians).\n",
      "    \n",
      "    tanh(x, /)\n",
      "        Return the hyperbolic tangent of x.\n",
      "    \n",
      "    trunc(x, /)\n",
      "        Truncates the Real x to the nearest Integral toward 0.\n",
      "        \n",
      "        Uses the __trunc__ magic method.\n",
      "    \n",
      "    ulp(x, /)\n",
      "        Return the value of the least significant bit of the float x.\n",
      "\n",
      "DATA\n",
      "    e = 2.718281828459045\n",
      "    inf = inf\n",
      "    nan = nan\n",
      "    pi = 3.141592653589793\n",
      "    tau = 6.283185307179586\n",
      "\n",
      "FILE\n",
      "    (built-in)\n",
      "\n",
      "\n"
     ]
    }
   ],
   "source": [
    "help(math)"
   ]
  },
  {
   "cell_type": "markdown",
   "metadata": {
    "id": "oPR_WBNShjIA"
   },
   "source": [
    "<br>\n",
    "\n",
    "### **Ukázka #03**\n",
    "\n",
    "Jak ideálně uspořádat knihovny?"
   ]
  },
  {
   "cell_type": "code",
   "execution_count": null,
   "metadata": {
    "id": "6Z6XCU_kJVlW"
   },
   "outputs": [],
   "source": [
    "# import socket\n",
    "# from email._parseaddr import parsedate, parsedate_tz, _parsedate_tz\n",
    "# from email._parseaddr import mktime_tz as mk_tz\n",
    "# from bs4 import BeautifulSoup as bs\n",
    "# import os\n",
    "# import random\n",
    "# import urllib.parse\n",
    "# from email._parseaddr import AddressList\n",
    "# import datetime\n",
    "# from email._parseaddr import quote as q\n",
    "# from muj_uzasny_balicek.modul import moje_promenna\n",
    "# import time\n",
    "# import re"
   ]
  },
  {
   "cell_type": "code",
   "execution_count": null,
   "metadata": {},
   "outputs": [],
   "source": [
    "import time\n",
    "import re\n",
    "import os\n",
    "import datetime\n",
    "import random\n",
    "import urllib.parse\n",
    "\n",
    "from email._parseaddr import parsedate, parsedate_tz, _parsedate_tz\n",
    "from email._parseaddr import mktime_tz as mk_tz\n",
    "from email._parseaddr import AddressList\n",
    "from email._parseaddr import quote as q\n",
    "import socket\n",
    "from bs4 import BeautifulSoup as bs\n",
    "\n",
    "from muj_uzasny_balicek.modul import moje_promenna\n",
    "\n"
   ]
  },
  {
   "cell_type": "markdown",
   "metadata": {
    "id": "1emwoSdehptf"
   },
   "source": [
    "<details>\n",
    "  <summary>❓Vysvětlení ❓</summary>\n",
    "\n",
    "<br>\n",
    "    \n",
    "Podle doporučení dle [pep8](https://peps.python.org/pep-0008/#imports) nejprve zapisujeme knihovny standartní, dále třetích stran a nakonec lokální knihovny.\n",
    "\n",
    "<br>\n",
    "\n",
    "Mezi každou skupinou zapíšeme volný řádek, abychom je vizuálně oddělili.\n",
    "\n",
    "</details>\n",
    "\n",
    "---"
   ]
  },
  {
   "cell_type": "markdown",
   "metadata": {
    "id": "YDiYE8Xdhwnl"
   },
   "source": [
    "<br>\n",
    "\n",
    "### **Ukázka #04**\n",
    "\n",
    "Jsou nějaká další obecná pravidla?"
   ]
  },
  {
   "cell_type": "markdown",
   "metadata": {
    "id": "ihU4R7jMh83-"
   },
   "source": [
    "<details>\n",
    "  <summary>❓Vysvětlení ❓</summary>\n",
    "\n",
    "<br>\n",
    "    \n",
    "Obecně je dobré naučit se tyto pravidla [pep8](https://www.python.org/dev/peps/pep-0008/):\n",
    "1. Nahrané knihovny je dobré mít na začátku souboru,\n",
    "2. Každá knihovna je zapsaná na vlastní řádku,\n",
    "3. Organizujte nahrané knihovny do skupin: I. standartní, II. třetí strany, III. lokální\n",
    "4. Vyhýbej se nahrávání s hvězdičkou (wildcart)\n",
    "\n",
    "</details>\n",
    "\n",
    "---"
   ]
  },
  {
   "cell_type": "markdown",
   "metadata": {},
   "source": [
    "## Knihovna os"
   ]
  },
  {
   "cell_type": "markdown",
   "metadata": {},
   "source": [
    "Vestavěná knihovna `os` v Pythonu je nástroj, který umožňuje pracovat s operačním systémem (OS) z vašeho kódu. Pomocí této knihovny můžete přistupovat k souborům, složkám, procesům a mnoha dalším prvkům OS.\n",
    "\n",
    "Zde je několik základních příkladů, jak použít některé funkce z knihovny `os`:\n",
    "\n",
    "1. Získání informací o vašem aktuálním pracovním adresáři:"
   ]
  },
  {
   "cell_type": "code",
   "execution_count": 8,
   "metadata": {},
   "outputs": [
    {
     "name": "stdout",
     "output_type": "stream",
     "text": [
      "Moje aktuální pracovní adresář je: C:\\Users\\Radim Jedlicka\\Documents\\ENGETO\\LEKTOR\\Python_Akademie\\Courses\\python-1-3-2023\\lekce_07\n"
     ]
    }
   ],
   "source": [
    "import os\n",
    "\n",
    "cwd = os.getcwd()\n",
    "print(\"Moje aktuální pracovní adresář je:\", cwd)\n"
   ]
  },
  {
   "cell_type": "markdown",
   "metadata": {},
   "source": [
    "2. Vypsání obsahu složky:"
   ]
  },
  {
   "cell_type": "code",
   "execution_count": 10,
   "metadata": {},
   "outputs": [
    {
     "data": {
      "text/plain": [
       "['.ipynb_checkpoints',\n",
       " '07_00_Opakovani.ipynb',\n",
       " '07_01_Funkce.ipynb',\n",
       " '07_02_Dalsi_prirazovani.ipynb',\n",
       " '07_03_Hangman_fce.ipynb',\n",
       " 'Hangman-funkce',\n",
       " 'just_test.txt']"
      ]
     },
     "execution_count": 10,
     "metadata": {},
     "output_type": "execute_result"
    }
   ],
   "source": [
    "os.listdir(cwd)"
   ]
  },
  {
   "cell_type": "code",
   "execution_count": 9,
   "metadata": {
    "scrolled": true
   },
   "outputs": [
    {
     "name": "stdout",
     "output_type": "stream",
     "text": [
      "Obsah složky C:\\Users\\Radim Jedlicka\\Documents\\ENGETO\\LEKTOR\\Python_Akademie\\Courses\\python-1-3-2023\\lekce_07 je:\n",
      ".ipynb_checkpoints\n",
      "07_00_Opakovani.ipynb\n",
      "07_01_Funkce.ipynb\n",
      "07_02_Dalsi_prirazovani.ipynb\n",
      "07_03_Hangman_fce.ipynb\n",
      "Hangman-funkce\n",
      "just_test.txt\n"
     ]
    }
   ],
   "source": [
    "directory = os.listdir(cwd)\n",
    "\n",
    "print(\"Obsah složky\", cwd, \"je:\")\n",
    "for file in directory:\n",
    "    print(file)\n"
   ]
  },
  {
   "cell_type": "markdown",
   "metadata": {},
   "source": [
    "3. Vytvoření nové složky:"
   ]
  },
  {
   "cell_type": "code",
   "execution_count": 16,
   "metadata": {
    "collapsed": true
   },
   "outputs": [
    {
     "ename": "FileExistsError",
     "evalue": "[WinError 183] Cannot create a file when that file already exists: 'C:\\\\Users\\\\Radim Jedlicka\\\\Documents\\\\ENGETO\\\\LEKTOR\\\\Python_Akademie\\\\Courses\\\\python-1-3-2023\\\\lekce_07/cviceni'",
     "output_type": "error",
     "traceback": [
      "\u001b[1;31m---------------------------------------------------------------------------\u001b[0m",
      "\u001b[1;31mFileExistsError\u001b[0m                           Traceback (most recent call last)",
      "\u001b[1;32m~\\AppData\\Local\\Temp/ipykernel_21204/980347115.py\u001b[0m in \u001b[0;36m<module>\u001b[1;34m\u001b[0m\n\u001b[0;32m      1\u001b[0m \u001b[0mnew_folder\u001b[0m \u001b[1;33m=\u001b[0m \u001b[1;34m'cviceni'\u001b[0m\u001b[1;33m\u001b[0m\u001b[1;33m\u001b[0m\u001b[0m\n\u001b[0;32m      2\u001b[0m \u001b[1;33m\u001b[0m\u001b[0m\n\u001b[1;32m----> 3\u001b[1;33m \u001b[0mos\u001b[0m\u001b[1;33m.\u001b[0m\u001b[0mmkdir\u001b[0m\u001b[1;33m(\u001b[0m\u001b[1;34mf'{cwd}/{new_folder}'\u001b[0m\u001b[1;33m)\u001b[0m\u001b[1;33m\u001b[0m\u001b[1;33m\u001b[0m\u001b[0m\n\u001b[0m\u001b[0;32m      4\u001b[0m \u001b[1;33m\u001b[0m\u001b[0m\n\u001b[0;32m      5\u001b[0m \u001b[0mprint\u001b[0m\u001b[1;33m(\u001b[0m\u001b[1;34m\"Složka\"\u001b[0m\u001b[1;33m,\u001b[0m \u001b[0mnew_folder\u001b[0m\u001b[1;33m,\u001b[0m \u001b[1;34m\"byla úspěšně vytvořena.\"\u001b[0m\u001b[1;33m)\u001b[0m\u001b[1;33m\u001b[0m\u001b[1;33m\u001b[0m\u001b[0m\n",
      "\u001b[1;31mFileExistsError\u001b[0m: [WinError 183] Cannot create a file when that file already exists: 'C:\\\\Users\\\\Radim Jedlicka\\\\Documents\\\\ENGETO\\\\LEKTOR\\\\Python_Akademie\\\\Courses\\\\python-1-3-2023\\\\lekce_07/cviceni'"
     ]
    }
   ],
   "source": [
    "new_folder = 'cviceni'\n",
    "\n",
    "os.mkdir(f'{cwd}/{new_folder}')\n",
    "\n",
    "print(\"Složka\", new_folder, \"byla úspěšně vytvořena.\")\n"
   ]
  },
  {
   "cell_type": "markdown",
   "metadata": {},
   "source": [
    "3a. Vytvoření více-složkové struktury:"
   ]
  },
  {
   "cell_type": "code",
   "execution_count": 15,
   "metadata": {},
   "outputs": [],
   "source": [
    "new_folder = 'cviceni'\n",
    "new_folder2 = 'cviceni2'\n",
    "\n",
    "os.makedirs(f'{cwd}/{new_folder}/{new_folder2}')"
   ]
  },
  {
   "cell_type": "markdown",
   "metadata": {},
   "source": [
    "4. Změna jména souboru:"
   ]
  },
  {
   "cell_type": "code",
   "execution_count": 13,
   "metadata": {},
   "outputs": [
    {
     "name": "stdout",
     "output_type": "stream",
     "text": [
      "Jméno souboru bylo změněno z C:\\Users\\Radim Jedlicka\\Documents\\ENGETO\\LEKTOR\\Python_Akademie\\Courses\\python-1-3-2023\\lekce_07/just_test.txt na C:\\Users\\Radim Jedlicka\\Documents\\ENGETO\\LEKTOR\\Python_Akademie\\Courses\\python-1-3-2023\\lekce_07/test_renamed.txt\n"
     ]
    }
   ],
   "source": [
    "file = 'just_test.txt'\n",
    "\n",
    "old_name = (f'{cwd}/{file}')\n",
    "new_name = (f'{cwd}/test_renamed.txt')\n",
    "\n",
    "os.rename(old_name, new_name)\n",
    "print(\"Jméno souboru bylo změněno z\", old_name, \"na\", new_name)\n"
   ]
  },
  {
   "cell_type": "markdown",
   "metadata": {},
   "source": [
    "5. Vymazání souboru:"
   ]
  },
  {
   "cell_type": "code",
   "execution_count": 14,
   "metadata": {},
   "outputs": [
    {
     "name": "stdout",
     "output_type": "stream",
     "text": [
      "Soubor byl úspěšně smazán.\n"
     ]
    }
   ],
   "source": [
    "file = 'test_renamed.txt'\n",
    "\n",
    "path = (f'{cwd}/{file}')\n",
    "\n",
    "if os.path.exists(path):\n",
    "    os.remove(path)\n",
    "    print(\"Soubor byl úspěšně smazán.\")\n",
    "else:\n",
    "    print(\"Soubor nenalezen.\")\n"
   ]
  }
 ],
 "metadata": {
  "colab": {
   "provenance": []
  },
  "kernelspec": {
   "display_name": "Python 3 (ipykernel)",
   "language": "python",
   "name": "python3"
  },
  "language_info": {
   "codemirror_mode": {
    "name": "ipython",
    "version": 3
   },
   "file_extension": ".py",
   "mimetype": "text/x-python",
   "name": "python",
   "nbconvert_exporter": "python",
   "pygments_lexer": "ipython3",
   "version": "3.10.0"
  }
 },
 "nbformat": 4,
 "nbformat_minor": 1
}
