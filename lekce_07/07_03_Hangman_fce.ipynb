{
 "cells": [
  {
   "cell_type": "markdown",
   "metadata": {
    "id": "xyXwmDymU7jE"
   },
   "source": [
    "<h6 align=right> 🐍 Python akademie - lekce 7 - 12.04.2023</h6>"
   ]
  },
  {
   "cell_type": "markdown",
   "metadata": {
    "id": "Z2_Aph5hU-cK"
   },
   "source": [
    "# <h1 align=center><font color=black size=24><b> ➰👨 Hangman s funkcemi</font></h1>\n",
    "\n",
    "<p align=center> (praktická úloha na závěr lekce)</p>\n",
    "\n",
    "<br>\n",
    "\n",
    "---"
   ]
  },
  {
   "cell_type": "markdown",
   "metadata": {
    "id": "TU4bDFtrVF2D"
   },
   "source": [
    "<br>\n",
    "\n",
    "## **Zadání**\n",
    "\n",
    "Pojďme si nyní celou hru Hangman z minula přepsat pomocí námi definovaných funkcí 😀\n",
    "\n",
    "* funkce main() řídící celý program\n",
    "* funkce hra() řídící celou hru\n",
    "* funkce pro vytvoření tajenky\n",
    "* funkce zobrazující stav hry\n",
    "* funkce testující, jestli je hádané písmeno v tajence\n",
    "* funkce přepisující políčka v tajence písmenky\n",
    "* funkce ukončující hru při uhodnutí tajenky\n",
    "\n",
    "napadnou vás i další možnosti, kam nacpat vlastní funkce?"
   ]
  },
  {
   "cell_type": "markdown",
   "metadata": {
    "id": "bi2GYFpsV5tU"
   },
   "source": [
    "```python\n",
    "import os\n",
    "from random import choice, seed\n",
    "\n",
    "from slova import hadana_slova\n",
    "from grafika import obesenec\n",
    "\n",
    "\n",
    "zivoty = 7\n",
    "hra_bezi = True\n",
    "seed(2) # slovo je 'vojna'\n",
    "slovo = choice(hadana_slova)\n",
    "tajenka = ['_'] * len(slovo)\n",
    "\n",
    "while hra_bezi and zivoty > 0:\n",
    "    os.system(\"cls\")\n",
    "    print(f\"Tajenka: {''.join(tajenka)}\")\n",
    "    print(obesenec[7 - zivoty])\n",
    "    print(f\"Zbyvajici pocet zivotu: {zivoty}\")\n",
    "    hadani = input('Hadej pismeno/cele slovo: ')\n",
    "    \n",
    "    if hadani == slovo:\n",
    "        hra_bezi = False\n",
    "    elif hadani in slovo and len(hadani) == 1:\n",
    "        for index, symbol in enumerate(slovo):\n",
    "            if symbol == hadani:\n",
    "                tajenka[index] = hadani\n",
    "        print('Uhodl jsi spravne pismeno!')\n",
    "        if '_' not in tajenka:\n",
    "            hra_bezi = False\n",
    "    else:\n",
    "        print('Pismeno neni v tajence, hadej znova!')\n",
    "        zivoty -= 1\n",
    "else:\n",
    "    if hra_bezi == False:\n",
    "        print('Vyhral jsi!')\n",
    "    else:\n",
    "        print(f'Prohral jsi, tajenka byla \"{slovo}\"')\n",
    "```"
   ]
  },
  {
   "cell_type": "markdown",
   "metadata": {
    "id": "ba5kgPCbXu2k"
   },
   "source": [
    "# `# TODO`"
   ]
  },
  {
   "cell_type": "markdown",
   "metadata": {
    "id": "eiLvhcb9bBAt"
   },
   "source": [
    "```python\n",
    "# main()\n",
    "def main():\n",
    "    globalni promenne\n",
    "    hra()\n",
    "    pass\n",
    "\n",
    "# hra()\n",
    "def hra():\n",
    "    tajenka\n",
    "\n",
    "    while podminky:\n",
    "        stav hry\n",
    "        input hadani\n",
    "        uhodnuti celeho slova\n",
    "        hadani po pismenech\n",
    "        pismeno neni v tajence\n",
    "    konec hry\n",
    "\n",
    "# vytvoreni tajenky\n",
    "\n",
    "# stav_hry\n",
    "\n",
    "# pismeno v tajence\n",
    "\n",
    "# prepis pismena\n",
    "\n",
    "# uhodnuti tajenky\n",
    "\n",
    "# konec hry\n",
    "```"
   ]
  },
  {
   "cell_type": "markdown",
   "metadata": {
    "id": "lfj6BEnhbhrf"
   },
   "source": [
    "# **def main()**"
   ]
  },
  {
   "cell_type": "code",
   "execution_count": 1,
   "metadata": {
    "id": "7IRlMHZZbfXu"
   },
   "outputs": [],
   "source": [
    "def main():\n",
    "    zivoty = 7\n",
    "    hra_bezi = True\n",
    "    hra(hra_bezi, zivoty)\n",
    "    pass"
   ]
  },
  {
   "cell_type": "markdown",
   "metadata": {
    "id": "6rd8xbnNb9Qu"
   },
   "source": [
    "# **def hra()**"
   ]
  },
  {
   "cell_type": "code",
   "execution_count": 2,
   "metadata": {
    "id": "KGoUuk_zb1It"
   },
   "outputs": [],
   "source": [
    "def hra(hra_bezi, zivoty):\n",
    "    slovo = choice(hadana_slova)\n",
    "    tajenka = vytvor_tajenku()\n",
    "    pass"
   ]
  },
  {
   "cell_type": "markdown",
   "metadata": {
    "id": "CwLM-5J1cXLR"
   },
   "source": [
    "## **def vytvor_tajenku()**"
   ]
  },
  {
   "cell_type": "code",
   "execution_count": 4,
   "metadata": {
    "id": "s-i8rQfRcUcZ"
   },
   "outputs": [
    {
     "data": {
      "text/plain": [
       "['_', '_', '_', '_', '_']"
      ]
     },
     "execution_count": 4,
     "metadata": {},
     "output_type": "execute_result"
    }
   ],
   "source": [
    "def vytvor_tajenku(slovo, znak):\n",
    "    tajenka = len(slovo) * [znak]\n",
    "    return tajenka\n",
    "    # return len(slovo) * [znak]\n",
    "\n",
    "    \n",
    "tajenka = vytvor_tajenku('prase', '_')\n",
    "tajenka"
   ]
  },
  {
   "cell_type": "markdown",
   "metadata": {
    "id": "M810ms5Beay9"
   },
   "source": [
    "## **def zobraz_stav_hry():**"
   ]
  },
  {
   "cell_type": "code",
   "execution_count": 5,
   "metadata": {
    "id": "yJsLs5vPeaPN"
   },
   "outputs": [
    {
     "ename": "TypeError",
     "evalue": "zobraz_stav_hry() missing 3 required positional arguments: 'tajenka', 'zivoty', and 'obesenec'",
     "output_type": "error",
     "traceback": [
      "\u001b[1;31m---------------------------------------------------------------------------\u001b[0m",
      "\u001b[1;31mTypeError\u001b[0m                                 Traceback (most recent call last)",
      "\u001b[1;32m~\\AppData\\Local\\Temp/ipykernel_26252/1882953093.py\u001b[0m in \u001b[0;36m<module>\u001b[1;34m\u001b[0m\n\u001b[0;32m      7\u001b[0m \u001b[1;33m\u001b[0m\u001b[0m\n\u001b[0;32m      8\u001b[0m \u001b[1;33m\u001b[0m\u001b[0m\n\u001b[1;32m----> 9\u001b[1;33m \u001b[0mzobraz_stav_hry\u001b[0m\u001b[1;33m(\u001b[0m\u001b[1;33m)\u001b[0m\u001b[1;33m\u001b[0m\u001b[1;33m\u001b[0m\u001b[0m\n\u001b[0m",
      "\u001b[1;31mTypeError\u001b[0m: zobraz_stav_hry() missing 3 required positional arguments: 'tajenka', 'zivoty', and 'obesenec'"
     ]
    }
   ],
   "source": [
    "def zobraz_stav_hry(tajenka, zivoty, obesenec):\n",
    "    print(\n",
    "        f\"TAJENKA: {' '.join(tajenka)}; ZIVOTY: {zivoty}\",\n",
    "        obesenec[7 - zivoty],\n",
    "        sep=\"\\n\",\n",
    "    )\n",
    "    \n",
    "\n",
    "zobraz_stav_hry()"
   ]
  },
  {
   "cell_type": "markdown",
   "metadata": {
    "id": "47XIWwgYgpcq"
   },
   "source": [
    "## **def je_pismeno_ve_slove():**"
   ]
  },
  {
   "cell_type": "code",
   "execution_count": 9,
   "metadata": {
    "id": "ICQ0qFZOgxV5"
   },
   "outputs": [
    {
     "data": {
      "text/plain": [
       "[2, 4]"
      ]
     },
     "execution_count": 9,
     "metadata": {},
     "output_type": "execute_result"
    }
   ],
   "source": [
    "def je_pismeno_ve_slove(slovo, hadani):\n",
    "    # for index, symbol in enumerate(slovo):\n",
    "    #         if symbol == hadani:\n",
    "    #             tajenka[index] = hadani\n",
    "    return [index for index, symbol in enumerate(slovo)\n",
    "            if hadani in symbol\n",
    "    ]\n",
    "\n",
    "\n",
    "# je_pismeno_ve_slove('hrana', 'a')"
   ]
  },
  {
   "cell_type": "markdown",
   "metadata": {
    "id": "CRZFCByNvWCO"
   },
   "source": [
    "## **def prepis_pismeno():**"
   ]
  },
  {
   "cell_type": "code",
   "execution_count": null,
   "metadata": {
    "id": "n-n8lJ_6vYOo"
   },
   "outputs": [],
   "source": [
    "def prepis_pismeno(tajenka, hadani, indexy):\n",
    "    for index in indexy:\n",
    "        tajenka[index] = hadani\n",
    "    return tajenka"
   ]
  },
  {
   "cell_type": "markdown",
   "metadata": {
    "id": "gu3lfoxMveKt"
   },
   "source": [
    "## **def kompletni_tajenka():**"
   ]
  },
  {
   "cell_type": "code",
   "execution_count": null,
   "metadata": {
    "id": "lCQT2BNCvhfI"
   },
   "outputs": [],
   "source": [
    "def kompletni_tajenka(tajenka):\n",
    "    # if '_' not in tajenka:\n",
    "    #     return False\n",
    "    # else:\n",
    "    #     return True\n",
    "    return False if \"_\" not in tajenka else True"
   ]
  },
  {
   "cell_type": "markdown",
   "metadata": {
    "id": "vDQV0odkvm2V"
   },
   "source": [
    "## **def konec_hry():**"
   ]
  },
  {
   "cell_type": "code",
   "execution_count": null,
   "metadata": {
    "id": "qRepdLe_vlna"
   },
   "outputs": [],
   "source": [
    "def konec_hry(hra_bezi, slovo):\n",
    "    if hra_bezi == False:\n",
    "        print('Vyhral jsi!')\n",
    "    else:\n",
    "        print(f'Prohral jsi, tajenka byla \"{slovo}\"')"
   ]
  }
 ],
 "metadata": {
  "colab": {
   "provenance": []
  },
  "kernelspec": {
   "display_name": "Python 3 (ipykernel)",
   "language": "python",
   "name": "python3"
  },
  "language_info": {
   "codemirror_mode": {
    "name": "ipython",
    "version": 3
   },
   "file_extension": ".py",
   "mimetype": "text/x-python",
   "name": "python",
   "nbconvert_exporter": "python",
   "pygments_lexer": "ipython3",
   "version": "3.10.0"
  }
 },
 "nbformat": 4,
 "nbformat_minor": 1
}
