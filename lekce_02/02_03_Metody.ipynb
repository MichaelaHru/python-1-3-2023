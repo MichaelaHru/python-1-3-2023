{
 "cells": [
  {
   "cell_type": "markdown",
   "metadata": {
    "id": "ffIpP8wttuE4"
   },
   "source": [
    "\n",
    "<h6 align=right> 🐍 Python akademie - lekce 2 - 08.03.2023</h6>"
   ]
  },
  {
   "cell_type": "markdown",
   "metadata": {
    "id": "CyQqWYm7twDv"
   },
   "source": [
    "<br>\n",
    "\n",
    "# <h1 align=center><font color=black size=24><b> 02_03: Metody</font></h1>\n",
    "\n",
    "<br>"
   ]
  },
  {
   "cell_type": "markdown",
   "metadata": {
    "id": "s-BDCLb91LJh"
   },
   "source": [
    "<br>\n",
    "\n",
    "---\n",
    "\n",
    "### **Zajímavé odkazy z této lekce:**\n",
    "\n",
    "* [Soupis všech metod pro datový typ string](https://www.w3schools.com/python/python_ref_string.asp)\n",
    "* [Soupis všech metod pro datový typ list](https://www.w3schools.com/python/python_lists_methods.asp)\n",
    "* [Soupis všech metod pro datový typ tuple](https://www.w3schools.com/python/python_ref_tuple.asp)\n",
    "\n",
    "\n",
    "\n",
    "---\n",
    "\n",
    "<br>"
   ]
  },
  {
   "cell_type": "markdown",
   "metadata": {
    "id": "GLLqfeSuemoc"
   },
   "source": [
    "<br>\n",
    "\n",
    "Kromě **zabudovaných funkcí**, které jsou k dispozici v Pythonu, máme také tzv. *metody* datových typů.\n",
    "\n",
    "<br>\n",
    "\n",
    "Metody jsou v podstatě **nástroje**, které rozšiřují použití jednotlivých datových typů.\n",
    "\n",
    "<br>\n",
    "\n",
    "Jaký je tedy rozdíl mezi metodou a funkcí?\n",
    "\n",
    "<br>\n",
    "\n",
    "1. **Funkce** jsou obecnější, protože umí pracovat s různými datovými typy (`print`),\n",
    "2. **Metody** jsou úzce zaměřené na konkrétní datový typ (`str`).\n",
    "\n",
    "<br>\n",
    "\n",
    "Ukázka **funkce**:"
   ]
  },
  {
   "cell_type": "code",
   "execution_count": null,
   "metadata": {
    "id": "0-w0QlCRtmyo"
   },
   "outputs": [],
   "source": [
    "print(1)"
   ]
  },
  {
   "cell_type": "code",
   "execution_count": null,
   "metadata": {
    "id": "uXBoycb0ezH4"
   },
   "outputs": [],
   "source": [
    "print(1.00)"
   ]
  },
  {
   "cell_type": "code",
   "execution_count": null,
   "metadata": {
    "id": "UKUmTHORe0-n"
   },
   "outputs": [],
   "source": [
    "print('Radim')"
   ]
  },
  {
   "cell_type": "markdown",
   "metadata": {
    "id": "SrTjs1Cwe62i"
   },
   "source": [
    "<br>\n",
    "\n",
    "Ukázka **metody**:"
   ]
  },
  {
   "cell_type": "code",
   "execution_count": 1,
   "metadata": {
    "id": "YZRVux1xe3pG"
   },
   "outputs": [
    {
     "data": {
      "text/plain": [
       "'RADIM'"
      ]
     },
     "execution_count": 1,
     "metadata": {},
     "output_type": "execute_result"
    }
   ],
   "source": [
    "'radim'.upper()"
   ]
  },
  {
   "cell_type": "code",
   "execution_count": 2,
   "metadata": {
    "id": "aw61GUuhe9xO"
   },
   "outputs": [
    {
     "data": {
      "text/plain": [
       "'Radim'"
      ]
     },
     "execution_count": 2,
     "metadata": {},
     "output_type": "execute_result"
    }
   ],
   "source": [
    "'radim'.title()"
   ]
  },
  {
   "cell_type": "code",
   "execution_count": 3,
   "metadata": {
    "id": "KZ1XL9hqfCD-"
   },
   "outputs": [
    {
     "data": {
      "text/plain": [
       "False"
      ]
     },
     "execution_count": 3,
     "metadata": {},
     "output_type": "execute_result"
    }
   ],
   "source": [
    "'ahoj'.isnumeric()"
   ]
  },
  {
   "cell_type": "code",
   "execution_count": 4,
   "metadata": {
    "id": "yzYXOIrsfLD9"
   },
   "outputs": [
    {
     "name": "stdout",
     "output_type": "stream",
     "text": [
      "[1, 2, 3, 4, 5]\n"
     ]
    }
   ],
   "source": [
    "seznam = [1,2,3,4,5]\n",
    "print(seznam)"
   ]
  },
  {
   "cell_type": "code",
   "execution_count": 5,
   "metadata": {
    "id": "OZNXbUPqfosl"
   },
   "outputs": [
    {
     "name": "stdout",
     "output_type": "stream",
     "text": [
      "[1, 2, 3, 4, 5, 5]\n"
     ]
    }
   ],
   "source": [
    "seznam.append(5)\n",
    "print(seznam)"
   ]
  },
  {
   "cell_type": "code",
   "execution_count": 6,
   "metadata": {
    "id": "nU6g9nUmfq6T"
   },
   "outputs": [
    {
     "name": "stdout",
     "output_type": "stream",
     "text": [
      "['nula', 1, 2, 3, 4, 5, 5]\n"
     ]
    }
   ],
   "source": [
    "seznam.insert(0, \"nula\")\n",
    "print(seznam)"
   ]
  },
  {
   "cell_type": "markdown",
   "metadata": {
    "id": "NVjrcWj8fto4"
   },
   "source": [
    "<br>\n",
    "\n",
    "Použití metody se odvíjí od konkrétní proměnné (hodnoty), na kterou s **TEČKOU** napojím příslušnou metodu.\n",
    "\n",
    "<br>\n",
    "\n",
    "Za metodou je nutné zapsat závorku (často prázdnou, ale není to pravidlo)."
   ]
  },
  {
   "cell_type": "markdown",
   "metadata": {
    "id": "xJEV3ljT2o4u"
   },
   "source": [
    "<br>\n",
    "\n",
    "## **Metody pro `string`**\n",
    "\n",
    "---"
   ]
  },
  {
   "cell_type": "markdown",
   "metadata": {
    "id": "uYQgKbTBf0et"
   },
   "source": [
    "Níže najdete tabulku s metodami, které se nám budou hodit (ne všechny):"
   ]
  },
  {
   "cell_type": "markdown",
   "metadata": {
    "id": "gNX2Zu3ygOFe"
   },
   "source": [
    "| Metoda | Použití |\n",
    "|:-:|:-|\n",
    "| `upper` | převedene zadaný string na velká písmena |\n",
    "| `lower` | převedene zadaný string na malá písmena |\n",
    "| `isalpha` | vrátí `True` pokud jsou všechny znaky písmena |\n",
    "| `isnumeric` | vrátí `True` pokud jsou všechny znaky číselné znaky |\n",
    "| `istitle` | vrátí `True` pokud je první znak velké písmeno |\n",
    "| `split` | rozdělí string pomocí zadaného znaku, jinak podle mezer a newlinů (vlevo) |\n",
    "| `rsplit` | rozdělí string pomocí zadaného znaku, jinak podle mezer a newlinů (vpravo) |\n",
    "| `strip` | ořízne zadaný string o specifikovaný symbol (na začátku a na konci) (vlevo) |\n",
    "| `rstrip` | ořízne zadaný string o specifikovaný symbol (na začátku a na konci) (vpravo) |\n",
    "| `replace` | v zadaném stringu nahradí konkretní symboly, jinými symboly |"
   ]
  },
  {
   "cell_type": "code",
   "execution_count": 7,
   "metadata": {
    "id": "GLUe4A2AfrOE"
   },
   "outputs": [
    {
     "data": {
      "text/plain": [
       "['Radim', 'Jedlicka']"
      ]
     },
     "execution_count": 7,
     "metadata": {},
     "output_type": "execute_result"
    }
   ],
   "source": [
    "'Radim Jedlicka'.split(' ')"
   ]
  },
  {
   "cell_type": "code",
   "execution_count": 8,
   "metadata": {
    "id": "tBuuNHb6ghzV"
   },
   "outputs": [
    {
     "data": {
      "text/plain": [
       "'m Jedlic'"
      ]
     },
     "execution_count": 8,
     "metadata": {},
     "output_type": "execute_result"
    }
   ],
   "source": [
    "'Radim Jedlicka'.strip('Radki')"
   ]
  },
  {
   "cell_type": "code",
   "execution_count": 9,
   "metadata": {
    "id": "kMGwNblxglOC"
   },
   "outputs": [
    {
     "data": {
      "text/plain": [
       "'Rad m Jedl cka'"
      ]
     },
     "execution_count": 9,
     "metadata": {},
     "output_type": "execute_result"
    }
   ],
   "source": [
    "'Radim Jedlicka'.replace('i', ' ')"
   ]
  },
  {
   "cell_type": "markdown",
   "metadata": {
    "id": "yR7_bBO73VvS"
   },
   "source": [
    "<br>\n",
    "\n",
    "## **Metody pro `list`**\n",
    "\n",
    "---\n"
   ]
  },
  {
   "cell_type": "markdown",
   "metadata": {
    "id": "jv15RKZQhG80"
   },
   "source": [
    "Níže najdete tabulku s metodami, které se nám budou hodit (ne všechny):"
   ]
  },
  {
   "cell_type": "markdown",
   "metadata": {
    "id": "5yQtokMHhKdZ"
   },
   "source": [
    "| Metoda | Použití |\n",
    "|:-:|:-|\n",
    "| `append` | přidá hodnotu na poslední index listu |\n",
    "| `insert` | vloží hodnotu na daný index listu. Zbytek hodnot posune o index +1 |\n",
    "| `copy` | vytvoří tzv. *shallow copy* původního listu |\n",
    "| `count` | vrací číslo, kolikrát se zadaný údaj nachazí v listu |\n",
    "| `sort` | vrací seřazený list |\n",
    "| `index` | vrací index prvního výskytu zadané hodnoty |"
   ]
  },
  {
   "cell_type": "code",
   "execution_count": 10,
   "metadata": {
    "id": "l3Ddqu_8g7Hq"
   },
   "outputs": [],
   "source": [
    "list1 = [1, 2, 3]\n",
    "list2 = [4, 5]\n",
    "list3 = [6, 7, 8]"
   ]
  },
  {
   "cell_type": "code",
   "execution_count": 11,
   "metadata": {
    "id": "W1FZL64mhbBf"
   },
   "outputs": [
    {
     "data": {
      "text/plain": [
       "[1, 2, 3, 4, 5, 6, 7, 8]"
      ]
     },
     "execution_count": 11,
     "metadata": {},
     "output_type": "execute_result"
    }
   ],
   "source": [
    "list1 + list2 + list3"
   ]
  },
  {
   "cell_type": "code",
   "execution_count": 12,
   "metadata": {
    "id": "OoYxzg6shY7i"
   },
   "outputs": [
    {
     "name": "stdout",
     "output_type": "stream",
     "text": [
      "[1, 2, 3, [4, 5]]\n"
     ]
    }
   ],
   "source": [
    "list1.append(list2)\n",
    "print(list1)"
   ]
  },
  {
   "cell_type": "code",
   "execution_count": 14,
   "metadata": {},
   "outputs": [
    {
     "data": {
      "text/plain": [
       "4"
      ]
     },
     "execution_count": 14,
     "metadata": {},
     "output_type": "execute_result"
    }
   ],
   "source": [
    "list1[3][0]"
   ]
  },
  {
   "cell_type": "code",
   "execution_count": 15,
   "metadata": {
    "id": "WFxEnD6h3mf3"
   },
   "outputs": [
    {
     "name": "stdout",
     "output_type": "stream",
     "text": [
      "[[6, 7, 8], 1, 2, 3, [4, 5]]\n"
     ]
    }
   ],
   "source": [
    "\n",
    "list1.insert(0, list3)\n",
    "print(list1)"
   ]
  },
  {
   "cell_type": "markdown",
   "metadata": {
    "id": "UdsktdkC300P"
   },
   "source": [
    "<br>\n",
    "\n",
    "## **Metody pro `tuple`**\n",
    "\n",
    "---"
   ]
  },
  {
   "cell_type": "markdown",
   "metadata": {
    "id": "045lcQPPh1ui"
   },
   "source": [
    "Níže najdete tabulku s metodami, které se nám budou hodit (všechny):"
   ]
  },
  {
   "cell_type": "markdown",
   "metadata": {
    "id": "gLJxOKmViAWE"
   },
   "source": [
    "| Metoda | Použití |\n",
    "|:-:|:-|\n",
    "| `count` | vrací číslo, kolikrát se zadaný údaj nachazí v listu |\n",
    "| `index` | vrací index prvního výskytu zadané hodnoty |"
   ]
  },
  {
   "cell_type": "code",
   "execution_count": 16,
   "metadata": {
    "id": "Zdi5xLAOh-L6"
   },
   "outputs": [],
   "source": [
    "muj_tuple = (6, 7, 8, 6, 7, 8, 1, 2, 3, 4, 4, 5)"
   ]
  },
  {
   "cell_type": "code",
   "execution_count": 17,
   "metadata": {
    "id": "K9LciOGaiG4g"
   },
   "outputs": [
    {
     "data": {
      "text/plain": [
       "2"
      ]
     },
     "execution_count": 17,
     "metadata": {},
     "output_type": "execute_result"
    }
   ],
   "source": [
    "muj_tuple.count(4)"
   ]
  },
  {
   "cell_type": "code",
   "execution_count": 18,
   "metadata": {
    "id": "PkP1m3g8iKxf"
   },
   "outputs": [
    {
     "data": {
      "text/plain": [
       "9"
      ]
     },
     "execution_count": 18,
     "metadata": {},
     "output_type": "execute_result"
    }
   ],
   "source": [
    "muj_tuple.index(4)\n"
   ]
  }
 ],
 "metadata": {
  "colab": {
   "provenance": []
  },
  "kernelspec": {
   "display_name": "Python 3 (ipykernel)",
   "language": "python",
   "name": "python3"
  },
  "language_info": {
   "codemirror_mode": {
    "name": "ipython",
    "version": 3
   },
   "file_extension": ".py",
   "mimetype": "text/x-python",
   "name": "python",
   "nbconvert_exporter": "python",
   "pygments_lexer": "ipython3",
   "version": "3.10.0"
  }
 },
 "nbformat": 4,
 "nbformat_minor": 1
}
