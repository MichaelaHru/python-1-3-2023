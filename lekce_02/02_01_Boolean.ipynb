{
 "cells": [
  {
   "cell_type": "markdown",
   "metadata": {
    "id": "ldCN9FDJvjbY"
   },
   "source": [
    "\n",
    "<h6 align=right> 🐍 Python akademie - lekce 2 - 08.03.2023</h6>"
   ]
  },
  {
   "attachments": {},
   "cell_type": "markdown",
   "metadata": {
    "id": "xrSXdawgvmtc"
   },
   "source": [
    "<br>\n",
    "\n",
    "# <h1 align=center><font size=24><b> 02_01: Boolean</font></h1>\n",
    "\n",
    "<br>"
   ]
  },
  {
   "cell_type": "markdown",
   "metadata": {
    "id": "Jmb0N6tTOJn5"
   },
   "source": [
    "<br>\n",
    "\n",
    "---\n",
    "\n",
    "### **Zajímavé odkazy z této lekce:**\n",
    "\n",
    "* [Oficiální dokumentace boolean operátorů](https://docs.python.org/3/library/stdtypes.html#boolean-operations-and-or-not)\n",
    "* [Oficiální dokumentace k ověřování členství](https://docs.python.org/3/reference/expressions.html#in)\n",
    "* [Oficiální dokumentace porovnávacích operátorů](https://docs.python.org/3/library/stdtypes.html#comparisons)\n",
    "* [Real Python](https://realpython.com/python-boolean/)\n",
    "* [Encoding Guide](https://realpython.com/python-encodings-guide/)\n",
    "\n",
    "---\n",
    "\n",
    "<br>"
   ]
  },
  {
   "cell_type": "markdown",
   "metadata": {
    "id": "_nw1XKugOTNP"
   },
   "source": [
    "<br>\n",
    "\n",
    "## **Boolean**\n",
    "\n",
    "---"
   ]
  },
  {
   "cell_type": "markdown",
   "metadata": {
    "id": "NLf7KVCPv1CA"
   },
   "source": [
    "\n",
    "\n",
    "<br>\n",
    "\n",
    "Tento **datový typ** pomáhá rozhodovat, jestli je celý **zápis** či **hodnota** pravdivá a nebo nepravdivá.\n",
    "\n",
    "<br>\n",
    "\n",
    "Setkáme se s hodnotami:\n",
    "* `True` (~pravda),\n",
    "* `False` (~nepravda).\n",
    "\n",
    "<br>\n",
    "\n",
    "**Boolean** vychází z datového typu **integer** (~z celých čísel):\n",
    "* `True` odpovídá hodnotě `1`,\n",
    "* `False` odpovídá hodnotě `0`.\n",
    "\n",
    "\n"
   ]
  },
  {
   "cell_type": "markdown",
   "metadata": {
    "id": "3qMBk65FPahg"
   },
   "source": [
    "<br>\n",
    "\n",
    "## **Funkce `bool`**\n",
    "\n",
    "---\n",
    "\n",
    "Tato zabudovaná funkce nám pomůže lépe pochopit práci s datovým typem **boolean**.\n",
    "\n",
    "<br>\n",
    "\n",
    "Funguje jako nějaký Python \"rozhodčí\", kterému stačí sdělit **konkrétní hodnotu** nebo **zápis** a ona ji vyhodnotí jestli je pravdivá či nikoliv."
   ]
  },
  {
   "cell_type": "code",
   "execution_count": 1,
   "metadata": {
    "id": "SjXUSs1Tvb6u"
   },
   "outputs": [
    {
     "data": {
      "text/plain": [
       "True"
      ]
     },
     "execution_count": 1,
     "metadata": {},
     "output_type": "execute_result"
    }
   ],
   "source": [
    "bool(True)"
   ]
  },
  {
   "cell_type": "code",
   "execution_count": 2,
   "metadata": {
    "id": "bUMZlNRmwFJR"
   },
   "outputs": [
    {
     "data": {
      "text/plain": [
       "True"
      ]
     },
     "execution_count": 2,
     "metadata": {},
     "output_type": "execute_result"
    }
   ],
   "source": [
    "bool(1)"
   ]
  },
  {
   "cell_type": "code",
   "execution_count": 3,
   "metadata": {
    "id": "m4ksRIYmwGcI"
   },
   "outputs": [
    {
     "data": {
      "text/plain": [
       "False"
      ]
     },
     "execution_count": 3,
     "metadata": {},
     "output_type": "execute_result"
    }
   ],
   "source": [
    "bool(False)"
   ]
  },
  {
   "cell_type": "code",
   "execution_count": 4,
   "metadata": {
    "id": "_WiNuDBPwHnz"
   },
   "outputs": [
    {
     "data": {
      "text/plain": [
       "False"
      ]
     },
     "execution_count": 4,
     "metadata": {},
     "output_type": "execute_result"
    }
   ],
   "source": [
    "bool(0)"
   ]
  },
  {
   "cell_type": "code",
   "execution_count": 5,
   "metadata": {
    "id": "_VHA08h_PjiM"
   },
   "outputs": [
    {
     "data": {
      "text/plain": [
       "True"
      ]
     },
     "execution_count": 5,
     "metadata": {},
     "output_type": "execute_result"
    }
   ],
   "source": [
    "bool(2)"
   ]
  },
  {
   "cell_type": "code",
   "execution_count": 6,
   "metadata": {
    "id": "gXWWnePywJKa"
   },
   "outputs": [],
   "source": [
    "probiha_akademie = True"
   ]
  },
  {
   "cell_type": "code",
   "execution_count": 7,
   "metadata": {
    "id": "bauQfgJ6wKpM"
   },
   "outputs": [
    {
     "name": "stdout",
     "output_type": "stream",
     "text": [
      "True\n"
     ]
    }
   ],
   "source": [
    "print(probiha_akademie)"
   ]
  },
  {
   "cell_type": "code",
   "execution_count": 8,
   "metadata": {
    "id": "7MreSndgwMeC"
   },
   "outputs": [
    {
     "data": {
      "text/plain": [
       "True"
      ]
     },
     "execution_count": 8,
     "metadata": {},
     "output_type": "execute_result"
    }
   ],
   "source": [
    "bool(probiha_akademie)"
   ]
  },
  {
   "cell_type": "code",
   "execution_count": 9,
   "metadata": {
    "id": "UCttXVqoPtIz"
   },
   "outputs": [],
   "source": [
    "probiha_akademie2 = 1"
   ]
  },
  {
   "cell_type": "code",
   "execution_count": 10,
   "metadata": {
    "id": "LA0o-aSfPwUU"
   },
   "outputs": [
    {
     "data": {
      "text/plain": [
       "True"
      ]
     },
     "execution_count": 10,
     "metadata": {},
     "output_type": "execute_result"
    }
   ],
   "source": [
    "bool(probiha_akademie2)"
   ]
  },
  {
   "cell_type": "code",
   "execution_count": 11,
   "metadata": {
    "id": "q2rdBy14P1rg"
   },
   "outputs": [
    {
     "name": "stdout",
     "output_type": "stream",
     "text": [
      "1\n"
     ]
    }
   ],
   "source": [
    "print(probiha_akademie2)"
   ]
  },
  {
   "cell_type": "markdown",
   "metadata": {
    "id": "NW8rZ5NrwTIH"
   },
   "source": [
    "<br>\n",
    "\n",
    "Podívej se jak funkce bool pracuje s běžnými hodnotami:"
   ]
  },
  {
   "cell_type": "code",
   "execution_count": 12,
   "metadata": {
    "id": "VoLf45PZwVEV"
   },
   "outputs": [
    {
     "data": {
      "text/plain": [
       "False"
      ]
     },
     "execution_count": 12,
     "metadata": {},
     "output_type": "execute_result"
    }
   ],
   "source": [
    "bool(0)"
   ]
  },
  {
   "cell_type": "code",
   "execution_count": 13,
   "metadata": {
    "id": "7Puld2eCwXbd"
   },
   "outputs": [
    {
     "data": {
      "text/plain": [
       "True"
      ]
     },
     "execution_count": 13,
     "metadata": {},
     "output_type": "execute_result"
    }
   ],
   "source": [
    "bool(\"Matous\")"
   ]
  },
  {
   "cell_type": "code",
   "execution_count": 14,
   "metadata": {
    "id": "9AXaxNtbwYt6"
   },
   "outputs": [
    {
     "data": {
      "text/plain": [
       "False"
      ]
     },
     "execution_count": 14,
     "metadata": {},
     "output_type": "execute_result"
    }
   ],
   "source": [
    "bool(\"\")"
   ]
  },
  {
   "cell_type": "code",
   "execution_count": 15,
   "metadata": {
    "id": "B9bJJZfuwaHB"
   },
   "outputs": [
    {
     "data": {
      "text/plain": [
       "True"
      ]
     },
     "execution_count": 15,
     "metadata": {},
     "output_type": "execute_result"
    }
   ],
   "source": [
    "bool(\" \")"
   ]
  },
  {
   "cell_type": "code",
   "execution_count": 16,
   "metadata": {
    "id": "vgS4kPtswbv0"
   },
   "outputs": [
    {
     "data": {
      "text/plain": [
       "False"
      ]
     },
     "execution_count": 16,
     "metadata": {},
     "output_type": "execute_result"
    }
   ],
   "source": [
    "bool([])"
   ]
  },
  {
   "cell_type": "markdown",
   "metadata": {
    "id": "J_YUHF98QHVV"
   },
   "source": [
    "<details>\n",
    "  <summary> ❓Klikni zde pro vysvětlení</summary>\n",
    "\n",
    "```\n",
    "bool([]) # co to znamena? prazny string? -> PRAZDNY LIST\n",
    "```\n",
    "\n",
    "</details>"
   ]
  },
  {
   "cell_type": "code",
   "execution_count": 17,
   "metadata": {
    "id": "01gnqYuMweFv"
   },
   "outputs": [
    {
     "data": {
      "text/plain": [
       "True"
      ]
     },
     "execution_count": 17,
     "metadata": {},
     "output_type": "execute_result"
    }
   ],
   "source": [
    "bool([\" \"])"
   ]
  },
  {
   "cell_type": "code",
   "execution_count": 18,
   "metadata": {
    "id": "6ugZhL3KwfpC"
   },
   "outputs": [
    {
     "data": {
      "text/plain": [
       "1"
      ]
     },
     "execution_count": 18,
     "metadata": {},
     "output_type": "execute_result"
    }
   ],
   "source": [
    "len([''])"
   ]
  },
  {
   "cell_type": "code",
   "execution_count": 19,
   "metadata": {
    "id": "05eZf9CjwgoF"
   },
   "outputs": [
    {
     "data": {
      "text/plain": [
       "False"
      ]
     },
     "execution_count": 19,
     "metadata": {},
     "output_type": "execute_result"
    }
   ],
   "source": [
    "bool(None)"
   ]
  },
  {
   "cell_type": "markdown",
   "metadata": {
    "id": "nzEhjvCpwt63"
   },
   "source": [
    "<br>\n",
    "\n",
    "Hodnotu `None` v Pythonu používáme pro označení absence hodnoty (odkaz nemá hodnotu). V jiných jazycích třeba `Null`.\n",
    "\n",
    "<br>\n",
    "\n",
    "Můžeme tedy prohlásit, že pokud vložím **neprázdnou hodnotu** (`str`, `int`, `list`), dostaneme hodnotu `True`. V opačném případě dostaneme `False`."
   ]
  },
  {
   "cell_type": "markdown",
   "metadata": {
    "id": "t2NWT1-2Q3Qi"
   },
   "source": [
    "<br>\n",
    "\n",
    "## **Srovnávací operátory**\n",
    "\n",
    "---"
   ]
  },
  {
   "cell_type": "markdown",
   "metadata": {
    "id": "a3zjo-kswxXN"
   },
   "source": [
    "| Operátor | Význam |\n",
    "|:-:|:-|\n",
    "| `<` | menší než |\n",
    "| `>` | větší než |\n",
    "| `<=` | menší nebo rovno |\n",
    "| `>=` | větší nebo rovno |\n",
    "| `==` | rovnost |\n",
    "| `!=` | nerovnost |\n",
    "| `is` | totožná objektová identita |\n",
    "| `is not` | různá objektová identita |\n",
    "\n",
    "<br>"
   ]
  },
  {
   "cell_type": "markdown",
   "metadata": {
    "id": "tNqVLGbYkmtr"
   },
   "source": [
    "Nejprve **klasické srovnávací operátory**, které již známe:"
   ]
  },
  {
   "cell_type": "code",
   "execution_count": 20,
   "metadata": {
    "id": "FhMDTtXewuLo"
   },
   "outputs": [
    {
     "data": {
      "text/plain": [
       "True"
      ]
     },
     "execution_count": 20,
     "metadata": {},
     "output_type": "execute_result"
    }
   ],
   "source": [
    "bool(1 < 2)  # v interaktnivnim interpretu/notebooku lze pouzit bez funkce 'bool'"
   ]
  },
  {
   "cell_type": "code",
   "execution_count": 21,
   "metadata": {
    "id": "-04eC0Ed2fAv"
   },
   "outputs": [
    {
     "data": {
      "text/plain": [
       "False"
      ]
     },
     "execution_count": 21,
     "metadata": {},
     "output_type": "execute_result"
    }
   ],
   "source": [
    "bool(100 > 2000)"
   ]
  },
  {
   "cell_type": "code",
   "execution_count": 22,
   "metadata": {
    "id": "Icun4TRD2ghI"
   },
   "outputs": [
    {
     "data": {
      "text/plain": [
       "True"
      ]
     },
     "execution_count": 22,
     "metadata": {},
     "output_type": "execute_result"
    }
   ],
   "source": [
    "bool(100 >= 99)"
   ]
  },
  {
   "cell_type": "code",
   "execution_count": 23,
   "metadata": {
    "id": "X1DFPVoc2jCv"
   },
   "outputs": [
    {
     "data": {
      "text/plain": [
       "True"
      ]
     },
     "execution_count": 23,
     "metadata": {},
     "output_type": "execute_result"
    }
   ],
   "source": [
    "bool(5 == 5)"
   ]
  },
  {
   "cell_type": "code",
   "execution_count": 24,
   "metadata": {
    "id": "FUbOjSr92kh-"
   },
   "outputs": [
    {
     "data": {
      "text/plain": [
       "False"
      ]
     },
     "execution_count": 24,
     "metadata": {},
     "output_type": "execute_result"
    }
   ],
   "source": [
    "bool(5 != 5)"
   ]
  },
  {
   "cell_type": "code",
   "execution_count": 25,
   "metadata": {
    "id": "aaOrLj2h2mhW"
   },
   "outputs": [
    {
     "data": {
      "text/plain": [
       "False"
      ]
     },
     "execution_count": 25,
     "metadata": {},
     "output_type": "execute_result"
    }
   ],
   "source": [
    "bool(True == False)"
   ]
  },
  {
   "cell_type": "markdown",
   "metadata": {
    "id": "GdJsPTqh2ovC"
   },
   "source": [
    "<br>\n",
    "\n",
    "**Srovnání dvou hodnot** pomocí `==`a `!=`:"
   ]
  },
  {
   "cell_type": "code",
   "execution_count": null,
   "metadata": {
    "id": "FA3OsduR2pO_"
   },
   "outputs": [],
   "source": [
    "bool(10 == 10)"
   ]
  },
  {
   "cell_type": "code",
   "execution_count": null,
   "metadata": {
    "id": "cWLHUpQZ2tYc"
   },
   "outputs": [],
   "source": [
    "bool(5 == 10)"
   ]
  },
  {
   "cell_type": "code",
   "execution_count": null,
   "metadata": {
    "id": "Rs7KlbTk2uvK"
   },
   "outputs": [],
   "source": [
    "bool(5 != 10)"
   ]
  },
  {
   "cell_type": "code",
   "execution_count": null,
   "metadata": {
    "id": "3MbiCJt-2wqC"
   },
   "outputs": [],
   "source": [
    "bool(10 != 10)"
   ]
  },
  {
   "cell_type": "markdown",
   "metadata": {
    "id": "ziRcPtWlksBt"
   },
   "source": [
    "<br>\n",
    "\n",
    "## **Srovnávání identit?**\n",
    "\n",
    "---\n"
   ]
  },
  {
   "cell_type": "markdown",
   "metadata": {
    "id": "L84HO1LI24rE"
   },
   "source": [
    "Obecně platí, že všechno v Pythonu je **objekt**.\n",
    "\n",
    "<br>\n",
    "\n",
    "Každý objekt má svůj **identifikátor** (jako mají auta unikátní poznávací značky).\n",
    "\n",
    "<br>\n",
    "\n",
    "Tento **identifikátor** můžeš vypsat pomocí zabudované funkce [id](https://docs.python.org/3/library/functions.html#id)."
   ]
  },
  {
   "cell_type": "code",
   "execution_count": 26,
   "metadata": {
    "id": "S1fqRJte26sG"
   },
   "outputs": [
    {
     "name": "stdout",
     "output_type": "stream",
     "text": [
      "3188191896176\n"
     ]
    }
   ],
   "source": [
    "jmeno_1 = \"Radim\"\n",
    "print(id(jmeno_1))"
   ]
  },
  {
   "cell_type": "code",
   "execution_count": 27,
   "metadata": {
    "id": "HcOfkfak3R16"
   },
   "outputs": [
    {
     "name": "stdout",
     "output_type": "stream",
     "text": [
      "3188191935600\n"
     ]
    }
   ],
   "source": [
    "jmeno_2 = \"Lukas\"\n",
    "print(id(jmeno_2))"
   ]
  },
  {
   "cell_type": "code",
   "execution_count": 28,
   "metadata": {
    "id": "mRtFAMmK3Vfp"
   },
   "outputs": [
    {
     "name": "stdout",
     "output_type": "stream",
     "text": [
      "3188191921712\n"
     ]
    }
   ],
   "source": [
    "prijmeni_1 = \"Jedlicka\"\n",
    "print(id(prijmeni_1))"
   ]
  },
  {
   "cell_type": "code",
   "execution_count": 29,
   "metadata": {
    "id": "j6wSzOup3bcl"
   },
   "outputs": [
    {
     "name": "stdout",
     "output_type": "stream",
     "text": [
      "3188191921712\n"
     ]
    }
   ],
   "source": [
    "prijmeni_2 = \"Jedlicka\"\n",
    "print(id(prijmeni_2))"
   ]
  },
  {
   "cell_type": "markdown",
   "metadata": {
    "id": "4ITRpJAt3hXt"
   },
   "source": [
    "<br>\n",
    "\n",
    "Vidíme, že identifikátorem bude delší celé číslo. Pokud jsou **číslá stejná**, jde o **identickou hodnotu** v paměti našeho počítače."
   ]
  },
  {
   "cell_type": "code",
   "execution_count": 30,
   "metadata": {
    "id": "YUKTb00U3ho4"
   },
   "outputs": [
    {
     "data": {
      "text/plain": [
       "False"
      ]
     },
     "execution_count": 30,
     "metadata": {},
     "output_type": "execute_result"
    }
   ],
   "source": [
    "bool(jmeno_1 is jmeno_2)"
   ]
  },
  {
   "cell_type": "code",
   "execution_count": 31,
   "metadata": {
    "id": "iMAtiZGEUlHh"
   },
   "outputs": [
    {
     "data": {
      "text/plain": [
       "False"
      ]
     },
     "execution_count": 31,
     "metadata": {},
     "output_type": "execute_result"
    }
   ],
   "source": [
    "bool(jmeno_1 == jmeno_2)"
   ]
  },
  {
   "cell_type": "code",
   "execution_count": 32,
   "metadata": {
    "id": "kqN2ZiH93k1j"
   },
   "outputs": [
    {
     "data": {
      "text/plain": [
       "True"
      ]
     },
     "execution_count": 32,
     "metadata": {},
     "output_type": "execute_result"
    }
   ],
   "source": [
    "prijmeni_1 is prijmeni_2"
   ]
  },
  {
   "cell_type": "markdown",
   "metadata": {
    "id": "d_yQ649bkw_m"
   },
   "source": [
    "<br>\n",
    "\n",
    "## **Logické operace**\n",
    "\n",
    "---"
   ]
  },
  {
   "cell_type": "markdown",
   "metadata": {
    "id": "arKS8S51380j"
   },
   "source": [
    "Tyto operace jsou spojené s **boolean operátory**:\n",
    "1. `and`,\n",
    "2. `or`,\n",
    "3. `not`.\n",
    "\n",
    "<br>\n",
    "\n",
    "Tyto operátory slouží ke spojování (kombinování) několika **boolean** hodnot.\n"
   ]
  },
  {
   "cell_type": "markdown",
   "metadata": {
    "id": "r5m5USSok0Vl"
   },
   "source": [
    "\n",
    "<br>\n",
    "\n",
    "### **Operátor `and`**"
   ]
  },
  {
   "cell_type": "code",
   "execution_count": 33,
   "metadata": {
    "id": "23ZvF8b83_4Z"
   },
   "outputs": [
    {
     "data": {
      "text/plain": [
       "True"
      ]
     },
     "execution_count": 33,
     "metadata": {},
     "output_type": "execute_result"
    }
   ],
   "source": [
    "bool(True and True)"
   ]
  },
  {
   "cell_type": "code",
   "execution_count": 34,
   "metadata": {
    "id": "iLMKAn-j4HLQ"
   },
   "outputs": [
    {
     "data": {
      "text/plain": [
       "False"
      ]
     },
     "execution_count": 34,
     "metadata": {},
     "output_type": "execute_result"
    }
   ],
   "source": [
    "bool(True and False)"
   ]
  },
  {
   "cell_type": "code",
   "execution_count": 35,
   "metadata": {
    "id": "DrgRUbrA4Jds"
   },
   "outputs": [
    {
     "data": {
      "text/plain": [
       "False"
      ]
     },
     "execution_count": 35,
     "metadata": {},
     "output_type": "execute_result"
    }
   ],
   "source": [
    "bool(False and True)"
   ]
  },
  {
   "cell_type": "code",
   "execution_count": 36,
   "metadata": {
    "id": "Y6C8tzT_4K4q"
   },
   "outputs": [
    {
     "data": {
      "text/plain": [
       "False"
      ]
     },
     "execution_count": 36,
     "metadata": {},
     "output_type": "execute_result"
    }
   ],
   "source": [
    "bool(False and False)"
   ]
  },
  {
   "cell_type": "code",
   "execution_count": 37,
   "metadata": {
    "id": "xDlQavTz4MnL"
   },
   "outputs": [
    {
     "data": {
      "text/plain": [
       "True"
      ]
     },
     "execution_count": 37,
     "metadata": {},
     "output_type": "execute_result"
    }
   ],
   "source": [
    "bool(True and True and True)"
   ]
  },
  {
   "cell_type": "code",
   "execution_count": 38,
   "metadata": {
    "id": "DcVNs70M4OU9"
   },
   "outputs": [
    {
     "data": {
      "text/plain": [
       "False"
      ]
     },
     "execution_count": 38,
     "metadata": {},
     "output_type": "execute_result"
    }
   ],
   "source": [
    "bool(True and True and True and False)"
   ]
  },
  {
   "cell_type": "markdown",
   "metadata": {
    "id": "TG4g3S7N4RUp"
   },
   "source": [
    "<br>\n",
    "\n",
    "Pokud použijeme **boolean operátor** `and` a od jednotlivých výroků získám byť jednu hodnotu `False`, **celý výsledek** bude **nepravdivý**. Tedy `False`.\n",
    "\n",
    "<br>\n",
    "\n",
    "Často můžeme aplikovat princip tzv. *zkráceného vyhodnocování*. Pokud uvidím jako první hodnotu `False` (a pracuji s operátorem `and`), nemusíš procházet dálší výrazy. Výsledek je `False`.\n"
   ]
  },
  {
   "cell_type": "markdown",
   "metadata": {
    "id": "Wt8oeIuZk2vs"
   },
   "source": [
    "\n",
    "<br>\n",
    "\n",
    "### **Operátor `or`**"
   ]
  },
  {
   "cell_type": "code",
   "execution_count": 39,
   "metadata": {
    "id": "aDoldoYe4RD7"
   },
   "outputs": [
    {
     "data": {
      "text/plain": [
       "True"
      ]
     },
     "execution_count": 39,
     "metadata": {},
     "output_type": "execute_result"
    }
   ],
   "source": [
    "bool(True or True)"
   ]
  },
  {
   "cell_type": "code",
   "execution_count": 40,
   "metadata": {
    "id": "qDwwpLRT4wUV"
   },
   "outputs": [
    {
     "data": {
      "text/plain": [
       "True"
      ]
     },
     "execution_count": 40,
     "metadata": {},
     "output_type": "execute_result"
    }
   ],
   "source": [
    "bool(True or False)"
   ]
  },
  {
   "cell_type": "code",
   "execution_count": 41,
   "metadata": {
    "id": "yK_IloVd4xgK"
   },
   "outputs": [
    {
     "data": {
      "text/plain": [
       "True"
      ]
     },
     "execution_count": 41,
     "metadata": {},
     "output_type": "execute_result"
    }
   ],
   "source": [
    "bool(False or True)"
   ]
  },
  {
   "cell_type": "code",
   "execution_count": 42,
   "metadata": {
    "id": "Mj5PN4844ytX"
   },
   "outputs": [
    {
     "data": {
      "text/plain": [
       "False"
      ]
     },
     "execution_count": 42,
     "metadata": {},
     "output_type": "execute_result"
    }
   ],
   "source": [
    "bool(False or False)"
   ]
  },
  {
   "cell_type": "code",
   "execution_count": 43,
   "metadata": {
    "id": "acHLjuq840t3"
   },
   "outputs": [
    {
     "data": {
      "text/plain": [
       "False"
      ]
     },
     "execution_count": 43,
     "metadata": {},
     "output_type": "execute_result"
    }
   ],
   "source": [
    "bool(False or False or False)"
   ]
  },
  {
   "cell_type": "code",
   "execution_count": 44,
   "metadata": {
    "id": "L_8w2Osg42-g"
   },
   "outputs": [
    {
     "data": {
      "text/plain": [
       "True"
      ]
     },
     "execution_count": 44,
     "metadata": {},
     "output_type": "execute_result"
    }
   ],
   "source": [
    "bool(False or False or True)"
   ]
  },
  {
   "cell_type": "markdown",
   "metadata": {
    "id": "OEwtzrsP5VFk"
   },
   "source": [
    "<br>\n",
    "\n",
    "Pokud použijeme **boolean operátor** `or` a od jednotlivých výroků získám byť jednu hodnotu `True`, **celý výsledek** bude **pravdivý**. Tedy `True`.\n",
    "\n",
    "<br>\n",
    "\n",
    "Opět lze použít princip **zrychleného vyhodnocování**. Tedy pokud funkce `bool` vrátí aspoň jednu hodnotu `True` (a pracuji s operátorem `or`), výsledek celého zápisu bude `True`.\n"
   ]
  },
  {
   "cell_type": "markdown",
   "metadata": {
    "id": "LngKBEg3k5E4"
   },
   "source": [
    "\n",
    "<br>\n",
    "\n",
    "### **Operátor `not`**"
   ]
  },
  {
   "cell_type": "code",
   "execution_count": 45,
   "metadata": {
    "id": "0dQZQk-f5Wl8"
   },
   "outputs": [
    {
     "data": {
      "text/plain": [
       "False"
      ]
     },
     "execution_count": 45,
     "metadata": {},
     "output_type": "execute_result"
    }
   ],
   "source": [
    "bool(not True)"
   ]
  },
  {
   "cell_type": "code",
   "execution_count": 46,
   "metadata": {
    "id": "EtruXtTw56bU"
   },
   "outputs": [
    {
     "data": {
      "text/plain": [
       "True"
      ]
     },
     "execution_count": 46,
     "metadata": {},
     "output_type": "execute_result"
    }
   ],
   "source": [
    "bool(not False)"
   ]
  },
  {
   "cell_type": "markdown",
   "metadata": {
    "id": "yD5Ovhxu59_h"
   },
   "source": [
    "<br>\n",
    "\n",
    "Jde o operaci, kterou lze aplikovat na **jedinou** **boolean** hodnotu, kdy výsledkem je její obrácená hodnota."
   ]
  },
  {
   "cell_type": "markdown",
   "metadata": {
    "id": "Tp1nC-Vlk9IS"
   },
   "source": [
    "<br>\n",
    "\n",
    "## **Ověření členství (~membership testing)**\n",
    "\n",
    "---"
   ]
  },
  {
   "cell_type": "markdown",
   "metadata": {
    "id": "Yqw1FAbt6GKI"
   },
   "source": [
    "Nejde o proces, který by přímo pracoval s **boolean** hodnotami.\n",
    "\n",
    "<br>\n",
    "\n",
    "Ovšem právě `True` a `False` jsou hodnoty, které jsou výsledkem toho procesu.\n",
    "\n",
    "<br>\n",
    "\n",
    "V podstatě jde o jednoduché zjišťování, jestli je konkrétní prvek členem konkrétní sekvence (obecně platí pro `str`, `list` a `tuple`)."
   ]
  },
  {
   "cell_type": "code",
   "execution_count": 47,
   "metadata": {
    "id": "KDsvvLJb5-jz"
   },
   "outputs": [
    {
     "data": {
      "text/plain": [
       "False"
      ]
     },
     "execution_count": 47,
     "metadata": {},
     "output_type": "execute_result"
    }
   ],
   "source": [
    "bool(\"m\" in \"Matous\")"
   ]
  },
  {
   "cell_type": "code",
   "execution_count": 48,
   "metadata": {
    "id": "QSPlWCd36NyC"
   },
   "outputs": [
    {
     "data": {
      "text/plain": [
       "True"
      ]
     },
     "execution_count": 48,
     "metadata": {},
     "output_type": "execute_result"
    }
   ],
   "source": [
    "bool(\"M\" in \"Matous\")"
   ]
  },
  {
   "cell_type": "code",
   "execution_count": 49,
   "metadata": {
    "id": "8AaopcCa6PSH"
   },
   "outputs": [
    {
     "data": {
      "text/plain": [
       "True"
      ]
     },
     "execution_count": 49,
     "metadata": {},
     "output_type": "execute_result"
    }
   ],
   "source": [
    "bool(\"@\" not in \"Matous\")"
   ]
  },
  {
   "cell_type": "code",
   "execution_count": 50,
   "metadata": {
    "id": "pk3GDIB36Yr4"
   },
   "outputs": [
    {
     "data": {
      "text/plain": [
       "False"
      ]
     },
     "execution_count": 50,
     "metadata": {},
     "output_type": "execute_result"
    }
   ],
   "source": [
    "bool(\"a\" not in \"Matous\")"
   ]
  },
  {
   "cell_type": "markdown",
   "metadata": {
    "id": "lrQL-mVZ8EGw"
   },
   "source": [
    "<br>\n",
    "\n",
    "Na levé straně od `in` vidíme string `\"m\"` a na pravé straně `\"Matous\"`.\n",
    "\n",
    "<br>\n",
    "\n",
    "V podstatě se ptáme následovně:\"**Je výraz na levé straně součásti výrazu na pravé straně?**\".\n",
    "\n",
    "<br>\n",
    "\n",
    "Pokud je odpovědí ano, potom Python vypíše hodnotu `True`. V opačném případě `False`.\n",
    "\n",
    "<br>\n",
    "\n",
    "**Ověření členství** je proces, který obecně zařazujeme mezi operace jako *indexing*, *slicing*, *striding*. Resp. **operace, které můžeme provádět se sekvencemi**."
   ]
  },
  {
   "cell_type": "markdown",
   "metadata": {
    "id": "NA7uyqddlgD0"
   },
   "source": [
    "<br>\n",
    "\n",
    "### **`is` nebo `==` ?**"
   ]
  },
  {
   "cell_type": "markdown",
   "metadata": {
    "id": "em9pEfRL8HKz"
   },
   "source": [
    "Opatrně na aplikaci operátorů porovnávání **identit** a **hodnot**:\n",
    "\n",
    "<br>\n",
    "\n",
    "* `==` a `!=` porovnávají hodnotu dvou objektů\n",
    "* `is` a `is not` porovnávají, jestli dvě proměnné ukazují v paměti počítače na stejný objekt"
   ]
  },
  {
   "cell_type": "code",
   "execution_count": 51,
   "metadata": {
    "id": "Ej1tPwy_8Eb4"
   },
   "outputs": [],
   "source": [
    "muj_seznam_1 = [1, 2, 3]\n",
    "muj_seznam_2 = [1, 2]"
   ]
  },
  {
   "cell_type": "code",
   "execution_count": 52,
   "metadata": {
    "id": "DrU-D4Rj8Moa"
   },
   "outputs": [
    {
     "data": {
      "text/plain": [
       "False"
      ]
     },
     "execution_count": 52,
     "metadata": {},
     "output_type": "execute_result"
    }
   ],
   "source": [
    "muj_seznam_1 == muj_seznam_2  # [1, 2, 3] == [1, 2]"
   ]
  },
  {
   "cell_type": "code",
   "execution_count": 54,
   "metadata": {
    "id": "G--nJgXS8Qux"
   },
   "outputs": [],
   "source": [
    "muj_seznam_3 = [1, 2, 3]\n",
    "muj_seznam_4 = [1, 2, 3]"
   ]
  },
  {
   "cell_type": "code",
   "execution_count": 55,
   "metadata": {
    "id": "aojn6RHY8SJn"
   },
   "outputs": [
    {
     "data": {
      "text/plain": [
       "True"
      ]
     },
     "execution_count": 55,
     "metadata": {},
     "output_type": "execute_result"
    }
   ],
   "source": [
    "muj_seznam_3 == muj_seznam_4"
   ]
  },
  {
   "cell_type": "code",
   "execution_count": 56,
   "metadata": {
    "id": "F1qOM-1t8UQQ"
   },
   "outputs": [
    {
     "data": {
      "text/plain": [
       "3188192305344"
      ]
     },
     "execution_count": 56,
     "metadata": {},
     "output_type": "execute_result"
    }
   ],
   "source": [
    "id(muj_seznam_3)"
   ]
  },
  {
   "cell_type": "code",
   "execution_count": 57,
   "metadata": {
    "id": "4ibGNpxv8eBv"
   },
   "outputs": [
    {
     "data": {
      "text/plain": [
       "3188192421312"
      ]
     },
     "execution_count": 57,
     "metadata": {},
     "output_type": "execute_result"
    }
   ],
   "source": [
    "id(muj_seznam_4)"
   ]
  },
  {
   "cell_type": "code",
   "execution_count": 58,
   "metadata": {
    "id": "oRnMSMXi8frR"
   },
   "outputs": [
    {
     "data": {
      "text/plain": [
       "False"
      ]
     },
     "execution_count": 58,
     "metadata": {},
     "output_type": "execute_result"
    }
   ],
   "source": [
    "muj_seznam_3 is muj_seznam_4"
   ]
  },
  {
   "cell_type": "markdown",
   "metadata": {
    "id": "Nae2FqoimOGV"
   },
   "source": [
    "<details>\n",
    "  <summary> ❓ Klikni zde pro vysvětlení</summary>\n",
    "\n",
    "Proč muj_seznam_3 a 4 maí jiný id, \n",
    "když jejich hodnoty jsou stejné? \n",
    "\n",
    "Viz vysvětlení idu výše. -> pro seznamny se vytváří vždy nove id. Je to výjimka.\n",
    "\n",
    "</details>"
   ]
  },
  {
   "cell_type": "markdown",
   "metadata": {
    "id": "ouUxp6FL8lmM"
   },
   "source": [
    "<br>\n",
    "\n",
    "## 😏 **Zrádné syntaxe**\n",
    "\n",
    "---"
   ]
  },
  {
   "cell_type": "code",
   "execution_count": 59,
   "metadata": {
    "id": "R7nBvT1J8r5d"
   },
   "outputs": [
    {
     "data": {
      "text/plain": [
       "True"
      ]
     },
     "execution_count": 59,
     "metadata": {},
     "output_type": "execute_result"
    }
   ],
   "source": [
    "True == 1"
   ]
  },
  {
   "cell_type": "code",
   "execution_count": 60,
   "metadata": {
    "id": "S4Y4yR3D8zMC"
   },
   "outputs": [
    {
     "data": {
      "text/plain": [
       "12"
      ]
     },
     "execution_count": 60,
     "metadata": {},
     "output_type": "execute_result"
    }
   ],
   "source": [
    "True + 11"
   ]
  },
  {
   "cell_type": "code",
   "execution_count": 61,
   "metadata": {
    "id": "3ltB4jG381GI"
   },
   "outputs": [
    {
     "data": {
      "text/plain": [
       "'Marek'"
      ]
     },
     "execution_count": 61,
     "metadata": {},
     "output_type": "execute_result"
    }
   ],
   "source": [
    "[\"Matous\", \"Marek\"][True]"
   ]
  },
  {
   "cell_type": "code",
   "execution_count": 62,
   "metadata": {
    "id": "zrxXGtIk83Pp"
   },
   "outputs": [
    {
     "name": "stdout",
     "output_type": "stream",
     "text": [
      "Matous\n"
     ]
    }
   ],
   "source": [
    "print([\"Matous\", \"Marek\"][False])"
   ]
  },
  {
   "cell_type": "code",
   "execution_count": 63,
   "metadata": {
    "id": "a9S0z_CX85LK"
   },
   "outputs": [
    {
     "data": {
      "text/plain": [
       "1"
      ]
     },
     "execution_count": 63,
     "metadata": {},
     "output_type": "execute_result"
    }
   ],
   "source": [
    "int(True)"
   ]
  },
  {
   "cell_type": "code",
   "execution_count": 64,
   "metadata": {
    "id": "rRcc_nrJ869I"
   },
   "outputs": [
    {
     "data": {
      "text/plain": [
       "True"
      ]
     },
     "execution_count": 64,
     "metadata": {},
     "output_type": "execute_result"
    }
   ],
   "source": [
    "1 < 5 < 10  # 1 < 5 a 5 < 10"
   ]
  },
  {
   "cell_type": "code",
   "execution_count": 65,
   "metadata": {
    "id": "2BF-MTUJ89po"
   },
   "outputs": [
    {
     "data": {
      "text/plain": [
       "False"
      ]
     },
     "execution_count": 65,
     "metadata": {},
     "output_type": "execute_result"
    }
   ],
   "source": [
    "'1' == 1"
   ]
  },
  {
   "cell_type": "code",
   "execution_count": 66,
   "metadata": {
    "id": "n4Xd5-188_Ca"
   },
   "outputs": [
    {
     "data": {
      "text/plain": [
       "True"
      ]
     },
     "execution_count": 66,
     "metadata": {},
     "output_type": "execute_result"
    }
   ],
   "source": [
    "10 == 10.0"
   ]
  },
  {
   "cell_type": "code",
   "execution_count": 67,
   "metadata": {
    "id": "qPZnddns9AwN"
   },
   "outputs": [
    {
     "data": {
      "text/plain": [
       "True"
      ]
     },
     "execution_count": 67,
     "metadata": {},
     "output_type": "execute_result"
    }
   ],
   "source": [
    "[\"Matous\", \"Lukas\"] == [\"Matous\", \"Lukas\"]"
   ]
  },
  {
   "cell_type": "code",
   "execution_count": 68,
   "metadata": {
    "id": "d27m41H3nSUC"
   },
   "outputs": [
    {
     "data": {
      "text/plain": [
       "False"
      ]
     },
     "execution_count": 68,
     "metadata": {},
     "output_type": "execute_result"
    }
   ],
   "source": [
    "[\"Matous\", \"Lukas\"] == [\"Lukas\", \"Matous\"]"
   ]
  },
  {
   "cell_type": "code",
   "execution_count": 70,
   "metadata": {},
   "outputs": [
    {
     "data": {
      "text/plain": [
       "False"
      ]
     },
     "execution_count": 70,
     "metadata": {},
     "output_type": "execute_result"
    }
   ],
   "source": [
    "1 != 1"
   ]
  },
  {
   "cell_type": "code",
   "execution_count": 71,
   "metadata": {
    "id": "k6lMkf9I9KaJ"
   },
   "outputs": [
    {
     "data": {
      "text/plain": [
       "3188191924480"
      ]
     },
     "execution_count": 71,
     "metadata": {},
     "output_type": "execute_result"
    }
   ],
   "source": [
    "id([])           # proc jsou tyto dva idy rozdilne???"
   ]
  },
  {
   "cell_type": "code",
   "execution_count": 72,
   "metadata": {
    "id": "9c7b4auf9ZU9"
   },
   "outputs": [
    {
     "data": {
      "text/plain": [
       "3188192292672"
      ]
     },
     "execution_count": 72,
     "metadata": {},
     "output_type": "execute_result"
    }
   ],
   "source": [
    "id([])"
   ]
  },
  {
   "cell_type": "code",
   "execution_count": 73,
   "metadata": {
    "id": "Dd2Eq0eB9aSx"
   },
   "outputs": [
    {
     "data": {
      "text/plain": [
       "False"
      ]
     },
     "execution_count": 73,
     "metadata": {},
     "output_type": "execute_result"
    }
   ],
   "source": [
    "[] is []"
   ]
  },
  {
   "cell_type": "code",
   "execution_count": 74,
   "metadata": {
    "id": "SQpUBT-09dcY"
   },
   "outputs": [
    {
     "data": {
      "text/plain": [
       "True"
      ]
     },
     "execution_count": 74,
     "metadata": {},
     "output_type": "execute_result"
    }
   ],
   "source": [
    "bool(\"a\" < \"d\")"
   ]
  },
  {
   "cell_type": "code",
   "execution_count": 75,
   "metadata": {
    "id": "nwoSZpaR9gSu"
   },
   "outputs": [
    {
     "data": {
      "text/plain": [
       "65"
      ]
     },
     "execution_count": 75,
     "metadata": {},
     "output_type": "execute_result"
    }
   ],
   "source": [
    "ord(\"A\")"
   ]
  },
  {
   "cell_type": "code",
   "execution_count": 76,
   "metadata": {
    "id": "2z27boGV9iCa"
   },
   "outputs": [
    {
     "data": {
      "text/plain": [
       "100"
      ]
     },
     "execution_count": 76,
     "metadata": {},
     "output_type": "execute_result"
    }
   ],
   "source": [
    "ord(\"d\")"
   ]
  },
  {
   "cell_type": "code",
   "execution_count": 77,
   "metadata": {
    "id": "Jvg6O-rM9jXI"
   },
   "outputs": [
    {
     "data": {
      "text/plain": [
       "64"
      ]
     },
     "execution_count": 77,
     "metadata": {},
     "output_type": "execute_result"
    }
   ],
   "source": [
    "ord(\"@\")"
   ]
  },
  {
   "cell_type": "code",
   "execution_count": 78,
   "metadata": {
    "id": "e0nuO01E9kq3"
   },
   "outputs": [
    {
     "data": {
      "text/plain": [
       "'@'"
      ]
     },
     "execution_count": 78,
     "metadata": {},
     "output_type": "execute_result"
    }
   ],
   "source": [
    "chr(64)"
   ]
  },
  {
   "cell_type": "code",
   "execution_count": 79,
   "metadata": {
    "id": "jwlOvRkfqJDL"
   },
   "outputs": [
    {
     "data": {
      "text/plain": [
       "'d'"
      ]
     },
     "execution_count": 79,
     "metadata": {},
     "output_type": "execute_result"
    }
   ],
   "source": [
    "chr(100)"
   ]
  },
  {
   "cell_type": "code",
   "execution_count": 80,
   "metadata": {
    "id": "AJYTP1zt9mC0"
   },
   "outputs": [
    {
     "data": {
      "text/plain": [
       "'A'"
      ]
     },
     "execution_count": 80,
     "metadata": {},
     "output_type": "execute_result"
    }
   ],
   "source": [
    "chr(65)"
   ]
  }
 ],
 "metadata": {
  "colab": {
   "provenance": []
  },
  "kernelspec": {
   "display_name": "Python 3 (ipykernel)",
   "language": "python",
   "name": "python3"
  },
  "language_info": {
   "codemirror_mode": {
    "name": "ipython",
    "version": 3
   },
   "file_extension": ".py",
   "mimetype": "text/x-python",
   "name": "python",
   "nbconvert_exporter": "python",
   "pygments_lexer": "ipython3",
   "version": "3.10.0"
  }
 },
 "nbformat": 4,
 "nbformat_minor": 1
}
