{
 "cells": [
  {
   "cell_type": "markdown",
   "metadata": {
    "id": "QZ7IPw8dfkVG"
   },
   "source": [
    "\n",
    "<h6 align=right> 🐍 Python akademie - lekce 2 - 08.03.2023</h6>"
   ]
  },
  {
   "cell_type": "markdown",
   "metadata": {
    "id": "sXh6ip-BfoLm"
   },
   "source": [
    "<br>\n",
    "\n",
    "# <h1 align=center><font color=black size=24><b> 02_02: Podmínky</font></h1>\n",
    "\n",
    "<br>"
   ]
  },
  {
   "cell_type": "markdown",
   "metadata": {
    "id": "ll9Unyfhr0Et"
   },
   "source": [
    "<br>\n",
    "\n",
    "---\n",
    "\n",
    "### **Zajímavé odkazy z této lekce:**\n",
    "\n",
    "* [Oficiální dokumentace](https://docs.python.org/3/tutorial/controlflow.html)\n",
    "* [If/Else of W3Schools](https://www.w3schools.com/python/python_conditions.asp)\n",
    "* [Real Python](https://realpython.com/python-conditional-statements/)\n",
    "\n",
    "---\n",
    "\n",
    "<br>"
   ]
  },
  {
   "cell_type": "markdown",
   "metadata": {
    "id": "tg1m_qiNfzsd"
   },
   "source": [
    "<br>\n",
    "\n",
    "*Rozhodování* je proces, který budeš potřebovat pokud budeš chtít, aby **tvůj zápis** uměl sám vyvodit závěr.\n",
    "\n",
    "<br>\n",
    "\n",
    "V Pythonu můžeš rozhodování zapsat pomocí tzv. ***podmínkového zápisu***.\n"
   ]
  },
  {
   "cell_type": "markdown",
   "metadata": {
    "id": "hc7B2hHDsIhq"
   },
   "source": [
    "<br>\n",
    "\n",
    "## **Předpis `if`**\n",
    "\n",
    "---"
   ]
  },
  {
   "cell_type": "markdown",
   "metadata": {
    "id": "7iFpXKTlsPb0"
   },
   "source": [
    "syntaxe\n",
    "\n",
    "```python\n",
    "if <podmínka>:\n",
    "    <kód>\n",
    "    <kód>\n",
    "```"
   ]
  },
  {
   "cell_type": "markdown",
   "metadata": {
    "id": "oRekzopUtqXV"
   },
   "source": [
    "Jednoduchý podmínkový zápis (předpis podmínkové větve s `if`) zapisujeme následovně:\n",
    "1. Klíčové slovo `if`,\n",
    "2. podmínka (představme si `bool(...)`),\n",
    "3. předpisový řádek ukončený dvojtečkou,\n",
    "4. odsazený následující řádek."
   ]
  },
  {
   "cell_type": "code",
   "execution_count": 1,
   "metadata": {
    "id": "P5U0W9jCtYxf"
   },
   "outputs": [
    {
     "name": "stdout",
     "output_type": "stream",
     "text": [
      "1 je stejna jako 1\n"
     ]
    }
   ],
   "source": [
    "if 1 == 1:\n",
    "    print('1 je stejna jako 1')"
   ]
  },
  {
   "cell_type": "code",
   "execution_count": 2,
   "metadata": {
    "id": "1qyCeGeHtyJb"
   },
   "outputs": [
    {
     "name": "stdout",
     "output_type": "stream",
     "text": [
      "2\n",
      "Dam si radsi pomeranc\n"
     ]
    }
   ],
   "source": [
    "if 'jablko' == 'jablko':\n",
    "    print(1 + 1)\n",
    "    print('Dam si radsi pomeranc')"
   ]
  },
  {
   "cell_type": "markdown",
   "metadata": {
    "id": "6D14JsLjuKT0"
   },
   "source": [
    "<br>\n",
    "\n",
    "Python se podívá na **podmínku** (příp. výraz) a pokud ji vyhodnotí **jako pravdivou** (`True`), **provede odsazený řádek** pod předpisem.\n",
    "\n",
    "<br>\n",
    "\n",
    "Pokud ji vyhodnotí **jako nepravdivou** (`False`), **přeskočí odsazený řádek** pod předpisem.\n",
    "\n",
    "<br>"
   ]
  },
  {
   "cell_type": "code",
   "execution_count": 3,
   "metadata": {
    "id": "X4fI3bNefhmr"
   },
   "outputs": [
    {
     "name": "stdout",
     "output_type": "stream",
     "text": [
      "Ahoj,studenti!\n",
      "Pokracuji v kodu pod podminkou...\n"
     ]
    }
   ],
   "source": [
    "if True:\n",
    "    print(\"Ahoj,studenti!\")\n",
    "print(\"Pokracuji v kodu pod podminkou...\")"
   ]
  },
  {
   "cell_type": "markdown",
   "metadata": {
    "id": "8DYqJyoXusV3"
   },
   "source": [
    "<details>\n",
    "  <summary> ❓ Klikni zde pro vysvětlení</summary>\n",
    "\n",
    "Proč se vypsaly obě možnosti ??? -> kód prostě pokračuje dál, protože první podmínka je `True`\n",
    "\n",
    "</details>"
   ]
  },
  {
   "cell_type": "code",
   "execution_count": 4,
   "metadata": {
    "id": "nj9x3rR3h2SG"
   },
   "outputs": [
    {
     "name": "stdout",
     "output_type": "stream",
     "text": [
      "Pokracuji v kodu pod podminkou...\n"
     ]
    }
   ],
   "source": [
    "if False:\n",
    "    print(\"Ahoj, Matousi!\")\n",
    "print(\"Pokracuji v kodu pod podminkou...\")"
   ]
  },
  {
   "cell_type": "code",
   "execution_count": 6,
   "metadata": {},
   "outputs": [],
   "source": [
    "if 1 > 2:\n",
    "    print('Ahoj')"
   ]
  },
  {
   "cell_type": "markdown",
   "metadata": {
    "id": "RvRMpiVxvWZw"
   },
   "source": [
    "<br>\n",
    "\n",
    "## **Předpis `if` / `else`**\n",
    "\n",
    "---"
   ]
  },
  {
   "cell_type": "markdown",
   "metadata": {
    "id": "hESlCNY_h9Er"
   },
   "source": [
    "<br>\n",
    "\n",
    "Velmi často se dostaneš do situace, kdy potřebuješ napsat dvojí průběh (~*control flow*) tvého programu.\n",
    "\n",
    "<br>\n",
    "\n",
    "Například:\n",
    "1. *Buď je uživatel registrovaný, může přidat obrázek,*\n",
    "2. *nebo uživatel není registrovaný a nemůže.*\n",
    "\n",
    "<br>\n",
    "\n",
    "nebo:\n",
    "1. *Buď je uživatel starší 18 let, může pokračovat,*\n",
    "2. *nebo není starší 18 let a nemůže.*\n",
    "\n",
    "<br>\n",
    "\n",
    "Tento mluvený předpis *buď/nebo* můžeme v Pythonu zapsat jako `if`/`else`."
   ]
  },
  {
   "cell_type": "code",
   "execution_count": 7,
   "metadata": {
    "id": "ENMchtYeh-3E"
   },
   "outputs": [
    {
     "name": "stdout",
     "output_type": "stream",
     "text": [
      "Pridavam obrazek\n"
     ]
    }
   ],
   "source": [
    "registrovany = True\n",
    "\n",
    "if registrovany:\n",
    "    print(\"Pridavam obrazek\")\n",
    "else:\n",
    "    print(\"Neregistrovani uzivatele nemohou pridat obrazky\")"
   ]
  },
  {
   "cell_type": "code",
   "execution_count": 8,
   "metadata": {
    "id": "whTik4qhjS0Q"
   },
   "outputs": [
    {
     "name": "stdout",
     "output_type": "stream",
     "text": [
      "Neregistrovani uzivatele nemohou pridat obrazky\n"
     ]
    }
   ],
   "source": [
    "registrovany = False\n",
    "\n",
    "if registrovany:\n",
    "    print(\"Pridavam obrazek\")\n",
    "else:\n",
    "    print(\"Neregistrovani uzivatele nemohou pridat obrazky\")"
   ]
  },
  {
   "cell_type": "markdown",
   "metadata": {
    "id": "gKUMsmIPjV3y"
   },
   "source": [
    "<br>\n",
    "\n",
    "Pro předpis s `if` (nebo také *podmínkovou větev*) vždycky platí kontrola podmínky.\n",
    "\n",
    "<br>\n",
    "\n",
    "Pokud bude podmínka vyhodnocená jako nepravdivá (`False`), Python provede odsazený zápis v `else` (tady se žádná podmínka nepíše!)"
   ]
  },
  {
   "cell_type": "markdown",
   "metadata": {
    "id": "1vaiVBbzv5Zl"
   },
   "source": [
    "<br>\n",
    "\n",
    "## **Předpis `if` / `elif` / `else`**\n",
    "\n",
    "---"
   ]
  },
  {
   "cell_type": "markdown",
   "metadata": {
    "id": "KdCUR4UFjcpX"
   },
   "source": [
    "<br>\n",
    "\n",
    "Pokud je potřeba zapsat podmínku **rozvětvenější** (nestačí dvě možnosti), můžeme podmínkový zápis rozšířit další větví s klíčovým slovem `elif` a výrazem:"
   ]
  },
  {
   "cell_type": "code",
   "execution_count": 9,
   "metadata": {
    "id": "kccZ7uS4j1HL"
   },
   "outputs": [
    {
     "name": "stdout",
     "output_type": "stream",
     "text": [
      "Ahoj, Radime!\n"
     ]
    }
   ],
   "source": [
    "JMENO = \"Radim\"\n",
    "\n",
    "if JMENO == \"Radim\":\n",
    "    print(\"Ahoj, Radime!\")\n",
    "elif JMENO == \"Lukas\":\n",
    "    print(\"Ahoj, Lukasi!\")\n",
    "else:\n",
    "    print(\"Ahoj, vsem ostatnim!\")"
   ]
  },
  {
   "cell_type": "code",
   "execution_count": 10,
   "metadata": {
    "id": "ndtRmwRYjTYp"
   },
   "outputs": [
    {
     "name": "stdout",
     "output_type": "stream",
     "text": [
      "Ahoj, Lukasi!\n"
     ]
    }
   ],
   "source": [
    "JMENO = \"Lukas\"\n",
    "\n",
    "if JMENO == \"Radim\":\n",
    "    print(\"Ahoj, Radime!\")\n",
    "elif JMENO == \"Lukas\":\n",
    "    print(\"Ahoj, Lukasi!\")\n",
    "else:\n",
    "    print(\"Ahoj, vsem ostatnim!\")"
   ]
  },
  {
   "cell_type": "code",
   "execution_count": 11,
   "metadata": {
    "id": "ika6n4hslgjc"
   },
   "outputs": [
    {
     "name": "stdout",
     "output_type": "stream",
     "text": [
      "Ahoj, vsem ostatnim!\n"
     ]
    }
   ],
   "source": [
    "JMENO = \"Petr\"\n",
    "\n",
    "if JMENO == \"Radim\":\n",
    "    print(\"Ahoj, Radime!\")\n",
    "elif JMENO == \"Lukas\":\n",
    "    print(\"Ahoj, Lukasi!\")\n",
    "else:\n",
    "    print(\"Ahoj, vsem ostatnim!\")"
   ]
  },
  {
   "cell_type": "markdown",
   "metadata": {
    "id": "_W5ihHwHlmy8"
   },
   "source": [
    "<br>\n",
    "\n",
    "Pro předpis s `if` (nebo také *podmínkovou větev*) vždycky platí kontrola podmínky.\n",
    "\n",
    "<br>\n",
    "\n",
    "Pokud bude podmínka v předpisu s `if` vyhodnocená jako nepravdivá, pokračuj k podmínce v předpisu `elif`. Pokud je pravdivá, proveď odsazený zápis u `elif`.\n",
    "\n",
    "<br>\n",
    "\n",
    "Pokud bude podmínka vyhodnocená jako nepravdivá (`False`), Python provede odsazený zápis v `else` (tady se žádná podmínka nepíše!)"
   ]
  },
  {
   "cell_type": "markdown",
   "metadata": {
    "id": "1sbFEbg8lur0"
   },
   "source": [
    "<br>\n",
    "\n",
    "## **Více výrazů v jednom záhlaví podmínky**\n",
    "\n",
    "---"
   ]
  },
  {
   "cell_type": "markdown",
   "metadata": {
    "id": "JuIJoo13l1Im"
   },
   "source": [
    "Pomocí logických operátorů můžete tvořit ještě striktnější podmínkové větve, které vám umožní specifičtější průběh:"
   ]
  },
  {
   "cell_type": "code",
   "execution_count": 12,
   "metadata": {
    "id": "5pOMMxsUlnVT"
   },
   "outputs": [],
   "source": [
    "JMENO = \"Lukas\"\n",
    "JE_ZDRAVY = True"
   ]
  },
  {
   "cell_type": "code",
   "execution_count": 13,
   "metadata": {
    "id": "8oBMKfpwl6CA"
   },
   "outputs": [],
   "source": [
    "if JMENO == \"Matous\" and JE_ZDRAVY:\n",
    "    ZPRAVA = \"Ahoj, Matousi! Tak at te zdravi neopousti!\"\n",
    "    \n",
    "elif JMENO == \"Lukas\" and JE_ZDRAVY:\n",
    "    ZPRAVA = \"Ahoj, Lukasi! Tak at te zdravi neopousti!\"\n",
    "\n",
    "elif JMENO == \"Matous\" and not JE_ZDRAVY:\n",
    "    ZPRAVA = \"Ahoj, Matousi! Hlavne se brzy uzdrav!\"\n",
    "    \n",
    "elif JMENO == \"Lukas\" and not JE_ZDRAVY:\n",
    "    ZPRAVA = \"Ahoj, Lukasi! Hlavne se brzy uzdrav!\"\n",
    "\n",
    "else:\n",
    "    ZPRAVA = \"Ahoj, vsem ostatnim!\""
   ]
  },
  {
   "cell_type": "code",
   "execution_count": 14,
   "metadata": {
    "id": "EoRbfJf4l-_C"
   },
   "outputs": [
    {
     "name": "stdout",
     "output_type": "stream",
     "text": [
      "Ahoj, Lukasi! Tak at te zdravi neopousti!\n"
     ]
    }
   ],
   "source": [
    "print(ZPRAVA)"
   ]
  },
  {
   "cell_type": "markdown",
   "metadata": {
    "id": "lwN8T-ERKO1h"
   },
   "source": [
    "<br>\n",
    "\n",
    "# **Ternární operátor**\n",
    "\n",
    "---"
   ]
  },
  {
   "cell_type": "markdown",
   "metadata": {
    "id": "_0jMs_LZnOJ_"
   },
   "source": [
    "<br>\n",
    "\n",
    "V Pythonu 2.5 byl přidán jednořádkový zápis pro jednoduchou podmínku `if/else`. Jde o pokročilejší variantu zápisu takové podmínky:\n",
    "\n",
    "```python\n",
    "X if Y else Z\n",
    "```\n",
    "* **X**, proveď pokud `True`\n",
    "* **Y**, podmínka\n",
    "* **Z**, proveď pokud `False`"
   ]
  },
  {
   "cell_type": "code",
   "execution_count": 15,
   "metadata": {
    "id": "pWWuhmjunoB4"
   },
   "outputs": [
    {
     "name": "stdout",
     "output_type": "stream",
     "text": [
      "Muzu ridit\n"
     ]
    }
   ],
   "source": [
    "ridicak = True\n",
    "\n",
    "if ridicak:\n",
    "    print('Muzu ridit')\n",
    "else:\n",
    "    print('Nemuzu ridit')"
   ]
  },
  {
   "cell_type": "code",
   "execution_count": 16,
   "metadata": {
    "id": "-owZw_cGnYAO"
   },
   "outputs": [
    {
     "name": "stdout",
     "output_type": "stream",
     "text": [
      "Muzu ridit\n"
     ]
    }
   ],
   "source": [
    "ridicak = True\n",
    "\n",
    "print(\"Muzu ridit\" if ridicak else \"Nemuzu ridit\")"
   ]
  },
  {
   "cell_type": "code",
   "execution_count": 17,
   "metadata": {
    "id": "zpm-TW9-nmyV"
   },
   "outputs": [
    {
     "name": "stdout",
     "output_type": "stream",
     "text": [
      "Nemuzu ridit\n"
     ]
    }
   ],
   "source": [
    "rid_opravneni = False\n",
    "\n",
    "print(\"Muzu ridit\" if rid_opravneni else \"Nemuzu ridit\")"
   ]
  },
  {
   "cell_type": "markdown",
   "metadata": {
    "id": "joeCq3S2n9Cf"
   },
   "source": [
    "<br>\n",
    "\n",
    "Pokud je výraz za klíčovým slovem `if` vyhodnocený jako **pravdivý** (`True`), proveď `X` (resp. část zápisu před podmínkou).\n",
    "\n",
    "<br>\n",
    "\n",
    "V opačném případě proveď `Y`, tedy část zápisu za `else`."
   ]
  },
  {
   "cell_type": "markdown",
   "metadata": {
    "id": "XntED0i3oHFm"
   },
   "source": [
    "<br>\n",
    "\n",
    "### **Netradiční podoba**\n",
    "\n",
    "Dokonce je možné na vyhodnocení výrazu použít celočíselnou hodnotu booleanu."
   ]
  },
  {
   "cell_type": "code",
   "execution_count": null,
   "metadata": {
    "id": "vQZvkHdhn7c5"
   },
   "outputs": [],
   "source": [
    "rid_opravneni = True\n",
    "\n",
    "status = [\"Nemuzu ridit\", \"Muzu ridit\"][rid_opravneni]  # True -> 1, False -> 0\n",
    "\n",
    "print(status)"
   ]
  },
  {
   "cell_type": "code",
   "execution_count": null,
   "metadata": {
    "id": "b4Sct4_hoOW4"
   },
   "outputs": [],
   "source": [
    "rid_opravneni = False\n",
    "\n",
    "status = [\"Nemuzu ridit\", \"Muzu ridit\"][rid_opravneni]  # True -> 1, False -> 0\n",
    "\n",
    "print(status)"
   ]
  },
  {
   "cell_type": "markdown",
   "metadata": {
    "id": "iFGmnYSPoQIb"
   },
   "source": [
    "<br>\n",
    "\n",
    "Druhá hranatá závorka představuje indexovou část, díky které vybereme hodnotu v první závorce.\n",
    "\n",
    "<br>\n",
    "\n",
    "Nezapomeňme, že `True == 1` a `False == 0`.\n",
    "\n",
    "<br>\n",
    "\n",
    "Tato varianta je ale velice **nečitelná** , a proto se s ní ve skutečném zdrojovém kódu setkáte jen zřídka."
   ]
  }
 ],
 "metadata": {
  "colab": {
   "provenance": [],
   "toc_visible": true
  },
  "kernelspec": {
   "display_name": "Python 3 (ipykernel)",
   "language": "python",
   "name": "python3"
  },
  "language_info": {
   "codemirror_mode": {
    "name": "ipython",
    "version": 3
   },
   "file_extension": ".py",
   "mimetype": "text/x-python",
   "name": "python",
   "nbconvert_exporter": "python",
   "pygments_lexer": "ipython3",
   "version": "3.10.0"
  }
 },
 "nbformat": 4,
 "nbformat_minor": 1
}
