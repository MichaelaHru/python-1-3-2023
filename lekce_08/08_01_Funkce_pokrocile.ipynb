{
 "cells": [
  {
   "cell_type": "markdown",
   "metadata": {
    "id": "bYZ2-j5YbfhS"
   },
   "source": [
    "<h6 align=right> 🐍 Python akademie - lekce 8 - 19.04.2023</h6>"
   ]
  },
  {
   "cell_type": "markdown",
   "metadata": {
    "id": "1szgTY1RjdyQ"
   },
   "source": [
    "<br>\n",
    "\n",
    "# <h1 align=center><font color=black size=24><b> 08_01: Funkce: pokročilejší koncepty</font></h1>\n",
    "\n",
    "<br>\n",
    "\n"
   ]
  },
  {
   "cell_type": "markdown",
   "metadata": {
    "id": "BxOH5hiYj6F9"
   },
   "source": [
    "<br>\n",
    "\n",
    "---\n",
    "\n",
    "### **Zajímavé odkazy z této lekce:**\n",
    "\n",
    "* [Rozdíl mezi metodou a funkcí (EN)](https://www.tutorialspoint.com/difference-between-method-and-function-in-python)\n",
    "* [Další pomocný článek ukazující rozdíly (pokročilý + EN)](https://techvidvan.com/tutorials/python-methods-vs-functions/)\n",
    "* [Přetěžování funkcí v Pythonu, je to možné? (EN)](https://stackoverflow.com/questions/6434482/python-function-overloading#29091980)\n",
    "\n",
    "\n",
    "---\n",
    "\n",
    "<br>"
   ]
  },
  {
   "cell_type": "markdown",
   "metadata": {
    "id": "c-4o6vcXkB6j"
   },
   "source": [
    "<br>\n",
    "\n",
    "## **Parametry**\n",
    "\n",
    "---"
   ]
  },
  {
   "cell_type": "markdown",
   "metadata": {
    "id": "PJSELoOecjHb"
   },
   "source": [
    "O funkčních **parametrech** a **argumentech** jsme se již v krátkosti zmínili. Pojďme to opět dotáhnout blíže k dokonalosti.\n",
    "\n",
    "<br>\n",
    "\n",
    "**Parametr** je v podstatě proměnná, která může obsahovat různé hodnoty. Používáme jej právě kvůli tomu, abychom ve funkci nachystali nějakého *místodržícího*, který bude očekávat při spuštění hodnotu.\n",
    "\n",
    "<br>\n",
    "\n",
    "**Argument** je ve své podstatě hodnota, na kterou parametr čeká. Skutečné hodnota, kterou ve funkci použijeme.\n",
    "\n",
    "<br>\n",
    "\n",
    "```python\n",
    "def vytvor_uziv_jmeno(jmeno, prijmeni):\n",
    "    return (jmeno.lower()[0] + prijmeni.lower())\n",
    "\n",
    "print(vytvor_uziv_jmeno('Radim', 'Jedlicka'))\n",
    "```\n",
    "\n",
    "<br>\n",
    "\n",
    "Kolik parametrů, jaké typy, jak je zapsat? To jsou otázky, kterým se nyní chceme věnovat.\n",
    "\n",
    "1. 🎯 **Poziční argumenty**\n",
    "2. 🔑 **Klíčové argumenty**\n",
    "3. 🗝 **Defaultní parametry**\n",
    "4. 🆕 **Position-only parametry**\n",
    "5. 😱 **\\*args**\n",
    "6. 🤖 **\\*\\*kwargs**\n",
    "\n",
    "<br>"
   ]
  },
  {
   "cell_type": "markdown",
   "metadata": {
    "id": "2cOPgU9nmjJX"
   },
   "source": [
    "<br>\n",
    "\n",
    "## **🎯 Poziční argumenty (~poziční parametry)**\n",
    "\n",
    "---"
   ]
  },
  {
   "cell_type": "markdown",
   "metadata": {
    "id": "4n0Bj6GCcwGb"
   },
   "source": [
    "Pokud spouštíme funkci, argumenty jsou přiřazovány ke svým parametrům **pomocí pořadí**, ve kterém je zapíšeme (můžeme si pomoci indexem).\n",
    "\n",
    "<br>\n",
    "\n",
    "Je to **nejčastější** a **nejjasnější** forma zápisu, která se používá:"
   ]
  },
  {
   "cell_type": "code",
   "execution_count": 1,
   "metadata": {
    "id": "7bkU2ME7bHAs"
   },
   "outputs": [],
   "source": [
    "def poradi_prezidentu(par1, par2, par3):\n",
    "    print(f\"Prvni prezident byl {par1}!\")\n",
    "    print(f\"Druhy prezident byl {par2}!\")\n",
    "    print(f\"Treti prezident byl {par3}!\")"
   ]
  },
  {
   "cell_type": "code",
   "execution_count": 2,
   "metadata": {
    "id": "lA6IWnd8dxsH"
   },
   "outputs": [
    {
     "name": "stdout",
     "output_type": "stream",
     "text": [
      "Prvni prezident byl Masaryk!\n",
      "Druhy prezident byl Benes!\n",
      "Treti prezident byl Hacha!\n"
     ]
    }
   ],
   "source": [
    "poradi_prezidentu(\"Masaryk\", \"Benes\", \"Hacha\")"
   ]
  },
  {
   "cell_type": "code",
   "execution_count": 3,
   "metadata": {
    "id": "e9E90r8Sd1qT"
   },
   "outputs": [
    {
     "name": "stdout",
     "output_type": "stream",
     "text": [
      "Prvni prezident byl Benes!\n",
      "Druhy prezident byl Hacha!\n",
      "Treti prezident byl Masaryk!\n"
     ]
    }
   ],
   "source": [
    "poradi_prezidentu(\"Benes\", \"Hacha\", \"Masaryk\")"
   ]
  },
  {
   "cell_type": "markdown",
   "metadata": {
    "id": "bfmgObKrnEoW"
   },
   "source": [
    "<br>\n",
    "\n",
    "## **🔑 Klíčové argumenty (~klíčové parametry)**\n",
    "\n",
    "---"
   ]
  },
  {
   "cell_type": "markdown",
   "metadata": {
    "id": "RmZJf1sAe0Lu"
   },
   "source": [
    "Pokud spouštíme funkci, argumenty jsou přiřazované pomocí jména parametru (podobně jako `dict klíč = hodnota`).\n",
    "\n",
    "Tento způsob není tak častý (horší čitelnost):\n"
   ]
  },
  {
   "cell_type": "code",
   "execution_count": 4,
   "metadata": {
    "id": "ZGeqxudVfft7"
   },
   "outputs": [],
   "source": [
    "def poradi_prezidentu(par1, par2, par3):\n",
    "    print(f\"Prvni prezident byl {par1}!\")\n",
    "    print(f\"Druhy prezident byl {par2}!\")\n",
    "    print(f\"Treti prezident byl {par3}!\")"
   ]
  },
  {
   "cell_type": "code",
   "execution_count": 5,
   "metadata": {
    "id": "u48KYG4qgBXt"
   },
   "outputs": [
    {
     "name": "stdout",
     "output_type": "stream",
     "text": [
      "Prvni prezident byl Masaryk!\n",
      "Druhy prezident byl Benes!\n",
      "Treti prezident byl Hacha!\n"
     ]
    }
   ],
   "source": [
    "poradi_prezidentu(par1=\"Masaryk\", par2=\"Benes\", par3=\"Hacha\")"
   ]
  },
  {
   "cell_type": "code",
   "execution_count": 6,
   "metadata": {
    "id": "oD-Pkrk7gU5H"
   },
   "outputs": [
    {
     "name": "stdout",
     "output_type": "stream",
     "text": [
      "Prvni prezident byl Masaryk!\n",
      "Druhy prezident byl Benes!\n",
      "Treti prezident byl Hacha!\n"
     ]
    }
   ],
   "source": [
    "poradi_prezidentu(par2=\"Benes\", par3=\"Hacha\", par1=\"Masaryk\")"
   ]
  },
  {
   "cell_type": "code",
   "execution_count": 7,
   "metadata": {
    "id": "VGdDaIQmgHtE"
   },
   "outputs": [
    {
     "name": "stdout",
     "output_type": "stream",
     "text": [
      "Prvni prezident byl Hacha!\n",
      "Druhy prezident byl Masaryk!\n",
      "Treti prezident byl Benes!\n"
     ]
    }
   ],
   "source": [
    "poradi_prezidentu(par1=\"Hacha\", par2=\"Masaryk\", par3=\"Benes\")"
   ]
  },
  {
   "cell_type": "markdown",
   "metadata": {
    "id": "zZ2TzfasoGJO"
   },
   "source": [
    "Pokud chceš udělat spuštění funkce **ještě přehlednější**, zapiš její argumenty pod sebe:"
   ]
  },
  {
   "cell_type": "code",
   "execution_count": 8,
   "metadata": {
    "id": "iqHXtVNfoF1I"
   },
   "outputs": [
    {
     "name": "stdout",
     "output_type": "stream",
     "text": [
      "Prvni prezident byl Hacha!\n",
      "Druhy prezident byl Masaryk!\n",
      "Treti prezident byl Benes!\n",
      "None\n"
     ]
    }
   ],
   "source": [
    "print(\n",
    "    poradi_prezidentu(\n",
    "        par1=\"Hacha\", \n",
    "        par2=\"Masaryk\", \n",
    "        par3=\"Benes\"\n",
    "    )\n",
    ")"
   ]
  },
  {
   "cell_type": "markdown",
   "metadata": {
    "id": "9F88NtFynvan"
   },
   "source": [
    "<br>\n",
    "\n",
    "## **🗝 Defaultní parametry**\n",
    "\n",
    "---"
   ]
  },
  {
   "cell_type": "markdown",
   "metadata": {
    "id": "Ljcv0gN6gpD1"
   },
   "source": [
    "Někdy dojdeš k závěru, že *uživatelská funkce*, kterou tvoříš, potřebuje alespoň **jeden parametr**, který bude ve většině spouštění používat tutéž hodnotu.\n",
    "\n",
    "Pokud definujeme funkci, můžeme přímo k parametrům přiřadit příslušné hodnoty.\n",
    "\n",
    "Pokud funkci nespustíme pomocí argumentů, jsou automaticky použité ty, které jsme předdefinovali.\n",
    "\n",
    "Pokud funkci spustím s argumenty, dojde k přepsání původních hodnot.\n"
   ]
  },
  {
   "cell_type": "code",
   "execution_count": 9,
   "metadata": {
    "id": "cGpv-nRggwhH"
   },
   "outputs": [],
   "source": [
    "def poradi_prezidentu(par1=\"Masaryk\", par2=\"Benes\", par3=\"Hacha\"):\n",
    "    print(f\"Prvni prezident byl {par1}!\")\n",
    "    print(f\"Druhy prezident byl {par2}!\")\n",
    "    print(f\"Treti prezident byl {par3}!\")"
   ]
  },
  {
   "cell_type": "code",
   "execution_count": 10,
   "metadata": {
    "id": "07_ND0pfg8Ud"
   },
   "outputs": [
    {
     "name": "stdout",
     "output_type": "stream",
     "text": [
      "Prvni prezident byl Masaryk!\n",
      "Druhy prezident byl Benes!\n",
      "Treti prezident byl Hacha!\n"
     ]
    }
   ],
   "source": [
    "poradi_prezidentu()"
   ]
  },
  {
   "cell_type": "code",
   "execution_count": 11,
   "metadata": {
    "id": "93477rllg9-p"
   },
   "outputs": [
    {
     "name": "stdout",
     "output_type": "stream",
     "text": [
      "Prvni prezident byl Havel!\n",
      "Druhy prezident byl Klaus!\n",
      "Treti prezident byl Zeman!\n"
     ]
    }
   ],
   "source": [
    "poradi_prezidentu('Havel', 'Klaus', 'Zeman')"
   ]
  },
  {
   "cell_type": "code",
   "execution_count": 12,
   "metadata": {
    "id": "RMu7RbXRhPzp"
   },
   "outputs": [
    {
     "name": "stdout",
     "output_type": "stream",
     "text": [
      "Prvni prezident byl Havel!\n",
      "Druhy prezident byl Benes!\n",
      "Treti prezident byl Hacha!\n"
     ]
    }
   ],
   "source": [
    "poradi_prezidentu('Havel')"
   ]
  },
  {
   "cell_type": "code",
   "execution_count": 13,
   "metadata": {
    "id": "333hc00UhgGg"
   },
   "outputs": [
    {
     "name": "stdout",
     "output_type": "stream",
     "text": [
      "Prvni prezident byl Masaryk!\n",
      "Druhy prezident byl Havel!\n",
      "Treti prezident byl Hacha!\n"
     ]
    }
   ],
   "source": [
    "poradi_prezidentu(par2='Havel')"
   ]
  },
  {
   "cell_type": "code",
   "execution_count": 14,
   "metadata": {
    "id": "7fUku1tNhULG"
   },
   "outputs": [
    {
     "ename": "TypeError",
     "evalue": "poradi_prezidentu() takes from 0 to 3 positional arguments but 4 were given",
     "output_type": "error",
     "traceback": [
      "\u001b[1;31m---------------------------------------------------------------------------\u001b[0m",
      "\u001b[1;31mTypeError\u001b[0m                                 Traceback (most recent call last)",
      "\u001b[1;32m~\\AppData\\Local\\Temp/ipykernel_9492/1664225760.py\u001b[0m in \u001b[0;36m<module>\u001b[1;34m\u001b[0m\n\u001b[1;32m----> 1\u001b[1;33m \u001b[0mporadi_prezidentu\u001b[0m\u001b[1;33m(\u001b[0m\u001b[1;34m'Havel'\u001b[0m\u001b[1;33m,\u001b[0m \u001b[1;34m'Klaus'\u001b[0m\u001b[1;33m,\u001b[0m \u001b[1;34m'Zeman'\u001b[0m\u001b[1;33m,\u001b[0m \u001b[1;34m'Pavel'\u001b[0m\u001b[1;33m)\u001b[0m\u001b[1;33m\u001b[0m\u001b[1;33m\u001b[0m\u001b[0m\n\u001b[0m",
      "\u001b[1;31mTypeError\u001b[0m: poradi_prezidentu() takes from 0 to 3 positional arguments but 4 were given"
     ]
    }
   ],
   "source": [
    "poradi_prezidentu('Havel', 'Klaus', 'Zeman', 'Pavel')"
   ]
  },
  {
   "cell_type": "markdown",
   "metadata": {
    "id": "vZ4cp0G2q7jV"
   },
   "source": [
    "*Defaultní parametry* je potřeba zadávat **až po pozičních parametrech**:"
   ]
  },
  {
   "cell_type": "code",
   "execution_count": 15,
   "metadata": {
    "id": "VAJvdtyxptkL"
   },
   "outputs": [
    {
     "ename": "SyntaxError",
     "evalue": "non-default argument follows default argument (Temp/ipykernel_9492/444276728.py, line 1)",
     "output_type": "error",
     "traceback": [
      "\u001b[1;36m  File \u001b[1;32m\"C:\\Users\\Radim Jedlicka\\AppData\\Local\\Temp/ipykernel_9492/444276728.py\"\u001b[1;36m, line \u001b[1;32m1\u001b[0m\n\u001b[1;33m    def poradi_premieru(par1=\"Klaus\", par2):\u001b[0m\n\u001b[1;37m                                      ^\u001b[0m\n\u001b[1;31mSyntaxError\u001b[0m\u001b[1;31m:\u001b[0m non-default argument follows default argument\n"
     ]
    }
   ],
   "source": [
    "def poradi_premieru(par1=\"Klaus\", par2):\n",
    "    print(f\"Prvni premier byl {par1}!\")\n",
    "    print(f\"Druhy premier byl {par2}!\")"
   ]
  },
  {
   "cell_type": "code",
   "execution_count": 16,
   "metadata": {
    "id": "w8eBj0YWqpMv"
   },
   "outputs": [
    {
     "name": "stdout",
     "output_type": "stream",
     "text": [
      "Prvni premier byl Klaus!\n",
      "Druhy premier byl Unknown hero!\n"
     ]
    }
   ],
   "source": [
    "def poradi_premieru(par2, par1=\"Klaus\"):\n",
    "    print(f\"Prvni premier byl {par1}!\")\n",
    "    print(f\"Druhy premier byl {par2}!\")\n",
    "\n",
    "poradi_premieru('Unknown hero')"
   ]
  },
  {
   "cell_type": "markdown",
   "metadata": {
    "id": "z1TC9H0ArTB2"
   },
   "source": [
    "<br>\n",
    "\n",
    "## **🆕 Pouze poziční parametry (position-only parameters)**"
   ]
  },
  {
   "cell_type": "markdown",
   "metadata": {
    "id": "jssnmmSLl1r0"
   },
   "source": [
    "Od verze **Pythonu 3.8** je dostupná tato nová varianta pro zápis parametrů u *uživatelských funkcí*:\n"
   ]
  },
  {
   "cell_type": "code",
   "execution_count": 17,
   "metadata": {
    "id": "0_Ar1zhBmFKR"
   },
   "outputs": [],
   "source": [
    "def moje_funkce(par1, par2, /, par3):\n",
    "    print(f\"To je {par1}!\")\n",
    "    print(f\"To je {par2}!\")\n",
    "    print(f\"To je {par3}!\")"
   ]
  },
  {
   "cell_type": "markdown",
   "metadata": {
    "id": "JiaUYEPargIK"
   },
   "source": [
    "Účelem tohoto typu **zápisu argumentů** je **vynutit od uživatele** zápis všech parametrů nalevo od lomítka `/` jako pozičních argumentů:"
   ]
  },
  {
   "cell_type": "code",
   "execution_count": 18,
   "metadata": {
    "id": "sH6XGqKFmHp4"
   },
   "outputs": [
    {
     "name": "stdout",
     "output_type": "stream",
     "text": [
      "To je Matous!\n",
      "To je Lukas!\n",
      "To je Honzik!\n"
     ]
    }
   ],
   "source": [
    "moje_funkce(\"Matous\", \"Lukas\", \"Honzik\")"
   ]
  },
  {
   "cell_type": "code",
   "execution_count": 19,
   "metadata": {
    "id": "t5O7WbOJmIy4"
   },
   "outputs": [
    {
     "ename": "TypeError",
     "evalue": "moje_funkce() got some positional-only arguments passed as keyword arguments: 'par1, par2'",
     "output_type": "error",
     "traceback": [
      "\u001b[1;31m---------------------------------------------------------------------------\u001b[0m",
      "\u001b[1;31mTypeError\u001b[0m                                 Traceback (most recent call last)",
      "\u001b[1;32m~\\AppData\\Local\\Temp/ipykernel_9492/187534570.py\u001b[0m in \u001b[0;36m<module>\u001b[1;34m\u001b[0m\n\u001b[1;32m----> 1\u001b[1;33m \u001b[0mmoje_funkce\u001b[0m\u001b[1;33m(\u001b[0m\u001b[0mpar1\u001b[0m\u001b[1;33m=\u001b[0m\u001b[1;34m\"Matous\"\u001b[0m\u001b[1;33m,\u001b[0m \u001b[0mpar2\u001b[0m\u001b[1;33m=\u001b[0m\u001b[1;34m\"Lukas\"\u001b[0m\u001b[1;33m,\u001b[0m \u001b[0mpar3\u001b[0m\u001b[1;33m=\u001b[0m\u001b[1;34m\"Honzik\"\u001b[0m\u001b[1;33m)\u001b[0m\u001b[1;33m\u001b[0m\u001b[1;33m\u001b[0m\u001b[0m\n\u001b[0m",
      "\u001b[1;31mTypeError\u001b[0m: moje_funkce() got some positional-only arguments passed as keyword arguments: 'par1, par2'"
     ]
    }
   ],
   "source": [
    "moje_funkce(par1=\"Matous\", par2=\"Lukas\", par3=\"Honzik\")"
   ]
  },
  {
   "cell_type": "code",
   "execution_count": 20,
   "metadata": {
    "id": "KlQbAWjJmKX3"
   },
   "outputs": [
    {
     "name": "stdout",
     "output_type": "stream",
     "text": [
      "To je Matous!\n",
      "To je Lukas!\n",
      "To je Honzik!\n"
     ]
    }
   ],
   "source": [
    "moje_funkce(\"Matous\", \"Lukas\", par3=\"Honzik\")"
   ]
  },
  {
   "cell_type": "markdown",
   "metadata": {
    "id": "kW5K4YNGsgjp"
   },
   "source": [
    "<br>\n",
    "\n",
    "## **😱 **\\*args****"
   ]
  },
  {
   "cell_type": "markdown",
   "metadata": {
    "id": "V6aqPEtqlNMd"
   },
   "source": [
    "Specialní varianta zápisu parametrů (potažmo argumentů) funkce, kde pracuji s **různou délkou** datové struktury.\n",
    "\n",
    "Vkládané hodnoty argumentů jsou v podstatě `list(tuple)`:\n",
    "\n",
    "Pokud funkci spustím s argumenty, dojde k přepsání původních hodnot.\n"
   ]
  },
  {
   "cell_type": "markdown",
   "metadata": {
    "id": "rj_LFWLPtK72"
   },
   "source": [
    "***příklad 1***"
   ]
  },
  {
   "cell_type": "code",
   "execution_count": 21,
   "metadata": {
    "id": "pN5MWHBwlLzH"
   },
   "outputs": [],
   "source": [
    "def preved_na_velka_pismena(args):\n",
    "    for prvek in args:\n",
    "        print(prvek.title())"
   ]
  },
  {
   "cell_type": "code",
   "execution_count": 22,
   "metadata": {
    "id": "BXimO2pSnWzn"
   },
   "outputs": [
    {
     "ename": "TypeError",
     "evalue": "preved_na_velka_pismena() takes 1 positional argument but 2 were given",
     "output_type": "error",
     "traceback": [
      "\u001b[1;31m---------------------------------------------------------------------------\u001b[0m",
      "\u001b[1;31mTypeError\u001b[0m                                 Traceback (most recent call last)",
      "\u001b[1;32m~\\AppData\\Local\\Temp/ipykernel_9492/271771908.py\u001b[0m in \u001b[0;36m<module>\u001b[1;34m\u001b[0m\n\u001b[1;32m----> 1\u001b[1;33m \u001b[0mpreved_na_velka_pismena\u001b[0m\u001b[1;33m(\u001b[0m\u001b[1;34m'praha'\u001b[0m\u001b[1;33m,\u001b[0m \u001b[1;34m'brno'\u001b[0m\u001b[1;33m)\u001b[0m\u001b[1;33m\u001b[0m\u001b[1;33m\u001b[0m\u001b[0m\n\u001b[0m",
      "\u001b[1;31mTypeError\u001b[0m: preved_na_velka_pismena() takes 1 positional argument but 2 were given"
     ]
    }
   ],
   "source": [
    "preved_na_velka_pismena('praha', 'brno')"
   ]
  },
  {
   "cell_type": "code",
   "execution_count": 23,
   "metadata": {
    "id": "lpLe8Y8bts1Y"
   },
   "outputs": [],
   "source": [
    "def preved_na_velka_pismena(*args):\n",
    "    for prvek in args:\n",
    "        print(prvek.title())"
   ]
  },
  {
   "cell_type": "code",
   "execution_count": 25,
   "metadata": {
    "id": "DVXwXa9HnZ-u"
   },
   "outputs": [
    {
     "name": "stdout",
     "output_type": "stream",
     "text": [
      "Praha\n",
      "Plzen\n",
      "Brno\n",
      "Olomouc\n"
     ]
    }
   ],
   "source": [
    "preved_na_velka_pismena('praha', 'plzen', 'brno', 'olomouc')"
   ]
  },
  {
   "cell_type": "markdown",
   "metadata": {
    "id": "rYP_QwGbtGsF"
   },
   "source": [
    "***příklad 2***"
   ]
  },
  {
   "cell_type": "code",
   "execution_count": 26,
   "metadata": {
    "id": "IIoVzWb8tGVQ"
   },
   "outputs": [],
   "source": [
    "def vypocitej_prumer(*args):\n",
    "    return sum(args) / len(args)"
   ]
  },
  {
   "cell_type": "code",
   "execution_count": 27,
   "metadata": {
    "id": "dBqtU1nEtWtF"
   },
   "outputs": [
    {
     "data": {
      "text/plain": [
       "3.0"
      ]
     },
     "execution_count": 27,
     "metadata": {},
     "output_type": "execute_result"
    }
   ],
   "source": [
    "vypocitej_prumer(1, 2, 3, 4, 5)"
   ]
  },
  {
   "cell_type": "markdown",
   "metadata": {
    "id": "WwKQg-nPt3eB"
   },
   "source": [
    "*poznámka:*\n",
    "\n",
    "Jméno parametru `args` potom slouží hlavně jako konvence mezi programátory.\n",
    "\n",
    "V ukázce můžeš klidně použít jiné jméno:"
   ]
  },
  {
   "cell_type": "markdown",
   "metadata": {
    "id": "4FU7grYcsiwg"
   },
   "source": [
    "<br>\n",
    "\n",
    "## 🤖 **\\*\\*kwargs** (**k**ey**w**ord **arg**ument**s**)"
   ]
  },
  {
   "cell_type": "markdown",
   "metadata": {
    "id": "eJW-BA_coq_0"
   },
   "source": [
    "Další speciální případ pro zápis parametrů a argumentů.\n",
    "\n",
    "Tentokrát vkládáme hodnoty argumentů jako páry **klíč** & **hodnota** ze slovníku:\n",
    "\n",
    "\n"
   ]
  },
  {
   "cell_type": "code",
   "execution_count": 28,
   "metadata": {
    "id": "7A7NZdj2sbl7"
   },
   "outputs": [],
   "source": [
    "def vypln_formular(**kwargs):\n",
    "    for klic, hodnota in kwargs.items():\n",
    "        print(f'{klic}: {hodnota}')"
   ]
  },
  {
   "cell_type": "code",
   "execution_count": 29,
   "metadata": {
    "id": "60eQ3bGctJ0I"
   },
   "outputs": [
    {
     "name": "stdout",
     "output_type": "stream",
     "text": [
      "jmeno: Radim\n",
      "prijmeni: Jedlicka\n",
      "narozen: 1.1.2000\n",
      "povolani: lektor\n",
      "stav: zenaty\n"
     ]
    }
   ],
   "source": [
    "vypln_formular(\n",
    "    jmeno='Radim', \n",
    "    prijmeni='Jedlicka', \n",
    "    narozen='1.1.2000', \n",
    "    povolani='lektor',\n",
    "    stav='zenaty'\n",
    ")"
   ]
  },
  {
   "cell_type": "markdown",
   "metadata": {
    "id": "yTLwYKQOyZHl"
   },
   "source": [
    "<br>\n",
    "\n",
    "## **Kombinace zápisu parametrů (argumentů)**"
   ]
  },
  {
   "cell_type": "markdown",
   "metadata": {
    "id": "hY0k0hrGtnN0"
   },
   "source": [
    "Jednotlivé varianty můžeme kombinovat při práci s funkcemi. Zásadní je dodržet správné pořádí parametrů:"
   ]
  },
  {
   "cell_type": "code",
   "execution_count": 30,
   "metadata": {
    "id": "ns6Sp37EtlrF"
   },
   "outputs": [],
   "source": [
    "def moje_funkce(par1, *args, **kwargs):\n",
    "    if kwargs.get(\"prepinac\") == True:\n",
    "        for jmeno in args:\n",
    "            print(f\"{jmeno}!\")\n",
    "    else:\n",
    "        print(f\"{par1}!\")"
   ]
  },
  {
   "cell_type": "code",
   "execution_count": 31,
   "metadata": {
    "id": "5J_EyiBPuCC6"
   },
   "outputs": [
    {
     "name": "stdout",
     "output_type": "stream",
     "text": [
      "Matous!\n",
      "Honzik!\n",
      "Luki!\n",
      "Harold!\n"
     ]
    }
   ],
   "source": [
    "moje_funkce(\"Tot vse\", \"Matous\", \"Honzik\", \"Luki\", \"Harold\", prepinac=True)"
   ]
  },
  {
   "cell_type": "code",
   "execution_count": 32,
   "metadata": {
    "id": "fXIsgod5uFEK"
   },
   "outputs": [
    {
     "name": "stdout",
     "output_type": "stream",
     "text": [
      "Tot vse!\n"
     ]
    }
   ],
   "source": [
    "moje_funkce(\"Tot vse\", \"Matous\", \"Honzik\", \"Luki\", \"Harold\", prepinac=False)"
   ]
  },
  {
   "cell_type": "markdown",
   "metadata": {
    "id": "IH0ItTqay7uZ"
   },
   "source": [
    "<br>\n",
    "\n",
    "## **Souhrn**"
   ]
  },
  {
   "cell_type": "markdown",
   "metadata": {
    "id": "7yWpT02Ky_ow"
   },
   "source": [
    "Aby v tom byl alespoň částečně pořádek, níže je uvedená tabulka se **základními charakteristikami**.\n",
    "\n",
    "| Typ vstupu | Ukázka | Kdy používat |\n",
    "| :- | :- | :- |\n",
    "| **poziční vstupy** | `moje_funkce(jmeno, prijmeni)` | ve většině případech, kde není matoucí **pořadí** argumentů, | \n",
    "| **klíčové argumenty** | `moje_funkce(jmeno=\"Tom\", prijmeni=\"Hrom\")` | pokud je pořadí argumentů **nepřehledné**, pojmenuj je, |\n",
    "| **defaultní parametry** | `moje_funkce(email, registrovany=True)` | pokud potřebuješ při spouštění stejný parametr, napiš jej jako *defaultní*, |  \n",
    "| **position-only parametry** | `moje_funkce(jmeno, /, registrovany)` | pokud potřebuješ vynutit zápis **pozičního argumentu**, |\n",
    "| **\\*args** | `moje_funkce(*args)` | pokud má funkce pracovat **s různým množstvím** hodnot v *sekvenci*, |\n",
    "| **\\*\\*kwargs** |  `moje_funkce(**kwargs)` | pokud má funkce pracovat **s různým množstvím** hodnot v párech *klíč*, *hodnota*. |"
   ]
  }
 ],
 "metadata": {
  "colab": {
   "provenance": []
  },
  "kernelspec": {
   "display_name": "Python 3 (ipykernel)",
   "language": "python",
   "name": "python3"
  },
  "language_info": {
   "codemirror_mode": {
    "name": "ipython",
    "version": 3
   },
   "file_extension": ".py",
   "mimetype": "text/x-python",
   "name": "python",
   "nbconvert_exporter": "python",
   "pygments_lexer": "ipython3",
   "version": "3.10.0"
  }
 },
 "nbformat": 4,
 "nbformat_minor": 1
}
