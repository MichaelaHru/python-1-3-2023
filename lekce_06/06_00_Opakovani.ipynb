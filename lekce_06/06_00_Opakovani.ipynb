{
 "cells": [
  {
   "cell_type": "markdown",
   "metadata": {
    "id": "NW8EupQVsFZV"
   },
   "source": [
    "<h6 align=right> 🐍 Python akademie - lekce 6 - 05.04.2023</h6>"
   ]
  },
  {
   "cell_type": "markdown",
   "metadata": {
    "id": "X_ySjzD1w9TH"
   },
   "source": [
    "<br>\n",
    "\n",
    "# <h1 align=center><font color=black size=24><b> 06_00: Opakování po páté lekci!</font></h1>\n",
    "\n",
    "<br>\n",
    "\n",
    "---"
   ]
  },
  {
   "cell_type": "markdown",
   "metadata": {
    "id": "OskywQexxEq4"
   },
   "source": [
    "<br>\n",
    "\n",
    "### **Ukázka #01**"
   ]
  },
  {
   "cell_type": "code",
   "execution_count": 1,
   "metadata": {
    "id": "BOOvQ-bksEaI"
   },
   "outputs": [
    {
     "name": "stdout",
     "output_type": "stream",
     "text": [
      "bez_walruse\n"
     ]
    }
   ],
   "source": [
    "muj_str_1 = \"bez_walruse\"\n",
    "print(muj_str_1)"
   ]
  },
  {
   "cell_type": "code",
   "execution_count": 2,
   "metadata": {
    "id": "ICN7YWpzxN-C"
   },
   "outputs": [
    {
     "ename": "SyntaxError",
     "evalue": "invalid syntax (Temp/ipykernel_19460/1280342378.py, line 1)",
     "output_type": "error",
     "traceback": [
      "\u001b[1;36m  File \u001b[1;32m\"C:\\Users\\Radim Jedlicka\\AppData\\Local\\Temp/ipykernel_19460/1280342378.py\"\u001b[1;36m, line \u001b[1;32m1\u001b[0m\n\u001b[1;33m    muj_str_2 := \"s_walrusem\"\u001b[0m\n\u001b[1;37m              ^\u001b[0m\n\u001b[1;31mSyntaxError\u001b[0m\u001b[1;31m:\u001b[0m invalid syntax\n"
     ]
    }
   ],
   "source": [
    "muj_str_2 := \"s_walrusem\"\n",
    "print(muj_str_2)"
   ]
  },
  {
   "cell_type": "code",
   "execution_count": 3,
   "metadata": {
    "id": "pH_Myp_5xVZV"
   },
   "outputs": [
    {
     "name": "stdout",
     "output_type": "stream",
     "text": [
      "s_walrusem\n"
     ]
    }
   ],
   "source": [
    "(muj_str_3 := \"s_walrusem\")\n",
    "print(muj_str_3)"
   ]
  },
  {
   "cell_type": "markdown",
   "metadata": {
    "id": "1MOdyJq0xSx7"
   },
   "source": [
    "<details>\n",
    "  <summary>❓Vysvětlení ❓</summary>\n",
    "\n",
    "Jde o formu platného zápisu, pokud chcete používat přiřazovací výraz, potřebujete aplikovat kulaté závorky okolo celého výrazu.<br>\n",
    "Obecně pravidla pro používání a zapisování najdeme v [oficiální dokumentaci](https://www.python.org/dev/peps/pep-0572/#relative-precedence-of).\n",
    "\n",
    "</details>\n",
    "\n",
    "---"
   ]
  },
  {
   "cell_type": "markdown",
   "metadata": {
    "id": "h8Yiaectxj5z"
   },
   "source": [
    "<br>\n",
    "\n",
    "### **Ukázka #02**"
   ]
  },
  {
   "cell_type": "code",
   "execution_count": 4,
   "metadata": {
    "id": "NZ3a_LnwxgDC"
   },
   "outputs": [
    {
     "name": "stdout",
     "output_type": "stream",
     "text": [
      "(69, 96)\n"
     ]
    }
   ],
   "source": [
    "moje_cisla = 69, 96\n",
    "print(moje_cisla)"
   ]
  },
  {
   "cell_type": "code",
   "execution_count": 5,
   "metadata": {
    "id": "dGHbadykxqae"
   },
   "outputs": [
    {
     "name": "stdout",
     "output_type": "stream",
     "text": [
      "69\n"
     ]
    }
   ],
   "source": [
    "(moje_cisla := 69, 96)\n",
    "print(moje_cisla)"
   ]
  },
  {
   "cell_type": "code",
   "execution_count": 6,
   "metadata": {
    "id": "p2XSpWFRxtZ6"
   },
   "outputs": [
    {
     "name": "stdout",
     "output_type": "stream",
     "text": [
      "69\n",
      "96\n"
     ]
    }
   ],
   "source": [
    "moje_cislo_1, moje_cislo_2 = 69, 96\n",
    "print(moje_cislo_1)\n",
    "print(moje_cislo_2)"
   ]
  },
  {
   "cell_type": "code",
   "execution_count": 7,
   "metadata": {
    "id": "DS-8dsHSxxuv"
   },
   "outputs": [
    {
     "ename": "SyntaxError",
     "evalue": "invalid syntax. Maybe you meant '==' or ':=' instead of '='? (Temp/ipykernel_19460/832676706.py, line 1)",
     "output_type": "error",
     "traceback": [
      "\u001b[1;36m  File \u001b[1;32m\"C:\\Users\\Radim Jedlicka\\AppData\\Local\\Temp/ipykernel_19460/832676706.py\"\u001b[1;36m, line \u001b[1;32m1\u001b[0m\n\u001b[1;33m    (moje_cislo_1, moje_cislo_2 = 69, 96)\u001b[0m\n\u001b[1;37m                   ^\u001b[0m\n\u001b[1;31mSyntaxError\u001b[0m\u001b[1;31m:\u001b[0m invalid syntax. Maybe you meant '==' or ':=' instead of '='?\n"
     ]
    }
   ],
   "source": [
    "(moje_cislo_1, moje_cislo_2 = 69, 96)\n",
    "print(f\"{moje_cislo_1}; {moje_cislo_2}\")"
   ]
  },
  {
   "cell_type": "code",
   "execution_count": 8,
   "metadata": {
    "id": "ScaOBswTx6xW"
   },
   "outputs": [
    {
     "data": {
      "text/plain": [
       "(69, 68, 86)"
      ]
     },
     "execution_count": 8,
     "metadata": {},
     "output_type": "execute_result"
    }
   ],
   "source": [
    "(moje_cislo_1, moje_cislo_2 := 68, 86)"
   ]
  },
  {
   "cell_type": "code",
   "execution_count": 10,
   "metadata": {},
   "outputs": [
    {
     "data": {
      "text/plain": [
       "69"
      ]
     },
     "execution_count": 10,
     "metadata": {},
     "output_type": "execute_result"
    }
   ],
   "source": [
    "moje_cislo_1"
   ]
  },
  {
   "cell_type": "code",
   "execution_count": 11,
   "metadata": {
    "id": "BcEqoS7omnlV"
   },
   "outputs": [
    {
     "data": {
      "text/plain": [
       "68"
      ]
     },
     "execution_count": 11,
     "metadata": {},
     "output_type": "execute_result"
    }
   ],
   "source": [
    "moje_cislo_2"
   ]
  },
  {
   "cell_type": "markdown",
   "metadata": {
    "id": "oGkCHwvJyWOm"
   },
   "source": [
    "<details>\n",
    "  <summary>❓Vysvětlení ❓</summary>\n",
    "\n",
    "```\n",
    ">>> (moje_cisla := 69, 96)  # ((moje_cisla := 69), 96) -> moje_cisla = 69\n",
    ">>> (moje_cisla := 69, 96) == ((moje_cisla := 69), 96)\n",
    "True\n",
    ">>> x = (moje_cisla := 696, 96)\n",
    ">>> x\n",
    "(696, 96)\n",
    ">>> x[0] is moje_cisla\n",
    "True\n",
    "```\n",
    "\n",
    "</details>\n",
    "\n",
    "---"
   ]
  },
  {
   "cell_type": "code",
   "execution_count": 9,
   "metadata": {
    "id": "0GLZ9A2iyZL1"
   },
   "outputs": [
    {
     "data": {
      "text/plain": [
       "True"
      ]
     },
     "execution_count": 9,
     "metadata": {},
     "output_type": "execute_result"
    }
   ],
   "source": [
    "(moje_cisla := 69, 96) == ((moje_cisla := 69), 96)"
   ]
  },
  {
   "cell_type": "code",
   "execution_count": null,
   "metadata": {
    "id": "P-tEc6l5yvbE"
   },
   "outputs": [],
   "source": [
    "x = (moje_cisla := 696, 96)"
   ]
  },
  {
   "cell_type": "code",
   "execution_count": null,
   "metadata": {
    "id": "CrS-VCfEyxKJ"
   },
   "outputs": [],
   "source": [
    "type(x)"
   ]
  },
  {
   "cell_type": "code",
   "execution_count": null,
   "metadata": {
    "id": "LXpOIwDIknwr"
   },
   "outputs": [],
   "source": [
    "x[0] is moje_cisla"
   ]
  },
  {
   "cell_type": "code",
   "execution_count": null,
   "metadata": {},
   "outputs": [],
   "source": [
    "x[1] is moje_cisla"
   ]
  },
  {
   "cell_type": "markdown",
   "metadata": {
    "id": "YCNGTVnazIiH"
   },
   "source": [
    "<br>\n",
    "\n",
    "### **Ukázka #03**"
   ]
  },
  {
   "cell_type": "code",
   "execution_count": 14,
   "metadata": {
    "id": "OBLb0-qizKTr"
   },
   "outputs": [],
   "source": [
    "muj_list = [\"a\", \"b\", \"c\", \"d\", \"e\", \"f\"]"
   ]
  },
  {
   "cell_type": "code",
   "execution_count": 13,
   "metadata": {
    "id": "iRhhRCLxzRR_"
   },
   "outputs": [
    {
     "name": "stdout",
     "output_type": "stream",
     "text": [
      "f\n",
      "e\n",
      "d\n",
      "c\n",
      "b\n",
      "a\n"
     ]
    }
   ],
   "source": [
    "while muj_list:\n",
    "    udaj = muj_list.pop()\n",
    "    print(udaj)"
   ]
  },
  {
   "cell_type": "code",
   "execution_count": 15,
   "metadata": {
    "id": "oAUm5ASszU9U"
   },
   "outputs": [
    {
     "name": "stdout",
     "output_type": "stream",
     "text": [
      "a\n",
      "b\n",
      "c\n",
      "d\n",
      "e\n",
      "f\n"
     ]
    }
   ],
   "source": [
    "for udaj in muj_list:\n",
    "    print(udaj)"
   ]
  },
  {
   "cell_type": "markdown",
   "metadata": {
    "id": "B1OY3eaezgfi"
   },
   "source": [
    "<details>\n",
    "  <summary>❓Vysvětlení ❓</summary>\n",
    "\n",
    "Než začneme psát smyčku, musíme si rozmyslet, která je pro naše účely nejvhodnější. Kdy je dobré použít `while` a kdy naopak `for`.\n",
    "\n",
    "</details>\n",
    "\n",
    "---"
   ]
  },
  {
   "cell_type": "markdown",
   "metadata": {
    "id": "ZS28-_vSzmMB"
   },
   "source": [
    "<br>\n",
    "\n",
    "### **Ukázka #04**"
   ]
  },
  {
   "cell_type": "code",
   "execution_count": 16,
   "metadata": {
    "id": "7GTTcEY0zi71"
   },
   "outputs": [
    {
     "name": "stdout",
     "output_type": "stream",
     "text": [
      "0\n",
      "1\n",
      "2\n",
      "3\n",
      "4\n",
      "0\n",
      "6\n",
      "7\n",
      "8\n",
      "9\n"
     ]
    }
   ],
   "source": [
    "for cislo in range(0, 10):\n",
    "    if cislo == 5:\n",
    "        cislo = 0\n",
    "    print(cislo)"
   ]
  },
  {
   "cell_type": "markdown",
   "metadata": {
    "id": "apPKPnx1zwdt"
   },
   "source": [
    "<details>\n",
    "  <summary>❓Vysvětlení ❓</summary>\n",
    "\n",
    "Cyklus `for` pracuje s listem uvedeným výše podle indexů, ne podle hodnoty.\n",
    "```\n",
    "for cislo in [0, 1, 2, 3, 4, 5, 6, 7, 8, 9]:\n",
    "    if cislo == 9:\n",
    "        cislo = 0\n",
    "    print(f\"{cislo=}\")\n",
    "```\n",
    "\n",
    "</details>\n",
    "\n",
    "---"
   ]
  }
 ],
 "metadata": {
  "colab": {
   "provenance": []
  },
  "kernelspec": {
   "display_name": "Python 3 (ipykernel)",
   "language": "python",
   "name": "python3"
  },
  "language_info": {
   "codemirror_mode": {
    "name": "ipython",
    "version": 3
   },
   "file_extension": ".py",
   "mimetype": "text/x-python",
   "name": "python",
   "nbconvert_exporter": "python",
   "pygments_lexer": "ipython3",
   "version": "3.10.0"
  }
 },
 "nbformat": 4,
 "nbformat_minor": 1
}
