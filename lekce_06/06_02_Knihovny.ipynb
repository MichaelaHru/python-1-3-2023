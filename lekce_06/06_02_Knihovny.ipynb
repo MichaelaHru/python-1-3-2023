{
 "cells": [
  {
   "cell_type": "markdown",
   "metadata": {
    "id": "F0tDFBVw0Wui"
   },
   "source": [
    "<h6 align=right> 🐍 Python akademie - lekce 6 - 05.04.2023</h6>"
   ]
  },
  {
   "cell_type": "markdown",
   "metadata": {
    "id": "zy7kAVVW0aDH"
   },
   "source": [
    "<br>\n",
    "\n",
    "# <h1 align=center><font color=black size=24><b> 06_02: 📖 Knihovny</font></h1>\n",
    "\n",
    "<br>\n",
    "\n",
    "---"
   ]
  },
  {
   "cell_type": "markdown",
   "metadata": {
    "id": "I2EkachN0nrb"
   },
   "source": [
    "<br>\n",
    "\n",
    "### **Zajímavé odkazy z celé lekce:**\n",
    "\n",
    "---\n",
    "\n",
    "* [Oficiální dokumentace Python knihoven](https://docs.python.org/3/library/index.html)\n",
    "* [Standartní instalátor balíčku pro Python pip (pypi.org)](https://pypi.org/project/pip/)\n",
    "* [Hledání modulu pomocí interpretu Pythonu (python.org)](https://docs.python.org/3/tutorial/modules.html#the-module-search-path)\n",
    "* [Neoficiální dokumentace o účelu souboru \\_\\_init\\_\\_.py](https://yasoob.me/2013/07/28/what-is-__init__-py/)\n",
    "* [Jak nainstalovat knihovny třetích stran pomocí Pycharm (jetbrains.com)](https://www.jetbrains.com/help/pycharm/installing-uninstalling-and-upgrading-packages.html)\n",
    "* [Oficialní dokumentace modulu random (python.org)](https://docs.python.org/3/library/random.html)\n",
    "* [Oficialní dokumentace modulu datetime (python.org)](https://docs.python.org/3/library/datetime.html)\n",
    "* [Oficialní dokumentace modulu os (python.org)](https://docs.python.org/3/library/os.html)\n",
    "\n",
    "\n",
    "<br>"
   ]
  },
  {
   "cell_type": "markdown",
   "metadata": {
    "id": "rznYKXp41BEi"
   },
   "source": [
    "<br>\n",
    "\n",
    "Jak bylo řečeno úvodem, základní tři pilíře pro moderní programovací jazyky jsou:\n",
    "\n",
    "1. **Syntaxe** (funkce, podmínky, smyčky, aj.)\n",
    "2. **Datové typy** (čísla, sekvence, aj.)\n",
    "3. **Knihovny** (decimal, aj.)\n",
    "\n",
    "<br>\n",
    "\n",
    "Importování je v podstatě proces, kdy do svého aktuálního souboru `py` nahrajeme obsah z druhého soubor `py`.\n",
    "\n",
    "<br>\n",
    "\n",
    "---"
   ]
  },
  {
   "cell_type": "code",
   "execution_count": null,
   "metadata": {
    "id": "hYTWkycW1hF3"
   },
   "outputs": [],
   "source": [
    "dir()"
   ]
  },
  {
   "cell_type": "markdown",
   "metadata": {
    "id": "fP_O6umJ5gN3"
   },
   "source": [
    "<br>\n",
    "\n",
    "## **Zabudované knihovny**\n",
    "\n",
    "---"
   ]
  },
  {
   "cell_type": "markdown",
   "metadata": {
    "id": "gSGdHKO37sPB"
   },
   "source": [
    "```# local```\n",
    "\n",
    "C:\\Python310\\Lib"
   ]
  },
  {
   "cell_type": "markdown",
   "metadata": {
    "id": "IYj59v3s8ZTx"
   },
   "source": [
    "<br>\n",
    "\n",
    "### **pprint (Pretty Printer)**"
   ]
  },
  {
   "cell_type": "code",
   "execution_count": null,
   "metadata": {
    "id": "O2TkKMKt8cRK"
   },
   "outputs": [],
   "source": [
    "import pprint"
   ]
  },
  {
   "cell_type": "code",
   "execution_count": null,
   "metadata": {
    "colab": {
     "base_uri": "https://localhost:8080/",
     "height": 165
    },
    "id": "knoyZ4wI8kuK",
    "outputId": "4a7ac6b1-784f-4a50-900e-769faa9ea0c1"
   },
   "outputs": [],
   "source": [
    "pprint.pprint(filmy.akcni)"
   ]
  },
  {
   "cell_type": "markdown",
   "metadata": {
    "id": "CE672hrb9A4j"
   },
   "source": [
    "<br>\n",
    "\n",
    "### **datetime**"
   ]
  },
  {
   "cell_type": "markdown",
   "metadata": {
    "id": "CVCFCgUP9WcJ"
   },
   "source": [
    "[Knihovna datetime na W3schools](https://www.w3schools.com/python/python_datetime.asp)"
   ]
  },
  {
   "cell_type": "code",
   "execution_count": 1,
   "metadata": {
    "id": "LvMw2_pU9CNm"
   },
   "outputs": [],
   "source": [
    "import datetime"
   ]
  },
  {
   "cell_type": "code",
   "execution_count": 2,
   "metadata": {
    "colab": {
     "base_uri": "https://localhost:8080/"
    },
    "id": "7XF-WneG9pct",
    "outputId": "d053f1ce-547e-444b-d743-104731ed69b1"
   },
   "outputs": [
    {
     "name": "stdout",
     "output_type": "stream",
     "text": [
      "2023-04-05 19:30:57.192275\n"
     ]
    }
   ],
   "source": [
    "dnes = datetime.datetime.now()\n",
    "print(dnes)"
   ]
  },
  {
   "cell_type": "code",
   "execution_count": 3,
   "metadata": {
    "colab": {
     "base_uri": "https://localhost:8080/"
    },
    "id": "SiLtg23K-f5h",
    "outputId": "82f6ef05-020a-4491-e60f-8d9a4f633a1d"
   },
   "outputs": [
    {
     "data": {
      "text/plain": [
       "2023"
      ]
     },
     "execution_count": 3,
     "metadata": {},
     "output_type": "execute_result"
    }
   ],
   "source": [
    "dnes.year"
   ]
  },
  {
   "cell_type": "code",
   "execution_count": 4,
   "metadata": {
    "colab": {
     "base_uri": "https://localhost:8080/"
    },
    "id": "SdD_i-y3-iW1",
    "outputId": "095d72db-6dfa-4e3d-cc3d-3b4e39ceac14"
   },
   "outputs": [
    {
     "data": {
      "text/plain": [
       "4"
      ]
     },
     "execution_count": 4,
     "metadata": {},
     "output_type": "execute_result"
    }
   ],
   "source": [
    "dnes.month"
   ]
  },
  {
   "cell_type": "code",
   "execution_count": 5,
   "metadata": {
    "colab": {
     "base_uri": "https://localhost:8080/",
     "height": 35
    },
    "id": "TpdlKkOq-kTc",
    "outputId": "22e72f18-8b23-434f-b0e7-ad700a66f5d4"
   },
   "outputs": [
    {
     "data": {
      "text/plain": [
       "'April'"
      ]
     },
     "execution_count": 5,
     "metadata": {},
     "output_type": "execute_result"
    }
   ],
   "source": [
    "dnes.strftime('%B')"
   ]
  },
  {
   "cell_type": "code",
   "execution_count": 6,
   "metadata": {
    "colab": {
     "base_uri": "https://localhost:8080/",
     "height": 35
    },
    "id": "0fs2MeCY_n_5",
    "outputId": "738ba39f-cf27-4ac8-c795-f20257d8a20b"
   },
   "outputs": [
    {
     "data": {
      "text/plain": [
       "'05.04.2023 19:30:57'"
      ]
     },
     "execution_count": 6,
     "metadata": {},
     "output_type": "execute_result"
    }
   ],
   "source": [
    "dnes.strftime(f'%d.%m.%Y %H:%M:%S')"
   ]
  },
  {
   "cell_type": "markdown",
   "metadata": {
    "id": "uCxm9LOhAxyv"
   },
   "source": [
    "<br>\n",
    "\n",
    "### **random**"
   ]
  },
  {
   "cell_type": "code",
   "execution_count": 7,
   "metadata": {
    "id": "3m9JNnXZ-8MX"
   },
   "outputs": [],
   "source": [
    "import random"
   ]
  },
  {
   "cell_type": "code",
   "execution_count": 8,
   "metadata": {
    "collapsed": true,
    "id": "KU9HI1IBA3s5"
   },
   "outputs": [
    {
     "data": {
      "text/plain": [
       "[1,\n",
       " 2,\n",
       " 3,\n",
       " 4,\n",
       " 5,\n",
       " 6,\n",
       " 7,\n",
       " 8,\n",
       " 9,\n",
       " 10,\n",
       " 11,\n",
       " 12,\n",
       " 13,\n",
       " 14,\n",
       " 15,\n",
       " 16,\n",
       " 17,\n",
       " 18,\n",
       " 19,\n",
       " 20,\n",
       " 21,\n",
       " 22,\n",
       " 23,\n",
       " 24]"
      ]
     },
     "execution_count": 8,
     "metadata": {},
     "output_type": "execute_result"
    }
   ],
   "source": [
    "balik = [i for i in range(1, 25)]\n",
    "balik"
   ]
  },
  {
   "cell_type": "code",
   "execution_count": 13,
   "metadata": {
    "colab": {
     "base_uri": "https://localhost:8080/"
    },
    "id": "eNviZN8iBBdJ",
    "outputId": "abc3a8a3-642f-4262-fc86-3f26b859fe7a"
   },
   "outputs": [
    {
     "data": {
      "text/plain": [
       "9"
      ]
     },
     "execution_count": 13,
     "metadata": {},
     "output_type": "execute_result"
    }
   ],
   "source": [
    "random.choice(balik)"
   ]
  },
  {
   "cell_type": "code",
   "execution_count": 17,
   "metadata": {
    "colab": {
     "base_uri": "https://localhost:8080/"
    },
    "id": "QOPatoegA6pm",
    "outputId": "f96ebb42-6f3a-49ec-d7af-c744457687a8"
   },
   "outputs": [
    {
     "data": {
      "text/plain": [
       "2"
      ]
     },
     "execution_count": 17,
     "metadata": {},
     "output_type": "execute_result"
    }
   ],
   "source": [
    "random.randint(1, 25)"
   ]
  },
  {
   "cell_type": "code",
   "execution_count": 20,
   "metadata": {
    "colab": {
     "base_uri": "https://localhost:8080/"
    },
    "id": "igvg8z8vB16J",
    "outputId": "9f900d5f-24ad-4dd6-ab00-70004afe13d2"
   },
   "outputs": [
    {
     "data": {
      "text/plain": [
       "[2, 19, 23, 3, 10]"
      ]
     },
     "execution_count": 20,
     "metadata": {},
     "output_type": "execute_result"
    }
   ],
   "source": [
    "random.sample(balik, 5)"
   ]
  },
  {
   "cell_type": "code",
   "execution_count": 23,
   "metadata": {
    "colab": {
     "base_uri": "https://localhost:8080/"
    },
    "id": "TMPtOL5xCsRR",
    "outputId": "91e773c0-a73f-48a9-f7f1-10ae42b98f09"
   },
   "outputs": [
    {
     "data": {
      "text/plain": [
       "0.21556441492838385"
      ]
     },
     "execution_count": 23,
     "metadata": {},
     "output_type": "execute_result"
    }
   ],
   "source": [
    "random.random()"
   ]
  },
  {
   "cell_type": "code",
   "execution_count": 28,
   "metadata": {
    "colab": {
     "base_uri": "https://localhost:8080/"
    },
    "id": "GU2kZy3pDtYs",
    "outputId": "b900d4f4-4d40-4110-d92a-45b18ab79a64"
   },
   "outputs": [
    {
     "data": {
      "text/plain": [
       "0.13436424411240122"
      ]
     },
     "execution_count": 28,
     "metadata": {},
     "output_type": "execute_result"
    }
   ],
   "source": [
    "random.seed(1)\n",
    "random.random()"
   ]
  },
  {
   "cell_type": "code",
   "execution_count": 31,
   "metadata": {
    "colab": {
     "base_uri": "https://localhost:8080/"
    },
    "id": "GMj6iBMlDhbl",
    "outputId": "48f8d198-c020-4314-a7ec-27b1bdfe8676"
   },
   "outputs": [
    {
     "data": {
      "text/plain": [
       "['two', 'three', 'ace', 'four']"
      ]
     },
     "execution_count": 31,
     "metadata": {},
     "output_type": "execute_result"
    }
   ],
   "source": [
    "deck = 'ace two three four'.split()\n",
    "random.shuffle(deck)                        \n",
    "deck"
   ]
  },
  {
   "cell_type": "code",
   "execution_count": 41,
   "metadata": {
    "colab": {
     "base_uri": "https://localhost:8080/"
    },
    "id": "P0iGRc2WDlN3",
    "outputId": "5274cebd-042e-4ccd-ee81-58c2ba79111a"
   },
   "outputs": [
    {
     "data": {
      "text/plain": [
       "20"
      ]
     },
     "execution_count": 41,
     "metadata": {},
     "output_type": "execute_result"
    }
   ],
   "source": [
    "random.seed(5)\n",
    "random.choice(balik)"
   ]
  },
  {
   "cell_type": "markdown",
   "metadata": {
    "id": "GLxUYpguKh_F"
   },
   "source": [
    "<br>\n",
    "\n",
    "## **Knihovny \"třetích stran\"**\n",
    "\n",
    "---"
   ]
  },
  {
   "cell_type": "markdown",
   "metadata": {
    "id": "bXPxUJgFEBRz"
   },
   "source": [
    "<br>\n",
    "\n",
    "### **🐼 pandas**"
   ]
  },
  {
   "cell_type": "code",
   "execution_count": 42,
   "metadata": {
    "id": "--gpzW-dEE7K"
   },
   "outputs": [],
   "source": [
    "import pandas as pd"
   ]
  },
  {
   "cell_type": "code",
   "execution_count": 43,
   "metadata": {
    "colab": {
     "base_uri": "https://localhost:8080/",
     "height": 426
    },
    "id": "xtwLxWviF6ss",
    "outputId": "befbf6b4-0700-411e-d005-c5b81e7587f9"
   },
   "outputs": [
    {
     "data": {
      "text/html": [
       "<div>\n",
       "<style scoped>\n",
       "    .dataframe tbody tr th:only-of-type {\n",
       "        vertical-align: middle;\n",
       "    }\n",
       "\n",
       "    .dataframe tbody tr th {\n",
       "        vertical-align: top;\n",
       "    }\n",
       "\n",
       "    .dataframe thead th {\n",
       "        text-align: right;\n",
       "    }\n",
       "</style>\n",
       "<table border=\"1\" class=\"dataframe\">\n",
       "  <thead>\n",
       "    <tr style=\"text-align: right;\">\n",
       "      <th></th>\n",
       "      <th>mesic</th>\n",
       "      <th>kilometry</th>\n",
       "    </tr>\n",
       "  </thead>\n",
       "  <tbody>\n",
       "    <tr>\n",
       "      <th>0</th>\n",
       "      <td>leden</td>\n",
       "      <td>45</td>\n",
       "    </tr>\n",
       "    <tr>\n",
       "      <th>1</th>\n",
       "      <td>unor</td>\n",
       "      <td>82</td>\n",
       "    </tr>\n",
       "    <tr>\n",
       "      <th>2</th>\n",
       "      <td>brezen</td>\n",
       "      <td>96</td>\n",
       "    </tr>\n",
       "    <tr>\n",
       "      <th>3</th>\n",
       "      <td>duben</td>\n",
       "      <td>101</td>\n",
       "    </tr>\n",
       "    <tr>\n",
       "      <th>4</th>\n",
       "      <td>kveten</td>\n",
       "      <td>123</td>\n",
       "    </tr>\n",
       "    <tr>\n",
       "      <th>5</th>\n",
       "      <td>cerven</td>\n",
       "      <td>154</td>\n",
       "    </tr>\n",
       "    <tr>\n",
       "      <th>6</th>\n",
       "      <td>cervenec</td>\n",
       "      <td>145</td>\n",
       "    </tr>\n",
       "    <tr>\n",
       "      <th>7</th>\n",
       "      <td>srpen</td>\n",
       "      <td>124</td>\n",
       "    </tr>\n",
       "    <tr>\n",
       "      <th>8</th>\n",
       "      <td>zari</td>\n",
       "      <td>100</td>\n",
       "    </tr>\n",
       "    <tr>\n",
       "      <th>9</th>\n",
       "      <td>rijen</td>\n",
       "      <td>75</td>\n",
       "    </tr>\n",
       "    <tr>\n",
       "      <th>10</th>\n",
       "      <td>listopad</td>\n",
       "      <td>58</td>\n",
       "    </tr>\n",
       "    <tr>\n",
       "      <th>11</th>\n",
       "      <td>prosinec</td>\n",
       "      <td>22</td>\n",
       "    </tr>\n",
       "  </tbody>\n",
       "</table>\n",
       "</div>"
      ],
      "text/plain": [
       "       mesic  kilometry\n",
       "0      leden         45\n",
       "1       unor         82\n",
       "2     brezen         96\n",
       "3      duben        101\n",
       "4     kveten        123\n",
       "5     cerven        154\n",
       "6   cervenec        145\n",
       "7      srpen        124\n",
       "8       zari        100\n",
       "9      rijen         75\n",
       "10  listopad         58\n",
       "11  prosinec         22"
      ]
     },
     "execution_count": 43,
     "metadata": {},
     "output_type": "execute_result"
    }
   ],
   "source": [
    "df = pd.read_csv('kilometry.csv')\n",
    "df"
   ]
  },
  {
   "cell_type": "markdown",
   "metadata": {
    "id": "qMONgRVlGoTo"
   },
   "source": [
    "<br>\n",
    "\n",
    "### **📊 altair**"
   ]
  },
  {
   "cell_type": "code",
   "execution_count": 44,
   "metadata": {
    "id": "l29aekpEGuVV"
   },
   "outputs": [],
   "source": [
    "import altair as alt"
   ]
  },
  {
   "cell_type": "code",
   "execution_count": 45,
   "metadata": {
    "colab": {
     "base_uri": "https://localhost:8080/",
     "height": 399
    },
    "id": "PRoDbTxeGx2K",
    "outputId": "8baac295-18c4-4cbf-df0c-575f2a568bc4"
   },
   "outputs": [
    {
     "data": {
      "text/html": [
       "\n",
       "<div id=\"altair-viz-3949c37d7a1648f39086827f5a779ef9\"></div>\n",
       "<script type=\"text/javascript\">\n",
       "  var VEGA_DEBUG = (typeof VEGA_DEBUG == \"undefined\") ? {} : VEGA_DEBUG;\n",
       "  (function(spec, embedOpt){\n",
       "    let outputDiv = document.currentScript.previousElementSibling;\n",
       "    if (outputDiv.id !== \"altair-viz-3949c37d7a1648f39086827f5a779ef9\") {\n",
       "      outputDiv = document.getElementById(\"altair-viz-3949c37d7a1648f39086827f5a779ef9\");\n",
       "    }\n",
       "    const paths = {\n",
       "      \"vega\": \"https://cdn.jsdelivr.net/npm//vega@5?noext\",\n",
       "      \"vega-lib\": \"https://cdn.jsdelivr.net/npm//vega-lib?noext\",\n",
       "      \"vega-lite\": \"https://cdn.jsdelivr.net/npm//vega-lite@4.17.0?noext\",\n",
       "      \"vega-embed\": \"https://cdn.jsdelivr.net/npm//vega-embed@6?noext\",\n",
       "    };\n",
       "\n",
       "    function maybeLoadScript(lib, version) {\n",
       "      var key = `${lib.replace(\"-\", \"\")}_version`;\n",
       "      return (VEGA_DEBUG[key] == version) ?\n",
       "        Promise.resolve(paths[lib]) :\n",
       "        new Promise(function(resolve, reject) {\n",
       "          var s = document.createElement('script');\n",
       "          document.getElementsByTagName(\"head\")[0].appendChild(s);\n",
       "          s.async = true;\n",
       "          s.onload = () => {\n",
       "            VEGA_DEBUG[key] = version;\n",
       "            return resolve(paths[lib]);\n",
       "          };\n",
       "          s.onerror = () => reject(`Error loading script: ${paths[lib]}`);\n",
       "          s.src = paths[lib];\n",
       "        });\n",
       "    }\n",
       "\n",
       "    function showError(err) {\n",
       "      outputDiv.innerHTML = `<div class=\"error\" style=\"color:red;\">${err}</div>`;\n",
       "      throw err;\n",
       "    }\n",
       "\n",
       "    function displayChart(vegaEmbed) {\n",
       "      vegaEmbed(outputDiv, spec, embedOpt)\n",
       "        .catch(err => showError(`Javascript Error: ${err.message}<br>This usually means there's a typo in your chart specification. See the javascript console for the full traceback.`));\n",
       "    }\n",
       "\n",
       "    if(typeof define === \"function\" && define.amd) {\n",
       "      requirejs.config({paths});\n",
       "      require([\"vega-embed\"], displayChart, err => showError(`Error loading script: ${err.message}`));\n",
       "    } else {\n",
       "      maybeLoadScript(\"vega\", \"5\")\n",
       "        .then(() => maybeLoadScript(\"vega-lite\", \"4.17.0\"))\n",
       "        .then(() => maybeLoadScript(\"vega-embed\", \"6\"))\n",
       "        .catch(showError)\n",
       "        .then(() => displayChart(vegaEmbed));\n",
       "    }\n",
       "  })({\"config\": {\"view\": {\"continuousWidth\": 400, \"continuousHeight\": 300}}, \"data\": {\"name\": \"data-3d55b0c334151e92c0ac759b7f81b667\"}, \"mark\": \"bar\", \"encoding\": {\"x\": {\"field\": \"mesic\", \"type\": \"nominal\"}, \"y\": {\"field\": \"kilometry\", \"type\": \"quantitative\"}}, \"$schema\": \"https://vega.github.io/schema/vega-lite/v4.17.0.json\", \"datasets\": {\"data-3d55b0c334151e92c0ac759b7f81b667\": [{\"mesic\": \"leden\", \"kilometry\": 45}, {\"mesic\": \"unor\", \"kilometry\": 82}, {\"mesic\": \"brezen\", \"kilometry\": 96}, {\"mesic\": \"duben\", \"kilometry\": 101}, {\"mesic\": \"kveten\", \"kilometry\": 123}, {\"mesic\": \"cerven\", \"kilometry\": 154}, {\"mesic\": \"cervenec\", \"kilometry\": 145}, {\"mesic\": \"srpen\", \"kilometry\": 124}, {\"mesic\": \"zari\", \"kilometry\": 100}, {\"mesic\": \"rijen\", \"kilometry\": 75}, {\"mesic\": \"listopad\", \"kilometry\": 58}, {\"mesic\": \"prosinec\", \"kilometry\": 22}]}}, {\"mode\": \"vega-lite\"});\n",
       "</script>"
      ],
      "text/plain": [
       "alt.Chart(...)"
      ]
     },
     "execution_count": 45,
     "metadata": {},
     "output_type": "execute_result"
    }
   ],
   "source": [
    "alt.Chart(df).mark_bar().encode(\n",
    "    x = 'mesic',\n",
    "    y = 'kilometry'\n",
    ")"
   ]
  },
  {
   "cell_type": "markdown",
   "metadata": {
    "id": "TbvVqmQ3JV6Q"
   },
   "source": [
    "<br>\n",
    "\n",
    "## **Instalování knihoven**\n",
    "\n",
    "---"
   ]
  },
  {
   "cell_type": "markdown",
   "metadata": {
    "id": "gWB1s1BuJvMl"
   },
   "source": [
    "```python\n",
    "!pip install library\n",
    "```"
   ]
  },
  {
   "cell_type": "code",
   "execution_count": null,
   "metadata": {
    "id": "BH9C_4RiJZLj"
   },
   "outputs": [],
   "source": [
    "pip install library"
   ]
  }
 ],
 "metadata": {
  "colab": {
   "provenance": []
  },
  "kernelspec": {
   "display_name": "Python 3 (ipykernel)",
   "language": "python",
   "name": "python3"
  },
  "language_info": {
   "codemirror_mode": {
    "name": "ipython",
    "version": 3
   },
   "file_extension": ".py",
   "mimetype": "text/x-python",
   "name": "python",
   "nbconvert_exporter": "python",
   "pygments_lexer": "ipython3",
   "version": "3.10.0"
  }
 },
 "nbformat": 4,
 "nbformat_minor": 1
}
